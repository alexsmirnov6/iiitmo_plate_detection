{
  "metadata": {
    "colab": {
      "provenance": []
    },
    "kernelspec": {
      "name": "python3",
      "display_name": "Python 3",
      "language": "python"
    },
    "language_info": {
      "name": "python",
      "version": "3.10.13",
      "mimetype": "text/x-python",
      "codemirror_mode": {
        "name": "ipython",
        "version": 3
      },
      "pygments_lexer": "ipython3",
      "nbconvert_exporter": "python",
      "file_extension": ".py"
    },
    "kaggle": {
      "accelerator": "gpu",
      "dataSources": [
        {
          "sourceId": 8878533,
          "sourceType": "datasetVersion",
          "datasetId": 5342019
        },
        {
          "sourceId": 8882104,
          "sourceType": "datasetVersion",
          "datasetId": 5345130
        }
      ],
      "dockerImageVersionId": 30733,
      "isInternetEnabled": true,
      "language": "python",
      "sourceType": "notebook",
      "isGpuEnabled": true
    }
  },
  "nbformat_minor": 0,
  "nbformat": 4,
  "cells": [
    {
      "cell_type": "markdown",
      "source": [
        "# Скачивание и импорт необходимых библиотек"
      ],
      "metadata": {
        "id": "ec09vBM1N-Yw"
      }
    },
    {
      "cell_type": "code",
      "source": [
        "!pip install ultralytics"
      ],
      "metadata": {
        "id": "wfUkKz-8ST_5",
        "outputId": "15f0d2a0-b45b-4156-c5db-c49c9c6b0453",
        "execution": {
          "iopub.status.busy": "2024-07-06T22:04:37.574906Z",
          "iopub.execute_input": "2024-07-06T22:04:37.575282Z",
          "iopub.status.idle": "2024-07-06T22:04:52.089874Z",
          "shell.execute_reply.started": "2024-07-06T22:04:37.575240Z",
          "shell.execute_reply": "2024-07-06T22:04:52.088927Z"
        },
        "trusted": true,
        "colab": {
          "base_uri": "https://localhost:8080/"
        }
      },
      "execution_count": 1,
      "outputs": [
        {
          "output_type": "stream",
          "name": "stdout",
          "text": [
            "Collecting ultralytics\n",
            "  Downloading ultralytics-8.2.50-py3-none-any.whl (799 kB)\n",
            "\u001b[2K     \u001b[90m━━━━━━━━━━━━━━━━━━━━━━━━━━━━━━━━━━━━━━━━\u001b[0m \u001b[32m799.4/799.4 kB\u001b[0m \u001b[31m5.0 MB/s\u001b[0m eta \u001b[36m0:00:00\u001b[0m\n",
            "\u001b[?25hRequirement already satisfied: numpy<2.0.0,>=1.23.0 in /usr/local/lib/python3.10/dist-packages (from ultralytics) (1.25.2)\n",
            "Requirement already satisfied: matplotlib>=3.3.0 in /usr/local/lib/python3.10/dist-packages (from ultralytics) (3.7.1)\n",
            "Requirement already satisfied: opencv-python>=4.6.0 in /usr/local/lib/python3.10/dist-packages (from ultralytics) (4.8.0.76)\n",
            "Requirement already satisfied: pillow>=7.1.2 in /usr/local/lib/python3.10/dist-packages (from ultralytics) (9.4.0)\n",
            "Requirement already satisfied: pyyaml>=5.3.1 in /usr/local/lib/python3.10/dist-packages (from ultralytics) (6.0.1)\n",
            "Requirement already satisfied: requests>=2.23.0 in /usr/local/lib/python3.10/dist-packages (from ultralytics) (2.31.0)\n",
            "Requirement already satisfied: scipy>=1.4.1 in /usr/local/lib/python3.10/dist-packages (from ultralytics) (1.11.4)\n",
            "Requirement already satisfied: torch>=1.8.0 in /usr/local/lib/python3.10/dist-packages (from ultralytics) (2.3.0+cu121)\n",
            "Requirement already satisfied: torchvision>=0.9.0 in /usr/local/lib/python3.10/dist-packages (from ultralytics) (0.18.0+cu121)\n",
            "Requirement already satisfied: tqdm>=4.64.0 in /usr/local/lib/python3.10/dist-packages (from ultralytics) (4.66.4)\n",
            "Requirement already satisfied: psutil in /usr/local/lib/python3.10/dist-packages (from ultralytics) (5.9.5)\n",
            "Requirement already satisfied: py-cpuinfo in /usr/local/lib/python3.10/dist-packages (from ultralytics) (9.0.0)\n",
            "Requirement already satisfied: pandas>=1.1.4 in /usr/local/lib/python3.10/dist-packages (from ultralytics) (2.0.3)\n",
            "Requirement already satisfied: seaborn>=0.11.0 in /usr/local/lib/python3.10/dist-packages (from ultralytics) (0.13.1)\n",
            "Collecting ultralytics-thop>=2.0.0 (from ultralytics)\n",
            "  Downloading ultralytics_thop-2.0.0-py3-none-any.whl (25 kB)\n",
            "Requirement already satisfied: contourpy>=1.0.1 in /usr/local/lib/python3.10/dist-packages (from matplotlib>=3.3.0->ultralytics) (1.2.1)\n",
            "Requirement already satisfied: cycler>=0.10 in /usr/local/lib/python3.10/dist-packages (from matplotlib>=3.3.0->ultralytics) (0.12.1)\n",
            "Requirement already satisfied: fonttools>=4.22.0 in /usr/local/lib/python3.10/dist-packages (from matplotlib>=3.3.0->ultralytics) (4.53.0)\n",
            "Requirement already satisfied: kiwisolver>=1.0.1 in /usr/local/lib/python3.10/dist-packages (from matplotlib>=3.3.0->ultralytics) (1.4.5)\n",
            "Requirement already satisfied: packaging>=20.0 in /usr/local/lib/python3.10/dist-packages (from matplotlib>=3.3.0->ultralytics) (24.1)\n",
            "Requirement already satisfied: pyparsing>=2.3.1 in /usr/local/lib/python3.10/dist-packages (from matplotlib>=3.3.0->ultralytics) (3.1.2)\n",
            "Requirement already satisfied: python-dateutil>=2.7 in /usr/local/lib/python3.10/dist-packages (from matplotlib>=3.3.0->ultralytics) (2.8.2)\n",
            "Requirement already satisfied: pytz>=2020.1 in /usr/local/lib/python3.10/dist-packages (from pandas>=1.1.4->ultralytics) (2023.4)\n",
            "Requirement already satisfied: tzdata>=2022.1 in /usr/local/lib/python3.10/dist-packages (from pandas>=1.1.4->ultralytics) (2024.1)\n",
            "Requirement already satisfied: charset-normalizer<4,>=2 in /usr/local/lib/python3.10/dist-packages (from requests>=2.23.0->ultralytics) (3.3.2)\n",
            "Requirement already satisfied: idna<4,>=2.5 in /usr/local/lib/python3.10/dist-packages (from requests>=2.23.0->ultralytics) (3.7)\n",
            "Requirement already satisfied: urllib3<3,>=1.21.1 in /usr/local/lib/python3.10/dist-packages (from requests>=2.23.0->ultralytics) (2.0.7)\n",
            "Requirement already satisfied: certifi>=2017.4.17 in /usr/local/lib/python3.10/dist-packages (from requests>=2.23.0->ultralytics) (2024.6.2)\n",
            "Requirement already satisfied: filelock in /usr/local/lib/python3.10/dist-packages (from torch>=1.8.0->ultralytics) (3.15.4)\n",
            "Requirement already satisfied: typing-extensions>=4.8.0 in /usr/local/lib/python3.10/dist-packages (from torch>=1.8.0->ultralytics) (4.12.2)\n",
            "Requirement already satisfied: sympy in /usr/local/lib/python3.10/dist-packages (from torch>=1.8.0->ultralytics) (1.12.1)\n",
            "Requirement already satisfied: networkx in /usr/local/lib/python3.10/dist-packages (from torch>=1.8.0->ultralytics) (3.3)\n",
            "Requirement already satisfied: jinja2 in /usr/local/lib/python3.10/dist-packages (from torch>=1.8.0->ultralytics) (3.1.4)\n",
            "Requirement already satisfied: fsspec in /usr/local/lib/python3.10/dist-packages (from torch>=1.8.0->ultralytics) (2023.6.0)\n",
            "Collecting nvidia-cuda-nvrtc-cu12==12.1.105 (from torch>=1.8.0->ultralytics)\n",
            "  Using cached nvidia_cuda_nvrtc_cu12-12.1.105-py3-none-manylinux1_x86_64.whl (23.7 MB)\n",
            "Collecting nvidia-cuda-runtime-cu12==12.1.105 (from torch>=1.8.0->ultralytics)\n",
            "  Using cached nvidia_cuda_runtime_cu12-12.1.105-py3-none-manylinux1_x86_64.whl (823 kB)\n",
            "Collecting nvidia-cuda-cupti-cu12==12.1.105 (from torch>=1.8.0->ultralytics)\n",
            "  Using cached nvidia_cuda_cupti_cu12-12.1.105-py3-none-manylinux1_x86_64.whl (14.1 MB)\n",
            "Collecting nvidia-cudnn-cu12==8.9.2.26 (from torch>=1.8.0->ultralytics)\n",
            "  Using cached nvidia_cudnn_cu12-8.9.2.26-py3-none-manylinux1_x86_64.whl (731.7 MB)\n",
            "Collecting nvidia-cublas-cu12==12.1.3.1 (from torch>=1.8.0->ultralytics)\n",
            "  Using cached nvidia_cublas_cu12-12.1.3.1-py3-none-manylinux1_x86_64.whl (410.6 MB)\n",
            "Collecting nvidia-cufft-cu12==11.0.2.54 (from torch>=1.8.0->ultralytics)\n",
            "  Using cached nvidia_cufft_cu12-11.0.2.54-py3-none-manylinux1_x86_64.whl (121.6 MB)\n",
            "Collecting nvidia-curand-cu12==10.3.2.106 (from torch>=1.8.0->ultralytics)\n",
            "  Using cached nvidia_curand_cu12-10.3.2.106-py3-none-manylinux1_x86_64.whl (56.5 MB)\n",
            "Collecting nvidia-cusolver-cu12==11.4.5.107 (from torch>=1.8.0->ultralytics)\n",
            "  Using cached nvidia_cusolver_cu12-11.4.5.107-py3-none-manylinux1_x86_64.whl (124.2 MB)\n",
            "Collecting nvidia-cusparse-cu12==12.1.0.106 (from torch>=1.8.0->ultralytics)\n",
            "  Using cached nvidia_cusparse_cu12-12.1.0.106-py3-none-manylinux1_x86_64.whl (196.0 MB)\n",
            "Collecting nvidia-nccl-cu12==2.20.5 (from torch>=1.8.0->ultralytics)\n",
            "  Using cached nvidia_nccl_cu12-2.20.5-py3-none-manylinux2014_x86_64.whl (176.2 MB)\n",
            "Collecting nvidia-nvtx-cu12==12.1.105 (from torch>=1.8.0->ultralytics)\n",
            "  Using cached nvidia_nvtx_cu12-12.1.105-py3-none-manylinux1_x86_64.whl (99 kB)\n",
            "Requirement already satisfied: triton==2.3.0 in /usr/local/lib/python3.10/dist-packages (from torch>=1.8.0->ultralytics) (2.3.0)\n",
            "Collecting nvidia-nvjitlink-cu12 (from nvidia-cusolver-cu12==11.4.5.107->torch>=1.8.0->ultralytics)\n",
            "  Downloading nvidia_nvjitlink_cu12-12.5.82-py3-none-manylinux2014_x86_64.whl (21.3 MB)\n",
            "\u001b[2K     \u001b[90m━━━━━━━━━━━━━━━━━━━━━━━━━━━━━━━━━━━━━━━━\u001b[0m \u001b[32m21.3/21.3 MB\u001b[0m \u001b[31m36.8 MB/s\u001b[0m eta \u001b[36m0:00:00\u001b[0m\n",
            "\u001b[?25hRequirement already satisfied: six>=1.5 in /usr/local/lib/python3.10/dist-packages (from python-dateutil>=2.7->matplotlib>=3.3.0->ultralytics) (1.16.0)\n",
            "Requirement already satisfied: MarkupSafe>=2.0 in /usr/local/lib/python3.10/dist-packages (from jinja2->torch>=1.8.0->ultralytics) (2.1.5)\n",
            "Requirement already satisfied: mpmath<1.4.0,>=1.1.0 in /usr/local/lib/python3.10/dist-packages (from sympy->torch>=1.8.0->ultralytics) (1.3.0)\n",
            "Installing collected packages: nvidia-nvtx-cu12, nvidia-nvjitlink-cu12, nvidia-nccl-cu12, nvidia-curand-cu12, nvidia-cufft-cu12, nvidia-cuda-runtime-cu12, nvidia-cuda-nvrtc-cu12, nvidia-cuda-cupti-cu12, nvidia-cublas-cu12, nvidia-cusparse-cu12, nvidia-cudnn-cu12, nvidia-cusolver-cu12, ultralytics-thop, ultralytics\n",
            "Successfully installed nvidia-cublas-cu12-12.1.3.1 nvidia-cuda-cupti-cu12-12.1.105 nvidia-cuda-nvrtc-cu12-12.1.105 nvidia-cuda-runtime-cu12-12.1.105 nvidia-cudnn-cu12-8.9.2.26 nvidia-cufft-cu12-11.0.2.54 nvidia-curand-cu12-10.3.2.106 nvidia-cusolver-cu12-11.4.5.107 nvidia-cusparse-cu12-12.1.0.106 nvidia-nccl-cu12-2.20.5 nvidia-nvjitlink-cu12-12.5.82 nvidia-nvtx-cu12-12.1.105 ultralytics-8.2.50 ultralytics-thop-2.0.0\n"
          ]
        }
      ]
    },
    {
      "cell_type": "code",
      "source": [
        "import cv2\n",
        "from ultralytics import YOLO\n",
        "from PIL import Image\n",
        "import random\n",
        "import torch\n",
        "import torch.nn as nn\n",
        "import torchvision.transforms as transforms\n",
        "from torchvision.models import resnet18\n",
        "from pathlib import Path\n",
        "import numpy as np\n",
        "import matplotlib.pyplot as plt\n",
        "import os\n",
        "import argparse\n",
        "from tqdm import tqdm\n",
        "import pandas as pd"
      ],
      "metadata": {
        "id": "oIPlInvlMBCV"
      },
      "execution_count": 2,
      "outputs": []
    },
    {
      "cell_type": "markdown",
      "source": [
        "# Файнтюн YOLO и оценка качества\n",
        "❗ Код полностью воспроизводится на Kaggle, за доступом к размеченному нами датасету для дообучения модели YOLO обращайтесь в ТГ @alexsm1213. Датасет также доступен в гитхаб репозитории https://github.com/alexsmirnov6/iiitmo_plate_detection"
      ],
      "metadata": {
        "id": "5k98CxOKOGTl"
      }
    },
    {
      "cell_type": "code",
      "source": [
        "# дообучение yolo\n",
        "model = YOLO('yolov8m-pose.pt')\n",
        "results = model.train(data='/kaggle/input/numbers-cp/a8uwdby921g3.v1i.yolov8/data.yaml', epochs=10, imgsz=256)"
      ],
      "metadata": {
        "id": "B9TMuc2_SOZJ",
        "outputId": "b4db012c-9639-43a5-d2eb-6d3108a41de8",
        "execution": {
          "iopub.status.busy": "2024-07-06T22:04:52.091647Z",
          "iopub.execute_input": "2024-07-06T22:04:52.091950Z",
          "iopub.status.idle": "2024-07-06T22:11:41.291402Z",
          "shell.execute_reply.started": "2024-07-06T22:04:52.091920Z",
          "shell.execute_reply": "2024-07-06T22:11:41.290437Z"
        },
        "trusted": true,
        "colab": {
          "referenced_widgets": [
            ""
          ]
        }
      },
      "execution_count": null,
      "outputs": [
        {
          "name": "stdout",
          "text": "Downloading https://github.com/ultralytics/assets/releases/download/v8.2.0/yolov8m-pose.pt to 'yolov8m-pose.pt'...\n",
          "output_type": "stream"
        },
        {
          "name": "stderr",
          "text": "100%|██████████| 50.8M/50.8M [00:00<00:00, 276MB/s]\n",
          "output_type": "stream"
        },
        {
          "name": "stdout",
          "text": "Ultralytics YOLOv8.2.50 🚀 Python-3.10.13 torch-2.1.2 CUDA:0 (Tesla P100-PCIE-16GB, 16269MiB)\n\u001b[34m\u001b[1mengine/trainer: \u001b[0mtask=pose, mode=train, model=yolov8m-pose.pt, data=/kaggle/input/numbers-cp/a8uwdby921g3.v1i.yolov8/data.yaml, epochs=10, time=None, patience=100, batch=16, imgsz=256, save=True, save_period=-1, cache=False, device=None, workers=8, project=None, name=train, exist_ok=False, pretrained=True, optimizer=auto, verbose=True, seed=0, deterministic=True, single_cls=False, rect=False, cos_lr=False, close_mosaic=10, resume=False, amp=True, fraction=1.0, profile=False, freeze=None, multi_scale=False, overlap_mask=True, mask_ratio=4, dropout=0.0, val=True, split=val, save_json=False, save_hybrid=False, conf=None, iou=0.7, max_det=300, half=False, dnn=False, plots=True, source=None, vid_stride=1, stream_buffer=False, visualize=False, augment=False, agnostic_nms=False, classes=None, retina_masks=False, embed=None, show=False, save_frames=False, save_txt=False, save_conf=False, save_crop=False, show_labels=True, show_conf=True, show_boxes=True, line_width=None, format=torchscript, keras=False, optimize=False, int8=False, dynamic=False, simplify=False, opset=None, workspace=4, nms=False, lr0=0.01, lrf=0.01, momentum=0.937, weight_decay=0.0005, warmup_epochs=3.0, warmup_momentum=0.8, warmup_bias_lr=0.1, box=7.5, cls=0.5, dfl=1.5, pose=12.0, kobj=1.0, label_smoothing=0.0, nbs=64, hsv_h=0.015, hsv_s=0.7, hsv_v=0.4, degrees=0.0, translate=0.1, scale=0.5, shear=0.0, perspective=0.0, flipud=0.0, fliplr=0.5, bgr=0.0, mosaic=1.0, mixup=0.0, copy_paste=0.0, auto_augment=randaugment, erasing=0.4, crop_fraction=1.0, cfg=None, tracker=botsort.yaml, save_dir=runs/pose/train\nDownloading https://ultralytics.com/assets/Arial.ttf to '/root/.config/Ultralytics/Arial.ttf'...\n",
          "output_type": "stream"
        },
        {
          "name": "stderr",
          "text": "100%|██████████| 755k/755k [00:00<00:00, 26.3MB/s]\n2024-07-06 22:05:00,001\tINFO util.py:124 -- Outdated packages:\n  ipywidgets==7.7.1 found, needs ipywidgets>=8\nRun `pip install -U ipywidgets`, then restart the notebook server for rich notebook output.\n2024-07-06 22:05:01,718\tINFO util.py:124 -- Outdated packages:\n  ipywidgets==7.7.1 found, needs ipywidgets>=8\nRun `pip install -U ipywidgets`, then restart the notebook server for rich notebook output.\n",
          "output_type": "stream"
        },
        {
          "name": "stdout",
          "text": "Overriding model.yaml kpt_shape=[17, 3] with kpt_shape=[4, 3]\n\n                   from  n    params  module                                       arguments                     \n  0                  -1  1      1392  ultralytics.nn.modules.conv.Conv             [3, 48, 3, 2]                 \n  1                  -1  1     41664  ultralytics.nn.modules.conv.Conv             [48, 96, 3, 2]                \n  2                  -1  2    111360  ultralytics.nn.modules.block.C2f             [96, 96, 2, True]             \n  3                  -1  1    166272  ultralytics.nn.modules.conv.Conv             [96, 192, 3, 2]               \n  4                  -1  4    813312  ultralytics.nn.modules.block.C2f             [192, 192, 4, True]           \n  5                  -1  1    664320  ultralytics.nn.modules.conv.Conv             [192, 384, 3, 2]              \n  6                  -1  4   3248640  ultralytics.nn.modules.block.C2f             [384, 384, 4, True]           \n  7                  -1  1   1991808  ultralytics.nn.modules.conv.Conv             [384, 576, 3, 2]              \n  8                  -1  2   3985920  ultralytics.nn.modules.block.C2f             [576, 576, 2, True]           \n  9                  -1  1    831168  ultralytics.nn.modules.block.SPPF            [576, 576, 5]                 \n 10                  -1  1         0  torch.nn.modules.upsampling.Upsample         [None, 2, 'nearest']          \n 11             [-1, 6]  1         0  ultralytics.nn.modules.conv.Concat           [1]                           \n 12                  -1  2   1993728  ultralytics.nn.modules.block.C2f             [960, 384, 2]                 \n 13                  -1  1         0  torch.nn.modules.upsampling.Upsample         [None, 2, 'nearest']          \n 14             [-1, 4]  1         0  ultralytics.nn.modules.conv.Concat           [1]                           \n 15                  -1  2    517632  ultralytics.nn.modules.block.C2f             [576, 192, 2]                 \n 16                  -1  1    332160  ultralytics.nn.modules.conv.Conv             [192, 192, 3, 2]              \n 17            [-1, 12]  1         0  ultralytics.nn.modules.conv.Concat           [1]                           \n 18                  -1  2   1846272  ultralytics.nn.modules.block.C2f             [576, 384, 2]                 \n 19                  -1  1   1327872  ultralytics.nn.modules.conv.Conv             [384, 384, 3, 2]              \n 20             [-1, 9]  1         0  ultralytics.nn.modules.conv.Concat           [1]                           \n 21                  -1  2   4207104  ultralytics.nn.modules.block.C2f             [960, 576, 2]                 \n 22        [15, 18, 21]  1   4338487  ultralytics.nn.modules.head.Pose             [1, [4, 3], [192, 384, 576]]  \nYOLOv8m-pose summary: 320 layers, 26419111 parameters, 26419095 gradients, 81.2 GFLOPs\n\nTransferred 481/517 items from pretrained weights\n\u001b[34m\u001b[1mTensorBoard: \u001b[0mStart with 'tensorboard --logdir runs/pose/train', view at http://localhost:6006/\n",
          "output_type": "stream"
        },
        {
          "name": "stderr",
          "text": "\u001b[34m\u001b[1mwandb\u001b[0m: Logging into wandb.ai. (Learn how to deploy a W&B server locally: https://wandb.me/wandb-server)\n\u001b[34m\u001b[1mwandb\u001b[0m: You can find your API key in your browser here: https://wandb.ai/authorize\n\u001b[34m\u001b[1mwandb\u001b[0m: Paste an API key from your profile and hit enter, or press ctrl+c to quit:",
          "output_type": "stream"
        },
        {
          "output_type": "stream",
          "name": "stdin",
          "text": "  ········································\n"
        },
        {
          "name": "stderr",
          "text": "\u001b[34m\u001b[1mwandb\u001b[0m: Appending key for api.wandb.ai to your netrc file: /root/.netrc\n",
          "output_type": "stream"
        },
        {
          "output_type": "display_data",
          "data": {
            "text/plain": "<IPython.core.display.HTML object>",
            "text/html": "wandb version 0.17.4 is available!  To upgrade, please run:\n $ pip install wandb --upgrade"
          },
          "metadata": {}
        },
        {
          "output_type": "display_data",
          "data": {
            "text/plain": "<IPython.core.display.HTML object>",
            "text/html": "Tracking run with wandb version 0.17.0"
          },
          "metadata": {}
        },
        {
          "output_type": "display_data",
          "data": {
            "text/plain": "<IPython.core.display.HTML object>",
            "text/html": "Run data is saved locally in <code>/kaggle/working/wandb/run-20240706_220523-4bxgtujz</code>"
          },
          "metadata": {}
        },
        {
          "output_type": "display_data",
          "data": {
            "text/plain": "<IPython.core.display.HTML object>",
            "text/html": "Syncing run <strong><a href='https://wandb.ai/karogi--/YOLOv8/runs/4bxgtujz' target=\"_blank\">train</a></strong> to <a href='https://wandb.ai/karogi--/YOLOv8' target=\"_blank\">Weights & Biases</a> (<a href='https://wandb.me/run' target=\"_blank\">docs</a>)<br/>"
          },
          "metadata": {}
        },
        {
          "output_type": "display_data",
          "data": {
            "text/plain": "<IPython.core.display.HTML object>",
            "text/html": " View project at <a href='https://wandb.ai/karogi--/YOLOv8' target=\"_blank\">https://wandb.ai/karogi--/YOLOv8</a>"
          },
          "metadata": {}
        },
        {
          "output_type": "display_data",
          "data": {
            "text/plain": "<IPython.core.display.HTML object>",
            "text/html": " View run at <a href='https://wandb.ai/karogi--/YOLOv8/runs/4bxgtujz' target=\"_blank\">https://wandb.ai/karogi--/YOLOv8/runs/4bxgtujz</a>"
          },
          "metadata": {}
        },
        {
          "name": "stdout",
          "text": "Freezing layer 'model.22.dfl.conv.weight'\n\u001b[34m\u001b[1mAMP: \u001b[0mrunning Automatic Mixed Precision (AMP) checks with YOLOv8n...\nDownloading https://github.com/ultralytics/assets/releases/download/v8.2.0/yolov8n.pt to 'yolov8n.pt'...\n",
          "output_type": "stream"
        },
        {
          "name": "stderr",
          "text": "100%|██████████| 6.25M/6.25M [00:00<00:00, 131MB/s]\n",
          "output_type": "stream"
        },
        {
          "name": "stdout",
          "text": "\u001b[34m\u001b[1mAMP: \u001b[0mchecks passed ✅\n",
          "output_type": "stream"
        },
        {
          "name": "stderr",
          "text": "\u001b[34m\u001b[1mtrain: \u001b[0mScanning /kaggle/input/numbers-cp/a8uwdby921g3.v1i.yolov8/train/labels... 2624 images, 6 backgrounds, 0 corrupt: 100%|██████████| 2624/2624 [00:10<00:00, 242.90it/s]\n",
          "output_type": "stream"
        },
        {
          "name": "stdout",
          "text": "\u001b[34m\u001b[1mtrain: \u001b[0mWARNING ⚠️ Cache directory /kaggle/input/numbers-cp/a8uwdby921g3.v1i.yolov8/train is not writeable, cache not saved.\n\u001b[34m\u001b[1malbumentations: \u001b[0mBlur(p=0.01, blur_limit=(3, 7)), MedianBlur(p=0.01, blur_limit=(3, 7)), ToGray(p=0.01), CLAHE(p=0.01, clip_limit=(1, 4.0), tile_grid_size=(8, 8))\n",
          "output_type": "stream"
        },
        {
          "name": "stderr",
          "text": "/opt/conda/lib/python3.10/multiprocessing/popen_fork.py:66: RuntimeWarning: os.fork() was called. os.fork() is incompatible with multithreaded code, and JAX is multithreaded, so this will likely lead to a deadlock.\n  self.pid = os.fork()\n\u001b[34m\u001b[1mval: \u001b[0mScanning /kaggle/input/numbers-cp/a8uwdby921g3.v1i.yolov8/valid/labels... 154 images, 0 backgrounds, 0 corrupt: 100%|██████████| 154/154 [00:00<00:00, 234.22it/s]",
          "output_type": "stream"
        },
        {
          "name": "stdout",
          "text": "\u001b[34m\u001b[1mval: \u001b[0mWARNING ⚠️ Cache directory /kaggle/input/numbers-cp/a8uwdby921g3.v1i.yolov8/valid is not writeable, cache not saved.\n",
          "output_type": "stream"
        },
        {
          "name": "stderr",
          "text": "\n",
          "output_type": "stream"
        },
        {
          "name": "stdout",
          "text": "Plotting labels to runs/pose/train/labels.jpg... \n\u001b[34m\u001b[1moptimizer:\u001b[0m 'optimizer=auto' found, ignoring 'lr0=0.01' and 'momentum=0.937' and determining best 'optimizer', 'lr0' and 'momentum' automatically... \n\u001b[34m\u001b[1moptimizer:\u001b[0m AdamW(lr=0.002, momentum=0.9) with parameter groups 83 weight(decay=0.0), 93 weight(decay=0.0005), 92 bias(decay=0.0)\n\u001b[34m\u001b[1mTensorBoard: \u001b[0mmodel graph visualization added ✅\nImage sizes 256 train, 256 val\nUsing 4 dataloader workers\nLogging results to \u001b[1mruns/pose/train\u001b[0m\nStarting training for 10 epochs...\nClosing dataloader mosaic\n\u001b[34m\u001b[1malbumentations: \u001b[0mBlur(p=0.01, blur_limit=(3, 7)), MedianBlur(p=0.01, blur_limit=(3, 7)), ToGray(p=0.01), CLAHE(p=0.01, clip_limit=(1, 4.0), tile_grid_size=(8, 8))\n",
          "output_type": "stream"
        },
        {
          "name": "stderr",
          "text": "/opt/conda/lib/python3.10/multiprocessing/popen_fork.py:66: RuntimeWarning: os.fork() was called. os.fork() is incompatible with multithreaded code, and JAX is multithreaded, so this will likely lead to a deadlock.\n  self.pid = os.fork()\n/opt/conda/lib/python3.10/multiprocessing/popen_fork.py:66: RuntimeWarning: os.fork() was called. os.fork() is incompatible with multithreaded code, and JAX is multithreaded, so this will likely lead to a deadlock.\n  self.pid = os.fork()\n",
          "output_type": "stream"
        },
        {
          "name": "stdout",
          "text": "\n      Epoch    GPU_mem   box_loss  pose_loss  kobj_loss   cls_loss   dfl_loss  Instances       Size\n",
          "output_type": "stream"
        },
        {
          "name": "stderr",
          "text": "       1/10      2.31G     0.5952      2.792     0.5333     0.5336      1.184         16        256: 100%|██████████| 164/164 [00:31<00:00,  5.18it/s]\n                 Class     Images  Instances      Box(P          R      mAP50  mAP50-95)     Pose(P          R      mAP50  mAP50-95): 100%|██████████| 5/5 [00:01<00:00,  3.94it/s]",
          "output_type": "stream"
        },
        {
          "name": "stdout",
          "text": "                   all        154        154       0.35      0.929      0.602      0.393     0.0233     0.0649    0.00473      0.003\n",
          "output_type": "stream"
        },
        {
          "name": "stderr",
          "text": "\n",
          "output_type": "stream"
        },
        {
          "name": "stdout",
          "text": "\n      Epoch    GPU_mem   box_loss  pose_loss  kobj_loss   cls_loss   dfl_loss  Instances       Size\n",
          "output_type": "stream"
        },
        {
          "name": "stderr",
          "text": "       2/10       2.1G     0.5592      1.807     0.3282     0.3804      1.151         16        256: 100%|██████████| 164/164 [00:27<00:00,  6.00it/s]\n                 Class     Images  Instances      Box(P          R      mAP50  mAP50-95)     Pose(P          R      mAP50  mAP50-95): 100%|██████████| 5/5 [00:01<00:00,  4.41it/s]",
          "output_type": "stream"
        },
        {
          "name": "stdout",
          "text": "                   all        154        154      0.777      0.973      0.852      0.575      0.714      0.903      0.758      0.556\n",
          "output_type": "stream"
        },
        {
          "name": "stderr",
          "text": "\n",
          "output_type": "stream"
        },
        {
          "name": "stdout",
          "text": "\n      Epoch    GPU_mem   box_loss  pose_loss  kobj_loss   cls_loss   dfl_loss  Instances       Size\n",
          "output_type": "stream"
        },
        {
          "name": "stderr",
          "text": "       3/10       2.2G     0.5186      1.434     0.2865     0.3425      1.113         16        256: 100%|██████████| 164/164 [00:26<00:00,  6.19it/s]\n                 Class     Images  Instances      Box(P          R      mAP50  mAP50-95)     Pose(P          R      mAP50  mAP50-95): 100%|██████████| 5/5 [00:01<00:00,  4.58it/s]\n",
          "output_type": "stream"
        },
        {
          "name": "stdout",
          "text": "                   all        154        154      0.854      0.987      0.954      0.696      0.562      0.692      0.466      0.217\n\n      Epoch    GPU_mem   box_loss  pose_loss  kobj_loss   cls_loss   dfl_loss  Instances       Size\n",
          "output_type": "stream"
        },
        {
          "name": "stderr",
          "text": "       4/10      2.16G     0.4962      1.213     0.2527     0.3197      1.096         16        256: 100%|██████████| 164/164 [00:26<00:00,  6.18it/s]\n                 Class     Images  Instances      Box(P          R      mAP50  mAP50-95)     Pose(P          R      mAP50  mAP50-95): 100%|██████████| 5/5 [00:01<00:00,  4.58it/s]",
          "output_type": "stream"
        },
        {
          "name": "stdout",
          "text": "                   all        154        154      0.973          1      0.993      0.787      0.898      0.922      0.899      0.791\n",
          "output_type": "stream"
        },
        {
          "name": "stderr",
          "text": "\n",
          "output_type": "stream"
        },
        {
          "name": "stdout",
          "text": "\n      Epoch    GPU_mem   box_loss  pose_loss  kobj_loss   cls_loss   dfl_loss  Instances       Size\n",
          "output_type": "stream"
        },
        {
          "name": "stderr",
          "text": "       5/10       2.1G      0.418      1.062     0.2186     0.2753      1.048         16        256: 100%|██████████| 164/164 [00:26<00:00,  6.20it/s]\n                 Class     Images  Instances      Box(P          R      mAP50  mAP50-95)     Pose(P          R      mAP50  mAP50-95): 100%|██████████| 5/5 [00:01<00:00,  4.79it/s]",
          "output_type": "stream"
        },
        {
          "name": "stdout",
          "text": "                   all        154        154      0.993          1      0.995      0.802      0.916      0.922      0.895      0.782\n",
          "output_type": "stream"
        },
        {
          "name": "stderr",
          "text": "\n",
          "output_type": "stream"
        },
        {
          "name": "stdout",
          "text": "\n      Epoch    GPU_mem   box_loss  pose_loss  kobj_loss   cls_loss   dfl_loss  Instances       Size\n",
          "output_type": "stream"
        },
        {
          "name": "stderr",
          "text": "       6/10       2.1G     0.3761     0.9508     0.1909     0.2456      1.024         16        256: 100%|██████████| 164/164 [00:26<00:00,  6.19it/s]\n                 Class     Images  Instances      Box(P          R      mAP50  mAP50-95)     Pose(P          R      mAP50  mAP50-95): 100%|██████████| 5/5 [00:01<00:00,  4.81it/s]",
          "output_type": "stream"
        },
        {
          "name": "stdout",
          "text": "                   all        154        154      0.997          1      0.995      0.816      0.822      0.825      0.741      0.572\n",
          "output_type": "stream"
        },
        {
          "name": "stderr",
          "text": "\n",
          "output_type": "stream"
        },
        {
          "name": "stdout",
          "text": "\n      Epoch    GPU_mem   box_loss  pose_loss  kobj_loss   cls_loss   dfl_loss  Instances       Size\n",
          "output_type": "stream"
        },
        {
          "name": "stderr",
          "text": "       7/10       2.1G     0.3492     0.9514     0.1873     0.2262      1.011         16        256: 100%|██████████| 164/164 [00:26<00:00,  6.17it/s]\n                 Class     Images  Instances      Box(P          R      mAP50  mAP50-95)     Pose(P          R      mAP50  mAP50-95): 100%|██████████| 5/5 [00:01<00:00,  4.76it/s]",
          "output_type": "stream"
        },
        {
          "name": "stdout",
          "text": "                   all        154        154      0.993          1      0.995      0.853      0.922      0.929      0.913       0.85\n",
          "output_type": "stream"
        },
        {
          "name": "stderr",
          "text": "\n",
          "output_type": "stream"
        },
        {
          "name": "stdout",
          "text": "\n      Epoch    GPU_mem   box_loss  pose_loss  kobj_loss   cls_loss   dfl_loss  Instances       Size\n",
          "output_type": "stream"
        },
        {
          "name": "stderr",
          "text": "       8/10       2.1G     0.3256     0.8621     0.1686     0.2031     0.9946         16        256: 100%|██████████| 164/164 [00:26<00:00,  6.22it/s]\n                 Class     Images  Instances      Box(P          R      mAP50  mAP50-95)     Pose(P          R      mAP50  mAP50-95): 100%|██████████| 5/5 [00:01<00:00,  4.74it/s]",
          "output_type": "stream"
        },
        {
          "name": "stdout",
          "text": "                   all        154        154          1          1      0.995      0.813      0.922      0.922      0.883      0.788\n",
          "output_type": "stream"
        },
        {
          "name": "stderr",
          "text": "\n",
          "output_type": "stream"
        },
        {
          "name": "stdout",
          "text": "\n      Epoch    GPU_mem   box_loss  pose_loss  kobj_loss   cls_loss   dfl_loss  Instances       Size\n",
          "output_type": "stream"
        },
        {
          "name": "stderr",
          "text": "       9/10       2.1G     0.3161     0.7893     0.1438     0.1937     0.9888         16        256: 100%|██████████| 164/164 [00:26<00:00,  6.20it/s]\n                 Class     Images  Instances      Box(P          R      mAP50  mAP50-95)     Pose(P          R      mAP50  mAP50-95): 100%|██████████| 5/5 [00:01<00:00,  4.79it/s]",
          "output_type": "stream"
        },
        {
          "name": "stdout",
          "text": "                   all        154        154          1          1      0.995      0.843      0.922      0.922      0.902      0.867\n",
          "output_type": "stream"
        },
        {
          "name": "stderr",
          "text": "\n",
          "output_type": "stream"
        },
        {
          "name": "stdout",
          "text": "\n      Epoch    GPU_mem   box_loss  pose_loss  kobj_loss   cls_loss   dfl_loss  Instances       Size\n",
          "output_type": "stream"
        },
        {
          "name": "stderr",
          "text": "      10/10       2.1G     0.3069     0.7977     0.1507     0.1818     0.9808         16        256: 100%|██████████| 164/164 [00:26<00:00,  6.15it/s]\n                 Class     Images  Instances      Box(P          R      mAP50  mAP50-95)     Pose(P          R      mAP50  mAP50-95): 100%|██████████| 5/5 [00:01<00:00,  4.73it/s]",
          "output_type": "stream"
        },
        {
          "name": "stdout",
          "text": "                   all        154        154          1          1      0.995       0.85      0.928      0.929      0.918      0.868\n",
          "output_type": "stream"
        },
        {
          "name": "stderr",
          "text": "\n",
          "output_type": "stream"
        },
        {
          "name": "stdout",
          "text": "\n10 epochs completed in 0.085 hours.\nOptimizer stripped from runs/pose/train/weights/last.pt, 53.1MB\nOptimizer stripped from runs/pose/train/weights/best.pt, 53.1MB\n\nValidating runs/pose/train/weights/best.pt...\nUltralytics YOLOv8.2.50 🚀 Python-3.10.13 torch-2.1.2 CUDA:0 (Tesla P100-PCIE-16GB, 16269MiB)\nYOLOv8m-pose summary (fused): 237 layers, 26402263 parameters, 0 gradients, 80.8 GFLOPs\n",
          "output_type": "stream"
        },
        {
          "name": "stderr",
          "text": "                 Class     Images  Instances      Box(P          R      mAP50  mAP50-95)     Pose(P          R      mAP50  mAP50-95): 100%|██████████| 5/5 [00:02<00:00,  1.96it/s]\n",
          "output_type": "stream"
        },
        {
          "name": "stdout",
          "text": "                   all        154        154          1          1      0.995       0.85      0.928      0.929      0.918      0.868\nSpeed: 0.1ms preprocess, 2.5ms inference, 0.0ms loss, 4.1ms postprocess per image\nResults saved to \u001b[1mruns/pose/train\u001b[0m\n",
          "output_type": "stream"
        },
        {
          "output_type": "display_data",
          "data": {
            "text/plain": "VBox(children=(Label(value='54.084 MB of 54.084 MB uploaded\\r'), FloatProgress(value=1.0, max=1.0)))",
            "application/vnd.jupyter.widget-view+json": {
              "version_major": 2,
              "version_minor": 0,
              "model_id": ""
            }
          },
          "metadata": {}
        },
        {
          "output_type": "display_data",
          "data": {
            "text/plain": "<IPython.core.display.HTML object>",
            "text/html": "<style>\n    table.wandb td:nth-child(1) { padding: 0 10px; text-align: left ; width: auto;} td:nth-child(2) {text-align: left ; width: 100%}\n    .wandb-row { display: flex; flex-direction: row; flex-wrap: wrap; justify-content: flex-start; width: 100% }\n    .wandb-col { display: flex; flex-direction: column; flex-basis: 100%; flex: 1; padding: 10px; }\n    </style>\n<div class=\"wandb-row\"><div class=\"wandb-col\"><h3>Run history:</h3><br/><table class=\"wandb\"><tr><td>lr/pg0</td><td>▃▆█▇▆▅▄▃▂▁</td></tr><tr><td>lr/pg1</td><td>▃▆█▇▆▅▄▃▂▁</td></tr><tr><td>lr/pg2</td><td>▃▆█▇▆▅▄▃▂▁</td></tr><tr><td>metrics/mAP50(B)</td><td>▁▅▇███████</td></tr><tr><td>metrics/mAP50(P)</td><td>▁▇▅██▇████</td></tr><tr><td>metrics/mAP50-95(B)</td><td>▁▄▆▇▇▇█▇██</td></tr><tr><td>metrics/mAP50-95(P)</td><td>▁▅▃▇▇▆█▇██</td></tr><tr><td>metrics/precision(B)</td><td>▁▆▆███████</td></tr><tr><td>metrics/precision(P)</td><td>▁▆▅██▇████</td></tr><tr><td>metrics/recall(B)</td><td>▁▅▇███████</td></tr><tr><td>metrics/recall(P)</td><td>▁█▆██▇████</td></tr><tr><td>model/GFLOPs</td><td>▁</td></tr><tr><td>model/parameters</td><td>▁</td></tr><tr><td>model/speed_PyTorch(ms)</td><td>▁</td></tr><tr><td>train/box_loss</td><td>█▇▆▆▄▃▂▁▁▁</td></tr><tr><td>train/cls_loss</td><td>█▅▄▄▃▂▂▁▁▁</td></tr><tr><td>train/dfl_loss</td><td>█▇▆▅▃▃▂▁▁▁</td></tr><tr><td>train/kobj_loss</td><td>█▄▄▃▂▂▂▁▁▁</td></tr><tr><td>train/pose_loss</td><td>█▅▃▂▂▂▂▁▁▁</td></tr><tr><td>val/box_loss</td><td>█▃▃▂▂▁▁▁▁▁</td></tr><tr><td>val/cls_loss</td><td>█▁▁▁▁▁▁▁▁▁</td></tr><tr><td>val/dfl_loss</td><td>█▃▃▂▂▁▁▁▁▁</td></tr><tr><td>val/kobj_loss</td><td>▆▁█▁▂▃▂▂▂▂</td></tr><tr><td>val/pose_loss</td><td>█▂▃▁▁▂▁▁▁▁</td></tr></table><br/></div><div class=\"wandb-col\"><h3>Run summary:</h3><br/><table class=\"wandb\"><tr><td>lr/pg0</td><td>0.00022</td></tr><tr><td>lr/pg1</td><td>0.00022</td></tr><tr><td>lr/pg2</td><td>0.00022</td></tr><tr><td>metrics/mAP50(B)</td><td>0.995</td></tr><tr><td>metrics/mAP50(P)</td><td>0.91782</td></tr><tr><td>metrics/mAP50-95(B)</td><td>0.84982</td></tr><tr><td>metrics/mAP50-95(P)</td><td>0.86831</td></tr><tr><td>metrics/precision(B)</td><td>0.99952</td></tr><tr><td>metrics/precision(P)</td><td>0.92812</td></tr><tr><td>metrics/recall(B)</td><td>1.0</td></tr><tr><td>metrics/recall(P)</td><td>0.92857</td></tr><tr><td>model/GFLOPs</td><td>81.222</td></tr><tr><td>model/parameters</td><td>26419111</td></tr><tr><td>model/speed_PyTorch(ms)</td><td>3.396</td></tr><tr><td>train/box_loss</td><td>0.30688</td></tr><tr><td>train/cls_loss</td><td>0.18184</td></tr><tr><td>train/dfl_loss</td><td>0.98085</td></tr><tr><td>train/kobj_loss</td><td>0.15073</td></tr><tr><td>train/pose_loss</td><td>0.79772</td></tr><tr><td>val/box_loss</td><td>0.70015</td></tr><tr><td>val/cls_loss</td><td>0.58275</td></tr><tr><td>val/dfl_loss</td><td>0.82122</td></tr><tr><td>val/kobj_loss</td><td>0.10066</td></tr><tr><td>val/pose_loss</td><td>0.99869</td></tr></table><br/></div></div>"
          },
          "metadata": {}
        },
        {
          "output_type": "display_data",
          "data": {
            "text/plain": "<IPython.core.display.HTML object>",
            "text/html": " View run <strong style=\"color:#cdcd00\">train</strong> at: <a href='https://wandb.ai/karogi--/YOLOv8/runs/4bxgtujz' target=\"_blank\">https://wandb.ai/karogi--/YOLOv8/runs/4bxgtujz</a><br/> View project at: <a href='https://wandb.ai/karogi--/YOLOv8' target=\"_blank\">https://wandb.ai/karogi--/YOLOv8</a><br/>Synced 5 W&B file(s), 29 media file(s), 9 artifact file(s) and 0 other file(s)"
          },
          "metadata": {}
        },
        {
          "output_type": "display_data",
          "data": {
            "text/plain": "<IPython.core.display.HTML object>",
            "text/html": "Find logs at: <code>./wandb/run-20240706_220523-4bxgtujz/logs</code>"
          },
          "metadata": {}
        }
      ]
    },
    {
      "cell_type": "code",
      "source": [
        "MODEL_PATH = '/kaggle/input/numbers-cp/resnet18_letters.pth'\n",
        "label2letter = {\n",
        "    0: \"0\", 1: \"1\", 2: \"2\", 3: \"3\", 4: \"4\", 5: \"5\", 6: \"6\", 7: \"7\", 8: \"8\", 9: \"9\",\n",
        "    10: \"A\", 11: \"B\", 12: \"C\", 13: \"E\", 14: \"H\", 15: \"K\", 16: \"M\", 17: \"O\", 18: \"P\", 19: \"T\", 20: \"X\", 21: \"Y\"\n",
        "}\n",
        "\n",
        "class LettersPrediction(object):\n",
        "    def __init__(self):\n",
        "        self.model = resnet18()\n",
        "        self.model.fc = nn.Linear(self.model.fc.in_features, out_features=22)\n",
        "        self.model.load_state_dict(torch.load(MODEL_PATH, map_location=torch.device('cpu')))\n",
        "        self.model.eval()\n",
        "\n",
        "        self.imgsz = 64\n",
        "\n",
        "        self.transform = transforms.Compose([\n",
        "            transforms.ToPILImage(),\n",
        "            transforms.Resize((self.imgsz, self.imgsz)),\n",
        "            transforms.ToTensor(),\n",
        "            transforms.Normalize(mean=[0.485, 0.456, 0.406], std=[0.229, 0.224, 0.225])\n",
        "        ])\n",
        "\n",
        "    def predict(self, img):\n",
        "        input_tensor = self.transform(img)\n",
        "        output_tensor = self.model(input_tensor.unsqueeze(0))\n",
        "        predicted = torch.argmax(output_tensor)\n",
        "        return label2letter[predicted.item()]\n",
        "\n",
        "    def predict_series(self, imgs):\n",
        "        s = \"\"\n",
        "        for img in imgs:\n",
        "            s += self.predict(img)\n",
        "        return s"
      ],
      "metadata": {
        "execution": {
          "iopub.status.busy": "2024-07-06T22:11:41.312444Z",
          "iopub.execute_input": "2024-07-06T22:11:41.312765Z",
          "iopub.status.idle": "2024-07-06T22:11:41.324349Z",
          "shell.execute_reply.started": "2024-07-06T22:11:41.312734Z",
          "shell.execute_reply": "2024-07-06T22:11:41.323468Z"
        },
        "trusted": true,
        "id": "Q5iSCkPfL6lh"
      },
      "execution_count": null,
      "outputs": []
    },
    {
      "cell_type": "code",
      "source": [
        "two_digit_region_template = [\n",
        "    {'pos': 1, 'p1': (0.067, 0.250), 'p2': (0.177, 0.92)},\n",
        "    {'pos': 2, 'p1': (0.19, 0.100), 'p2': (0.3, 0.92)},\n",
        "    {'pos': 3, 'p1': (0.3, 0.100), 'p2': (0.41, 0.92)},\n",
        "    {'pos': 4, 'p1': (0.41, 0.100), 'p2': (0.52, 0.92)},\n",
        "    {'pos': 5, 'p1': (0.53, 0.250), 'p2': (0.64, 0.92)},\n",
        "    {'pos': 6, 'p1': (0.64, 0.250), 'p2': (0.75, 0.92)},\n",
        "    {'pos': 7, 'p1': (0.77, 0.05), 'p2': (0.86, 0.7)},\n",
        "    {'pos': 8, 'p1': (0.86, 0.05), 'p2': (0.95, 0.7)}\n",
        "]\n",
        "\n",
        "three_digit_region_template = [\n",
        "    {'pos': 1, 'p1': (0.05, 0.250), 'p2': (0.16, 0.92)},\n",
        "    {'pos': 2, 'p1': (0.16, 0.100), 'p2': (0.27, 0.92)},\n",
        "    {'pos': 3, 'p1': (0.265, 0.100), 'p2': (0.375, 0.92)},\n",
        "    {'pos': 4, 'p1': (0.37, 0.100), 'p2': (0.48, 0.92)},\n",
        "    {'pos': 5, 'p1': (0.475, 0.250), 'p2': (0.585, 0.92)},\n",
        "    {'pos': 6, 'p1': (0.58, 0.250), 'p2': (0.69, 0.92)},\n",
        "    {'pos': 7, 'p1': (0.71, 0.05), 'p2': (0.795, 0.7)},\n",
        "    {'pos': 8, 'p1': (0.79, 0.05), 'p2': (0.875, 0.7)},\n",
        "    {'pos': 9, 'p1': (0.87, 0.05), 'p2': (0.96, 0.7)}\n",
        "]\n",
        "\n",
        "def apply_template(img, region_length):\n",
        "    if region_length == 2:\n",
        "        pattern = two_digit_region_template\n",
        "    elif region_length == 3:\n",
        "        pattern = three_digit_region_template\n",
        "    else:\n",
        "       raise ValueError(\"Неподдерживаемое разбиение на регионы. Поддерживаются только 2 и 3.\")\n",
        "\n",
        "    H, W, _ = img.shape\n",
        "\n",
        "    if H != 112 or W != 512:\n",
        "        raise ValueError(\"Форма изображения должна быть 512x112\")\n",
        "\n",
        "    crops = []\n",
        "    for pos in pattern:\n",
        "        sx, sy, ex, ey = *pos[\"p1\"], *pos[\"p2\"]\n",
        "        sx, sy, ex, ey = sx * W, sy * H, ex * W, ey * H\n",
        "        sx, sy, ex, ey = map(int, [sx, sy, ex, ey])\n",
        "        crops.append(img[sy : ey, sx : ex])\n",
        "\n",
        "    return crops"
      ],
      "metadata": {
        "execution": {
          "iopub.status.busy": "2024-07-06T22:11:41.325489Z",
          "iopub.execute_input": "2024-07-06T22:11:41.325765Z",
          "iopub.status.idle": "2024-07-06T22:11:41.341013Z",
          "shell.execute_reply.started": "2024-07-06T22:11:41.325742Z",
          "shell.execute_reply": "2024-07-06T22:11:41.340098Z"
        },
        "trusted": true,
        "id": "bM-cnIRdL6li"
      },
      "execution_count": null,
      "outputs": []
    },
    {
      "cell_type": "code",
      "source": [
        "# открываем обученную модель yolo\n",
        "model_yolo = YOLO('/kaggle/working/runs/pose/train/weights/best.pt')\n",
        "\n",
        "\n",
        "def img_deformation(img):\n",
        "    img = cv2.resize(img, (256, 256))\n",
        "    # предиктим угловые точки\n",
        "    results = model_yolo(img)\n",
        "    r = results[0]\n",
        "\n",
        "    im_array = r.plot()  # plot a BGR numpy array of predictions\n",
        "    im = Image.fromarray(im_array)  # RGB PIL image\n",
        "    points = np.array(results[0].keypoints.xy[0].detach().cpu())\n",
        "    print(points)\n",
        "    # выравниваем изображение по выделенным угловым точкам\n",
        "    pts1 = np.float32(points)\n",
        "    pts2 = np.float32([[0,0], [img.shape[1],0], [img.shape[1], img.shape[0]], [0,img.shape[0]]])\n",
        "\n",
        "    M = cv2.getPerspectiveTransform(pts1, pts2)\n",
        "    dst = cv2.warpPerspective(img,M,(img.shape[1],img.shape[0]))\n",
        "    dst_im = Image.fromarray(dst)\n",
        "    return dst"
      ],
      "metadata": {
        "execution": {
          "iopub.status.busy": "2024-07-06T22:11:41.342054Z",
          "iopub.execute_input": "2024-07-06T22:11:41.342400Z",
          "iopub.status.idle": "2024-07-06T22:11:41.498627Z",
          "shell.execute_reply.started": "2024-07-06T22:11:41.342375Z",
          "shell.execute_reply": "2024-07-06T22:11:41.497583Z"
        },
        "trusted": true,
        "id": "m_LA151AL6li"
      },
      "execution_count": null,
      "outputs": []
    },
    {
      "cell_type": "code",
      "source": [
        "#from template import apply_template\n",
        "#from model import LettersPrediction\n",
        "DATASET_PATH = '/kaggle/input/numbers-cp/images-20240706T094956Z-001/images'\n",
        "data_path = Path(DATASET_PATH)\n",
        "\n",
        "\n",
        "regions_type = [2, 3]\n",
        "model = LettersPrediction()\n",
        "\n",
        "\n",
        "result = []\n",
        "for p in tqdm(data_path.iterdir()):\n",
        "\n",
        "    if not p.suffix in [\".png\", \".jpg\", \".jpeg\"]:\n",
        "        continue\n",
        "    result.append(\n",
        "        {\n",
        "            \"image_name\": p.stem,\n",
        "            \"prediction_region_length_2\": \"\",\n",
        "            \"prediction_region_length_3\": \"\"\n",
        "        }\n",
        "    )\n",
        "\n",
        "    img = cv2.imread(str(p))\n",
        "\n",
        "    #вызов фунции деформации\n",
        "    img = img_deformation(img)\n",
        "    ########################\n",
        "\n",
        "    img = cv2.resize(img, (512,112))\n",
        "\n",
        "    for region_type in regions_type:\n",
        "\n",
        "        crops = apply_template(img, region_type)\n",
        "\n",
        "        lp_number = model.predict_series(crops)\n",
        "        result[-1][f\"prediction_region_length_{region_type}\"] = lp_number\n",
        "\n",
        "pd.DataFrame(result).to_csv('/kaggle/working/modelPredict.csv', index=False)"
      ],
      "metadata": {
        "execution": {
          "iopub.status.busy": "2024-07-06T22:12:51.125732Z",
          "iopub.execute_input": "2024-07-06T22:12:51.126392Z",
          "iopub.status.idle": "2024-07-06T22:17:41.835624Z",
          "shell.execute_reply.started": "2024-07-06T22:12:51.126358Z",
          "shell.execute_reply": "2024-07-06T22:17:41.834685Z"
        },
        "trusted": true,
        "id": "KazxM8qQL6li",
        "outputId": "0cee2498-af6a-4d6d-dc54-787140c2fc70"
      },
      "execution_count": null,
      "outputs": [
        {
          "name": "stderr",
          "text": "0it [00:00, ?it/s]",
          "output_type": "stream"
        },
        {
          "name": "stdout",
          "text": "\n0: 256x256 1 plate, 11.1ms\nSpeed: 2.3ms preprocess, 11.1ms inference, 2.3ms postprocess per image at shape (1, 3, 256, 256)\n[[       4.69       37.69]\n [      249.8      51.337]\n [      244.8       223.9]\n [     10.986      206.96]]\n",
          "output_type": "stream"
        },
        {
          "name": "stderr",
          "text": "1it [00:00,  1.01it/s]",
          "output_type": "stream"
        },
        {
          "name": "stdout",
          "text": "\n0: 256x256 1 plate, 10.1ms\nSpeed: 1.0ms preprocess, 10.1ms inference, 1.7ms postprocess per image at shape (1, 3, 256, 256)\n[[     5.9469      18.541]\n [     250.28      65.499]\n [     246.12      224.68]\n [     8.3526      180.48]]\n",
          "output_type": "stream"
        },
        {
          "name": "stderr",
          "text": "2it [00:01,  1.75it/s]",
          "output_type": "stream"
        },
        {
          "name": "stdout",
          "text": "\n0: 256x256 1 plate, 10.2ms\nSpeed: 0.9ms preprocess, 10.2ms inference, 1.7ms postprocess per image at shape (1, 3, 256, 256)\n[[     10.322      61.416]\n [     242.38      31.738]\n [     239.85      203.51]\n [     13.477      237.82]]\n",
          "output_type": "stream"
        },
        {
          "name": "stderr",
          "text": "3it [00:01,  2.29it/s]",
          "output_type": "stream"
        },
        {
          "name": "stdout",
          "text": "\n0: 256x256 1 plate, 9.9ms\nSpeed: 0.9ms preprocess, 9.9ms inference, 1.6ms postprocess per image at shape (1, 3, 256, 256)\n[[     63.885      78.427]\n [     211.56      8.8381]\n [     229.44      136.69]\n [     76.648      214.31]]\n",
          "output_type": "stream"
        },
        {
          "name": "stderr",
          "text": "4it [00:01,  2.66it/s]",
          "output_type": "stream"
        },
        {
          "name": "stdout",
          "text": "\n0: 256x256 1 plate, 10.1ms\nSpeed: 0.9ms preprocess, 10.1ms inference, 1.6ms postprocess per image at shape (1, 3, 256, 256)\n[[     50.633        96.1]\n [     218.53      45.356]\n [     218.76       151.5]\n [     62.072      213.24]]\n",
          "output_type": "stream"
        },
        {
          "name": "stderr",
          "text": "5it [00:02,  2.93it/s]",
          "output_type": "stream"
        },
        {
          "name": "stdout",
          "text": "\n0: 256x256 1 plate, 10.0ms\nSpeed: 1.0ms preprocess, 10.0ms inference, 1.6ms postprocess per image at shape (1, 3, 256, 256)\n[[     4.9728      31.132]\n [     254.43      46.279]\n [     246.27      222.84]\n [     11.558      206.36]]\n",
          "output_type": "stream"
        },
        {
          "name": "stderr",
          "text": "6it [00:02,  3.16it/s]",
          "output_type": "stream"
        },
        {
          "name": "stdout",
          "text": "\n0: 256x256 1 plate, 10.1ms\nSpeed: 1.0ms preprocess, 10.1ms inference, 1.6ms postprocess per image at shape (1, 3, 256, 256)\n[[     55.806       51.99]\n [     221.22           0]\n [     240.85      143.94]\n [     68.699      209.36]]\n",
          "output_type": "stream"
        },
        {
          "name": "stderr",
          "text": "7it [00:02,  3.30it/s]",
          "output_type": "stream"
        },
        {
          "name": "stdout",
          "text": "\n0: 256x256 1 plate, 9.8ms\nSpeed: 1.0ms preprocess, 9.8ms inference, 1.6ms postprocess per image at shape (1, 3, 256, 256)\n[[     5.8603      51.327]\n [     246.79      33.751]\n [     249.58      206.25]\n [     13.439      227.57]]\n",
          "output_type": "stream"
        },
        {
          "name": "stderr",
          "text": "8it [00:02,  3.40it/s]",
          "output_type": "stream"
        },
        {
          "name": "stdout",
          "text": "\n0: 256x256 1 plate, 9.9ms\nSpeed: 1.1ms preprocess, 9.9ms inference, 1.6ms postprocess per image at shape (1, 3, 256, 256)\n[[     7.7447      49.263]\n [     246.01      25.406]\n [     249.21       206.2]\n [     17.007       237.7]]\n",
          "output_type": "stream"
        },
        {
          "name": "stderr",
          "text": "9it [00:03,  3.49it/s]",
          "output_type": "stream"
        },
        {
          "name": "stdout",
          "text": "\n0: 256x256 1 plate, 10.0ms\nSpeed: 1.0ms preprocess, 10.0ms inference, 1.6ms postprocess per image at shape (1, 3, 256, 256)\n[[     31.516      89.966]\n [      222.3      16.173]\n [     224.73      163.26]\n [     32.547      232.99]]\n",
          "output_type": "stream"
        },
        {
          "name": "stderr",
          "text": "10it [00:03,  3.56it/s]",
          "output_type": "stream"
        },
        {
          "name": "stdout",
          "text": "\n0: 256x256 1 plate, 9.9ms\nSpeed: 0.9ms preprocess, 9.9ms inference, 1.6ms postprocess per image at shape (1, 3, 256, 256)\n[[     12.121      53.148]\n [     240.67      20.955]\n [     247.46      193.25]\n [     20.539      235.97]]\n",
          "output_type": "stream"
        },
        {
          "name": "stderr",
          "text": "11it [00:03,  3.58it/s]",
          "output_type": "stream"
        },
        {
          "name": "stdout",
          "text": "\n0: 256x256 1 plate, 9.7ms\nSpeed: 0.9ms preprocess, 9.7ms inference, 1.6ms postprocess per image at shape (1, 3, 256, 256)\n[[     3.5044      38.875]\n [     250.51      36.517]\n [     248.59      218.64]\n [     10.631       219.8]]\n",
          "output_type": "stream"
        },
        {
          "name": "stderr",
          "text": "12it [00:04,  3.61it/s]",
          "output_type": "stream"
        },
        {
          "name": "stdout",
          "text": "\n0: 256x256 1 plate, 11.3ms\nSpeed: 0.9ms preprocess, 11.3ms inference, 1.6ms postprocess per image at shape (1, 3, 256, 256)\n[[      27.03      78.382]\n [      224.3      10.792]\n [     231.28      166.45]\n [     39.131      243.06]]\n",
          "output_type": "stream"
        },
        {
          "name": "stderr",
          "text": "13it [00:04,  3.63it/s]",
          "output_type": "stream"
        },
        {
          "name": "stdout",
          "text": "\n0: 256x256 1 plate, 10.2ms\nSpeed: 1.0ms preprocess, 10.2ms inference, 1.7ms postprocess per image at shape (1, 3, 256, 256)\n[[     63.527      84.825]\n [     199.19      14.646]\n [      219.2      128.34]\n [     72.138      203.65]]\n",
          "output_type": "stream"
        },
        {
          "name": "stderr",
          "text": "14it [00:04,  3.65it/s]",
          "output_type": "stream"
        },
        {
          "name": "stdout",
          "text": "\n0: 256x256 1 plate, 10.0ms\nSpeed: 1.0ms preprocess, 10.0ms inference, 1.6ms postprocess per image at shape (1, 3, 256, 256)\n[[     13.158       33.97]\n [      234.6      68.122]\n [     237.68      221.62]\n [     9.2386      191.58]]\n",
          "output_type": "stream"
        },
        {
          "name": "stderr",
          "text": "15it [00:04,  3.65it/s]",
          "output_type": "stream"
        },
        {
          "name": "stdout",
          "text": "\n0: 256x256 1 plate, 10.0ms\nSpeed: 1.0ms preprocess, 10.0ms inference, 1.6ms postprocess per image at shape (1, 3, 256, 256)\n[[     11.212      54.794]\n [     241.43      73.792]\n [     242.66      220.33]\n [     11.787       205.8]]\n",
          "output_type": "stream"
        },
        {
          "name": "stderr",
          "text": "16it [00:05,  3.64it/s]",
          "output_type": "stream"
        },
        {
          "name": "stdout",
          "text": "\n0: 256x256 1 plate, 10.3ms\nSpeed: 1.0ms preprocess, 10.3ms inference, 1.6ms postprocess per image at shape (1, 3, 256, 256)\n[[      17.99      52.928]\n [     237.66      34.774]\n [     238.94      190.99]\n [     21.955      210.68]]\n",
          "output_type": "stream"
        },
        {
          "name": "stderr",
          "text": "17it [00:05,  3.61it/s]",
          "output_type": "stream"
        },
        {
          "name": "stdout",
          "text": "\n0: 256x256 1 plate, 10.4ms\nSpeed: 0.9ms preprocess, 10.4ms inference, 1.8ms postprocess per image at shape (1, 3, 256, 256)\n[[     23.637      77.082]\n [     233.69      34.033]\n [     232.83       175.1]\n [     25.816      225.32]]\n",
          "output_type": "stream"
        },
        {
          "name": "stderr",
          "text": "18it [00:05,  3.56it/s]",
          "output_type": "stream"
        },
        {
          "name": "stdout",
          "text": "\n0: 256x256 1 plate, 10.4ms\nSpeed: 0.9ms preprocess, 10.4ms inference, 1.6ms postprocess per image at shape (1, 3, 256, 256)\n[[     16.535      15.854]\n [     246.24      109.38]\n [     229.82      250.07]\n [          0           0]]\n",
          "output_type": "stream"
        },
        {
          "name": "stderr",
          "text": "19it [00:05,  3.58it/s]",
          "output_type": "stream"
        },
        {
          "name": "stdout",
          "text": "\n0: 256x256 1 plate, 10.1ms\nSpeed: 1.0ms preprocess, 10.1ms inference, 1.6ms postprocess per image at shape (1, 3, 256, 256)\n[[     24.556       85.23]\n [     223.23      36.703]\n [     233.21       161.7]\n [     29.409         223]]\n",
          "output_type": "stream"
        },
        {
          "name": "stderr",
          "text": "20it [00:06,  3.58it/s]",
          "output_type": "stream"
        },
        {
          "name": "stdout",
          "text": "\n0: 256x256 1 plate, 9.9ms\nSpeed: 0.9ms preprocess, 9.9ms inference, 1.6ms postprocess per image at shape (1, 3, 256, 256)\n[[     5.9495      49.477]\n [     245.93       45.34]\n [     245.71      212.53]\n [     11.798      219.98]]\n",
          "output_type": "stream"
        },
        {
          "name": "stderr",
          "text": "21it [00:06,  3.49it/s]",
          "output_type": "stream"
        },
        {
          "name": "stdout",
          "text": "\n0: 256x256 1 plate, 9.8ms\nSpeed: 1.0ms preprocess, 9.8ms inference, 1.6ms postprocess per image at shape (1, 3, 256, 256)\n[[     15.406      18.065]\n [     237.14      112.56]\n [     234.32      235.18]\n [     4.8513      144.56]]\n",
          "output_type": "stream"
        },
        {
          "name": "stderr",
          "text": "22it [00:06,  3.54it/s]",
          "output_type": "stream"
        },
        {
          "name": "stdout",
          "text": "\n0: 256x256 1 plate, 9.8ms\nSpeed: 0.9ms preprocess, 9.8ms inference, 1.6ms postprocess per image at shape (1, 3, 256, 256)\n[[     21.688      72.313]\n [     233.33      76.664]\n [     234.99      203.54]\n [     26.045       207.2]]\n",
          "output_type": "stream"
        },
        {
          "name": "stderr",
          "text": "23it [00:07,  3.55it/s]",
          "output_type": "stream"
        },
        {
          "name": "stdout",
          "text": "\n0: 256x256 1 plate, 10.3ms\nSpeed: 1.1ms preprocess, 10.3ms inference, 1.6ms postprocess per image at shape (1, 3, 256, 256)\n[[     25.042      73.301]\n [     226.57      55.957]\n [     232.98      183.83]\n [      32.08      211.26]]\n",
          "output_type": "stream"
        },
        {
          "name": "stderr",
          "text": "24it [00:07,  3.59it/s]",
          "output_type": "stream"
        },
        {
          "name": "stdout",
          "text": "\n0: 256x256 1 plate, 9.7ms\nSpeed: 0.8ms preprocess, 9.7ms inference, 1.7ms postprocess per image at shape (1, 3, 256, 256)\n[[     5.7989      19.874]\n [     249.99      63.876]\n [     243.77      227.93]\n [     11.965      183.25]]\n",
          "output_type": "stream"
        },
        {
          "name": "stderr",
          "text": "25it [00:07,  3.59it/s]",
          "output_type": "stream"
        },
        {
          "name": "stdout",
          "text": "\n0: 256x256 1 plate, 10.4ms\nSpeed: 1.1ms preprocess, 10.4ms inference, 1.7ms postprocess per image at shape (1, 3, 256, 256)\n[[     12.975      61.789]\n [     241.24      34.477]\n [     240.38      197.57]\n [     14.082      231.63]]\n",
          "output_type": "stream"
        },
        {
          "name": "stderr",
          "text": "26it [00:07,  3.60it/s]",
          "output_type": "stream"
        },
        {
          "name": "stdout",
          "text": "\n0: 256x256 1 plate, 10.0ms\nSpeed: 1.1ms preprocess, 10.0ms inference, 1.6ms postprocess per image at shape (1, 3, 256, 256)\n[[     14.649        36.6]\n [     234.95      48.537]\n [      242.2      210.64]\n [     11.194      196.82]]\n",
          "output_type": "stream"
        },
        {
          "name": "stderr",
          "text": "27it [00:08,  3.60it/s]",
          "output_type": "stream"
        },
        {
          "name": "stdout",
          "text": "\n0: 256x256 1 plate, 9.8ms\nSpeed: 0.9ms preprocess, 9.8ms inference, 1.6ms postprocess per image at shape (1, 3, 256, 256)\n[[     16.571       61.41]\n [     238.12      33.886]\n [     243.92      192.98]\n [     16.828      231.14]]\n",
          "output_type": "stream"
        },
        {
          "name": "stderr",
          "text": "28it [00:08,  3.62it/s]",
          "output_type": "stream"
        },
        {
          "name": "stdout",
          "text": "\n0: 256x256 1 plate, 9.9ms\nSpeed: 0.9ms preprocess, 9.9ms inference, 1.7ms postprocess per image at shape (1, 3, 256, 256)\n[[     21.665      61.166]\n [     228.89      21.421]\n [     241.09      184.59]\n [     30.414      237.42]]\n",
          "output_type": "stream"
        },
        {
          "name": "stderr",
          "text": "29it [00:08,  3.64it/s]",
          "output_type": "stream"
        },
        {
          "name": "stdout",
          "text": "\n0: 256x256 1 plate, 9.8ms\nSpeed: 0.9ms preprocess, 9.8ms inference, 1.7ms postprocess per image at shape (1, 3, 256, 256)\n[[         19      64.666]\n [     227.57      23.377]\n [     243.46      182.36]\n [     26.632      240.34]]\n",
          "output_type": "stream"
        },
        {
          "name": "stderr",
          "text": "30it [00:09,  3.59it/s]",
          "output_type": "stream"
        },
        {
          "name": "stdout",
          "text": "\n0: 256x256 1 plate, 12.3ms\nSpeed: 1.0ms preprocess, 12.3ms inference, 1.7ms postprocess per image at shape (1, 3, 256, 256)\n[[     9.6452      52.744]\n [     240.95      24.531]\n [     246.76      197.81]\n [     17.516      235.39]]\n",
          "output_type": "stream"
        },
        {
          "name": "stderr",
          "text": "31it [00:09,  3.58it/s]",
          "output_type": "stream"
        },
        {
          "name": "stdout",
          "text": "\n0: 256x256 1 plate, 9.6ms\nSpeed: 0.9ms preprocess, 9.6ms inference, 1.6ms postprocess per image at shape (1, 3, 256, 256)\n[[     9.4738      28.367]\n [     244.93      63.319]\n [     237.89      236.63]\n [    0.31151      203.84]]\n",
          "output_type": "stream"
        },
        {
          "name": "stderr",
          "text": "32it [00:09,  3.50it/s]",
          "output_type": "stream"
        },
        {
          "name": "stdout",
          "text": "\n0: 256x256 1 plate, 10.7ms\nSpeed: 1.1ms preprocess, 10.7ms inference, 1.7ms postprocess per image at shape (1, 3, 256, 256)\n[[     10.071       31.81]\n [     245.66      103.73]\n [     233.68      239.07]\n [     13.837      166.57]]\n",
          "output_type": "stream"
        },
        {
          "name": "stderr",
          "text": "33it [00:09,  3.43it/s]",
          "output_type": "stream"
        },
        {
          "name": "stdout",
          "text": "\n0: 256x256 1 plate, 9.8ms\nSpeed: 1.0ms preprocess, 9.8ms inference, 1.6ms postprocess per image at shape (1, 3, 256, 256)\n[[          0           0]\n [     234.91      138.83]\n [     230.08      235.78]\n [     49.771       139.3]]\n",
          "output_type": "stream"
        },
        {
          "name": "stderr",
          "text": "34it [00:10,  3.38it/s]",
          "output_type": "stream"
        },
        {
          "name": "stdout",
          "text": "\n0: 256x256 1 plate, 10.5ms\nSpeed: 1.0ms preprocess, 10.5ms inference, 1.7ms postprocess per image at shape (1, 3, 256, 256)\n[[     10.549      4.2936]\n [      251.1      98.807]\n [     239.25      244.83]\n [          0      151.96]]\n",
          "output_type": "stream"
        },
        {
          "name": "stderr",
          "text": "35it [00:10,  3.42it/s]",
          "output_type": "stream"
        },
        {
          "name": "stdout",
          "text": "\n0: 256x256 1 plate, 10.2ms\nSpeed: 1.0ms preprocess, 10.2ms inference, 1.6ms postprocess per image at shape (1, 3, 256, 256)\n[[     149.29      96.894]\n [     219.36      164.17]\n [     217.14      247.93]\n [          0           0]]\n",
          "output_type": "stream"
        },
        {
          "name": "stderr",
          "text": "36it [00:10,  3.44it/s]",
          "output_type": "stream"
        },
        {
          "name": "stdout",
          "text": "\n0: 256x256 1 plate, 10.1ms\nSpeed: 1.0ms preprocess, 10.1ms inference, 1.6ms postprocess per image at shape (1, 3, 256, 256)\n[[     8.8799      43.926]\n [     246.19      79.761]\n [     240.67      227.27]\n [     10.447      193.63]]\n",
          "output_type": "stream"
        },
        {
          "name": "stderr",
          "text": "37it [00:11,  3.49it/s]",
          "output_type": "stream"
        },
        {
          "name": "stdout",
          "text": "\n0: 256x256 1 plate, 9.7ms\nSpeed: 0.9ms preprocess, 9.7ms inference, 1.6ms postprocess per image at shape (1, 3, 256, 256)\n[[     6.7611      47.746]\n [     248.58      44.744]\n [     249.65      210.36]\n [     11.997      219.49]]\n",
          "output_type": "stream"
        },
        {
          "name": "stderr",
          "text": "38it [00:11,  3.58it/s]",
          "output_type": "stream"
        },
        {
          "name": "stdout",
          "text": "\n0: 256x256 1 plate, 9.9ms\nSpeed: 1.0ms preprocess, 9.9ms inference, 1.6ms postprocess per image at shape (1, 3, 256, 256)\n[[     24.354      24.818]\n [     233.74      71.086]\n [     234.55      224.33]\n [     21.797      175.14]]\n",
          "output_type": "stream"
        },
        {
          "name": "stderr",
          "text": "39it [00:11,  3.61it/s]",
          "output_type": "stream"
        },
        {
          "name": "stdout",
          "text": "\n0: 256x256 1 plate, 9.8ms\nSpeed: 0.9ms preprocess, 9.8ms inference, 1.6ms postprocess per image at shape (1, 3, 256, 256)\n[[      120.8      102.11]\n [     150.84      55.844]\n [     168.07      157.81]\n [     116.83      180.79]]\n",
          "output_type": "stream"
        },
        {
          "name": "stderr",
          "text": "40it [00:11,  3.63it/s]",
          "output_type": "stream"
        },
        {
          "name": "stdout",
          "text": "\n0: 256x256 1 plate, 10.4ms\nSpeed: 0.9ms preprocess, 10.4ms inference, 1.6ms postprocess per image at shape (1, 3, 256, 256)\n[[     1.6741      45.017]\n [      250.3      49.614]\n [     247.47      222.05]\n [     8.9046      219.24]]\n",
          "output_type": "stream"
        },
        {
          "name": "stderr",
          "text": "41it [00:12,  3.60it/s]",
          "output_type": "stream"
        },
        {
          "name": "stdout",
          "text": "\n0: 256x256 1 plate, 9.8ms\nSpeed: 0.9ms preprocess, 9.8ms inference, 1.6ms postprocess per image at shape (1, 3, 256, 256)\n[[     4.9555      33.944]\n [     244.07       37.99]\n [     245.65      225.06]\n [     0.5216      222.92]]\n",
          "output_type": "stream"
        },
        {
          "name": "stderr",
          "text": "42it [00:12,  3.60it/s]",
          "output_type": "stream"
        },
        {
          "name": "stdout",
          "text": "\n0: 256x256 1 plate, 10.1ms\nSpeed: 0.9ms preprocess, 10.1ms inference, 1.7ms postprocess per image at shape (1, 3, 256, 256)\n[[     19.869      55.139]\n [     226.09      85.088]\n [     226.01      207.96]\n [     22.121      162.53]]\n",
          "output_type": "stream"
        },
        {
          "name": "stderr",
          "text": "43it [00:12,  3.54it/s]",
          "output_type": "stream"
        },
        {
          "name": "stdout",
          "text": "\n0: 256x256 1 plate, 10.2ms\nSpeed: 1.0ms preprocess, 10.2ms inference, 1.6ms postprocess per image at shape (1, 3, 256, 256)\n[[    0.74175      28.461]\n [     255.57       39.88]\n [     250.82      219.48]\n [     8.1809      208.65]]\n",
          "output_type": "stream"
        },
        {
          "name": "stderr",
          "text": "44it [00:13,  3.54it/s]",
          "output_type": "stream"
        },
        {
          "name": "stdout",
          "text": "\n0: 256x256 1 plate, 10.1ms\nSpeed: 0.9ms preprocess, 10.1ms inference, 1.7ms postprocess per image at shape (1, 3, 256, 256)\n[[     15.046      27.736]\n [        241      120.47]\n [     236.45      242.89]\n [     18.758      123.08]]\n",
          "output_type": "stream"
        },
        {
          "name": "stderr",
          "text": "45it [00:13,  3.58it/s]",
          "output_type": "stream"
        },
        {
          "name": "stdout",
          "text": "\n0: 256x256 1 plate, 10.2ms\nSpeed: 0.9ms preprocess, 10.2ms inference, 1.7ms postprocess per image at shape (1, 3, 256, 256)\n[[     35.985      35.487]\n [     236.31      143.65]\n [     226.59      245.84]\n [          0           0]]\n",
          "output_type": "stream"
        },
        {
          "name": "stderr",
          "text": "46it [00:13,  3.59it/s]",
          "output_type": "stream"
        },
        {
          "name": "stdout",
          "text": "\n0: 256x256 1 plate, 9.9ms\nSpeed: 0.8ms preprocess, 9.9ms inference, 1.6ms postprocess per image at shape (1, 3, 256, 256)\n[[     7.2522      11.903]\n [     248.57       111.4]\n [     238.46      242.74]\n [     11.786      153.93]]\n",
          "output_type": "stream"
        },
        {
          "name": "stderr",
          "text": "47it [00:13,  3.60it/s]",
          "output_type": "stream"
        },
        {
          "name": "stdout",
          "text": "\n0: 256x256 1 plate, 10.1ms\nSpeed: 1.0ms preprocess, 10.1ms inference, 1.7ms postprocess per image at shape (1, 3, 256, 256)\n[[    0.28812      32.957]\n [     253.63      57.359]\n [     247.54      231.42]\n [     7.4395      207.67]]\n",
          "output_type": "stream"
        },
        {
          "name": "stderr",
          "text": "48it [00:14,  3.62it/s]",
          "output_type": "stream"
        },
        {
          "name": "stdout",
          "text": "\n0: 256x256 1 plate, 9.7ms\nSpeed: 1.0ms preprocess, 9.7ms inference, 1.6ms postprocess per image at shape (1, 3, 256, 256)\n[[     10.021      28.674]\n [     244.56      101.83]\n [      234.3      231.81]\n [     11.157      155.23]]\n",
          "output_type": "stream"
        },
        {
          "name": "stderr",
          "text": "49it [00:14,  3.65it/s]",
          "output_type": "stream"
        },
        {
          "name": "stdout",
          "text": "\n0: 256x256 1 plate, 10.0ms\nSpeed: 1.0ms preprocess, 10.0ms inference, 1.6ms postprocess per image at shape (1, 3, 256, 256)\n[[     5.3837      20.527]\n [     248.67       77.91]\n [     242.27       230.9]\n [     7.8604      173.24]]\n",
          "output_type": "stream"
        },
        {
          "name": "stderr",
          "text": "50it [00:14,  3.65it/s]",
          "output_type": "stream"
        },
        {
          "name": "stdout",
          "text": "\n0: 256x256 1 plate, 10.3ms\nSpeed: 1.0ms preprocess, 10.3ms inference, 1.7ms postprocess per image at shape (1, 3, 256, 256)\n[[     26.588      95.377]\n [     227.71      40.077]\n [     227.31      167.23]\n [     28.284      229.07]]\n",
          "output_type": "stream"
        },
        {
          "name": "stderr",
          "text": "51it [00:14,  3.61it/s]",
          "output_type": "stream"
        },
        {
          "name": "stdout",
          "text": "\n0: 256x256 1 plate, 9.7ms\nSpeed: 0.9ms preprocess, 9.7ms inference, 1.6ms postprocess per image at shape (1, 3, 256, 256)\n[[      13.16      27.296]\n [     238.55      72.186]\n [     240.37      230.55]\n [     7.3045       187.2]]\n",
          "output_type": "stream"
        },
        {
          "name": "stderr",
          "text": "52it [00:15,  3.42it/s]",
          "output_type": "stream"
        },
        {
          "name": "stdout",
          "text": "\n0: 256x256 1 plate, 10.2ms\nSpeed: 0.9ms preprocess, 10.2ms inference, 1.6ms postprocess per image at shape (1, 3, 256, 256)\n[[     23.477      19.895]\n [     234.49      110.92]\n [     234.19         229]\n [     15.396      139.46]]\n",
          "output_type": "stream"
        },
        {
          "name": "stderr",
          "text": "53it [00:15,  3.46it/s]",
          "output_type": "stream"
        },
        {
          "name": "stdout",
          "text": "\n0: 256x256 1 plate, 10.3ms\nSpeed: 0.9ms preprocess, 10.3ms inference, 1.7ms postprocess per image at shape (1, 3, 256, 256)\n[[     9.8964      17.541]\n [     245.73      107.35]\n [     235.13       236.5]\n [      12.99      152.44]]\n",
          "output_type": "stream"
        },
        {
          "name": "stderr",
          "text": "54it [00:15,  3.47it/s]",
          "output_type": "stream"
        },
        {
          "name": "stdout",
          "text": "\n0: 256x256 1 plate, 10.2ms\nSpeed: 1.0ms preprocess, 10.2ms inference, 1.7ms postprocess per image at shape (1, 3, 256, 256)\n[[     11.884      45.593]\n [     237.46      72.396]\n [     236.99      210.46]\n [     11.977      183.49]]\n",
          "output_type": "stream"
        },
        {
          "name": "stderr",
          "text": "55it [00:16,  3.49it/s]",
          "output_type": "stream"
        },
        {
          "name": "stdout",
          "text": "\n0: 256x256 1 plate, 9.8ms\nSpeed: 0.9ms preprocess, 9.8ms inference, 1.6ms postprocess per image at shape (1, 3, 256, 256)\n[[      7.707      53.624]\n [     245.93      61.608]\n [     246.27      215.98]\n [     12.755      211.99]]\n",
          "output_type": "stream"
        },
        {
          "name": "stderr",
          "text": "56it [00:16,  3.51it/s]",
          "output_type": "stream"
        },
        {
          "name": "stdout",
          "text": "\n0: 256x256 1 plate, 10.3ms\nSpeed: 0.9ms preprocess, 10.3ms inference, 1.6ms postprocess per image at shape (1, 3, 256, 256)\n[[     5.3443      37.265]\n [     245.44      26.661]\n [     244.27         206]\n [     12.351      219.78]]\n",
          "output_type": "stream"
        },
        {
          "name": "stderr",
          "text": "57it [00:16,  3.43it/s]",
          "output_type": "stream"
        },
        {
          "name": "stdout",
          "text": "\n0: 256x256 1 plate, 10.2ms\nSpeed: 0.9ms preprocess, 10.2ms inference, 1.6ms postprocess per image at shape (1, 3, 256, 256)\n[[     12.156      51.678]\n [     240.92       50.32]\n [     242.63      212.78]\n [     17.211      214.75]]\n",
          "output_type": "stream"
        },
        {
          "name": "stderr",
          "text": "58it [00:16,  3.49it/s]",
          "output_type": "stream"
        },
        {
          "name": "stdout",
          "text": "\n0: 256x256 1 plate, 10.4ms\nSpeed: 1.1ms preprocess, 10.4ms inference, 1.7ms postprocess per image at shape (1, 3, 256, 256)\n[[       2.55       21.47]\n [     255.11      50.019]\n [     247.72      229.27]\n [     8.9202      203.67]]\n",
          "output_type": "stream"
        },
        {
          "name": "stderr",
          "text": "59it [00:17,  3.50it/s]",
          "output_type": "stream"
        },
        {
          "name": "stdout",
          "text": "\n0: 256x256 1 plate, 10.0ms\nSpeed: 0.9ms preprocess, 10.0ms inference, 1.6ms postprocess per image at shape (1, 3, 256, 256)\n[[     16.922      16.006]\n [     237.73       127.2]\n [     233.62       244.9]\n [     8.5254      138.69]]\n",
          "output_type": "stream"
        },
        {
          "name": "stderr",
          "text": "60it [00:17,  3.51it/s]",
          "output_type": "stream"
        },
        {
          "name": "stdout",
          "text": "\n0: 256x256 1 plate, 10.1ms\nSpeed: 1.0ms preprocess, 10.1ms inference, 1.6ms postprocess per image at shape (1, 3, 256, 256)\n[[     13.368      15.654]\n [     239.93      104.66]\n [     234.48      237.42]\n [     5.5155      150.45]]\n",
          "output_type": "stream"
        },
        {
          "name": "stderr",
          "text": "61it [00:17,  3.52it/s]",
          "output_type": "stream"
        },
        {
          "name": "stdout",
          "text": "\n0: 256x256 1 plate, 10.3ms\nSpeed: 1.0ms preprocess, 10.3ms inference, 1.8ms postprocess per image at shape (1, 3, 256, 256)\n[[     14.338      74.615]\n [     234.74       21.32]\n [     235.81      180.09]\n [      22.88      239.07]]\n",
          "output_type": "stream"
        },
        {
          "name": "stderr",
          "text": "62it [00:18,  3.51it/s]",
          "output_type": "stream"
        },
        {
          "name": "stdout",
          "text": "\n0: 256x256 1 plate, 10.2ms\nSpeed: 1.1ms preprocess, 10.2ms inference, 1.6ms postprocess per image at shape (1, 3, 256, 256)\n[[     25.474      63.891]\n [     238.06      63.675]\n [     241.64      201.18]\n [       26.2      214.84]]\n",
          "output_type": "stream"
        },
        {
          "name": "stderr",
          "text": "63it [00:18,  3.54it/s]",
          "output_type": "stream"
        },
        {
          "name": "stdout",
          "text": "\n0: 256x256 1 plate, 10.2ms\nSpeed: 0.9ms preprocess, 10.2ms inference, 1.7ms postprocess per image at shape (1, 3, 256, 256)\n[[     35.215       89.67]\n [     209.16      28.421]\n [     223.35      142.19]\n [      41.18      220.83]]\n",
          "output_type": "stream"
        },
        {
          "name": "stderr",
          "text": "64it [00:18,  3.54it/s]",
          "output_type": "stream"
        },
        {
          "name": "stdout",
          "text": "\n0: 256x256 1 plate, 10.0ms\nSpeed: 1.0ms preprocess, 10.0ms inference, 1.6ms postprocess per image at shape (1, 3, 256, 256)\n[[     18.384      68.246]\n [     231.87      49.883]\n [     234.01      194.56]\n [     22.642      214.88]]\n",
          "output_type": "stream"
        },
        {
          "name": "stderr",
          "text": "65it [00:18,  3.55it/s]",
          "output_type": "stream"
        },
        {
          "name": "stdout",
          "text": "\n0: 256x256 1 plate, 10.2ms\nSpeed: 0.9ms preprocess, 10.2ms inference, 1.6ms postprocess per image at shape (1, 3, 256, 256)\n[[     10.065       17.52]\n [     250.47      93.337]\n [     240.95      236.38]\n [     12.976      165.64]]\n",
          "output_type": "stream"
        },
        {
          "name": "stderr",
          "text": "66it [00:19,  3.52it/s]",
          "output_type": "stream"
        },
        {
          "name": "stdout",
          "text": "\n0: 256x256 1 plate, 9.8ms\nSpeed: 0.9ms preprocess, 9.8ms inference, 1.7ms postprocess per image at shape (1, 3, 256, 256)\n[[     6.8453      40.484]\n [      248.7      61.358]\n [     241.35      228.15]\n [       12.7      203.72]]\n",
          "output_type": "stream"
        },
        {
          "name": "stderr",
          "text": "67it [00:19,  3.49it/s]",
          "output_type": "stream"
        },
        {
          "name": "stdout",
          "text": "\n0: 256x256 1 plate, 10.5ms\nSpeed: 1.0ms preprocess, 10.5ms inference, 1.7ms postprocess per image at shape (1, 3, 256, 256)\n[[      16.66      48.317]\n [     237.46       62.96]\n [     238.09      201.26]\n [     16.791      187.71]]\n",
          "output_type": "stream"
        },
        {
          "name": "stderr",
          "text": "68it [00:19,  3.49it/s]",
          "output_type": "stream"
        },
        {
          "name": "stdout",
          "text": "\n0: 256x256 1 plate, 9.7ms\nSpeed: 1.0ms preprocess, 9.7ms inference, 1.7ms postprocess per image at shape (1, 3, 256, 256)\n[[     8.7461      42.501]\n [     246.43      67.662]\n [     239.01      230.01]\n [     14.479      198.27]]\n",
          "output_type": "stream"
        },
        {
          "name": "stderr",
          "text": "69it [00:20,  3.50it/s]",
          "output_type": "stream"
        },
        {
          "name": "stdout",
          "text": "\n0: 256x256 1 plate, 10.1ms\nSpeed: 1.1ms preprocess, 10.1ms inference, 1.7ms postprocess per image at shape (1, 3, 256, 256)\n[[     32.332      56.354]\n [      228.8      11.891]\n [     245.13      167.78]\n [     43.201      227.86]]\n",
          "output_type": "stream"
        },
        {
          "name": "stderr",
          "text": "70it [00:20,  3.47it/s]",
          "output_type": "stream"
        },
        {
          "name": "stdout",
          "text": "\n0: 256x256 1 plate, 9.8ms\nSpeed: 1.0ms preprocess, 9.8ms inference, 1.6ms postprocess per image at shape (1, 3, 256, 256)\n[[     47.483       53.86]\n [     226.25      4.5942]\n [     242.87      160.23]\n [     59.925      221.57]]\n",
          "output_type": "stream"
        },
        {
          "name": "stderr",
          "text": "71it [00:20,  3.49it/s]",
          "output_type": "stream"
        },
        {
          "name": "stdout",
          "text": "\n0: 256x256 1 plate, 10.3ms\nSpeed: 0.6ms preprocess, 10.3ms inference, 1.7ms postprocess per image at shape (1, 3, 256, 256)\n[[      13.32      19.781]\n [     237.41      129.83]\n [     223.08      234.32]\n [     15.397      124.97]]\n",
          "output_type": "stream"
        },
        {
          "name": "stderr",
          "text": "72it [00:20,  3.47it/s]",
          "output_type": "stream"
        },
        {
          "name": "stdout",
          "text": "\n0: 256x256 1 plate, 10.6ms\nSpeed: 0.9ms preprocess, 10.6ms inference, 1.7ms postprocess per image at shape (1, 3, 256, 256)\n[[     17.506      58.412]\n [     236.13      78.148]\n [     239.36       216.6]\n [      20.69      205.71]]\n",
          "output_type": "stream"
        },
        {
          "name": "stderr",
          "text": "73it [00:21,  3.44it/s]",
          "output_type": "stream"
        },
        {
          "name": "stdout",
          "text": "\n0: 256x256 1 plate, 10.6ms\nSpeed: 1.0ms preprocess, 10.6ms inference, 1.7ms postprocess per image at shape (1, 3, 256, 256)\n[[     27.799      56.905]\n [     228.93      13.009]\n [     244.34       169.3]\n [     37.943      229.33]]\n",
          "output_type": "stream"
        },
        {
          "name": "stderr",
          "text": "74it [00:21,  3.47it/s]",
          "output_type": "stream"
        },
        {
          "name": "stdout",
          "text": "\n0: 256x256 1 plate, 9.9ms\nSpeed: 0.9ms preprocess, 9.9ms inference, 1.6ms postprocess per image at shape (1, 3, 256, 256)\n[[     21.686      20.084]\n [     236.69      103.43]\n [      234.7      229.11]\n [     13.972      147.36]]\n",
          "output_type": "stream"
        },
        {
          "name": "stderr",
          "text": "75it [00:21,  3.56it/s]",
          "output_type": "stream"
        },
        {
          "name": "stdout",
          "text": "\n0: 256x256 1 plate, 10.1ms\nSpeed: 1.0ms preprocess, 10.1ms inference, 1.6ms postprocess per image at shape (1, 3, 256, 256)\n[[     45.856      77.035]\n [     208.56      65.288]\n [     210.84      174.65]\n [     44.772      189.79]]\n",
          "output_type": "stream"
        },
        {
          "name": "stderr",
          "text": "76it [00:22,  3.54it/s]",
          "output_type": "stream"
        },
        {
          "name": "stdout",
          "text": "\n0: 256x256 1 plate, 10.3ms\nSpeed: 0.8ms preprocess, 10.3ms inference, 1.7ms postprocess per image at shape (1, 3, 256, 256)\n[[     61.761      84.944]\n [     197.51      17.744]\n [     217.21      121.48]\n [     70.794      200.73]]\n",
          "output_type": "stream"
        },
        {
          "name": "stderr",
          "text": "77it [00:22,  3.47it/s]",
          "output_type": "stream"
        },
        {
          "name": "stdout",
          "text": "\n0: 256x256 1 plate, 10.5ms\nSpeed: 0.6ms preprocess, 10.5ms inference, 1.7ms postprocess per image at shape (1, 3, 256, 256)\n[[     47.996      91.144]\n [     202.97      28.217]\n [     222.02      133.12]\n [     53.181      213.61]]\n",
          "output_type": "stream"
        },
        {
          "name": "stderr",
          "text": "78it [00:22,  3.44it/s]",
          "output_type": "stream"
        },
        {
          "name": "stdout",
          "text": "\n0: 256x256 1 plate, 10.7ms\nSpeed: 1.0ms preprocess, 10.7ms inference, 1.7ms postprocess per image at shape (1, 3, 256, 256)\n[[     20.456      62.177]\n [     231.53      24.844]\n [     244.76      185.48]\n [     29.773      238.79]]\n",
          "output_type": "stream"
        },
        {
          "name": "stderr",
          "text": "79it [00:22,  3.40it/s]",
          "output_type": "stream"
        },
        {
          "name": "stdout",
          "text": "\n0: 256x256 1 plate, 9.9ms\nSpeed: 1.0ms preprocess, 9.9ms inference, 1.6ms postprocess per image at shape (1, 3, 256, 256)\n[[     9.0433      40.903]\n [     239.39        77.7]\n [      241.5      226.56]\n [      2.725      196.17]]\n",
          "output_type": "stream"
        },
        {
          "name": "stderr",
          "text": "80it [00:23,  3.49it/s]",
          "output_type": "stream"
        },
        {
          "name": "stdout",
          "text": "\n0: 256x256 1 plate, 9.6ms\nSpeed: 0.9ms preprocess, 9.6ms inference, 1.6ms postprocess per image at shape (1, 3, 256, 256)\n[[      4.119      22.153]\n [     251.24      83.122]\n [     243.88      236.72]\n [     7.4563      180.21]]\n",
          "output_type": "stream"
        },
        {
          "name": "stderr",
          "text": "81it [00:23,  3.55it/s]",
          "output_type": "stream"
        },
        {
          "name": "stdout",
          "text": "\n0: 256x256 1 plate, 9.8ms\nSpeed: 0.9ms preprocess, 9.8ms inference, 1.6ms postprocess per image at shape (1, 3, 256, 256)\n[[     9.6742      27.581]\n [     246.45      106.34]\n [     241.61      242.12]\n [     13.812      137.26]]\n",
          "output_type": "stream"
        },
        {
          "name": "stderr",
          "text": "82it [00:23,  3.57it/s]",
          "output_type": "stream"
        },
        {
          "name": "stdout",
          "text": "\n0: 256x256 1 plate, 10.1ms\nSpeed: 1.0ms preprocess, 10.1ms inference, 1.8ms postprocess per image at shape (1, 3, 256, 256)\n[[     3.8718      40.339]\n [      247.1      42.699]\n [     246.67       215.4]\n [     9.9287      211.24]]\n",
          "output_type": "stream"
        },
        {
          "name": "stderr",
          "text": "83it [00:24,  3.59it/s]",
          "output_type": "stream"
        },
        {
          "name": "stdout",
          "text": "\n0: 256x256 1 plate, 11.6ms\nSpeed: 1.0ms preprocess, 11.6ms inference, 1.6ms postprocess per image at shape (1, 3, 256, 256)\n[[     4.5315      18.888]\n [     244.94      81.558]\n [     240.31      228.58]\n [      5.526      167.52]]\n",
          "output_type": "stream"
        },
        {
          "name": "stderr",
          "text": "84it [00:24,  3.59it/s]",
          "output_type": "stream"
        },
        {
          "name": "stdout",
          "text": "\n0: 256x256 1 plate, 9.8ms\nSpeed: 0.9ms preprocess, 9.8ms inference, 1.6ms postprocess per image at shape (1, 3, 256, 256)\n[[     6.2899      49.995]\n [     239.14      34.888]\n [     241.71       225.5]\n [     6.8963      240.44]]\n",
          "output_type": "stream"
        },
        {
          "name": "stderr",
          "text": "85it [00:24,  3.62it/s]",
          "output_type": "stream"
        },
        {
          "name": "stdout",
          "text": "\n0: 256x256 1 plate, 10.1ms\nSpeed: 1.1ms preprocess, 10.1ms inference, 1.7ms postprocess per image at shape (1, 3, 256, 256)\n[[     18.873      55.454]\n [     239.32      68.891]\n [     236.79       198.8]\n [     18.302      194.37]]\n",
          "output_type": "stream"
        },
        {
          "name": "stderr",
          "text": "86it [00:24,  3.63it/s]",
          "output_type": "stream"
        },
        {
          "name": "stdout",
          "text": "\n0: 256x256 1 plate, 10.2ms\nSpeed: 1.0ms preprocess, 10.2ms inference, 1.6ms postprocess per image at shape (1, 3, 256, 256)\n[[     14.256      57.526]\n [     238.62      61.355]\n [     242.33       215.7]\n [     15.044      208.59]]\n",
          "output_type": "stream"
        },
        {
          "name": "stderr",
          "text": "87it [00:25,  3.60it/s]",
          "output_type": "stream"
        },
        {
          "name": "stdout",
          "text": "\n0: 256x256 1 plate, 9.5ms\nSpeed: 0.9ms preprocess, 9.5ms inference, 1.6ms postprocess per image at shape (1, 3, 256, 256)\n[[     11.787      17.448]\n [     243.81         116]\n [      232.9      237.54]\n [     14.638      143.47]]\n",
          "output_type": "stream"
        },
        {
          "name": "stderr",
          "text": "88it [00:25,  3.59it/s]",
          "output_type": "stream"
        },
        {
          "name": "stdout",
          "text": "\n0: 256x256 1 plate, 9.6ms\nSpeed: 0.9ms preprocess, 9.6ms inference, 1.6ms postprocess per image at shape (1, 3, 256, 256)\n[[     86.598      77.559]\n [     226.92      30.779]\n [     232.22      179.27]\n [     92.919      225.78]]\n",
          "output_type": "stream"
        },
        {
          "name": "stderr",
          "text": "89it [00:25,  3.60it/s]",
          "output_type": "stream"
        },
        {
          "name": "stdout",
          "text": "\n0: 256x256 1 plate, 9.7ms\nSpeed: 0.9ms preprocess, 9.7ms inference, 1.6ms postprocess per image at shape (1, 3, 256, 256)\n[[     7.6618       12.77]\n [     244.29      100.34]\n [     236.63      232.04]\n [      10.36      154.09]]\n",
          "output_type": "stream"
        },
        {
          "name": "stderr",
          "text": "90it [00:26,  3.59it/s]",
          "output_type": "stream"
        },
        {
          "name": "stdout",
          "text": "\n0: 256x256 1 plate, 14.6ms\nSpeed: 1.2ms preprocess, 14.6ms inference, 2.7ms postprocess per image at shape (1, 3, 256, 256)\n[[     12.491      30.632]\n [     248.82      98.684]\n [     234.87       238.8]\n [     16.298      168.93]]\n",
          "output_type": "stream"
        },
        {
          "name": "stderr",
          "text": "91it [00:26,  3.40it/s]",
          "output_type": "stream"
        },
        {
          "name": "stdout",
          "text": "\n0: 256x256 1 plate, 10.5ms\nSpeed: 1.1ms preprocess, 10.5ms inference, 1.7ms postprocess per image at shape (1, 3, 256, 256)\n[[     10.634      51.303]\n [     233.92      48.478]\n [     241.01      201.39]\n [       8.87       207.5]]\n",
          "output_type": "stream"
        },
        {
          "name": "stderr",
          "text": "92it [00:26,  3.29it/s]",
          "output_type": "stream"
        },
        {
          "name": "stdout",
          "text": "\n0: 256x256 1 plate, 10.5ms\nSpeed: 1.0ms preprocess, 10.5ms inference, 1.7ms postprocess per image at shape (1, 3, 256, 256)\n[[     30.683      70.127]\n [     224.35      94.635]\n [     229.58      206.93]\n [     30.389      188.66]]\n",
          "output_type": "stream"
        },
        {
          "name": "stderr",
          "text": "93it [00:26,  3.36it/s]",
          "output_type": "stream"
        },
        {
          "name": "stdout",
          "text": "\n0: 256x256 1 plate, 13.2ms\nSpeed: 1.1ms preprocess, 13.2ms inference, 2.2ms postprocess per image at shape (1, 3, 256, 256)\n[[     4.5895      16.919]\n [     250.29      64.965]\n [     242.68      244.79]\n [          0      196.81]]\n",
          "output_type": "stream"
        },
        {
          "name": "stderr",
          "text": "94it [00:27,  3.39it/s]",
          "output_type": "stream"
        },
        {
          "name": "stdout",
          "text": "\n0: 256x256 1 plate, 10.2ms\nSpeed: 1.0ms preprocess, 10.2ms inference, 1.7ms postprocess per image at shape (1, 3, 256, 256)\n[[     32.817      118.72]\n [      182.6      59.507]\n [     185.97      153.29]\n [     29.816      214.57]]\n",
          "output_type": "stream"
        },
        {
          "name": "stderr",
          "text": "95it [00:27,  3.42it/s]",
          "output_type": "stream"
        },
        {
          "name": "stdout",
          "text": "\n0: 256x256 1 plate, 9.9ms\nSpeed: 1.0ms preprocess, 9.9ms inference, 1.6ms postprocess per image at shape (1, 3, 256, 256)\n[[     7.7638      48.874]\n [     249.11      59.092]\n [     247.84      224.71]\n [     13.558      216.89]]\n",
          "output_type": "stream"
        },
        {
          "name": "stderr",
          "text": "96it [00:27,  3.47it/s]",
          "output_type": "stream"
        },
        {
          "name": "stdout",
          "text": "\n0: 256x256 1 plate, 10.3ms\nSpeed: 0.8ms preprocess, 10.3ms inference, 1.6ms postprocess per image at shape (1, 3, 256, 256)\n[[     18.386      19.803]\n [     249.83      104.63]\n [     240.42      241.18]\n [     25.489      131.87]]\n",
          "output_type": "stream"
        },
        {
          "name": "stderr",
          "text": "97it [00:28,  3.51it/s]",
          "output_type": "stream"
        },
        {
          "name": "stdout",
          "text": "\n0: 256x256 1 plate, 11.7ms\nSpeed: 0.9ms preprocess, 11.7ms inference, 1.8ms postprocess per image at shape (1, 3, 256, 256)\n[[      12.45      63.038]\n [     234.64      62.058]\n [     241.29      207.26]\n [     17.132      220.14]]\n",
          "output_type": "stream"
        },
        {
          "name": "stderr",
          "text": "98it [00:28,  3.52it/s]",
          "output_type": "stream"
        },
        {
          "name": "stdout",
          "text": "\n0: 256x256 1 plate, 9.9ms\nSpeed: 0.9ms preprocess, 9.9ms inference, 1.6ms postprocess per image at shape (1, 3, 256, 256)\n[[     13.654      56.756]\n [     238.31      35.724]\n [     246.22      192.44]\n [     19.808      221.83]]\n",
          "output_type": "stream"
        },
        {
          "name": "stderr",
          "text": "99it [00:28,  3.50it/s]",
          "output_type": "stream"
        },
        {
          "name": "stdout",
          "text": "\n0: 256x256 1 plate, 9.8ms\nSpeed: 0.9ms preprocess, 9.8ms inference, 1.6ms postprocess per image at shape (1, 3, 256, 256)\n[[     6.1593      24.032]\n [     238.62      103.76]\n [     235.43      221.41]\n [     3.5336      143.75]]\n",
          "output_type": "stream"
        },
        {
          "name": "stderr",
          "text": "100it [00:28,  3.49it/s]",
          "output_type": "stream"
        },
        {
          "name": "stdout",
          "text": "\n0: 256x256 1 plate, 9.8ms\nSpeed: 0.9ms preprocess, 9.8ms inference, 1.7ms postprocess per image at shape (1, 3, 256, 256)\n[[     18.096      71.785]\n [     235.54      49.916]\n [     237.69       188.7]\n [     19.838       215.8]]\n",
          "output_type": "stream"
        },
        {
          "name": "stderr",
          "text": "101it [00:29,  3.51it/s]",
          "output_type": "stream"
        },
        {
          "name": "stdout",
          "text": "\n0: 256x256 1 plate, 9.7ms\nSpeed: 1.0ms preprocess, 9.7ms inference, 1.6ms postprocess per image at shape (1, 3, 256, 256)\n[[      4.749      44.419]\n [     244.44      24.994]\n [     245.22       210.4]\n [     13.751      233.77]]\n",
          "output_type": "stream"
        },
        {
          "name": "stderr",
          "text": "102it [00:29,  3.53it/s]",
          "output_type": "stream"
        },
        {
          "name": "stdout",
          "text": "\n0: 256x256 1 plate, 10.1ms\nSpeed: 1.0ms preprocess, 10.1ms inference, 1.7ms postprocess per image at shape (1, 3, 256, 256)\n[[     4.1686      42.454]\n [     252.58      57.372]\n [     246.45      228.47]\n [     11.185      213.88]]\n",
          "output_type": "stream"
        },
        {
          "name": "stderr",
          "text": "103it [00:29,  3.39it/s]",
          "output_type": "stream"
        },
        {
          "name": "stdout",
          "text": "\n0: 256x256 1 plate, 10.7ms\nSpeed: 1.0ms preprocess, 10.7ms inference, 1.8ms postprocess per image at shape (1, 3, 256, 256)\n[[     9.3552      46.405]\n [     237.71      56.441]\n [     243.64      220.55]\n [     4.9508      213.68]]\n",
          "output_type": "stream"
        },
        {
          "name": "stderr",
          "text": "104it [00:30,  3.33it/s]",
          "output_type": "stream"
        },
        {
          "name": "stdout",
          "text": "\n0: 256x256 1 plate, 9.7ms\nSpeed: 0.9ms preprocess, 9.7ms inference, 1.6ms postprocess per image at shape (1, 3, 256, 256)\n[[      9.569      20.193]\n [     243.34      99.329]\n [     233.31      235.28]\n [     13.197      155.55]]\n",
          "output_type": "stream"
        },
        {
          "name": "stderr",
          "text": "105it [00:30,  3.35it/s]",
          "output_type": "stream"
        },
        {
          "name": "stdout",
          "text": "\n0: 256x256 1 plate, 10.0ms\nSpeed: 1.0ms preprocess, 10.0ms inference, 1.6ms postprocess per image at shape (1, 3, 256, 256)\n[[     9.0446       29.71]\n [        248      102.47]\n [     235.86      238.34]\n [     11.751      166.28]]\n",
          "output_type": "stream"
        },
        {
          "name": "stderr",
          "text": "106it [00:30,  3.42it/s]",
          "output_type": "stream"
        },
        {
          "name": "stdout",
          "text": "\n0: 256x256 1 plate, 10.7ms\nSpeed: 1.0ms preprocess, 10.7ms inference, 1.7ms postprocess per image at shape (1, 3, 256, 256)\n[[     8.2588      49.534]\n [     248.47      41.325]\n [      252.2      206.66]\n [     15.189      219.08]]\n",
          "output_type": "stream"
        },
        {
          "name": "stderr",
          "text": "107it [00:30,  3.50it/s]",
          "output_type": "stream"
        },
        {
          "name": "stdout",
          "text": "\n0: 256x256 1 plate, 10.0ms\nSpeed: 1.0ms preprocess, 10.0ms inference, 1.6ms postprocess per image at shape (1, 3, 256, 256)\n[[      34.03      67.649]\n [     223.34      11.251]\n [     223.71      181.78]\n [       37.4      231.11]]\n",
          "output_type": "stream"
        },
        {
          "name": "stderr",
          "text": "108it [00:31,  3.54it/s]",
          "output_type": "stream"
        },
        {
          "name": "stdout",
          "text": "\n0: 256x256 1 plate, 9.8ms\nSpeed: 0.9ms preprocess, 9.8ms inference, 1.6ms postprocess per image at shape (1, 3, 256, 256)\n[[      80.56      121.84]\n [     191.36      50.333]\n [     203.71      139.28]\n [     93.564      198.81]]\n",
          "output_type": "stream"
        },
        {
          "name": "stderr",
          "text": "109it [00:31,  3.53it/s]",
          "output_type": "stream"
        },
        {
          "name": "stdout",
          "text": "\n0: 256x256 1 plate, 10.7ms\nSpeed: 1.0ms preprocess, 10.7ms inference, 1.9ms postprocess per image at shape (1, 3, 256, 256)\n[[     101.46      53.258]\n [     220.15           0]\n [     240.69      140.51]\n [     113.83      197.82]]\n",
          "output_type": "stream"
        },
        {
          "name": "stderr",
          "text": "110it [00:31,  3.58it/s]",
          "output_type": "stream"
        },
        {
          "name": "stdout",
          "text": "\n0: 256x256 1 plate, 10.2ms\nSpeed: 0.9ms preprocess, 10.2ms inference, 1.6ms postprocess per image at shape (1, 3, 256, 256)\n[[     13.257      64.912]\n [     230.84      44.667]\n [     237.75      197.44]\n [     15.155      222.28]]\n",
          "output_type": "stream"
        },
        {
          "name": "stderr",
          "text": "111it [00:32,  3.60it/s]",
          "output_type": "stream"
        },
        {
          "name": "stdout",
          "text": "\n0: 256x256 1 plate, 10.6ms\nSpeed: 0.8ms preprocess, 10.6ms inference, 1.6ms postprocess per image at shape (1, 3, 256, 256)\n[[     27.442      32.288]\n [     241.06      132.93]\n [     239.38      241.63]\n [     30.831      116.96]]\n",
          "output_type": "stream"
        },
        {
          "name": "stderr",
          "text": "112it [00:32,  3.62it/s]",
          "output_type": "stream"
        },
        {
          "name": "stdout",
          "text": "\n0: 256x256 1 plate, 9.7ms\nSpeed: 1.0ms preprocess, 9.7ms inference, 1.6ms postprocess per image at shape (1, 3, 256, 256)\n[[     15.357      15.113]\n [     241.36      123.93]\n [     234.85      243.09]\n [     6.1969      140.99]]\n",
          "output_type": "stream"
        },
        {
          "name": "stderr",
          "text": "113it [00:32,  3.62it/s]",
          "output_type": "stream"
        },
        {
          "name": "stdout",
          "text": "\n0: 256x256 1 plate, 9.7ms\nSpeed: 0.6ms preprocess, 9.7ms inference, 1.6ms postprocess per image at shape (1, 3, 256, 256)\n[[     4.5149      45.794]\n [     247.85      46.026]\n [     247.93      213.04]\n [     11.569      212.72]]\n",
          "output_type": "stream"
        },
        {
          "name": "stderr",
          "text": "114it [00:32,  3.58it/s]",
          "output_type": "stream"
        },
        {
          "name": "stdout",
          "text": "\n0: 256x256 1 plate, 10.1ms\nSpeed: 1.0ms preprocess, 10.1ms inference, 1.6ms postprocess per image at shape (1, 3, 256, 256)\n[[     151.05      49.685]\n [     195.95      19.938]\n [     214.01      118.98]\n [     159.79      148.43]]\n",
          "output_type": "stream"
        },
        {
          "name": "stderr",
          "text": "115it [00:33,  3.57it/s]",
          "output_type": "stream"
        },
        {
          "name": "stdout",
          "text": "\n0: 256x256 1 plate, 10.2ms\nSpeed: 1.0ms preprocess, 10.2ms inference, 1.6ms postprocess per image at shape (1, 3, 256, 256)\n[[     6.1805      45.194]\n [     247.81      51.825]\n [      244.1      218.26]\n [     12.117      212.22]]\n",
          "output_type": "stream"
        },
        {
          "name": "stderr",
          "text": "116it [00:33,  3.56it/s]",
          "output_type": "stream"
        },
        {
          "name": "stdout",
          "text": "\n0: 256x256 1 plate, 9.9ms\nSpeed: 1.0ms preprocess, 9.9ms inference, 1.6ms postprocess per image at shape (1, 3, 256, 256)\n[[          0           0]\n [          0           0]\n [          0           0]\n [          0           0]]\n",
          "output_type": "stream"
        },
        {
          "name": "stderr",
          "text": "117it [00:33,  3.57it/s]",
          "output_type": "stream"
        },
        {
          "name": "stdout",
          "text": "\n0: 256x256 1 plate, 10.0ms\nSpeed: 1.0ms preprocess, 10.0ms inference, 1.6ms postprocess per image at shape (1, 3, 256, 256)\n[[       20.1       69.73]\n [     229.88      69.113]\n [     234.64      203.78]\n [     24.745      211.41]]\n",
          "output_type": "stream"
        },
        {
          "name": "stderr",
          "text": "118it [00:34,  3.60it/s]",
          "output_type": "stream"
        },
        {
          "name": "stdout",
          "text": "\n0: 256x256 1 plate, 10.0ms\nSpeed: 1.0ms preprocess, 10.0ms inference, 1.6ms postprocess per image at shape (1, 3, 256, 256)\n[[     10.181      47.959]\n [     244.63      50.912]\n [     246.07      208.07]\n [     12.555       206.2]]\n",
          "output_type": "stream"
        },
        {
          "name": "stderr",
          "text": "119it [00:34,  3.62it/s]",
          "output_type": "stream"
        },
        {
          "name": "stdout",
          "text": "\n0: 256x256 1 plate, 9.9ms\nSpeed: 0.9ms preprocess, 9.9ms inference, 1.6ms postprocess per image at shape (1, 3, 256, 256)\n[[      12.97      7.0932]\n [     241.17      127.09]\n [     232.76       245.6]\n [     2.0759      124.32]]\n",
          "output_type": "stream"
        },
        {
          "name": "stderr",
          "text": "120it [00:34,  3.60it/s]",
          "output_type": "stream"
        },
        {
          "name": "stdout",
          "text": "\n0: 256x256 1 plate, 9.7ms\nSpeed: 1.0ms preprocess, 9.7ms inference, 1.6ms postprocess per image at shape (1, 3, 256, 256)\n[[     20.985      80.204]\n [     235.08       27.53]\n [     232.44       178.8]\n [      22.47      235.35]]\n",
          "output_type": "stream"
        },
        {
          "name": "stderr",
          "text": "121it [00:34,  3.61it/s]",
          "output_type": "stream"
        },
        {
          "name": "stdout",
          "text": "\n0: 256x256 1 plate, 9.7ms\nSpeed: 0.9ms preprocess, 9.7ms inference, 1.6ms postprocess per image at shape (1, 3, 256, 256)\n[[     34.957      87.282]\n [     210.13       18.73]\n [     224.55      143.52]\n [      43.23      224.56]]\n",
          "output_type": "stream"
        },
        {
          "name": "stderr",
          "text": "122it [00:35,  3.60it/s]",
          "output_type": "stream"
        },
        {
          "name": "stdout",
          "text": "\n0: 256x256 1 plate, 10.0ms\nSpeed: 0.9ms preprocess, 10.0ms inference, 1.8ms postprocess per image at shape (1, 3, 256, 256)\n[[     12.468      22.903]\n [     243.48      55.593]\n [     240.44       238.4]\n [     6.9021      205.87]]\n",
          "output_type": "stream"
        },
        {
          "name": "stderr",
          "text": "123it [00:35,  3.64it/s]",
          "output_type": "stream"
        },
        {
          "name": "stdout",
          "text": "\n0: 256x256 1 plate, 9.8ms\nSpeed: 0.9ms preprocess, 9.8ms inference, 1.6ms postprocess per image at shape (1, 3, 256, 256)\n[[     47.215       115.9]\n [     203.94      44.117]\n [     209.58      146.39]\n [     58.895      211.23]]\n",
          "output_type": "stream"
        },
        {
          "name": "stderr",
          "text": "124it [00:35,  3.59it/s]",
          "output_type": "stream"
        },
        {
          "name": "stdout",
          "text": "\n0: 256x256 1 plate, 9.9ms\nSpeed: 1.0ms preprocess, 9.9ms inference, 1.6ms postprocess per image at shape (1, 3, 256, 256)\n[[      23.12      14.716]\n [     240.86      131.32]\n [     235.47      249.18]\n [     15.742      134.53]]\n",
          "output_type": "stream"
        },
        {
          "name": "stderr",
          "text": "125it [00:35,  3.61it/s]",
          "output_type": "stream"
        },
        {
          "name": "stdout",
          "text": "\n0: 256x256 1 plate, 9.7ms\nSpeed: 1.0ms preprocess, 9.7ms inference, 1.6ms postprocess per image at shape (1, 3, 256, 256)\n[[     25.492      83.041]\n [     229.49      53.957]\n [     233.12      184.68]\n [     34.985      221.39]]\n",
          "output_type": "stream"
        },
        {
          "name": "stderr",
          "text": "126it [00:36,  3.57it/s]",
          "output_type": "stream"
        },
        {
          "name": "stdout",
          "text": "\n0: 256x256 1 plate, 12.1ms\nSpeed: 0.8ms preprocess, 12.1ms inference, 1.7ms postprocess per image at shape (1, 3, 256, 256)\n[[      10.84      5.7962]\n [     239.44      120.94]\n [      230.3      244.78]\n [          0      130.51]]\n",
          "output_type": "stream"
        },
        {
          "name": "stderr",
          "text": "127it [00:36,  3.48it/s]",
          "output_type": "stream"
        },
        {
          "name": "stdout",
          "text": "\n0: 256x256 1 plate, 9.9ms\nSpeed: 1.0ms preprocess, 9.9ms inference, 1.6ms postprocess per image at shape (1, 3, 256, 256)\n[[     25.101      31.335]\n [     226.34      109.09]\n [     228.46      229.59]\n [     18.974         151]]\n",
          "output_type": "stream"
        },
        {
          "name": "stderr",
          "text": "128it [00:36,  3.53it/s]",
          "output_type": "stream"
        },
        {
          "name": "stdout",
          "text": "\n0: 256x256 1 plate, 10.1ms\nSpeed: 1.0ms preprocess, 10.1ms inference, 1.8ms postprocess per image at shape (1, 3, 256, 256)\n[[     13.148      60.576]\n [     243.05      53.427]\n [     245.13      212.67]\n [     18.788      228.95]]\n",
          "output_type": "stream"
        },
        {
          "name": "stderr",
          "text": "129it [00:37,  3.52it/s]",
          "output_type": "stream"
        },
        {
          "name": "stdout",
          "text": "\n0: 256x256 1 plate, 10.0ms\nSpeed: 1.0ms preprocess, 10.0ms inference, 1.6ms postprocess per image at shape (1, 3, 256, 256)\n[[     215.43      44.077]\n [     43.834      109.99]\n [          0           0]\n [     219.73      119.44]]\n",
          "output_type": "stream"
        },
        {
          "name": "stderr",
          "text": "130it [00:37,  3.59it/s]",
          "output_type": "stream"
        },
        {
          "name": "stdout",
          "text": "\n0: 256x256 1 plate, 9.8ms\nSpeed: 0.9ms preprocess, 9.8ms inference, 1.6ms postprocess per image at shape (1, 3, 256, 256)\n[[     23.988      29.392]\n [     231.13      82.285]\n [     233.84      220.02]\n [     19.899      166.43]]\n",
          "output_type": "stream"
        },
        {
          "name": "stderr",
          "text": "131it [00:37,  3.57it/s]",
          "output_type": "stream"
        },
        {
          "name": "stdout",
          "text": "\n0: 256x256 1 plate, 9.9ms\nSpeed: 1.0ms preprocess, 9.9ms inference, 1.6ms postprocess per image at shape (1, 3, 256, 256)\n[[     28.262      87.991]\n [     213.51      22.388]\n [     223.78      157.41]\n [     35.791      234.66]]\n",
          "output_type": "stream"
        },
        {
          "name": "stderr",
          "text": "132it [00:37,  3.60it/s]",
          "output_type": "stream"
        },
        {
          "name": "stdout",
          "text": "\n0: 256x256 1 plate, 10.0ms\nSpeed: 0.9ms preprocess, 10.0ms inference, 1.6ms postprocess per image at shape (1, 3, 256, 256)\n[[     9.8531      23.067]\n [     242.37      89.143]\n [     236.74      229.23]\n [     11.775      161.38]]\n",
          "output_type": "stream"
        },
        {
          "name": "stderr",
          "text": "133it [00:38,  3.63it/s]",
          "output_type": "stream"
        },
        {
          "name": "stdout",
          "text": "\n0: 256x256 1 plate, 10.0ms\nSpeed: 1.0ms preprocess, 10.0ms inference, 1.7ms postprocess per image at shape (1, 3, 256, 256)\n[[     10.572      44.334]\n [      240.7       48.04]\n [     242.58      206.71]\n [     17.161      203.92]]\n",
          "output_type": "stream"
        },
        {
          "name": "stderr",
          "text": "134it [00:38,  3.61it/s]",
          "output_type": "stream"
        },
        {
          "name": "stdout",
          "text": "\n0: 256x256 1 plate, 9.7ms\nSpeed: 1.0ms preprocess, 9.7ms inference, 1.6ms postprocess per image at shape (1, 3, 256, 256)\n[[     20.577      76.163]\n [     235.34      27.989]\n [     233.56       183.4]\n [     23.947      236.59]]\n",
          "output_type": "stream"
        },
        {
          "name": "stderr",
          "text": "135it [00:38,  3.60it/s]",
          "output_type": "stream"
        },
        {
          "name": "stdout",
          "text": "\n0: 256x256 1 plate, 9.8ms\nSpeed: 0.9ms preprocess, 9.8ms inference, 1.6ms postprocess per image at shape (1, 3, 256, 256)\n[[     14.823       79.15]\n [     231.59      22.548]\n [      234.2      174.22]\n [     23.863      237.52]]\n",
          "output_type": "stream"
        },
        {
          "name": "stderr",
          "text": "136it [00:39,  3.60it/s]",
          "output_type": "stream"
        },
        {
          "name": "stdout",
          "text": "\n0: 256x256 1 plate, 10.2ms\nSpeed: 1.0ms preprocess, 10.2ms inference, 1.6ms postprocess per image at shape (1, 3, 256, 256)\n[[     25.479      89.481]\n [     216.93      30.971]\n [     228.44      150.74]\n [     31.979      224.91]]\n",
          "output_type": "stream"
        },
        {
          "name": "stderr",
          "text": "137it [00:39,  3.61it/s]",
          "output_type": "stream"
        },
        {
          "name": "stdout",
          "text": "\n0: 256x256 1 plate, 10.4ms\nSpeed: 1.0ms preprocess, 10.4ms inference, 1.6ms postprocess per image at shape (1, 3, 256, 256)\n[[     24.394      85.878]\n [     221.38      29.581]\n [     230.85      156.17]\n [     31.113      225.95]]\n",
          "output_type": "stream"
        },
        {
          "name": "stderr",
          "text": "138it [00:39,  3.55it/s]",
          "output_type": "stream"
        },
        {
          "name": "stdout",
          "text": "\n0: 256x256 1 plate, 9.6ms\nSpeed: 0.9ms preprocess, 9.6ms inference, 1.6ms postprocess per image at shape (1, 3, 256, 256)\n[[      46.73      96.065]\n [     217.26      18.163]\n [     223.54      151.73]\n [      48.83      223.97]]\n",
          "output_type": "stream"
        },
        {
          "name": "stderr",
          "text": "139it [00:39,  3.60it/s]",
          "output_type": "stream"
        },
        {
          "name": "stdout",
          "text": "\n0: 256x256 1 plate, 9.7ms\nSpeed: 0.9ms preprocess, 9.7ms inference, 1.6ms postprocess per image at shape (1, 3, 256, 256)\n[[     9.6094      54.395]\n [      241.6      49.558]\n [     243.21      213.12]\n [     14.166         219]]\n",
          "output_type": "stream"
        },
        {
          "name": "stderr",
          "text": "140it [00:40,  3.59it/s]",
          "output_type": "stream"
        },
        {
          "name": "stdout",
          "text": "\n0: 256x256 1 plate, 9.8ms\nSpeed: 1.0ms preprocess, 9.8ms inference, 1.6ms postprocess per image at shape (1, 3, 256, 256)\n[[     6.5032      22.091]\n [     252.92      94.933]\n [     243.57      239.35]\n [     8.8193      173.01]]\n",
          "output_type": "stream"
        },
        {
          "name": "stderr",
          "text": "141it [00:40,  3.62it/s]",
          "output_type": "stream"
        },
        {
          "name": "stdout",
          "text": "\n0: 256x256 1 plate, 10.0ms\nSpeed: 1.0ms preprocess, 10.0ms inference, 1.6ms postprocess per image at shape (1, 3, 256, 256)\n[[      20.68      30.774]\n [      240.8      128.65]\n [     238.44      247.51]\n [      21.64      125.36]]\n",
          "output_type": "stream"
        },
        {
          "name": "stderr",
          "text": "142it [00:40,  3.49it/s]",
          "output_type": "stream"
        },
        {
          "name": "stdout",
          "text": "\n0: 256x256 1 plate, 10.2ms\nSpeed: 0.9ms preprocess, 10.2ms inference, 1.6ms postprocess per image at shape (1, 3, 256, 256)\n[[      15.42      25.319]\n [     239.67      121.29]\n [     237.75      240.42]\n [     19.144      116.16]]\n",
          "output_type": "stream"
        },
        {
          "name": "stderr",
          "text": "143it [00:41,  3.46it/s]",
          "output_type": "stream"
        },
        {
          "name": "stdout",
          "text": "\n0: 256x256 1 plate, 9.6ms\nSpeed: 0.9ms preprocess, 9.6ms inference, 1.6ms postprocess per image at shape (1, 3, 256, 256)\n[[     14.544      35.826]\n [     237.99      66.426]\n [     239.77      226.72]\n [     9.9408      199.28]]\n",
          "output_type": "stream"
        },
        {
          "name": "stderr",
          "text": "144it [00:41,  3.48it/s]",
          "output_type": "stream"
        },
        {
          "name": "stdout",
          "text": "\n0: 256x256 1 plate, 9.7ms\nSpeed: 0.9ms preprocess, 9.7ms inference, 1.6ms postprocess per image at shape (1, 3, 256, 256)\n[[     2.8808      35.047]\n [     249.61      34.658]\n [     244.15      223.61]\n [     10.875      229.67]]\n",
          "output_type": "stream"
        },
        {
          "name": "stderr",
          "text": "145it [00:41,  3.47it/s]",
          "output_type": "stream"
        },
        {
          "name": "stdout",
          "text": "\n0: 256x256 1 plate, 10.2ms\nSpeed: 1.0ms preprocess, 10.2ms inference, 1.6ms postprocess per image at shape (1, 3, 256, 256)\n[[     22.046      74.531]\n [     234.48      45.359]\n [     233.81      189.04]\n [     23.565      224.02]]\n",
          "output_type": "stream"
        },
        {
          "name": "stderr",
          "text": "146it [00:41,  3.54it/s]",
          "output_type": "stream"
        },
        {
          "name": "stdout",
          "text": "\n0: 256x256 1 plate, 10.0ms\nSpeed: 1.0ms preprocess, 10.0ms inference, 1.6ms postprocess per image at shape (1, 3, 256, 256)\n[[     12.571       33.86]\n [      230.9      58.902]\n [     232.69      223.61]\n [     11.054      200.02]]\n",
          "output_type": "stream"
        },
        {
          "name": "stderr",
          "text": "147it [00:42,  3.57it/s]",
          "output_type": "stream"
        },
        {
          "name": "stdout",
          "text": "\n0: 256x256 1 plate, 10.2ms\nSpeed: 1.0ms preprocess, 10.2ms inference, 1.6ms postprocess per image at shape (1, 3, 256, 256)\n[[     77.742      111.45]\n [     149.97      66.283]\n [     172.78      116.59]\n [      77.38       162.8]]\n",
          "output_type": "stream"
        },
        {
          "name": "stderr",
          "text": "148it [00:42,  3.60it/s]",
          "output_type": "stream"
        },
        {
          "name": "stdout",
          "text": "\n0: 256x256 1 plate, 9.9ms\nSpeed: 0.6ms preprocess, 9.9ms inference, 1.6ms postprocess per image at shape (1, 3, 256, 256)\n[[     16.442      23.738]\n [     223.34      123.18]\n [     212.81      223.01]\n [     15.646      119.94]]\n",
          "output_type": "stream"
        },
        {
          "name": "stderr",
          "text": "149it [00:42,  3.56it/s]",
          "output_type": "stream"
        },
        {
          "name": "stdout",
          "text": "\n0: 256x256 1 plate, 10.0ms\nSpeed: 0.6ms preprocess, 10.0ms inference, 1.6ms postprocess per image at shape (1, 3, 256, 256)\n[[     16.369      59.936]\n [      237.6      54.861]\n [     239.17      197.55]\n [     19.473      208.01]]\n",
          "output_type": "stream"
        },
        {
          "name": "stderr",
          "text": "150it [00:43,  3.59it/s]",
          "output_type": "stream"
        },
        {
          "name": "stdout",
          "text": "\n0: 256x256 1 plate, 9.9ms\nSpeed: 0.9ms preprocess, 9.9ms inference, 1.6ms postprocess per image at shape (1, 3, 256, 256)\n[[     5.3739      45.952]\n [     253.76      40.307]\n [     252.47      216.39]\n [     13.532       226.2]]\n",
          "output_type": "stream"
        },
        {
          "name": "stderr",
          "text": "151it [00:43,  3.62it/s]",
          "output_type": "stream"
        },
        {
          "name": "stdout",
          "text": "\n0: 256x256 1 plate, 10.0ms\nSpeed: 0.8ms preprocess, 10.0ms inference, 1.6ms postprocess per image at shape (1, 3, 256, 256)\n[[     3.0989       28.51]\n [     244.66      44.096]\n [     241.51      239.23]\n [          0      225.56]]\n",
          "output_type": "stream"
        },
        {
          "name": "stderr",
          "text": "152it [00:43,  3.62it/s]",
          "output_type": "stream"
        },
        {
          "name": "stdout",
          "text": "\n0: 256x256 1 plate, 11.1ms\nSpeed: 0.9ms preprocess, 11.1ms inference, 1.7ms postprocess per image at shape (1, 3, 256, 256)\n[[     9.3446      3.6259]\n [     245.37      122.31]\n [        234      251.09]\n [          0       134.7]]\n",
          "output_type": "stream"
        },
        {
          "name": "stderr",
          "text": "153it [00:43,  3.59it/s]",
          "output_type": "stream"
        },
        {
          "name": "stdout",
          "text": "\n0: 256x256 1 plate, 10.1ms\nSpeed: 0.8ms preprocess, 10.1ms inference, 1.6ms postprocess per image at shape (1, 3, 256, 256)\n[[          0           0]\n [     228.48      151.44]\n [     225.97      232.87]\n [          0           0]]\n",
          "output_type": "stream"
        },
        {
          "name": "stderr",
          "text": "154it [00:44,  3.61it/s]",
          "output_type": "stream"
        },
        {
          "name": "stdout",
          "text": "\n0: 256x256 1 plate, 10.1ms\nSpeed: 0.8ms preprocess, 10.1ms inference, 1.7ms postprocess per image at shape (1, 3, 256, 256)\n[[     100.81      95.514]\n [     214.64      23.834]\n [     225.97      142.21]\n [     116.24      201.72]]\n",
          "output_type": "stream"
        },
        {
          "name": "stderr",
          "text": "155it [00:44,  3.61it/s]",
          "output_type": "stream"
        },
        {
          "name": "stdout",
          "text": "\n0: 256x256 1 plate, 9.9ms\nSpeed: 0.9ms preprocess, 9.9ms inference, 1.6ms postprocess per image at shape (1, 3, 256, 256)\n[[     10.096      8.1361]\n [     244.66      103.59]\n [     235.16      242.42]\n [    0.89124       148.2]]\n",
          "output_type": "stream"
        },
        {
          "name": "stderr",
          "text": "156it [00:44,  3.58it/s]",
          "output_type": "stream"
        },
        {
          "name": "stdout",
          "text": "\n0: 256x256 1 plate, 10.5ms\nSpeed: 0.8ms preprocess, 10.5ms inference, 1.7ms postprocess per image at shape (1, 3, 256, 256)\n[[     54.983      40.606]\n [     233.91      150.36]\n [     233.98      244.68]\n [     59.861      120.78]]\n",
          "output_type": "stream"
        },
        {
          "name": "stderr",
          "text": "157it [00:44,  3.59it/s]",
          "output_type": "stream"
        },
        {
          "name": "stdout",
          "text": "\n0: 256x256 1 plate, 10.1ms\nSpeed: 1.0ms preprocess, 10.1ms inference, 1.6ms postprocess per image at shape (1, 3, 256, 256)\n[[     45.749      47.714]\n [     231.73     0.33987]\n [     246.35      161.66]\n [     59.148      219.16]]\n",
          "output_type": "stream"
        },
        {
          "name": "stderr",
          "text": "158it [00:45,  3.56it/s]",
          "output_type": "stream"
        },
        {
          "name": "stdout",
          "text": "\n0: 256x256 1 plate, 10.0ms\nSpeed: 1.1ms preprocess, 10.0ms inference, 1.6ms postprocess per image at shape (1, 3, 256, 256)\n[[     12.929      27.035]\n [     240.83      99.389]\n [     231.85      221.82]\n [     12.776      151.98]]\n",
          "output_type": "stream"
        },
        {
          "name": "stderr",
          "text": "159it [00:45,  3.62it/s]",
          "output_type": "stream"
        },
        {
          "name": "stdout",
          "text": "\n0: 256x256 1 plate, 9.7ms\nSpeed: 0.9ms preprocess, 9.7ms inference, 1.6ms postprocess per image at shape (1, 3, 256, 256)\n[[     19.181      73.993]\n [      218.1      74.695]\n [     223.29      192.09]\n [      20.23      195.63]]\n",
          "output_type": "stream"
        },
        {
          "name": "stderr",
          "text": "160it [00:45,  3.61it/s]",
          "output_type": "stream"
        },
        {
          "name": "stdout",
          "text": "\n0: 256x256 1 plate, 10.0ms\nSpeed: 0.8ms preprocess, 10.0ms inference, 1.6ms postprocess per image at shape (1, 3, 256, 256)\n[[          0      33.448]\n [     251.45      32.462]\n [     249.42      216.85]\n [      6.393      216.46]]\n",
          "output_type": "stream"
        },
        {
          "name": "stderr",
          "text": "161it [00:46,  3.65it/s]",
          "output_type": "stream"
        },
        {
          "name": "stdout",
          "text": "\n0: 256x256 1 plate, 10.1ms\nSpeed: 1.0ms preprocess, 10.1ms inference, 1.6ms postprocess per image at shape (1, 3, 256, 256)\n[[      30.42      59.221]\n [      205.7      28.297]\n [     213.21      200.15]\n [     35.947      243.41]]\n",
          "output_type": "stream"
        },
        {
          "name": "stderr",
          "text": "162it [00:46,  3.63it/s]",
          "output_type": "stream"
        },
        {
          "name": "stdout",
          "text": "\n0: 256x256 1 plate, 9.8ms\nSpeed: 0.8ms preprocess, 9.8ms inference, 1.6ms postprocess per image at shape (1, 3, 256, 256)\n[[     3.1642      43.256]\n [     251.31      34.857]\n [     248.25      218.28]\n [     12.003       225.6]]\n",
          "output_type": "stream"
        },
        {
          "name": "stderr",
          "text": "163it [00:46,  3.57it/s]",
          "output_type": "stream"
        },
        {
          "name": "stdout",
          "text": "\n0: 256x256 1 plate, 10.3ms\nSpeed: 0.6ms preprocess, 10.3ms inference, 1.7ms postprocess per image at shape (1, 3, 256, 256)\n[[     23.011      88.383]\n [     221.26      31.207]\n [      230.2      164.64]\n [     31.197      235.78]]\n",
          "output_type": "stream"
        },
        {
          "name": "stderr",
          "text": "164it [00:46,  3.57it/s]",
          "output_type": "stream"
        },
        {
          "name": "stdout",
          "text": "\n0: 256x256 1 plate, 9.9ms\nSpeed: 1.0ms preprocess, 9.9ms inference, 1.6ms postprocess per image at shape (1, 3, 256, 256)\n[[     38.616      58.554]\n [     228.95      12.303]\n [     245.37      172.65]\n [     50.571      232.36]]\n",
          "output_type": "stream"
        },
        {
          "name": "stderr",
          "text": "165it [00:47,  3.61it/s]",
          "output_type": "stream"
        },
        {
          "name": "stdout",
          "text": "\n0: 256x256 1 plate, 10.0ms\nSpeed: 0.8ms preprocess, 10.0ms inference, 1.6ms postprocess per image at shape (1, 3, 256, 256)\n[[     15.094      63.966]\n [     236.85      30.832]\n [     236.06      191.38]\n [     18.109      228.53]]\n",
          "output_type": "stream"
        },
        {
          "name": "stderr",
          "text": "166it [00:47,  3.66it/s]",
          "output_type": "stream"
        },
        {
          "name": "stdout",
          "text": "\n0: 256x256 1 plate, 11.7ms\nSpeed: 1.2ms preprocess, 11.7ms inference, 1.8ms postprocess per image at shape (1, 3, 256, 256)\n[[     20.809      80.453]\n [     233.78      33.027]\n [     232.44      181.15]\n [     24.548      233.79]]\n",
          "output_type": "stream"
        },
        {
          "name": "stderr",
          "text": "167it [00:47,  3.56it/s]",
          "output_type": "stream"
        },
        {
          "name": "stdout",
          "text": "\n0: 256x256 1 plate, 10.1ms\nSpeed: 1.0ms preprocess, 10.1ms inference, 1.8ms postprocess per image at shape (1, 3, 256, 256)\n[[     15.169      19.878]\n [     232.29      81.121]\n [     231.86      221.11]\n [     9.3934      158.81]]\n",
          "output_type": "stream"
        },
        {
          "name": "stderr",
          "text": "168it [00:48,  3.57it/s]",
          "output_type": "stream"
        },
        {
          "name": "stdout",
          "text": "\n0: 256x256 1 plate, 9.9ms\nSpeed: 0.8ms preprocess, 9.9ms inference, 1.7ms postprocess per image at shape (1, 3, 256, 256)\n[[     41.477      68.424]\n [     220.06      78.221]\n [     219.69      185.61]\n [     38.906      176.79]]\n",
          "output_type": "stream"
        },
        {
          "name": "stderr",
          "text": "169it [00:48,  3.58it/s]",
          "output_type": "stream"
        },
        {
          "name": "stdout",
          "text": "\n0: 256x256 1 plate, 10.2ms\nSpeed: 1.0ms preprocess, 10.2ms inference, 1.7ms postprocess per image at shape (1, 3, 256, 256)\n[[     13.857      18.942]\n [     248.15      107.41]\n [      242.8      237.38]\n [     16.763      128.21]]\n",
          "output_type": "stream"
        },
        {
          "name": "stderr",
          "text": "170it [00:48,  3.59it/s]",
          "output_type": "stream"
        },
        {
          "name": "stdout",
          "text": "\n0: 256x256 1 plate, 10.0ms\nSpeed: 0.6ms preprocess, 10.0ms inference, 1.7ms postprocess per image at shape (1, 3, 256, 256)\n[[     15.121      57.045]\n [     236.63      42.295]\n [     236.59      201.15]\n [     18.758      217.16]]\n",
          "output_type": "stream"
        },
        {
          "name": "stderr",
          "text": "171it [00:48,  3.61it/s]",
          "output_type": "stream"
        },
        {
          "name": "stdout",
          "text": "\n0: 256x256 1 plate, 10.3ms\nSpeed: 1.0ms preprocess, 10.3ms inference, 1.6ms postprocess per image at shape (1, 3, 256, 256)\n[[     53.989      134.18]\n [     167.44      62.317]\n [     177.31      159.98]\n [     56.492      218.01]]\n",
          "output_type": "stream"
        },
        {
          "name": "stderr",
          "text": "172it [00:49,  3.62it/s]",
          "output_type": "stream"
        },
        {
          "name": "stdout",
          "text": "\n0: 256x256 1 plate, 10.2ms\nSpeed: 1.0ms preprocess, 10.2ms inference, 1.6ms postprocess per image at shape (1, 3, 256, 256)\n[[     40.695      91.756]\n [     223.28      18.743]\n [     225.01      158.34]\n [      44.24      230.24]]\n",
          "output_type": "stream"
        },
        {
          "name": "stderr",
          "text": "173it [00:49,  3.63it/s]",
          "output_type": "stream"
        },
        {
          "name": "stdout",
          "text": "\n0: 256x256 1 plate, 10.6ms\nSpeed: 1.0ms preprocess, 10.6ms inference, 1.6ms postprocess per image at shape (1, 3, 256, 256)\n[[     9.7881      13.967]\n [     241.24      86.677]\n [     237.04      243.12]\n [      1.518      169.97]]\n",
          "output_type": "stream"
        },
        {
          "name": "stderr",
          "text": "174it [00:49,  3.62it/s]",
          "output_type": "stream"
        },
        {
          "name": "stdout",
          "text": "\n0: 256x256 1 plate, 9.7ms\nSpeed: 0.9ms preprocess, 9.7ms inference, 1.6ms postprocess per image at shape (1, 3, 256, 256)\n[[     11.513      26.779]\n [     243.01      76.031]\n [     242.89      239.14]\n [     3.9838      193.94]]\n",
          "output_type": "stream"
        },
        {
          "name": "stderr",
          "text": "175it [00:49,  3.61it/s]",
          "output_type": "stream"
        },
        {
          "name": "stdout",
          "text": "\n0: 256x256 1 plate, 10.0ms\nSpeed: 1.0ms preprocess, 10.0ms inference, 1.6ms postprocess per image at shape (1, 3, 256, 256)\n[[     5.1375      25.456]\n [     246.82      86.682]\n [     239.52       234.7]\n [     9.1965      172.31]]\n",
          "output_type": "stream"
        },
        {
          "name": "stderr",
          "text": "176it [00:50,  3.59it/s]",
          "output_type": "stream"
        },
        {
          "name": "stdout",
          "text": "\n0: 256x256 1 plate, 9.9ms\nSpeed: 0.9ms preprocess, 9.9ms inference, 1.6ms postprocess per image at shape (1, 3, 256, 256)\n[[     8.9165      8.1532]\n [     244.39      99.346]\n [     234.95      246.09]\n [    0.57674      150.74]]\n",
          "output_type": "stream"
        },
        {
          "name": "stderr",
          "text": "177it [00:50,  3.54it/s]",
          "output_type": "stream"
        },
        {
          "name": "stdout",
          "text": "\n0: 256x256 1 plate, 12.3ms\nSpeed: 0.9ms preprocess, 12.3ms inference, 1.8ms postprocess per image at shape (1, 3, 256, 256)\n[[     24.389      37.211]\n [     225.56      88.067]\n [     229.54      218.44]\n [     20.864      171.24]]\n",
          "output_type": "stream"
        },
        {
          "name": "stderr",
          "text": "178it [00:50,  3.47it/s]",
          "output_type": "stream"
        },
        {
          "name": "stdout",
          "text": "\n0: 256x256 1 plate, 10.0ms\nSpeed: 1.0ms preprocess, 10.0ms inference, 1.6ms postprocess per image at shape (1, 3, 256, 256)\n[[     150.23      60.685]\n [     162.64      24.965]\n [     176.45      129.21]\n [     153.15      166.12]]\n",
          "output_type": "stream"
        },
        {
          "name": "stderr",
          "text": "179it [00:51,  3.52it/s]",
          "output_type": "stream"
        },
        {
          "name": "stdout",
          "text": "\n0: 256x256 1 plate, 9.8ms\nSpeed: 1.0ms preprocess, 9.8ms inference, 1.6ms postprocess per image at shape (1, 3, 256, 256)\n[[     5.0629       3.483]\n [     250.07      92.421]\n [     232.08      240.41]\n [          0           0]]\n",
          "output_type": "stream"
        },
        {
          "name": "stderr",
          "text": "180it [00:51,  3.59it/s]",
          "output_type": "stream"
        },
        {
          "name": "stdout",
          "text": "\n0: 256x256 1 plate, 9.5ms\nSpeed: 0.9ms preprocess, 9.5ms inference, 1.6ms postprocess per image at shape (1, 3, 256, 256)\n[[     14.439       66.23]\n [     235.23      60.489]\n [     241.95      203.75]\n [     17.901       217.6]]\n",
          "output_type": "stream"
        },
        {
          "name": "stderr",
          "text": "181it [00:51,  3.56it/s]",
          "output_type": "stream"
        },
        {
          "name": "stdout",
          "text": "\n0: 256x256 1 plate, 10.6ms\nSpeed: 1.0ms preprocess, 10.6ms inference, 1.7ms postprocess per image at shape (1, 3, 256, 256)\n[[     23.244      76.257]\n [     223.38      6.2583]\n [     225.24      167.04]\n [      31.86      242.56]]\n",
          "output_type": "stream"
        },
        {
          "name": "stderr",
          "text": "182it [00:51,  3.55it/s]",
          "output_type": "stream"
        },
        {
          "name": "stdout",
          "text": "\n0: 256x256 1 plate, 10.0ms\nSpeed: 0.8ms preprocess, 10.0ms inference, 1.6ms postprocess per image at shape (1, 3, 256, 256)\n[[     6.7517      25.893]\n [     249.67      63.832]\n [     245.27      221.74]\n [     8.7548      182.27]]\n",
          "output_type": "stream"
        },
        {
          "name": "stderr",
          "text": "183it [00:52,  3.54it/s]",
          "output_type": "stream"
        },
        {
          "name": "stdout",
          "text": "\n0: 256x256 1 plate, 10.3ms\nSpeed: 0.8ms preprocess, 10.3ms inference, 1.8ms postprocess per image at shape (1, 3, 256, 256)\n[[     2.1086      35.148]\n [     253.64      39.117]\n [     248.93      217.74]\n [     9.4003      211.72]]\n",
          "output_type": "stream"
        },
        {
          "name": "stderr",
          "text": "184it [00:52,  3.57it/s]",
          "output_type": "stream"
        },
        {
          "name": "stdout",
          "text": "\n0: 256x256 1 plate, 9.8ms\nSpeed: 1.0ms preprocess, 9.8ms inference, 1.6ms postprocess per image at shape (1, 3, 256, 256)\n[[     7.8719      45.373]\n [     249.27      53.379]\n [     249.35      215.41]\n [     13.442      211.51]]\n",
          "output_type": "stream"
        },
        {
          "name": "stderr",
          "text": "185it [00:52,  3.51it/s]",
          "output_type": "stream"
        },
        {
          "name": "stdout",
          "text": "\n0: 256x256 1 plate, 10.4ms\nSpeed: 1.0ms preprocess, 10.4ms inference, 1.7ms postprocess per image at shape (1, 3, 256, 256)\n[[      5.236      36.794]\n [     248.83      61.868]\n [     243.43      228.25]\n [     10.251      199.24]]\n",
          "output_type": "stream"
        },
        {
          "name": "stderr",
          "text": "186it [00:53,  3.53it/s]",
          "output_type": "stream"
        },
        {
          "name": "stdout",
          "text": "\n0: 256x256 1 plate, 10.3ms\nSpeed: 1.0ms preprocess, 10.3ms inference, 1.6ms postprocess per image at shape (1, 3, 256, 256)\n[[     21.459      28.489]\n [     231.18       108.2]\n [     232.09      222.88]\n [     14.136      149.21]]\n",
          "output_type": "stream"
        },
        {
          "name": "stderr",
          "text": "187it [00:53,  3.56it/s]",
          "output_type": "stream"
        },
        {
          "name": "stdout",
          "text": "\n0: 256x256 1 plate, 10.3ms\nSpeed: 1.0ms preprocess, 10.3ms inference, 1.6ms postprocess per image at shape (1, 3, 256, 256)\n[[     23.907      67.425]\n [      231.3      76.135]\n [     232.79      197.12]\n [      27.79      195.68]]\n",
          "output_type": "stream"
        },
        {
          "name": "stderr",
          "text": "188it [00:53,  3.58it/s]",
          "output_type": "stream"
        },
        {
          "name": "stdout",
          "text": "\n0: 256x256 1 plate, 9.8ms\nSpeed: 0.9ms preprocess, 9.8ms inference, 1.6ms postprocess per image at shape (1, 3, 256, 256)\n[[     4.8917      45.249]\n [     247.07      46.746]\n [     247.48      214.99]\n [     10.354      212.87]]\n",
          "output_type": "stream"
        },
        {
          "name": "stderr",
          "text": "189it [00:53,  3.58it/s]",
          "output_type": "stream"
        },
        {
          "name": "stdout",
          "text": "\n0: 256x256 1 plate, 10.2ms\nSpeed: 1.0ms preprocess, 10.2ms inference, 1.6ms postprocess per image at shape (1, 3, 256, 256)\n[[          0           0]\n [      236.4      144.65]\n [     235.92      234.83]\n [          0           0]]\n",
          "output_type": "stream"
        },
        {
          "name": "stderr",
          "text": "190it [00:54,  3.63it/s]",
          "output_type": "stream"
        },
        {
          "name": "stdout",
          "text": "\n0: 256x256 1 plate, 10.3ms\nSpeed: 0.9ms preprocess, 10.3ms inference, 1.6ms postprocess per image at shape (1, 3, 256, 256)\n[[          0       42.23]\n [     247.77      14.706]\n [     250.84      217.13]\n [          0      246.41]]\n",
          "output_type": "stream"
        },
        {
          "name": "stderr",
          "text": "191it [00:54,  3.60it/s]",
          "output_type": "stream"
        },
        {
          "name": "stdout",
          "text": "\n0: 256x256 1 plate, 10.0ms\nSpeed: 0.9ms preprocess, 10.0ms inference, 1.6ms postprocess per image at shape (1, 3, 256, 256)\n[[     8.1003      58.139]\n [     240.64      46.426]\n [      241.3      222.29]\n [     12.758      236.28]]\n",
          "output_type": "stream"
        },
        {
          "name": "stderr",
          "text": "192it [00:54,  3.59it/s]",
          "output_type": "stream"
        },
        {
          "name": "stdout",
          "text": "\n0: 256x256 1 plate, 10.0ms\nSpeed: 0.9ms preprocess, 10.0ms inference, 1.6ms postprocess per image at shape (1, 3, 256, 256)\n[[     17.528      57.622]\n [     227.07      77.274]\n [     229.35      192.28]\n [     20.247      183.32]]\n",
          "output_type": "stream"
        },
        {
          "name": "stderr",
          "text": "193it [00:55,  3.60it/s]",
          "output_type": "stream"
        },
        {
          "name": "stdout",
          "text": "\n0: 256x256 1 plate, 9.8ms\nSpeed: 0.8ms preprocess, 9.8ms inference, 1.6ms postprocess per image at shape (1, 3, 256, 256)\n[[     82.364      78.762]\n [     200.81      14.136]\n [     221.25      125.49]\n [     94.163      194.83]]\n",
          "output_type": "stream"
        },
        {
          "name": "stderr",
          "text": "194it [00:55,  3.64it/s]",
          "output_type": "stream"
        },
        {
          "name": "stdout",
          "text": "\n0: 256x256 1 plate, 9.7ms\nSpeed: 0.6ms preprocess, 9.7ms inference, 1.6ms postprocess per image at shape (1, 3, 256, 256)\n[[      22.15      31.627]\n [     230.46      70.606]\n [     234.11      219.18]\n [     21.357      182.85]]\n",
          "output_type": "stream"
        },
        {
          "name": "stderr",
          "text": "195it [00:55,  3.68it/s]",
          "output_type": "stream"
        },
        {
          "name": "stdout",
          "text": "\n0: 256x256 1 plate, 10.3ms\nSpeed: 0.9ms preprocess, 10.3ms inference, 1.9ms postprocess per image at shape (1, 3, 256, 256)\n[[     3.1101      42.385]\n [     250.88      34.455]\n [     250.27      213.69]\n [     11.075      222.38]]\n",
          "output_type": "stream"
        },
        {
          "name": "stderr",
          "text": "196it [00:55,  3.67it/s]",
          "output_type": "stream"
        },
        {
          "name": "stdout",
          "text": "\n0: 256x256 2 plates, 10.0ms\nSpeed: 0.9ms preprocess, 10.0ms inference, 1.7ms postprocess per image at shape (1, 3, 256, 256)\n[[       21.1       79.58]\n [     228.95      48.578]\n [     232.34      184.99]\n [     31.695      225.86]]\n",
          "output_type": "stream"
        },
        {
          "name": "stderr",
          "text": "197it [00:56,  3.64it/s]",
          "output_type": "stream"
        },
        {
          "name": "stdout",
          "text": "\n0: 256x256 1 plate, 10.1ms\nSpeed: 0.6ms preprocess, 10.1ms inference, 1.6ms postprocess per image at shape (1, 3, 256, 256)\n[[     4.2123      41.066]\n [     237.86       46.82]\n [     241.59      223.76]\n [     3.3417      218.99]]\n",
          "output_type": "stream"
        },
        {
          "name": "stderr",
          "text": "198it [00:56,  3.63it/s]",
          "output_type": "stream"
        },
        {
          "name": "stdout",
          "text": "\n0: 256x256 1 plate, 9.9ms\nSpeed: 0.9ms preprocess, 9.9ms inference, 1.6ms postprocess per image at shape (1, 3, 256, 256)\n[[     7.4673      24.624]\n [     241.46      120.96]\n [     229.72      239.68]\n [     9.3203      147.04]]\n",
          "output_type": "stream"
        },
        {
          "name": "stderr",
          "text": "199it [00:56,  3.53it/s]",
          "output_type": "stream"
        },
        {
          "name": "stdout",
          "text": "\n0: 256x256 1 plate, 10.0ms\nSpeed: 0.9ms preprocess, 10.0ms inference, 1.6ms postprocess per image at shape (1, 3, 256, 256)\n[[     19.727      75.427]\n [     235.48      44.484]\n [     235.81      186.02]\n [     21.912      222.21]]\n",
          "output_type": "stream"
        },
        {
          "name": "stderr",
          "text": "200it [00:56,  3.56it/s]",
          "output_type": "stream"
        },
        {
          "name": "stdout",
          "text": "\n0: 256x256 1 plate, 10.6ms\nSpeed: 0.9ms preprocess, 10.6ms inference, 1.7ms postprocess per image at shape (1, 3, 256, 256)\n[[     29.174      76.408]\n [     215.98      67.897]\n [      215.7      169.16]\n [     38.424      192.66]]\n",
          "output_type": "stream"
        },
        {
          "name": "stderr",
          "text": "201it [00:57,  3.48it/s]",
          "output_type": "stream"
        },
        {
          "name": "stdout",
          "text": "\n0: 256x256 1 plate, 10.7ms\nSpeed: 0.8ms preprocess, 10.7ms inference, 2.0ms postprocess per image at shape (1, 3, 256, 256)\n[[     8.7621      30.585]\n [     242.86      55.655]\n [     241.64      238.54]\n [     4.0168      216.84]]\n",
          "output_type": "stream"
        },
        {
          "name": "stderr",
          "text": "202it [00:57,  3.40it/s]",
          "output_type": "stream"
        },
        {
          "name": "stdout",
          "text": "\n0: 256x256 1 plate, 10.4ms\nSpeed: 1.0ms preprocess, 10.4ms inference, 1.6ms postprocess per image at shape (1, 3, 256, 256)\n[[     7.2052      16.481]\n [     243.53      98.296]\n [     236.04      234.44]\n [     10.435      153.63]]\n",
          "output_type": "stream"
        },
        {
          "name": "stderr",
          "text": "203it [00:57,  3.41it/s]",
          "output_type": "stream"
        },
        {
          "name": "stdout",
          "text": "\n0: 256x256 1 plate, 10.4ms\nSpeed: 1.1ms preprocess, 10.4ms inference, 1.7ms postprocess per image at shape (1, 3, 256, 256)\n[[     17.152       66.67]\n [     237.39        51.1]\n [     239.54      192.88]\n [     19.323      213.73]]\n",
          "output_type": "stream"
        },
        {
          "name": "stderr",
          "text": "204it [00:58,  3.45it/s]",
          "output_type": "stream"
        },
        {
          "name": "stdout",
          "text": "\n0: 256x256 1 plate, 10.0ms\nSpeed: 1.1ms preprocess, 10.0ms inference, 1.6ms postprocess per image at shape (1, 3, 256, 256)\n[[     2.5534      25.361]\n [      252.1      68.934]\n [     245.84      235.35]\n [     8.1661      191.33]]\n",
          "output_type": "stream"
        },
        {
          "name": "stderr",
          "text": "205it [00:58,  3.45it/s]",
          "output_type": "stream"
        },
        {
          "name": "stdout",
          "text": "\n0: 256x256 1 plate, 9.8ms\nSpeed: 0.9ms preprocess, 9.8ms inference, 1.6ms postprocess per image at shape (1, 3, 256, 256)\n[[     22.301      14.605]\n [     237.58      119.75]\n [     233.69      241.21]\n [     14.081      134.49]]\n",
          "output_type": "stream"
        },
        {
          "name": "stderr",
          "text": "206it [00:58,  3.48it/s]",
          "output_type": "stream"
        },
        {
          "name": "stdout",
          "text": "\n0: 256x256 1 plate, 10.1ms\nSpeed: 1.0ms preprocess, 10.1ms inference, 1.6ms postprocess per image at shape (1, 3, 256, 256)\n[[     44.336       88.15]\n [     201.19      21.349]\n [     215.72      134.71]\n [     50.697      213.18]]\n",
          "output_type": "stream"
        },
        {
          "name": "stderr",
          "text": "207it [00:58,  3.50it/s]",
          "output_type": "stream"
        },
        {
          "name": "stdout",
          "text": "\n0: 256x256 1 plate, 9.9ms\nSpeed: 1.0ms preprocess, 9.9ms inference, 1.6ms postprocess per image at shape (1, 3, 256, 256)\n[[     7.1053      10.826]\n [     246.68      114.46]\n [     233.94      239.57]\n [     11.288       147.2]]\n",
          "output_type": "stream"
        },
        {
          "name": "stderr",
          "text": "208it [00:59,  3.55it/s]",
          "output_type": "stream"
        },
        {
          "name": "stdout",
          "text": "\n0: 256x256 1 plate, 9.8ms\nSpeed: 1.0ms preprocess, 9.8ms inference, 1.6ms postprocess per image at shape (1, 3, 256, 256)\n[[     66.323       134.2]\n [      187.4      54.974]\n [      196.1      140.11]\n [      78.92      202.58]]\n",
          "output_type": "stream"
        },
        {
          "name": "stderr",
          "text": "209it [00:59,  3.56it/s]",
          "output_type": "stream"
        },
        {
          "name": "stdout",
          "text": "\n0: 256x256 1 plate, 9.5ms\nSpeed: 1.0ms preprocess, 9.5ms inference, 1.6ms postprocess per image at shape (1, 3, 256, 256)\n[[     26.626      96.813]\n [     227.31      35.042]\n [     224.78      172.09]\n [     28.357      239.56]]\n",
          "output_type": "stream"
        },
        {
          "name": "stderr",
          "text": "210it [00:59,  3.57it/s]",
          "output_type": "stream"
        },
        {
          "name": "stdout",
          "text": "\n0: 256x256 1 plate, 10.2ms\nSpeed: 0.9ms preprocess, 10.2ms inference, 1.6ms postprocess per image at shape (1, 3, 256, 256)\n[[     15.439      63.578]\n [     239.02      39.905]\n [     248.34      213.43]\n [      24.32      248.84]]\n",
          "output_type": "stream"
        },
        {
          "name": "stderr",
          "text": "211it [01:00,  3.59it/s]",
          "output_type": "stream"
        },
        {
          "name": "stdout",
          "text": "\n0: 256x256 1 plate, 10.2ms\nSpeed: 1.0ms preprocess, 10.2ms inference, 1.6ms postprocess per image at shape (1, 3, 256, 256)\n[[     15.615      67.297]\n [     240.09       48.21]\n [     240.14      200.94]\n [      19.44      223.43]]\n",
          "output_type": "stream"
        },
        {
          "name": "stderr",
          "text": "212it [01:00,  3.56it/s]",
          "output_type": "stream"
        },
        {
          "name": "stdout",
          "text": "\n0: 256x256 1 plate, 9.6ms\nSpeed: 0.8ms preprocess, 9.6ms inference, 1.6ms postprocess per image at shape (1, 3, 256, 256)\n[[     11.078      17.843]\n [     238.36      99.385]\n [     234.31       242.3]\n [      4.368      161.01]]\n",
          "output_type": "stream"
        },
        {
          "name": "stderr",
          "text": "213it [01:00,  3.44it/s]",
          "output_type": "stream"
        },
        {
          "name": "stdout",
          "text": "\n0: 256x256 1 plate, 10.0ms\nSpeed: 0.9ms preprocess, 10.0ms inference, 1.6ms postprocess per image at shape (1, 3, 256, 256)\n[[     15.639      59.749]\n [     228.06      55.935]\n [     235.27      193.24]\n [      16.06      194.01]]\n",
          "output_type": "stream"
        },
        {
          "name": "stderr",
          "text": "214it [01:00,  3.48it/s]",
          "output_type": "stream"
        },
        {
          "name": "stdout",
          "text": "\n0: 256x256 1 plate, 12.3ms\nSpeed: 2.9ms preprocess, 12.3ms inference, 1.7ms postprocess per image at shape (1, 3, 256, 256)\n[[      10.36      48.129]\n [     236.55      41.593]\n [      240.9      209.07]\n [     8.7682      219.93]]\n",
          "output_type": "stream"
        },
        {
          "name": "stderr",
          "text": "215it [01:01,  3.50it/s]",
          "output_type": "stream"
        },
        {
          "name": "stdout",
          "text": "\n0: 256x256 1 plate, 10.0ms\nSpeed: 1.1ms preprocess, 10.0ms inference, 1.7ms postprocess per image at shape (1, 3, 256, 256)\n[[     4.5056      17.584]\n [     253.13      70.233]\n [     245.44       234.3]\n [     10.382       186.6]]\n",
          "output_type": "stream"
        },
        {
          "name": "stderr",
          "text": "216it [01:01,  3.56it/s]",
          "output_type": "stream"
        },
        {
          "name": "stdout",
          "text": "\n0: 256x256 1 plate, 9.8ms\nSpeed: 0.9ms preprocess, 9.8ms inference, 1.6ms postprocess per image at shape (1, 3, 256, 256)\n[[     15.453      30.398]\n [     238.06      119.63]\n [     226.29      228.77]\n [     15.059      141.66]]\n",
          "output_type": "stream"
        },
        {
          "name": "stderr",
          "text": "217it [01:01,  3.56it/s]",
          "output_type": "stream"
        },
        {
          "name": "stdout",
          "text": "\n0: 256x256 1 plate, 10.0ms\nSpeed: 0.9ms preprocess, 10.0ms inference, 1.6ms postprocess per image at shape (1, 3, 256, 256)\n[[     6.0702      21.086]\n [     248.34      103.81]\n [     235.78      240.88]\n [     10.259      161.32]]\n",
          "output_type": "stream"
        },
        {
          "name": "stderr",
          "text": "218it [01:02,  3.56it/s]",
          "output_type": "stream"
        },
        {
          "name": "stdout",
          "text": "\n0: 256x256 1 plate, 9.9ms\nSpeed: 1.0ms preprocess, 9.9ms inference, 1.7ms postprocess per image at shape (1, 3, 256, 256)\n[[      13.47      4.1762]\n [     244.39      105.13]\n [     235.91       237.4]\n [     3.7942      136.35]]\n",
          "output_type": "stream"
        },
        {
          "name": "stderr",
          "text": "219it [01:02,  3.57it/s]",
          "output_type": "stream"
        },
        {
          "name": "stdout",
          "text": "\n0: 256x256 1 plate, 9.8ms\nSpeed: 1.0ms preprocess, 9.8ms inference, 1.6ms postprocess per image at shape (1, 3, 256, 256)\n[[     1.8832      34.143]\n [     252.88      31.172]\n [      247.2      219.63]\n [     10.946      224.32]]\n",
          "output_type": "stream"
        },
        {
          "name": "stderr",
          "text": "220it [01:02,  3.56it/s]",
          "output_type": "stream"
        },
        {
          "name": "stdout",
          "text": "\n0: 256x256 1 plate, 10.1ms\nSpeed: 1.0ms preprocess, 10.1ms inference, 1.6ms postprocess per image at shape (1, 3, 256, 256)\n[[     69.968      93.828]\n [     183.44      27.003]\n [     205.68       121.6]\n [     76.172      192.49]]\n",
          "output_type": "stream"
        },
        {
          "name": "stderr",
          "text": "221it [01:02,  3.56it/s]",
          "output_type": "stream"
        },
        {
          "name": "stdout",
          "text": "\n0: 256x256 1 plate, 10.0ms\nSpeed: 1.0ms preprocess, 10.0ms inference, 1.6ms postprocess per image at shape (1, 3, 256, 256)\n[[     16.229      55.729]\n [     239.14      45.717]\n [     240.51      202.51]\n [     21.113      213.18]]\n",
          "output_type": "stream"
        },
        {
          "name": "stderr",
          "text": "222it [01:03,  3.61it/s]",
          "output_type": "stream"
        },
        {
          "name": "stdout",
          "text": "\n0: 256x256 1 plate, 10.0ms\nSpeed: 0.9ms preprocess, 10.0ms inference, 1.6ms postprocess per image at shape (1, 3, 256, 256)\n[[     5.0111      44.419]\n [     246.91      53.123]\n [     246.45      220.35]\n [     10.835      210.02]]\n",
          "output_type": "stream"
        },
        {
          "name": "stderr",
          "text": "223it [01:03,  3.65it/s]",
          "output_type": "stream"
        },
        {
          "name": "stdout",
          "text": "\n0: 256x256 1 plate, 9.9ms\nSpeed: 1.0ms preprocess, 9.9ms inference, 1.6ms postprocess per image at shape (1, 3, 256, 256)\n[[    0.60211      34.785]\n [     254.98      35.527]\n [     249.58      218.45]\n [     7.7391      219.21]]\n",
          "output_type": "stream"
        },
        {
          "name": "stderr",
          "text": "224it [01:03,  3.65it/s]",
          "output_type": "stream"
        },
        {
          "name": "stdout",
          "text": "\n0: 256x256 1 plate, 10.0ms\nSpeed: 1.2ms preprocess, 10.0ms inference, 1.6ms postprocess per image at shape (1, 3, 256, 256)\n[[     22.261      65.734]\n [     224.82      71.122]\n [     227.56      196.31]\n [     27.222      194.44]]\n",
          "output_type": "stream"
        },
        {
          "name": "stderr",
          "text": "225it [01:04,  3.64it/s]",
          "output_type": "stream"
        },
        {
          "name": "stdout",
          "text": "\n0: 256x256 1 plate, 10.1ms\nSpeed: 0.9ms preprocess, 10.1ms inference, 1.6ms postprocess per image at shape (1, 3, 256, 256)\n[[     35.409      97.701]\n [     203.09      37.269]\n [     217.94      145.02]\n [     39.167      224.14]]\n",
          "output_type": "stream"
        },
        {
          "name": "stderr",
          "text": "226it [01:04,  3.64it/s]",
          "output_type": "stream"
        },
        {
          "name": "stdout",
          "text": "\n0: 256x256 1 plate, 10.0ms\nSpeed: 1.0ms preprocess, 10.0ms inference, 1.6ms postprocess per image at shape (1, 3, 256, 256)\n[[     9.8609      23.731]\n [     242.52      85.605]\n [     235.68       228.5]\n [     12.227      162.52]]\n",
          "output_type": "stream"
        },
        {
          "name": "stderr",
          "text": "227it [01:04,  3.61it/s]",
          "output_type": "stream"
        },
        {
          "name": "stdout",
          "text": "\n0: 256x256 1 plate, 10.4ms\nSpeed: 1.0ms preprocess, 10.4ms inference, 1.6ms postprocess per image at shape (1, 3, 256, 256)\n[[     15.191      51.469]\n [     234.72      79.245]\n [      236.4      213.84]\n [      15.43      191.25]]\n",
          "output_type": "stream"
        },
        {
          "name": "stderr",
          "text": "228it [01:04,  3.61it/s]",
          "output_type": "stream"
        },
        {
          "name": "stdout",
          "text": "\n0: 256x256 1 plate, 9.7ms\nSpeed: 0.9ms preprocess, 9.7ms inference, 1.6ms postprocess per image at shape (1, 3, 256, 256)\n[[     14.723      60.291]\n [     235.45      68.583]\n [     240.45      208.78]\n [      16.96       209.9]]\n",
          "output_type": "stream"
        },
        {
          "name": "stderr",
          "text": "229it [01:05,  3.61it/s]",
          "output_type": "stream"
        },
        {
          "name": "stdout",
          "text": "\n0: 256x256 1 plate, 10.0ms\nSpeed: 1.0ms preprocess, 10.0ms inference, 1.6ms postprocess per image at shape (1, 3, 256, 256)\n[[     13.722      57.555]\n [     231.77      32.564]\n [     237.41      192.83]\n [     15.597      223.78]]\n",
          "output_type": "stream"
        },
        {
          "name": "stderr",
          "text": "230it [01:05,  3.62it/s]",
          "output_type": "stream"
        },
        {
          "name": "stdout",
          "text": "\n0: 256x256 1 plate, 10.0ms\nSpeed: 1.0ms preprocess, 10.0ms inference, 1.6ms postprocess per image at shape (1, 3, 256, 256)\n[[     16.336      56.719]\n [     235.94      29.355]\n [     245.12         193]\n [     23.269      228.15]]\n",
          "output_type": "stream"
        },
        {
          "name": "stderr",
          "text": "231it [01:05,  3.60it/s]",
          "output_type": "stream"
        },
        {
          "name": "stdout",
          "text": "\n0: 256x256 1 plate, 10.2ms\nSpeed: 1.0ms preprocess, 10.2ms inference, 1.6ms postprocess per image at shape (1, 3, 256, 256)\n[[     6.5273      28.139]\n [     249.53      107.14]\n [     235.59      245.42]\n [     11.006      170.85]]\n",
          "output_type": "stream"
        },
        {
          "name": "stderr",
          "text": "232it [01:05,  3.54it/s]",
          "output_type": "stream"
        },
        {
          "name": "stdout",
          "text": "\n0: 256x256 1 plate, 10.2ms\nSpeed: 1.0ms preprocess, 10.2ms inference, 1.7ms postprocess per image at shape (1, 3, 256, 256)\n[[     7.4341      22.766]\n [     248.77      118.25]\n [     241.07      249.04]\n [     12.274      128.63]]\n",
          "output_type": "stream"
        },
        {
          "name": "stderr",
          "text": "233it [01:06,  3.49it/s]",
          "output_type": "stream"
        },
        {
          "name": "stdout",
          "text": "\n0: 256x256 1 plate, 12.6ms\nSpeed: 1.0ms preprocess, 12.6ms inference, 2.2ms postprocess per image at shape (1, 3, 256, 256)\n[[     4.8987       16.23]\n [     248.53      71.978]\n [      241.2       247.2]\n [          0      192.89]]\n",
          "output_type": "stream"
        },
        {
          "name": "stderr",
          "text": "234it [01:06,  3.41it/s]",
          "output_type": "stream"
        },
        {
          "name": "stdout",
          "text": "\n0: 256x256 1 plate, 10.4ms\nSpeed: 1.1ms preprocess, 10.4ms inference, 1.7ms postprocess per image at shape (1, 3, 256, 256)\n[[      11.66      53.798]\n [     244.53      64.936]\n [     243.64      220.82]\n [       15.9      213.45]]\n",
          "output_type": "stream"
        },
        {
          "name": "stderr",
          "text": "235it [01:06,  3.40it/s]",
          "output_type": "stream"
        },
        {
          "name": "stdout",
          "text": "\n0: 256x256 2 plates, 9.8ms\nSpeed: 1.0ms preprocess, 9.8ms inference, 1.6ms postprocess per image at shape (1, 3, 256, 256)\n[[     26.132      54.476]\n [     222.36      63.035]\n [     224.06      198.61]\n [     25.518      174.13]]\n",
          "output_type": "stream"
        },
        {
          "name": "stderr",
          "text": "236it [01:07,  3.34it/s]",
          "output_type": "stream"
        },
        {
          "name": "stdout",
          "text": "\n0: 256x256 1 plate, 10.0ms\nSpeed: 1.0ms preprocess, 10.0ms inference, 1.7ms postprocess per image at shape (1, 3, 256, 256)\n[[          0           0]\n [          0           0]\n [          0           0]\n [          0           0]]\n",
          "output_type": "stream"
        },
        {
          "name": "stderr",
          "text": "237it [01:07,  3.40it/s]",
          "output_type": "stream"
        },
        {
          "name": "stdout",
          "text": "\n0: 256x256 1 plate, 9.8ms\nSpeed: 1.0ms preprocess, 9.8ms inference, 1.6ms postprocess per image at shape (1, 3, 256, 256)\n[[     21.647      68.853]\n [     229.34      57.761]\n [     235.57      189.89]\n [     28.315      209.61]]\n",
          "output_type": "stream"
        },
        {
          "name": "stderr",
          "text": "238it [01:07,  3.46it/s]",
          "output_type": "stream"
        },
        {
          "name": "stdout",
          "text": "\n0: 256x256 1 plate, 9.8ms\nSpeed: 1.0ms preprocess, 9.8ms inference, 1.8ms postprocess per image at shape (1, 3, 256, 256)\n[[     7.8232      50.347]\n [     246.92      51.542]\n [     245.64      215.14]\n [     13.001      217.76]]\n",
          "output_type": "stream"
        },
        {
          "name": "stderr",
          "text": "239it [01:08,  3.52it/s]",
          "output_type": "stream"
        },
        {
          "name": "stdout",
          "text": "\n0: 256x256 1 plate, 9.9ms\nSpeed: 1.0ms preprocess, 9.9ms inference, 1.7ms postprocess per image at shape (1, 3, 256, 256)\n[[     31.706      49.259]\n [     234.86      9.9356]\n [     247.05      177.98]\n [     42.958      226.38]]\n",
          "output_type": "stream"
        },
        {
          "name": "stderr",
          "text": "240it [01:08,  3.52it/s]",
          "output_type": "stream"
        },
        {
          "name": "stdout",
          "text": "\n0: 256x256 1 plate, 10.2ms\nSpeed: 1.0ms preprocess, 10.2ms inference, 1.6ms postprocess per image at shape (1, 3, 256, 256)\n[[     8.8419      36.213]\n [     243.73      81.138]\n [     238.08      226.56]\n [     9.3868      178.71]]\n",
          "output_type": "stream"
        },
        {
          "name": "stderr",
          "text": "241it [01:08,  3.54it/s]",
          "output_type": "stream"
        },
        {
          "name": "stdout",
          "text": "\n0: 256x256 1 plate, 9.8ms\nSpeed: 0.9ms preprocess, 9.8ms inference, 1.6ms postprocess per image at shape (1, 3, 256, 256)\n[[     63.897      54.113]\n [     218.67           0]\n [     238.33      144.88]\n [     76.388      210.97]]\n",
          "output_type": "stream"
        },
        {
          "name": "stderr",
          "text": "242it [01:08,  3.57it/s]",
          "output_type": "stream"
        },
        {
          "name": "stdout",
          "text": "\n0: 256x256 1 plate, 9.9ms\nSpeed: 1.0ms preprocess, 9.9ms inference, 1.6ms postprocess per image at shape (1, 3, 256, 256)\n[[     24.384      31.906]\n [     241.53       113.8]\n [     232.88      224.32]\n [     21.587      131.32]]\n",
          "output_type": "stream"
        },
        {
          "name": "stderr",
          "text": "243it [01:09,  3.60it/s]",
          "output_type": "stream"
        },
        {
          "name": "stdout",
          "text": "\n0: 256x256 1 plate, 9.9ms\nSpeed: 0.9ms preprocess, 9.9ms inference, 1.6ms postprocess per image at shape (1, 3, 256, 256)\n[[     20.712      84.705]\n [     226.32      29.392]\n [     235.64      169.82]\n [     29.238       237.8]]\n",
          "output_type": "stream"
        },
        {
          "name": "stderr",
          "text": "244it [01:09,  3.61it/s]",
          "output_type": "stream"
        },
        {
          "name": "stdout",
          "text": "\n0: 256x256 1 plate, 10.0ms\nSpeed: 1.0ms preprocess, 10.0ms inference, 1.6ms postprocess per image at shape (1, 3, 256, 256)\n[[     51.616      108.87]\n [     188.89      44.047]\n [     196.93      165.04]\n [     58.033      220.75]]\n",
          "output_type": "stream"
        },
        {
          "name": "stderr",
          "text": "245it [01:09,  3.60it/s]",
          "output_type": "stream"
        },
        {
          "name": "stdout",
          "text": "\n0: 256x256 1 plate, 10.1ms\nSpeed: 0.9ms preprocess, 10.1ms inference, 1.6ms postprocess per image at shape (1, 3, 256, 256)\n[[     10.535      56.369]\n [     245.18      66.613]\n [     247.98      220.07]\n [     15.214      217.48]]\n",
          "output_type": "stream"
        },
        {
          "name": "stderr",
          "text": "246it [01:09,  3.63it/s]",
          "output_type": "stream"
        },
        {
          "name": "stdout",
          "text": "\n0: 256x256 1 plate, 10.0ms\nSpeed: 0.9ms preprocess, 10.0ms inference, 1.7ms postprocess per image at shape (1, 3, 256, 256)\n[[     94.169      82.396]\n [      213.9      18.983]\n [     224.92      135.48]\n [      105.9      198.34]]\n",
          "output_type": "stream"
        },
        {
          "name": "stderr",
          "text": "247it [01:10,  3.59it/s]",
          "output_type": "stream"
        },
        {
          "name": "stdout",
          "text": "\n0: 256x256 1 plate, 9.9ms\nSpeed: 0.9ms preprocess, 9.9ms inference, 1.6ms postprocess per image at shape (1, 3, 256, 256)\n[[       20.1      67.033]\n [     235.52      51.491]\n [     239.89       185.6]\n [     19.319      201.79]]\n",
          "output_type": "stream"
        },
        {
          "name": "stderr",
          "text": "248it [01:10,  3.63it/s]",
          "output_type": "stream"
        },
        {
          "name": "stdout",
          "text": "\n0: 256x256 1 plate, 9.7ms\nSpeed: 1.0ms preprocess, 9.7ms inference, 1.6ms postprocess per image at shape (1, 3, 256, 256)\n[[     15.869      28.204]\n [     232.48      111.52]\n [     232.09      225.83]\n [     7.4279      153.39]]\n",
          "output_type": "stream"
        },
        {
          "name": "stderr",
          "text": "249it [01:10,  3.65it/s]",
          "output_type": "stream"
        },
        {
          "name": "stdout",
          "text": "\n0: 256x256 1 plate, 9.9ms\nSpeed: 0.9ms preprocess, 9.9ms inference, 1.6ms postprocess per image at shape (1, 3, 256, 256)\n[[      162.6       55.04]\n [     205.18      8.0193]\n [     227.35      130.77]\n [     170.58      170.96]]\n",
          "output_type": "stream"
        },
        {
          "name": "stderr",
          "text": "250it [01:11,  3.56it/s]",
          "output_type": "stream"
        },
        {
          "name": "stdout",
          "text": "\n0: 256x256 1 plate, 10.0ms\nSpeed: 1.0ms preprocess, 10.0ms inference, 1.6ms postprocess per image at shape (1, 3, 256, 256)\n[[     30.365      80.734]\n [     220.75      18.119]\n [     230.53      159.07]\n [     41.821      234.52]]\n",
          "output_type": "stream"
        },
        {
          "name": "stderr",
          "text": "251it [01:11,  3.59it/s]",
          "output_type": "stream"
        },
        {
          "name": "stdout",
          "text": "\n0: 256x256 1 plate, 9.8ms\nSpeed: 0.9ms preprocess, 9.8ms inference, 1.7ms postprocess per image at shape (1, 3, 256, 256)\n[[     17.511      46.241]\n [     236.64      78.487]\n [     238.84      210.16]\n [     17.177      187.17]]\n",
          "output_type": "stream"
        },
        {
          "name": "stderr",
          "text": "252it [01:11,  3.61it/s]",
          "output_type": "stream"
        },
        {
          "name": "stdout",
          "text": "\n0: 256x256 1 plate, 9.8ms\nSpeed: 0.9ms preprocess, 9.8ms inference, 1.6ms postprocess per image at shape (1, 3, 256, 256)\n[[     9.6395      44.235]\n [     247.58      71.968]\n [     242.74      226.74]\n [     12.336      201.21]]\n",
          "output_type": "stream"
        },
        {
          "name": "stderr",
          "text": "253it [01:11,  3.59it/s]",
          "output_type": "stream"
        },
        {
          "name": "stdout",
          "text": "\n0: 256x256 1 plate, 10.1ms\nSpeed: 1.0ms preprocess, 10.1ms inference, 1.6ms postprocess per image at shape (1, 3, 256, 256)\n[[     14.081      52.228]\n [     241.46      64.715]\n [     240.87      214.74]\n [     12.819       197.4]]\n",
          "output_type": "stream"
        },
        {
          "name": "stderr",
          "text": "254it [01:12,  3.59it/s]",
          "output_type": "stream"
        },
        {
          "name": "stdout",
          "text": "\n0: 256x256 1 plate, 9.6ms\nSpeed: 0.9ms preprocess, 9.6ms inference, 1.6ms postprocess per image at shape (1, 3, 256, 256)\n[[     10.027       56.95]\n [     243.76        48.5]\n [      245.2       215.1]\n [     12.348      219.19]]\n",
          "output_type": "stream"
        },
        {
          "name": "stderr",
          "text": "255it [01:12,  3.57it/s]",
          "output_type": "stream"
        },
        {
          "name": "stdout",
          "text": "\n0: 256x256 1 plate, 9.9ms\nSpeed: 1.0ms preprocess, 9.9ms inference, 1.6ms postprocess per image at shape (1, 3, 256, 256)\n[[     94.718       92.09]\n [     213.92      19.153]\n [     229.01      134.29]\n [     103.85      200.86]]\n",
          "output_type": "stream"
        },
        {
          "name": "stderr",
          "text": "256it [01:12,  3.56it/s]",
          "output_type": "stream"
        },
        {
          "name": "stdout",
          "text": "\n0: 256x256 1 plate, 10.1ms\nSpeed: 0.9ms preprocess, 10.1ms inference, 1.6ms postprocess per image at shape (1, 3, 256, 256)\n[[     15.453      58.419]\n [     230.48      68.269]\n [     235.56      197.39]\n [     16.476      193.39]]\n",
          "output_type": "stream"
        },
        {
          "name": "stderr",
          "text": "257it [01:13,  3.59it/s]",
          "output_type": "stream"
        },
        {
          "name": "stdout",
          "text": "\n0: 256x256 1 plate, 10.0ms\nSpeed: 1.0ms preprocess, 10.0ms inference, 1.6ms postprocess per image at shape (1, 3, 256, 256)\n[[     101.77       106.4]\n [     208.36      36.386]\n [     222.46      138.54]\n [     116.99      197.45]]\n",
          "output_type": "stream"
        },
        {
          "name": "stderr",
          "text": "258it [01:13,  3.63it/s]",
          "output_type": "stream"
        },
        {
          "name": "stdout",
          "text": "\n0: 256x256 1 plate, 9.9ms\nSpeed: 0.9ms preprocess, 9.9ms inference, 1.6ms postprocess per image at shape (1, 3, 256, 256)\n[[     54.023      77.217]\n [     214.07      7.5599]\n [      228.3      143.06]\n [     67.276      219.53]]\n",
          "output_type": "stream"
        },
        {
          "name": "stderr",
          "text": "259it [01:13,  3.65it/s]",
          "output_type": "stream"
        },
        {
          "name": "stdout",
          "text": "\n0: 256x256 1 plate, 10.0ms\nSpeed: 1.3ms preprocess, 10.0ms inference, 1.6ms postprocess per image at shape (1, 3, 256, 256)\n[[     20.414      63.032]\n [     227.82      65.726]\n [     233.25      195.91]\n [     23.207      201.11]]\n",
          "output_type": "stream"
        },
        {
          "name": "stderr",
          "text": "260it [01:13,  3.59it/s]",
          "output_type": "stream"
        },
        {
          "name": "stdout",
          "text": "\n0: 256x256 1 plate, 10.3ms\nSpeed: 1.0ms preprocess, 10.3ms inference, 1.7ms postprocess per image at shape (1, 3, 256, 256)\n[[     33.915      68.016]\n [     212.61      19.912]\n [     232.88      157.82]\n [     40.671      222.27]]\n",
          "output_type": "stream"
        },
        {
          "name": "stderr",
          "text": "261it [01:14,  3.62it/s]",
          "output_type": "stream"
        },
        {
          "name": "stdout",
          "text": "\n0: 256x256 1 plate, 11.2ms\nSpeed: 0.9ms preprocess, 11.2ms inference, 1.8ms postprocess per image at shape (1, 3, 256, 256)\n[[     8.3752      66.518]\n [      243.9      58.872]\n [     246.33      222.07]\n [      10.19      234.57]]\n",
          "output_type": "stream"
        },
        {
          "name": "stderr",
          "text": "262it [01:14,  3.58it/s]",
          "output_type": "stream"
        },
        {
          "name": "stdout",
          "text": "\n0: 256x256 1 plate, 9.7ms\nSpeed: 0.9ms preprocess, 9.7ms inference, 1.6ms postprocess per image at shape (1, 3, 256, 256)\n[[     1.9525      34.674]\n [     252.42      39.605]\n [     247.96      219.66]\n [      9.023      213.66]]\n",
          "output_type": "stream"
        },
        {
          "name": "stderr",
          "text": "263it [01:14,  3.61it/s]",
          "output_type": "stream"
        },
        {
          "name": "stdout",
          "text": "\n0: 256x256 1 plate, 10.2ms\nSpeed: 1.0ms preprocess, 10.2ms inference, 1.6ms postprocess per image at shape (1, 3, 256, 256)\n[[     9.6231       56.18]\n [     241.64      29.658]\n [     249.56      197.14]\n [     17.266      233.84]]\n",
          "output_type": "stream"
        },
        {
          "name": "stderr",
          "text": "264it [01:14,  3.62it/s]",
          "output_type": "stream"
        },
        {
          "name": "stdout",
          "text": "\n0: 256x256 1 plate, 9.8ms\nSpeed: 0.9ms preprocess, 9.8ms inference, 1.6ms postprocess per image at shape (1, 3, 256, 256)\n[[     28.633      90.206]\n [     228.52      33.932]\n [     228.05      161.57]\n [     29.433      225.24]]\n",
          "output_type": "stream"
        },
        {
          "name": "stderr",
          "text": "265it [01:15,  3.61it/s]",
          "output_type": "stream"
        },
        {
          "name": "stdout",
          "text": "\n0: 256x256 1 plate, 9.9ms\nSpeed: 1.0ms preprocess, 9.9ms inference, 1.6ms postprocess per image at shape (1, 3, 256, 256)\n[[     2.0111        35.2]\n [     252.92      48.485]\n [     246.69      224.29]\n [     9.9136      211.34]]\n",
          "output_type": "stream"
        },
        {
          "name": "stderr",
          "text": "266it [01:15,  3.64it/s]",
          "output_type": "stream"
        },
        {
          "name": "stdout",
          "text": "\n0: 256x256 1 plate, 10.0ms\nSpeed: 1.1ms preprocess, 10.0ms inference, 1.7ms postprocess per image at shape (1, 3, 256, 256)\n[[     10.938      22.128]\n [     243.41      91.487]\n [     236.93      224.91]\n [     9.7849      153.76]]\n",
          "output_type": "stream"
        },
        {
          "name": "stderr",
          "text": "267it [01:15,  3.68it/s]",
          "output_type": "stream"
        },
        {
          "name": "stdout",
          "text": "\n0: 256x256 1 plate, 10.0ms\nSpeed: 0.9ms preprocess, 10.0ms inference, 1.6ms postprocess per image at shape (1, 3, 256, 256)\n[[     18.173      68.538]\n [     224.01      49.552]\n [     223.89      201.19]\n [     19.053      212.69]]\n",
          "output_type": "stream"
        },
        {
          "name": "stderr",
          "text": "268it [01:16,  3.66it/s]",
          "output_type": "stream"
        },
        {
          "name": "stdout",
          "text": "\n0: 256x256 1 plate, 10.0ms\nSpeed: 1.0ms preprocess, 10.0ms inference, 1.6ms postprocess per image at shape (1, 3, 256, 256)\n[[     62.582       120.7]\n [     199.42      41.363]\n [     208.67      145.59]\n [     75.521      211.75]]\n",
          "output_type": "stream"
        },
        {
          "name": "stderr",
          "text": "269it [01:16,  3.61it/s]",
          "output_type": "stream"
        },
        {
          "name": "stdout",
          "text": "\n0: 256x256 1 plate, 9.9ms\nSpeed: 0.9ms preprocess, 9.9ms inference, 1.6ms postprocess per image at shape (1, 3, 256, 256)\n[[     15.884      38.913]\n [     239.53      63.959]\n [     241.14      228.77]\n [     10.634      213.86]]\n",
          "output_type": "stream"
        },
        {
          "name": "stderr",
          "text": "270it [01:16,  3.54it/s]",
          "output_type": "stream"
        },
        {
          "name": "stdout",
          "text": "\n0: 256x256 1 plate, 9.8ms\nSpeed: 1.0ms preprocess, 9.8ms inference, 1.6ms postprocess per image at shape (1, 3, 256, 256)\n[[     14.891      42.139]\n [     241.82      97.326]\n [     234.55      226.62]\n [     12.863      170.05]]\n",
          "output_type": "stream"
        },
        {
          "name": "stderr",
          "text": "271it [01:16,  3.59it/s]",
          "output_type": "stream"
        },
        {
          "name": "stdout",
          "text": "\n0: 256x256 1 plate, 10.1ms\nSpeed: 1.0ms preprocess, 10.1ms inference, 1.6ms postprocess per image at shape (1, 3, 256, 256)\n[[     10.473      15.164]\n [     241.92      97.804]\n [     235.09      229.66]\n [     11.515       148.4]]\n",
          "output_type": "stream"
        },
        {
          "name": "stderr",
          "text": "272it [01:17,  3.59it/s]",
          "output_type": "stream"
        },
        {
          "name": "stdout",
          "text": "\n0: 256x256 1 plate, 9.7ms\nSpeed: 0.9ms preprocess, 9.7ms inference, 1.6ms postprocess per image at shape (1, 3, 256, 256)\n[[     21.161      79.503]\n [     229.44      60.072]\n [     231.67      189.03]\n [     29.385      216.51]]\n",
          "output_type": "stream"
        },
        {
          "name": "stderr",
          "text": "273it [01:17,  3.64it/s]",
          "output_type": "stream"
        },
        {
          "name": "stdout",
          "text": "\n0: 256x256 1 plate, 9.9ms\nSpeed: 1.0ms preprocess, 9.9ms inference, 1.6ms postprocess per image at shape (1, 3, 256, 256)\n[[    0.73623      34.671]\n [     245.16      40.034]\n [     245.84      233.95]\n [          0      230.33]]\n",
          "output_type": "stream"
        },
        {
          "name": "stderr",
          "text": "274it [01:17,  3.67it/s]",
          "output_type": "stream"
        },
        {
          "name": "stdout",
          "text": "\n0: 256x256 1 plate, 10.2ms\nSpeed: 1.0ms preprocess, 10.2ms inference, 1.7ms postprocess per image at shape (1, 3, 256, 256)\n[[     14.842      23.209]\n [     242.34      113.61]\n [     238.79      233.24]\n [     21.119      117.83]]\n",
          "output_type": "stream"
        },
        {
          "name": "stderr",
          "text": "275it [01:17,  3.66it/s]",
          "output_type": "stream"
        },
        {
          "name": "stdout",
          "text": "\n0: 256x256 1 plate, 9.9ms\nSpeed: 1.0ms preprocess, 9.9ms inference, 1.6ms postprocess per image at shape (1, 3, 256, 256)\n[[     3.0234      29.405]\n [      248.4      89.274]\n [     242.03      229.55]\n [     4.0356      172.96]]\n",
          "output_type": "stream"
        },
        {
          "name": "stderr",
          "text": "276it [01:18,  3.69it/s]",
          "output_type": "stream"
        },
        {
          "name": "stdout",
          "text": "\n0: 256x256 1 plate, 10.3ms\nSpeed: 0.9ms preprocess, 10.3ms inference, 1.6ms postprocess per image at shape (1, 3, 256, 256)\n[[     19.874      50.249]\n [     237.33      113.87]\n [     225.67      224.97]\n [      15.99      161.93]]\n",
          "output_type": "stream"
        },
        {
          "name": "stderr",
          "text": "277it [01:18,  3.64it/s]",
          "output_type": "stream"
        },
        {
          "name": "stdout",
          "text": "\n0: 256x256 1 plate, 10.3ms\nSpeed: 1.0ms preprocess, 10.3ms inference, 1.8ms postprocess per image at shape (1, 3, 256, 256)\n[[      31.89      89.778]\n [     210.28      22.749]\n [     225.77      142.78]\n [     38.087      225.91]]\n",
          "output_type": "stream"
        },
        {
          "name": "stderr",
          "text": "278it [01:18,  3.59it/s]",
          "output_type": "stream"
        },
        {
          "name": "stdout",
          "text": "\n0: 256x256 1 plate, 10.2ms\nSpeed: 1.0ms preprocess, 10.2ms inference, 1.6ms postprocess per image at shape (1, 3, 256, 256)\n[[     15.178       49.22]\n [     224.62      46.521]\n [     226.38      206.93]\n [     17.811      211.77]]\n",
          "output_type": "stream"
        },
        {
          "name": "stderr",
          "text": "279it [01:19,  3.62it/s]",
          "output_type": "stream"
        },
        {
          "name": "stdout",
          "text": "\n0: 256x256 1 plate, 9.8ms\nSpeed: 1.0ms preprocess, 9.8ms inference, 1.6ms postprocess per image at shape (1, 3, 256, 256)\n[[     20.474      75.846]\n [     230.72      33.699]\n [     231.07      176.16]\n [     22.863      223.95]]\n",
          "output_type": "stream"
        },
        {
          "name": "stderr",
          "text": "280it [01:19,  3.63it/s]",
          "output_type": "stream"
        },
        {
          "name": "stdout",
          "text": "\n0: 256x256 1 plate, 9.7ms\nSpeed: 0.9ms preprocess, 9.7ms inference, 1.6ms postprocess per image at shape (1, 3, 256, 256)\n[[     38.936      67.402]\n [     209.82      45.826]\n [     223.38      149.23]\n [     44.594       198.9]]\n",
          "output_type": "stream"
        },
        {
          "name": "stderr",
          "text": "281it [01:19,  3.63it/s]",
          "output_type": "stream"
        },
        {
          "name": "stdout",
          "text": "\n0: 256x256 1 plate, 9.8ms\nSpeed: 0.8ms preprocess, 9.8ms inference, 1.6ms postprocess per image at shape (1, 3, 256, 256)\n[[     12.371      46.837]\n [     240.39      55.808]\n [     242.04      205.48]\n [     17.372      199.02]]\n",
          "output_type": "stream"
        },
        {
          "name": "stderr",
          "text": "282it [01:19,  3.64it/s]",
          "output_type": "stream"
        },
        {
          "name": "stdout",
          "text": "\n0: 256x256 1 plate, 9.7ms\nSpeed: 0.9ms preprocess, 9.7ms inference, 1.6ms postprocess per image at shape (1, 3, 256, 256)\n[[     2.1903      28.379]\n [     254.61      39.815]\n [     245.33      227.68]\n [     11.511      215.82]]\n",
          "output_type": "stream"
        },
        {
          "name": "stderr",
          "text": "283it [01:20,  3.67it/s]",
          "output_type": "stream"
        },
        {
          "name": "stdout",
          "text": "\n0: 256x256 1 plate, 10.0ms\nSpeed: 1.0ms preprocess, 10.0ms inference, 1.6ms postprocess per image at shape (1, 3, 256, 256)\n[[     12.817      28.199]\n [          0           0]\n [          0           0]\n [     11.461      216.31]]\n",
          "output_type": "stream"
        },
        {
          "name": "stderr",
          "text": "284it [01:20,  3.70it/s]",
          "output_type": "stream"
        },
        {
          "name": "stdout",
          "text": "\n0: 256x256 1 plate, 10.0ms\nSpeed: 1.0ms preprocess, 10.0ms inference, 1.7ms postprocess per image at shape (1, 3, 256, 256)\n[[     130.47      80.742]\n [     204.62      32.348]\n [     216.19      122.44]\n [     136.68      169.21]]\n",
          "output_type": "stream"
        },
        {
          "name": "stderr",
          "text": "285it [01:20,  3.71it/s]",
          "output_type": "stream"
        },
        {
          "name": "stdout",
          "text": "\n0: 256x256 1 plate, 10.0ms\nSpeed: 0.8ms preprocess, 10.0ms inference, 1.6ms postprocess per image at shape (1, 3, 256, 256)\n[[     9.6767      29.572]\n [     242.06      57.826]\n [     243.72      231.44]\n [     3.5441      205.79]]\n",
          "output_type": "stream"
        },
        {
          "name": "stderr",
          "text": "286it [01:20,  3.71it/s]",
          "output_type": "stream"
        },
        {
          "name": "stdout",
          "text": "\n0: 256x256 1 plate, 10.8ms\nSpeed: 1.0ms preprocess, 10.8ms inference, 1.6ms postprocess per image at shape (1, 3, 256, 256)\n[[     33.411      128.82]\n [      188.7      55.888]\n [      193.7      163.37]\n [     42.167      226.24]]\n",
          "output_type": "stream"
        },
        {
          "name": "stderr",
          "text": "287it [01:21,  3.68it/s]",
          "output_type": "stream"
        },
        {
          "name": "stdout",
          "text": "\n0: 256x256 1 plate, 10.3ms\nSpeed: 1.0ms preprocess, 10.3ms inference, 1.6ms postprocess per image at shape (1, 3, 256, 256)\n[[     4.5531      36.284]\n [     248.85      45.065]\n [     245.88       217.8]\n [     10.066      203.59]]\n",
          "output_type": "stream"
        },
        {
          "name": "stderr",
          "text": "288it [01:21,  3.65it/s]",
          "output_type": "stream"
        },
        {
          "name": "stdout",
          "text": "\n0: 256x256 1 plate, 10.0ms\nSpeed: 0.9ms preprocess, 10.0ms inference, 1.6ms postprocess per image at shape (1, 3, 256, 256)\n[[     13.859      41.432]\n [     235.15      104.13]\n [     231.86       226.8]\n [     13.691      170.49]]\n",
          "output_type": "stream"
        },
        {
          "name": "stderr",
          "text": "289it [01:21,  3.67it/s]",
          "output_type": "stream"
        },
        {
          "name": "stdout",
          "text": "\n0: 256x256 1 plate, 10.1ms\nSpeed: 1.0ms preprocess, 10.1ms inference, 1.6ms postprocess per image at shape (1, 3, 256, 256)\n[[     7.9506      43.053]\n [     243.41      29.152]\n [     245.97      197.23]\n [     13.688      217.72]]\n",
          "output_type": "stream"
        },
        {
          "name": "stderr",
          "text": "290it [01:22,  3.66it/s]",
          "output_type": "stream"
        },
        {
          "name": "stdout",
          "text": "\n0: 256x256 1 plate, 10.1ms\nSpeed: 1.0ms preprocess, 10.1ms inference, 1.6ms postprocess per image at shape (1, 3, 256, 256)\n[[     5.6033      12.135]\n [     247.94      92.882]\n [     240.24      235.47]\n [     9.8798      163.84]]\n",
          "output_type": "stream"
        },
        {
          "name": "stderr",
          "text": "291it [01:22,  3.65it/s]",
          "output_type": "stream"
        },
        {
          "name": "stdout",
          "text": "\n0: 256x256 1 plate, 9.9ms\nSpeed: 1.0ms preprocess, 9.9ms inference, 1.6ms postprocess per image at shape (1, 3, 256, 256)\n[[     53.778      88.209]\n [      198.5      18.056]\n [     217.18      132.76]\n [     62.005      212.44]]\n",
          "output_type": "stream"
        },
        {
          "name": "stderr",
          "text": "292it [01:22,  3.68it/s]",
          "output_type": "stream"
        },
        {
          "name": "stdout",
          "text": "\n0: 256x256 1 plate, 9.9ms\nSpeed: 0.9ms preprocess, 9.9ms inference, 1.6ms postprocess per image at shape (1, 3, 256, 256)\n[[     3.4769      36.734]\n [     249.18      38.228]\n [     246.65      210.98]\n [      9.838      209.35]]\n",
          "output_type": "stream"
        },
        {
          "name": "stderr",
          "text": "293it [01:22,  3.68it/s]",
          "output_type": "stream"
        },
        {
          "name": "stdout",
          "text": "\n0: 256x256 1 plate, 9.9ms\nSpeed: 0.9ms preprocess, 9.9ms inference, 1.6ms postprocess per image at shape (1, 3, 256, 256)\n[[    0.79021      32.105]\n [     253.73       33.08]\n [     251.37      215.06]\n [      7.525      216.36]]\n",
          "output_type": "stream"
        },
        {
          "name": "stderr",
          "text": "294it [01:23,  3.67it/s]",
          "output_type": "stream"
        },
        {
          "name": "stdout",
          "text": "\n0: 256x256 1 plate, 9.9ms\nSpeed: 1.0ms preprocess, 9.9ms inference, 1.6ms postprocess per image at shape (1, 3, 256, 256)\n[[     4.2409      36.813]\n [     252.83      33.938]\n [     250.28      216.64]\n [     10.866      222.13]]\n",
          "output_type": "stream"
        },
        {
          "name": "stderr",
          "text": "295it [01:23,  3.70it/s]",
          "output_type": "stream"
        },
        {
          "name": "stdout",
          "text": "\n0: 256x256 1 plate, 9.8ms\nSpeed: 0.9ms preprocess, 9.8ms inference, 1.6ms postprocess per image at shape (1, 3, 256, 256)\n[[     20.616      26.967]\n [     240.59      134.46]\n [     237.42       241.6]\n [     24.635      108.94]]\n",
          "output_type": "stream"
        },
        {
          "name": "stderr",
          "text": "296it [01:23,  3.67it/s]",
          "output_type": "stream"
        },
        {
          "name": "stdout",
          "text": "\n0: 256x256 1 plate, 10.0ms\nSpeed: 0.9ms preprocess, 10.0ms inference, 1.7ms postprocess per image at shape (1, 3, 256, 256)\n[[     18.302      52.182]\n [     230.97      12.595]\n [     241.61      179.54]\n [      27.31      228.23]]\n",
          "output_type": "stream"
        },
        {
          "name": "stderr",
          "text": "297it [01:23,  3.66it/s]",
          "output_type": "stream"
        },
        {
          "name": "stdout",
          "text": "\n0: 256x256 1 plate, 10.0ms\nSpeed: 0.9ms preprocess, 10.0ms inference, 1.7ms postprocess per image at shape (1, 3, 256, 256)\n[[     63.047      94.712]\n [     188.34      29.521]\n [     210.72      133.04]\n [     69.882         203]]\n",
          "output_type": "stream"
        },
        {
          "name": "stderr",
          "text": "298it [01:24,  3.66it/s]",
          "output_type": "stream"
        },
        {
          "name": "stdout",
          "text": "\n0: 256x256 1 plate, 10.0ms\nSpeed: 1.0ms preprocess, 10.0ms inference, 1.7ms postprocess per image at shape (1, 3, 256, 256)\n[[     16.557      67.032]\n [     237.16      28.476]\n [     234.91      191.24]\n [     17.518      234.27]]\n",
          "output_type": "stream"
        },
        {
          "name": "stderr",
          "text": "299it [01:24,  3.65it/s]",
          "output_type": "stream"
        },
        {
          "name": "stdout",
          "text": "\n0: 256x256 1 plate, 9.7ms\nSpeed: 0.9ms preprocess, 9.7ms inference, 1.6ms postprocess per image at shape (1, 3, 256, 256)\n[[     7.5128      47.471]\n [     247.53      59.134]\n [     246.31      217.17]\n [     11.915      206.76]]\n",
          "output_type": "stream"
        },
        {
          "name": "stderr",
          "text": "300it [01:24,  3.64it/s]",
          "output_type": "stream"
        },
        {
          "name": "stdout",
          "text": "\n0: 256x256 1 plate, 10.1ms\nSpeed: 0.9ms preprocess, 10.1ms inference, 1.6ms postprocess per image at shape (1, 3, 256, 256)\n[[     9.3777      31.836]\n [     243.57      94.755]\n [     236.15       236.2]\n [     11.861      168.95]]\n",
          "output_type": "stream"
        },
        {
          "name": "stderr",
          "text": "301it [01:25,  3.64it/s]",
          "output_type": "stream"
        },
        {
          "name": "stdout",
          "text": "\n0: 256x256 1 plate, 10.3ms\nSpeed: 1.0ms preprocess, 10.3ms inference, 1.6ms postprocess per image at shape (1, 3, 256, 256)\n[[     9.5702      52.602]\n [     243.82      43.152]\n [     247.05      203.56]\n [     14.925      222.85]]\n",
          "output_type": "stream"
        },
        {
          "name": "stderr",
          "text": "302it [01:25,  3.65it/s]",
          "output_type": "stream"
        },
        {
          "name": "stdout",
          "text": "\n0: 256x256 1 plate, 10.0ms\nSpeed: 0.9ms preprocess, 10.0ms inference, 1.6ms postprocess per image at shape (1, 3, 256, 256)\n[[     12.056      58.897]\n [     242.07      58.774]\n [     244.89      219.06]\n [     16.875      224.32]]\n",
          "output_type": "stream"
        },
        {
          "name": "stderr",
          "text": "303it [01:25,  3.65it/s]",
          "output_type": "stream"
        },
        {
          "name": "stdout",
          "text": "\n0: 256x256 1 plate, 9.9ms\nSpeed: 0.9ms preprocess, 9.9ms inference, 1.7ms postprocess per image at shape (1, 3, 256, 256)\n[[      15.14      42.393]\n [     234.15      60.257]\n [     238.02      215.71]\n [     11.048      197.27]]\n",
          "output_type": "stream"
        },
        {
          "name": "stderr",
          "text": "304it [01:25,  3.67it/s]",
          "output_type": "stream"
        },
        {
          "name": "stdout",
          "text": "\n0: 256x256 1 plate, 10.1ms\nSpeed: 1.0ms preprocess, 10.1ms inference, 1.6ms postprocess per image at shape (1, 3, 256, 256)\n[[     78.872      63.983]\n [      207.8      8.3435]\n [     231.31      140.99]\n [     88.363      205.03]]\n",
          "output_type": "stream"
        },
        {
          "name": "stderr",
          "text": "305it [01:26,  3.68it/s]",
          "output_type": "stream"
        },
        {
          "name": "stdout",
          "text": "\n0: 256x256 1 plate, 9.8ms\nSpeed: 0.9ms preprocess, 9.8ms inference, 1.6ms postprocess per image at shape (1, 3, 256, 256)\n[[     51.721      61.083]\n [     211.47      5.0414]\n [     234.46      138.26]\n [     61.056      210.54]]\n",
          "output_type": "stream"
        },
        {
          "name": "stderr",
          "text": "306it [01:26,  3.58it/s]",
          "output_type": "stream"
        },
        {
          "name": "stdout",
          "text": "\n0: 256x256 1 plate, 15.4ms\nSpeed: 0.8ms preprocess, 15.4ms inference, 1.7ms postprocess per image at shape (1, 3, 256, 256)\n[[     106.78      69.629]\n [     206.12      5.7901]\n [     228.11      116.32]\n [     121.15      183.55]]\n",
          "output_type": "stream"
        },
        {
          "name": "stderr",
          "text": "307it [01:26,  3.56it/s]",
          "output_type": "stream"
        },
        {
          "name": "stdout",
          "text": "\n0: 256x256 1 plate, 10.3ms\nSpeed: 1.1ms preprocess, 10.3ms inference, 1.6ms postprocess per image at shape (1, 3, 256, 256)\n[[      13.66      30.821]\n [     242.09      117.46]\n [     228.95      236.54]\n [     14.668      149.46]]\n",
          "output_type": "stream"
        },
        {
          "name": "stderr",
          "text": "308it [01:27,  3.59it/s]",
          "output_type": "stream"
        },
        {
          "name": "stdout",
          "text": "\n0: 256x256 1 plate, 10.1ms\nSpeed: 1.0ms preprocess, 10.1ms inference, 1.7ms postprocess per image at shape (1, 3, 256, 256)\n[[      21.83      82.889]\n [     233.01      31.341]\n [     231.55      183.77]\n [      24.33      238.52]]\n",
          "output_type": "stream"
        },
        {
          "name": "stderr",
          "text": "309it [01:27,  3.61it/s]",
          "output_type": "stream"
        },
        {
          "name": "stdout",
          "text": "\n0: 256x256 1 plate, 10.3ms\nSpeed: 0.9ms preprocess, 10.3ms inference, 1.9ms postprocess per image at shape (1, 3, 256, 256)\n[[     15.956      77.988]\n [      230.3      22.748]\n [     233.49      176.47]\n [     25.319      239.62]]\n",
          "output_type": "stream"
        },
        {
          "name": "stderr",
          "text": "310it [01:27,  3.62it/s]",
          "output_type": "stream"
        },
        {
          "name": "stdout",
          "text": "\n0: 256x256 1 plate, 9.9ms\nSpeed: 0.9ms preprocess, 9.9ms inference, 1.6ms postprocess per image at shape (1, 3, 256, 256)\n[[      10.62       21.49]\n [     242.72         127]\n [     228.75      238.06]\n [     11.857      136.78]]\n",
          "output_type": "stream"
        },
        {
          "name": "stderr",
          "text": "311it [01:27,  3.62it/s]",
          "output_type": "stream"
        },
        {
          "name": "stdout",
          "text": "\n0: 256x256 2 plates, 10.1ms\nSpeed: 0.9ms preprocess, 10.1ms inference, 1.6ms postprocess per image at shape (1, 3, 256, 256)\n[[     42.247      69.714]\n [     226.16      68.069]\n [     229.64      177.24]\n [     44.892      182.16]]\n",
          "output_type": "stream"
        },
        {
          "name": "stderr",
          "text": "312it [01:28,  3.64it/s]",
          "output_type": "stream"
        },
        {
          "name": "stdout",
          "text": "\n0: 256x256 1 plate, 9.8ms\nSpeed: 0.9ms preprocess, 9.8ms inference, 1.6ms postprocess per image at shape (1, 3, 256, 256)\n[[     29.873      72.255]\n [     222.17      78.366]\n [      221.4      186.28]\n [     34.168      185.73]]\n",
          "output_type": "stream"
        },
        {
          "name": "stderr",
          "text": "313it [01:28,  3.58it/s]",
          "output_type": "stream"
        },
        {
          "name": "stdout",
          "text": "\n0: 256x256 1 plate, 11.7ms\nSpeed: 0.9ms preprocess, 11.7ms inference, 2.1ms postprocess per image at shape (1, 3, 256, 256)\n[[     9.0497      20.952]\n [     246.02      101.42]\n [     235.12      235.13]\n [      12.23      154.98]]\n",
          "output_type": "stream"
        },
        {
          "name": "stderr",
          "text": "314it [01:28,  3.47it/s]",
          "output_type": "stream"
        },
        {
          "name": "stdout",
          "text": "\n0: 256x256 1 plate, 11.5ms\nSpeed: 1.4ms preprocess, 11.5ms inference, 1.7ms postprocess per image at shape (1, 3, 256, 256)\n[[     62.321      85.416]\n [     201.81      15.923]\n [     222.24      132.29]\n [     71.577      208.57]]\n",
          "output_type": "stream"
        },
        {
          "name": "stderr",
          "text": "315it [01:28,  3.51it/s]",
          "output_type": "stream"
        },
        {
          "name": "stdout",
          "text": "\n0: 256x256 1 plate, 10.3ms\nSpeed: 0.9ms preprocess, 10.3ms inference, 1.6ms postprocess per image at shape (1, 3, 256, 256)\n[[     9.2252       51.97]\n [     245.55      43.822]\n [     247.84      211.19]\n [      16.07       228.1]]\n",
          "output_type": "stream"
        },
        {
          "name": "stderr",
          "text": "316it [01:29,  3.55it/s]",
          "output_type": "stream"
        },
        {
          "name": "stdout",
          "text": "\n0: 256x256 1 plate, 10.5ms\nSpeed: 1.0ms preprocess, 10.5ms inference, 1.6ms postprocess per image at shape (1, 3, 256, 256)\n[[     3.6986      30.719]\n [     252.47      56.668]\n [     244.08      230.73]\n [     11.116      205.34]]\n",
          "output_type": "stream"
        },
        {
          "name": "stderr",
          "text": "317it [01:29,  3.57it/s]",
          "output_type": "stream"
        },
        {
          "name": "stdout",
          "text": "\n0: 256x256 1 plate, 10.1ms\nSpeed: 1.0ms preprocess, 10.1ms inference, 1.8ms postprocess per image at shape (1, 3, 256, 256)\n[[     19.996       48.46]\n [     233.12      72.605]\n [     230.59       212.5]\n [     23.474      173.23]]\n",
          "output_type": "stream"
        },
        {
          "name": "stderr",
          "text": "318it [01:29,  3.61it/s]",
          "output_type": "stream"
        },
        {
          "name": "stdout",
          "text": "\n0: 256x256 1 plate, 9.9ms\nSpeed: 0.9ms preprocess, 9.9ms inference, 1.6ms postprocess per image at shape (1, 3, 256, 256)\n[[     4.0075      50.188]\n [     245.55      33.928]\n [     248.47      208.05]\n [     12.136      224.01]]\n",
          "output_type": "stream"
        },
        {
          "name": "stderr",
          "text": "319it [01:30,  3.65it/s]",
          "output_type": "stream"
        },
        {
          "name": "stdout",
          "text": "\n0: 256x256 1 plate, 10.4ms\nSpeed: 0.6ms preprocess, 10.4ms inference, 1.6ms postprocess per image at shape (1, 3, 256, 256)\n[[     70.421      119.52]\n [     196.04      42.791]\n [     208.19      146.66]\n [       83.4      207.74]]\n",
          "output_type": "stream"
        },
        {
          "name": "stderr",
          "text": "320it [01:30,  3.63it/s]",
          "output_type": "stream"
        },
        {
          "name": "stdout",
          "text": "\n0: 256x256 1 plate, 9.9ms\nSpeed: 1.0ms preprocess, 9.9ms inference, 1.6ms postprocess per image at shape (1, 3, 256, 256)\n[[     9.9772      52.014]\n [     240.28      26.092]\n [     250.14      192.39]\n [     19.393      228.06]]\n",
          "output_type": "stream"
        },
        {
          "name": "stderr",
          "text": "321it [01:30,  3.65it/s]",
          "output_type": "stream"
        },
        {
          "name": "stdout",
          "text": "\n0: 256x256 1 plate, 9.9ms\nSpeed: 1.0ms preprocess, 9.9ms inference, 1.6ms postprocess per image at shape (1, 3, 256, 256)\n[[     6.4278      51.066]\n [     240.97      28.707]\n [     243.48      197.17]\n [     12.599      223.57]]\n",
          "output_type": "stream"
        },
        {
          "name": "stderr",
          "text": "322it [01:30,  3.64it/s]",
          "output_type": "stream"
        },
        {
          "name": "stdout",
          "text": "\n0: 256x256 1 plate, 10.1ms\nSpeed: 1.0ms preprocess, 10.1ms inference, 1.6ms postprocess per image at shape (1, 3, 256, 256)\n[[     13.217      60.785]\n [     238.15      66.439]\n [     243.49      219.29]\n [     16.252       218.6]]\n",
          "output_type": "stream"
        },
        {
          "name": "stderr",
          "text": "323it [01:31,  3.63it/s]",
          "output_type": "stream"
        },
        {
          "name": "stdout",
          "text": "\n0: 256x256 1 plate, 10.4ms\nSpeed: 1.0ms preprocess, 10.4ms inference, 1.6ms postprocess per image at shape (1, 3, 256, 256)\n[[     22.649      62.161]\n [     227.38      20.593]\n [     242.36      178.23]\n [     30.886       236.5]]\n",
          "output_type": "stream"
        },
        {
          "name": "stderr",
          "text": "324it [01:31,  3.62it/s]",
          "output_type": "stream"
        },
        {
          "name": "stdout",
          "text": "\n0: 256x256 1 plate, 10.6ms\nSpeed: 1.1ms preprocess, 10.6ms inference, 1.7ms postprocess per image at shape (1, 3, 256, 256)\n[[          0      37.256]\n [      246.6      21.554]\n [     248.28      226.71]\n [          0      245.24]]\n",
          "output_type": "stream"
        },
        {
          "name": "stderr",
          "text": "325it [01:31,  3.58it/s]",
          "output_type": "stream"
        },
        {
          "name": "stdout",
          "text": "\n0: 256x256 1 plate, 10.2ms\nSpeed: 0.9ms preprocess, 10.2ms inference, 1.6ms postprocess per image at shape (1, 3, 256, 256)\n[[     10.985      15.397]\n [     243.34      101.79]\n [     233.73      234.05]\n [     13.896      148.06]]\n",
          "output_type": "stream"
        },
        {
          "name": "stderr",
          "text": "326it [01:32,  3.60it/s]",
          "output_type": "stream"
        },
        {
          "name": "stdout",
          "text": "\n0: 256x256 1 plate, 9.7ms\nSpeed: 1.1ms preprocess, 9.7ms inference, 1.6ms postprocess per image at shape (1, 3, 256, 256)\n[[     12.022      63.239]\n [     236.77      60.817]\n [     242.05      211.98]\n [     15.985      218.39]]\n",
          "output_type": "stream"
        },
        {
          "name": "stderr",
          "text": "327it [01:32,  3.56it/s]",
          "output_type": "stream"
        },
        {
          "name": "stdout",
          "text": "\n0: 256x256 1 plate, 10.0ms\nSpeed: 1.1ms preprocess, 10.0ms inference, 1.6ms postprocess per image at shape (1, 3, 256, 256)\n[[     17.589      57.912]\n [     230.65       19.17]\n [     243.66      170.21]\n [     25.202      226.85]]\n",
          "output_type": "stream"
        },
        {
          "name": "stderr",
          "text": "328it [01:32,  3.56it/s]",
          "output_type": "stream"
        },
        {
          "name": "stdout",
          "text": "\n0: 256x256 1 plate, 9.8ms\nSpeed: 0.9ms preprocess, 9.8ms inference, 1.7ms postprocess per image at shape (1, 3, 256, 256)\n[[     73.293      97.782]\n [     180.34      39.933]\n [     201.27      131.93]\n [       78.5      194.67]]\n",
          "output_type": "stream"
        },
        {
          "name": "stderr",
          "text": "329it [01:32,  3.56it/s]",
          "output_type": "stream"
        },
        {
          "name": "stdout",
          "text": "\n0: 256x256 1 plate, 10.3ms\nSpeed: 1.0ms preprocess, 10.3ms inference, 1.8ms postprocess per image at shape (1, 3, 256, 256)\n[[     12.119      50.296]\n [     233.63      56.658]\n [     241.06      212.42]\n [      10.55       207.5]]\n",
          "output_type": "stream"
        },
        {
          "name": "stderr",
          "text": "330it [01:33,  3.57it/s]",
          "output_type": "stream"
        },
        {
          "name": "stdout",
          "text": "\n0: 256x256 1 plate, 10.4ms\nSpeed: 1.0ms preprocess, 10.4ms inference, 1.6ms postprocess per image at shape (1, 3, 256, 256)\n[[     36.291      87.148]\n [      210.6      16.788]\n [     224.91      141.43]\n [     43.746      224.73]]\n",
          "output_type": "stream"
        },
        {
          "name": "stderr",
          "text": "331it [01:33,  3.57it/s]",
          "output_type": "stream"
        },
        {
          "name": "stdout",
          "text": "\n0: 256x256 1 plate, 10.4ms\nSpeed: 1.0ms preprocess, 10.4ms inference, 1.6ms postprocess per image at shape (1, 3, 256, 256)\n[[     8.9899      30.308]\n [     247.55      85.073]\n [     239.17       232.7]\n [     12.621      178.07]]\n",
          "output_type": "stream"
        },
        {
          "name": "stderr",
          "text": "332it [01:33,  3.57it/s]",
          "output_type": "stream"
        },
        {
          "name": "stdout",
          "text": "\n0: 256x256 1 plate, 9.6ms\nSpeed: 0.9ms preprocess, 9.6ms inference, 1.6ms postprocess per image at shape (1, 3, 256, 256)\n[[      1.503      34.968]\n [     249.11       71.21]\n [     244.65      230.92]\n [     6.2813      195.76]]\n",
          "output_type": "stream"
        },
        {
          "name": "stderr",
          "text": "333it [01:33,  3.60it/s]",
          "output_type": "stream"
        },
        {
          "name": "stdout",
          "text": "\n0: 256x256 1 plate, 9.5ms\nSpeed: 0.9ms preprocess, 9.5ms inference, 1.6ms postprocess per image at shape (1, 3, 256, 256)\n[[     22.351      80.865]\n [     231.87      32.647]\n [     231.16      177.39]\n [     25.922      231.04]]\n",
          "output_type": "stream"
        },
        {
          "name": "stderr",
          "text": "334it [01:34,  3.61it/s]",
          "output_type": "stream"
        },
        {
          "name": "stdout",
          "text": "\n0: 256x256 1 plate, 9.9ms\nSpeed: 0.9ms preprocess, 9.9ms inference, 1.6ms postprocess per image at shape (1, 3, 256, 256)\n[[     61.701      58.739]\n [     221.63      12.905]\n [     237.89      162.15]\n [     71.377      220.17]]\n",
          "output_type": "stream"
        },
        {
          "name": "stderr",
          "text": "335it [01:34,  3.60it/s]",
          "output_type": "stream"
        },
        {
          "name": "stdout",
          "text": "\n0: 256x256 1 plate, 9.7ms\nSpeed: 0.9ms preprocess, 9.7ms inference, 1.6ms postprocess per image at shape (1, 3, 256, 256)\n[[     3.1685      36.953]\n [     250.55      33.488]\n [     244.95      221.43]\n [     11.807      226.18]]\n",
          "output_type": "stream"
        },
        {
          "name": "stderr",
          "text": "336it [01:34,  3.61it/s]",
          "output_type": "stream"
        },
        {
          "name": "stdout",
          "text": "\n0: 256x256 1 plate, 9.7ms\nSpeed: 1.0ms preprocess, 9.7ms inference, 1.7ms postprocess per image at shape (1, 3, 256, 256)\n[[     4.9455      46.349]\n [     247.53      30.629]\n [     250.24      199.99]\n [     11.672      221.57]]\n",
          "output_type": "stream"
        },
        {
          "name": "stderr",
          "text": "337it [01:35,  3.62it/s]",
          "output_type": "stream"
        },
        {
          "name": "stdout",
          "text": "\n0: 256x256 1 plate, 9.9ms\nSpeed: 1.0ms preprocess, 9.9ms inference, 1.6ms postprocess per image at shape (1, 3, 256, 256)\n[[     6.6821      12.548]\n [     247.98      88.355]\n [     241.14      233.76]\n [     11.164      165.17]]\n",
          "output_type": "stream"
        },
        {
          "name": "stderr",
          "text": "338it [01:35,  3.59it/s]",
          "output_type": "stream"
        },
        {
          "name": "stdout",
          "text": "\n0: 256x256 1 plate, 10.0ms\nSpeed: 0.9ms preprocess, 10.0ms inference, 1.6ms postprocess per image at shape (1, 3, 256, 256)\n[[     20.962       47.47]\n [     241.13      78.418]\n [     244.93      217.69]\n [     22.778      206.27]]\n",
          "output_type": "stream"
        },
        {
          "name": "stderr",
          "text": "339it [01:35,  3.59it/s]",
          "output_type": "stream"
        },
        {
          "name": "stdout",
          "text": "\n0: 256x256 1 plate, 9.8ms\nSpeed: 1.0ms preprocess, 9.8ms inference, 1.6ms postprocess per image at shape (1, 3, 256, 256)\n[[     13.131      59.597]\n [     237.12      71.109]\n [     241.69      218.55]\n [     15.661      211.87]]\n",
          "output_type": "stream"
        },
        {
          "name": "stderr",
          "text": "340it [01:35,  3.60it/s]",
          "output_type": "stream"
        },
        {
          "name": "stdout",
          "text": "\n0: 256x256 1 plate, 10.0ms\nSpeed: 0.8ms preprocess, 10.0ms inference, 1.6ms postprocess per image at shape (1, 3, 256, 256)\n[[     17.548      14.006]\n [     238.72      114.23]\n [     234.63      239.91]\n [     9.0118      142.73]]\n",
          "output_type": "stream"
        },
        {
          "name": "stderr",
          "text": "341it [01:36,  3.60it/s]",
          "output_type": "stream"
        },
        {
          "name": "stdout",
          "text": "\n0: 256x256 1 plate, 9.9ms\nSpeed: 0.9ms preprocess, 9.9ms inference, 1.7ms postprocess per image at shape (1, 3, 256, 256)\n[[     24.492      35.758]\n [     234.54      93.987]\n [     238.57      221.22]\n [     18.351      170.52]]\n",
          "output_type": "stream"
        },
        {
          "name": "stderr",
          "text": "342it [01:36,  3.49it/s]",
          "output_type": "stream"
        },
        {
          "name": "stdout",
          "text": "\n0: 256x256 1 plate, 9.7ms\nSpeed: 0.9ms preprocess, 9.7ms inference, 1.6ms postprocess per image at shape (1, 3, 256, 256)\n[[     59.747      100.31]\n [     174.84      40.279]\n [     196.03      108.36]\n [     63.575      179.54]]\n",
          "output_type": "stream"
        },
        {
          "name": "stderr",
          "text": "343it [01:36,  3.50it/s]",
          "output_type": "stream"
        },
        {
          "name": "stdout",
          "text": "\n0: 256x256 1 plate, 9.7ms\nSpeed: 0.9ms preprocess, 9.7ms inference, 1.6ms postprocess per image at shape (1, 3, 256, 256)\n[[     7.0587      49.293]\n [     243.96      24.428]\n [     250.44      199.37]\n [     14.761      229.58]]\n",
          "output_type": "stream"
        },
        {
          "name": "stderr",
          "text": "344it [01:37,  3.55it/s]",
          "output_type": "stream"
        },
        {
          "name": "stdout",
          "text": "\n0: 256x256 1 plate, 10.2ms\nSpeed: 1.0ms preprocess, 10.2ms inference, 1.6ms postprocess per image at shape (1, 3, 256, 256)\n[[     84.335      88.554]\n [     225.27      12.649]\n [      232.7      154.41]\n [     100.08      218.54]]\n",
          "output_type": "stream"
        },
        {
          "name": "stderr",
          "text": "345it [01:37,  3.59it/s]",
          "output_type": "stream"
        },
        {
          "name": "stdout",
          "text": "\n0: 256x256 1 plate, 9.8ms\nSpeed: 1.1ms preprocess, 9.8ms inference, 1.6ms postprocess per image at shape (1, 3, 256, 256)\n[[     3.5565      41.864]\n [      251.1      45.649]\n [     246.73      223.64]\n [     11.348       219.7]]\n",
          "output_type": "stream"
        },
        {
          "name": "stderr",
          "text": "346it [01:37,  3.61it/s]",
          "output_type": "stream"
        },
        {
          "name": "stdout",
          "text": "\n0: 256x256 1 plate, 9.6ms\nSpeed: 1.0ms preprocess, 9.6ms inference, 1.6ms postprocess per image at shape (1, 3, 256, 256)\n[[     3.6825      42.631]\n [        247      35.706]\n [     246.34      210.68]\n [     9.4256      216.69]]\n",
          "output_type": "stream"
        },
        {
          "name": "stderr",
          "text": "347it [01:37,  3.63it/s]",
          "output_type": "stream"
        },
        {
          "name": "stdout",
          "text": "\n0: 256x256 1 plate, 9.6ms\nSpeed: 0.9ms preprocess, 9.6ms inference, 1.6ms postprocess per image at shape (1, 3, 256, 256)\n[[     8.7282      42.625]\n [     242.88      47.536]\n [     243.76       199.1]\n [     10.362      190.42]]\n",
          "output_type": "stream"
        },
        {
          "name": "stderr",
          "text": "348it [01:38,  3.65it/s]",
          "output_type": "stream"
        },
        {
          "name": "stdout",
          "text": "\n0: 256x256 1 plate, 9.6ms\nSpeed: 0.9ms preprocess, 9.6ms inference, 1.6ms postprocess per image at shape (1, 3, 256, 256)\n[[     125.16      54.574]\n [     211.23           0]\n [     233.89      126.64]\n [     136.99      180.38]]\n",
          "output_type": "stream"
        },
        {
          "name": "stderr",
          "text": "349it [01:38,  3.63it/s]",
          "output_type": "stream"
        },
        {
          "name": "stdout",
          "text": "\n0: 256x256 1 plate, 10.2ms\nSpeed: 1.0ms preprocess, 10.2ms inference, 1.6ms postprocess per image at shape (1, 3, 256, 256)\n[[     17.556      32.621]\n [        233      121.33]\n [     226.95      232.11]\n [     16.628      149.17]]\n",
          "output_type": "stream"
        },
        {
          "name": "stderr",
          "text": "350it [01:38,  3.61it/s]",
          "output_type": "stream"
        },
        {
          "name": "stdout",
          "text": "\n0: 256x256 1 plate, 9.6ms\nSpeed: 0.9ms preprocess, 9.6ms inference, 1.6ms postprocess per image at shape (1, 3, 256, 256)\n[[     86.681      74.733]\n [     203.43       5.295]\n [     224.12       115.1]\n [     99.774      188.98]]\n",
          "output_type": "stream"
        },
        {
          "name": "stderr",
          "text": "351it [01:38,  3.63it/s]",
          "output_type": "stream"
        },
        {
          "name": "stdout",
          "text": "\n0: 256x256 1 plate, 9.5ms\nSpeed: 1.0ms preprocess, 9.5ms inference, 1.6ms postprocess per image at shape (1, 3, 256, 256)\n[[     12.215      20.489]\n [     242.08         118]\n [     229.76      240.58]\n [     16.182      143.69]]\n",
          "output_type": "stream"
        },
        {
          "name": "stderr",
          "text": "352it [01:39,  3.65it/s]",
          "output_type": "stream"
        },
        {
          "name": "stdout",
          "text": "\n0: 256x256 1 plate, 9.8ms\nSpeed: 1.0ms preprocess, 9.8ms inference, 1.8ms postprocess per image at shape (1, 3, 256, 256)\n[[     11.996      53.249]\n [     244.58      32.938]\n [     251.48      210.02]\n [     21.131      238.94]]\n",
          "output_type": "stream"
        },
        {
          "name": "stderr",
          "text": "353it [01:39,  3.67it/s]",
          "output_type": "stream"
        },
        {
          "name": "stdout",
          "text": "\n0: 256x256 1 plate, 9.9ms\nSpeed: 0.9ms preprocess, 9.9ms inference, 1.7ms postprocess per image at shape (1, 3, 256, 256)\n[[     24.951      53.157]\n [     226.09      58.478]\n [     233.93      177.53]\n [     27.515      186.14]]\n",
          "output_type": "stream"
        },
        {
          "name": "stderr",
          "text": "354it [01:39,  3.65it/s]",
          "output_type": "stream"
        },
        {
          "name": "stdout",
          "text": "\n0: 256x256 1 plate, 10.0ms\nSpeed: 0.9ms preprocess, 10.0ms inference, 1.8ms postprocess per image at shape (1, 3, 256, 256)\n[[     15.421      65.482]\n [     232.49       52.22]\n [     239.01      193.98]\n [     21.716         216]]\n",
          "output_type": "stream"
        },
        {
          "name": "stderr",
          "text": "355it [01:40,  3.68it/s]",
          "output_type": "stream"
        },
        {
          "name": "stdout",
          "text": "\n0: 256x256 1 plate, 10.1ms\nSpeed: 1.0ms preprocess, 10.1ms inference, 1.6ms postprocess per image at shape (1, 3, 256, 256)\n[[     6.6942      24.506]\n [      248.8      58.213]\n [     243.73      224.57]\n [     11.828      187.13]]\n",
          "output_type": "stream"
        },
        {
          "name": "stderr",
          "text": "356it [01:40,  3.68it/s]",
          "output_type": "stream"
        },
        {
          "name": "stdout",
          "text": "\n0: 256x256 1 plate, 9.9ms\nSpeed: 0.9ms preprocess, 9.9ms inference, 1.6ms postprocess per image at shape (1, 3, 256, 256)\n[[     12.323      29.048]\n [     241.78      84.546]\n [        241      213.05]\n [      10.39      157.19]]\n",
          "output_type": "stream"
        },
        {
          "name": "stderr",
          "text": "357it [01:40,  3.66it/s]",
          "output_type": "stream"
        },
        {
          "name": "stdout",
          "text": "\n0: 256x256 1 plate, 10.0ms\nSpeed: 0.9ms preprocess, 10.0ms inference, 1.6ms postprocess per image at shape (1, 3, 256, 256)\n[[     22.972      85.557]\n [     222.81      30.266]\n [      231.3      158.35]\n [     29.111      227.78]]\n",
          "output_type": "stream"
        },
        {
          "name": "stderr",
          "text": "358it [01:40,  3.68it/s]",
          "output_type": "stream"
        },
        {
          "name": "stdout",
          "text": "\n0: 256x256 1 plate, 9.8ms\nSpeed: 0.9ms preprocess, 9.8ms inference, 1.7ms postprocess per image at shape (1, 3, 256, 256)\n[[      47.47      97.917]\n [     206.24      40.866]\n [     212.37      164.95]\n [      57.63      229.26]]\n",
          "output_type": "stream"
        },
        {
          "name": "stderr",
          "text": "359it [01:41,  3.68it/s]",
          "output_type": "stream"
        },
        {
          "name": "stdout",
          "text": "\n0: 256x256 1 plate, 10.0ms\nSpeed: 0.9ms preprocess, 10.0ms inference, 1.7ms postprocess per image at shape (1, 3, 256, 256)\n[[     6.3813      41.622]\n [     238.83      59.128]\n [     242.21      229.11]\n [    0.95043      213.79]]\n",
          "output_type": "stream"
        },
        {
          "name": "stderr",
          "text": "360it [01:41,  3.69it/s]",
          "output_type": "stream"
        },
        {
          "name": "stdout",
          "text": "\n0: 256x256 1 plate, 9.6ms\nSpeed: 0.9ms preprocess, 9.6ms inference, 1.6ms postprocess per image at shape (1, 3, 256, 256)\n[[     37.596      94.022]\n [     197.11      24.064]\n [     213.34       136.9]\n [     44.128       218.1]]\n",
          "output_type": "stream"
        },
        {
          "name": "stderr",
          "text": "361it [01:41,  3.66it/s]",
          "output_type": "stream"
        },
        {
          "name": "stdout",
          "text": "\n0: 256x256 1 plate, 9.9ms\nSpeed: 1.0ms preprocess, 9.9ms inference, 1.6ms postprocess per image at shape (1, 3, 256, 256)\n[[     13.729      29.536]\n [     233.09      66.281]\n [     238.65      209.45]\n [     7.4736      170.15]]\n",
          "output_type": "stream"
        },
        {
          "name": "stderr",
          "text": "362it [01:41,  3.67it/s]",
          "output_type": "stream"
        },
        {
          "name": "stdout",
          "text": "\n0: 256x256 1 plate, 9.8ms\nSpeed: 1.0ms preprocess, 9.8ms inference, 1.6ms postprocess per image at shape (1, 3, 256, 256)\n[[     22.478      29.146]\n [     230.47       73.37]\n [     232.95      220.06]\n [      18.62       175.7]]\n",
          "output_type": "stream"
        },
        {
          "name": "stderr",
          "text": "363it [01:42,  3.68it/s]",
          "output_type": "stream"
        },
        {
          "name": "stdout",
          "text": "\n0: 256x256 1 plate, 10.0ms\nSpeed: 0.9ms preprocess, 10.0ms inference, 1.6ms postprocess per image at shape (1, 3, 256, 256)\n[[     1.0217      22.869]\n [     255.17      41.143]\n [     249.51      224.86]\n [     9.3535       208.6]]\n",
          "output_type": "stream"
        },
        {
          "name": "stderr",
          "text": "364it [01:42,  3.68it/s]",
          "output_type": "stream"
        },
        {
          "name": "stdout",
          "text": "\n0: 256x256 1 plate, 9.9ms\nSpeed: 1.0ms preprocess, 9.9ms inference, 1.6ms postprocess per image at shape (1, 3, 256, 256)\n[[      13.63      41.175]\n [     234.28      59.637]\n [     239.93      212.55]\n [     8.6607      199.31]]\n",
          "output_type": "stream"
        },
        {
          "name": "stderr",
          "text": "365it [01:42,  3.65it/s]",
          "output_type": "stream"
        },
        {
          "name": "stdout",
          "text": "\n0: 256x256 1 plate, 9.7ms\nSpeed: 0.6ms preprocess, 9.7ms inference, 1.6ms postprocess per image at shape (1, 3, 256, 256)\n[[     11.308      12.769]\n [     241.18      98.438]\n [      235.5      238.37]\n [     3.4126      152.83]]\n",
          "output_type": "stream"
        },
        {
          "name": "stderr",
          "text": "366it [01:43,  3.66it/s]",
          "output_type": "stream"
        },
        {
          "name": "stdout",
          "text": "\n0: 256x256 1 plate, 9.9ms\nSpeed: 0.9ms preprocess, 9.9ms inference, 1.7ms postprocess per image at shape (1, 3, 256, 256)\n[[     18.314      42.188]\n [     230.28      49.618]\n [     236.48      204.08]\n [     16.893      198.99]]\n",
          "output_type": "stream"
        },
        {
          "name": "stderr",
          "text": "367it [01:43,  3.65it/s]",
          "output_type": "stream"
        },
        {
          "name": "stdout",
          "text": "\n0: 256x256 1 plate, 9.8ms\nSpeed: 0.9ms preprocess, 9.8ms inference, 1.6ms postprocess per image at shape (1, 3, 256, 256)\n[[     11.242      58.947]\n [     239.82      35.665]\n [     247.97      196.14]\n [     17.924      230.35]]\n",
          "output_type": "stream"
        },
        {
          "name": "stderr",
          "text": "368it [01:43,  3.62it/s]",
          "output_type": "stream"
        },
        {
          "name": "stdout",
          "text": "\n0: 256x256 1 plate, 10.0ms\nSpeed: 1.0ms preprocess, 10.0ms inference, 1.7ms postprocess per image at shape (1, 3, 256, 256)\n[[     20.528      17.369]\n [     230.07      126.64]\n [     227.81      236.03]\n [     11.395       127.1]]\n",
          "output_type": "stream"
        },
        {
          "name": "stderr",
          "text": "369it [01:43,  3.56it/s]",
          "output_type": "stream"
        },
        {
          "name": "stdout",
          "text": "\n0: 256x256 1 plate, 10.4ms\nSpeed: 0.9ms preprocess, 10.4ms inference, 1.6ms postprocess per image at shape (1, 3, 256, 256)\n[[     12.168      38.558]\n [     236.98      106.28]\n [     231.68      226.62]\n [     5.9209      152.19]]\n",
          "output_type": "stream"
        },
        {
          "name": "stderr",
          "text": "370it [01:44,  3.57it/s]",
          "output_type": "stream"
        },
        {
          "name": "stdout",
          "text": "\n0: 256x256 1 plate, 9.7ms\nSpeed: 1.0ms preprocess, 9.7ms inference, 1.6ms postprocess per image at shape (1, 3, 256, 256)\n[[     18.977      25.249]\n [     244.03      103.89]\n [     238.57      240.24]\n [     22.223      135.45]]\n",
          "output_type": "stream"
        },
        {
          "name": "stderr",
          "text": "371it [01:44,  3.55it/s]",
          "output_type": "stream"
        },
        {
          "name": "stdout",
          "text": "\n0: 256x256 1 plate, 9.7ms\nSpeed: 0.9ms preprocess, 9.7ms inference, 1.6ms postprocess per image at shape (1, 3, 256, 256)\n[[     10.853      42.258]\n [     238.19      49.463]\n [     243.35      213.01]\n [     6.4308      207.15]]\n",
          "output_type": "stream"
        },
        {
          "name": "stderr",
          "text": "372it [01:44,  3.55it/s]",
          "output_type": "stream"
        },
        {
          "name": "stdout",
          "text": "\n0: 256x256 1 plate, 10.0ms\nSpeed: 1.0ms preprocess, 10.0ms inference, 1.6ms postprocess per image at shape (1, 3, 256, 256)\n[[      34.72      57.464]\n [     233.62      33.801]\n [     229.58      216.26]\n [     41.261      236.08]]\n",
          "output_type": "stream"
        },
        {
          "name": "stderr",
          "text": "373it [01:45,  3.49it/s]",
          "output_type": "stream"
        },
        {
          "name": "stdout",
          "text": "\n0: 256x256 1 plate, 11.0ms\nSpeed: 1.1ms preprocess, 11.0ms inference, 1.7ms postprocess per image at shape (1, 3, 256, 256)\n[[      13.17      28.522]\n [     234.59      132.69]\n [     224.23      242.04]\n [     18.647      119.02]]\n",
          "output_type": "stream"
        },
        {
          "name": "stderr",
          "text": "374it [01:45,  3.44it/s]",
          "output_type": "stream"
        },
        {
          "name": "stdout",
          "text": "\n0: 256x256 1 plate, 9.7ms\nSpeed: 1.0ms preprocess, 9.7ms inference, 1.6ms postprocess per image at shape (1, 3, 256, 256)\n[[     6.5655      35.011]\n [     241.16      49.951]\n [     243.52       227.2]\n [    0.94147      213.61]]\n",
          "output_type": "stream"
        },
        {
          "name": "stderr",
          "text": "375it [01:45,  3.49it/s]",
          "output_type": "stream"
        },
        {
          "name": "stdout",
          "text": "\n0: 256x256 1 plate, 9.7ms\nSpeed: 0.9ms preprocess, 9.7ms inference, 1.6ms postprocess per image at shape (1, 3, 256, 256)\n[[     10.563      27.197]\n [     244.52      119.52]\n [     238.76      248.35]\n [     14.949      131.86]]\n",
          "output_type": "stream"
        },
        {
          "name": "stderr",
          "text": "376it [01:45,  3.52it/s]",
          "output_type": "stream"
        },
        {
          "name": "stdout",
          "text": "\n0: 256x256 1 plate, 9.9ms\nSpeed: 1.0ms preprocess, 9.9ms inference, 1.7ms postprocess per image at shape (1, 3, 256, 256)\n[[     12.557      22.176]\n [     240.23      123.52]\n [     226.75         239]\n [     15.009      135.65]]\n",
          "output_type": "stream"
        },
        {
          "name": "stderr",
          "text": "377it [01:46,  3.52it/s]",
          "output_type": "stream"
        },
        {
          "name": "stdout",
          "text": "\n0: 256x256 1 plate, 9.9ms\nSpeed: 1.1ms preprocess, 9.9ms inference, 1.6ms postprocess per image at shape (1, 3, 256, 256)\n[[     12.655      52.815]\n [     234.78      13.306]\n [     243.54      181.55]\n [      20.72      230.98]]\n",
          "output_type": "stream"
        },
        {
          "name": "stderr",
          "text": "378it [01:46,  3.41it/s]",
          "output_type": "stream"
        },
        {
          "name": "stdout",
          "text": "\n0: 256x256 1 plate, 10.1ms\nSpeed: 1.0ms preprocess, 10.1ms inference, 1.7ms postprocess per image at shape (1, 3, 256, 256)\n[[     21.666      82.136]\n [     223.75      19.062]\n [     231.16      163.65]\n [     31.627      236.91]]\n",
          "output_type": "stream"
        },
        {
          "name": "stderr",
          "text": "379it [01:46,  3.50it/s]",
          "output_type": "stream"
        },
        {
          "name": "stdout",
          "text": "\n0: 256x256 1 plate, 9.6ms\nSpeed: 1.0ms preprocess, 9.6ms inference, 1.6ms postprocess per image at shape (1, 3, 256, 256)\n[[          0           0]\n [     255.84      97.356]\n [     246.53      249.95]\n [          0           0]]\n",
          "output_type": "stream"
        },
        {
          "name": "stderr",
          "text": "380it [01:47,  3.57it/s]",
          "output_type": "stream"
        },
        {
          "name": "stdout",
          "text": "\n0: 256x256 1 plate, 9.8ms\nSpeed: 0.9ms preprocess, 9.8ms inference, 1.6ms postprocess per image at shape (1, 3, 256, 256)\n[[          0           0]\n [     214.44      162.43]\n [          0           0]\n [          0           0]]\n",
          "output_type": "stream"
        },
        {
          "name": "stderr",
          "text": "381it [01:47,  3.64it/s]",
          "output_type": "stream"
        },
        {
          "name": "stdout",
          "text": "\n0: 256x256 1 plate, 9.7ms\nSpeed: 1.0ms preprocess, 9.7ms inference, 1.6ms postprocess per image at shape (1, 3, 256, 256)\n[[     39.856      92.459]\n [     223.65      33.948]\n [     229.14      152.38]\n [     51.462      218.95]]\n",
          "output_type": "stream"
        },
        {
          "name": "stderr",
          "text": "382it [01:47,  3.64it/s]",
          "output_type": "stream"
        },
        {
          "name": "stdout",
          "text": "\n0: 256x256 1 plate, 10.1ms\nSpeed: 1.0ms preprocess, 10.1ms inference, 2.2ms postprocess per image at shape (1, 3, 256, 256)\n[[     10.627      38.021]\n [     237.49      50.907]\n [     241.92       213.8]\n [     5.8819      202.09]]\n",
          "output_type": "stream"
        },
        {
          "name": "stderr",
          "text": "383it [01:47,  3.64it/s]",
          "output_type": "stream"
        },
        {
          "name": "stdout",
          "text": "\n0: 256x256 1 plate, 10.0ms\nSpeed: 0.9ms preprocess, 10.0ms inference, 1.6ms postprocess per image at shape (1, 3, 256, 256)\n[[     139.65      86.476]\n [     153.59      158.94]\n [     157.46      210.01]\n [     134.44      150.73]]\n",
          "output_type": "stream"
        },
        {
          "name": "stderr",
          "text": "384it [01:48,  3.66it/s]",
          "output_type": "stream"
        },
        {
          "name": "stdout",
          "text": "\n0: 256x256 1 plate, 9.8ms\nSpeed: 0.8ms preprocess, 9.8ms inference, 1.6ms postprocess per image at shape (1, 3, 256, 256)\n[[     21.939      31.358]\n [      228.7      103.11]\n [      226.8      218.81]\n [     20.454       148.4]]\n",
          "output_type": "stream"
        },
        {
          "name": "stderr",
          "text": "385it [01:48,  3.66it/s]",
          "output_type": "stream"
        },
        {
          "name": "stdout",
          "text": "\n0: 256x256 1 plate, 10.0ms\nSpeed: 1.0ms preprocess, 10.0ms inference, 1.6ms postprocess per image at shape (1, 3, 256, 256)\n[[      1.314      35.815]\n [     246.45      36.071]\n [     247.63      231.52]\n [          0      232.42]]\n",
          "output_type": "stream"
        },
        {
          "name": "stderr",
          "text": "386it [01:48,  3.68it/s]",
          "output_type": "stream"
        },
        {
          "name": "stdout",
          "text": "\n0: 256x256 1 plate, 10.1ms\nSpeed: 1.0ms preprocess, 10.1ms inference, 1.7ms postprocess per image at shape (1, 3, 256, 256)\n[[     14.418      16.223]\n [     240.81      115.43]\n [     234.83      245.07]\n [     5.4778      152.07]]\n",
          "output_type": "stream"
        },
        {
          "name": "stderr",
          "text": "387it [01:48,  3.68it/s]",
          "output_type": "stream"
        },
        {
          "name": "stdout",
          "text": "\n0: 256x256 1 plate, 9.7ms\nSpeed: 0.9ms preprocess, 9.7ms inference, 1.6ms postprocess per image at shape (1, 3, 256, 256)\n[[     11.071      36.482]\n [     237.26       48.81]\n [     240.06      228.93]\n [     9.8189      218.64]]\n",
          "output_type": "stream"
        },
        {
          "name": "stderr",
          "text": "388it [01:49,  3.65it/s]",
          "output_type": "stream"
        },
        {
          "name": "stdout",
          "text": "\n0: 256x256 1 plate, 10.4ms\nSpeed: 1.1ms preprocess, 10.4ms inference, 1.7ms postprocess per image at shape (1, 3, 256, 256)\n[[     12.846      8.1873]\n [     241.44      107.18]\n [     232.83      244.72]\n [     3.3433      149.17]]\n",
          "output_type": "stream"
        },
        {
          "name": "stderr",
          "text": "389it [01:49,  3.55it/s]",
          "output_type": "stream"
        },
        {
          "name": "stdout",
          "text": "\n0: 256x256 1 plate, 10.1ms\nSpeed: 0.9ms preprocess, 10.1ms inference, 1.6ms postprocess per image at shape (1, 3, 256, 256)\n[[     10.464      35.765]\n [      239.3      53.459]\n [     241.58      219.99]\n [     6.8588      203.75]]\n",
          "output_type": "stream"
        },
        {
          "name": "stderr",
          "text": "390it [01:49,  3.56it/s]",
          "output_type": "stream"
        },
        {
          "name": "stdout",
          "text": "\n0: 256x256 1 plate, 9.8ms\nSpeed: 1.0ms preprocess, 9.8ms inference, 1.6ms postprocess per image at shape (1, 3, 256, 256)\n[[     2.6038      32.602]\n [     248.55      67.103]\n [     242.96      227.17]\n [     7.4219      194.59]]\n",
          "output_type": "stream"
        },
        {
          "name": "stderr",
          "text": "391it [01:50,  3.60it/s]",
          "output_type": "stream"
        },
        {
          "name": "stdout",
          "text": "\n0: 256x256 1 plate, 9.7ms\nSpeed: 0.6ms preprocess, 9.7ms inference, 1.6ms postprocess per image at shape (1, 3, 256, 256)\n[[      10.72      45.586]\n [     241.38      66.303]\n [     238.57      220.19]\n [     7.4585      188.77]]\n",
          "output_type": "stream"
        },
        {
          "name": "stderr",
          "text": "392it [01:50,  3.60it/s]",
          "output_type": "stream"
        },
        {
          "name": "stdout",
          "text": "\n0: 256x256 1 plate, 9.7ms\nSpeed: 1.0ms preprocess, 9.7ms inference, 1.6ms postprocess per image at shape (1, 3, 256, 256)\n[[     64.139      115.63]\n [     194.43       38.03]\n [     210.94      127.49]\n [     68.269      198.33]]\n",
          "output_type": "stream"
        },
        {
          "name": "stderr",
          "text": "393it [01:50,  3.61it/s]",
          "output_type": "stream"
        },
        {
          "name": "stdout",
          "text": "\n0: 256x256 1 plate, 10.1ms\nSpeed: 1.0ms preprocess, 10.1ms inference, 1.6ms postprocess per image at shape (1, 3, 256, 256)\n[[     9.2576      47.098]\n [     241.33      37.055]\n [      242.6      204.92]\n [     7.9431      223.95]]\n",
          "output_type": "stream"
        },
        {
          "name": "stderr",
          "text": "394it [01:50,  3.63it/s]",
          "output_type": "stream"
        },
        {
          "name": "stdout",
          "text": "\n0: 256x256 1 plate, 10.0ms\nSpeed: 0.9ms preprocess, 10.0ms inference, 1.6ms postprocess per image at shape (1, 3, 256, 256)\n[[     21.194      52.629]\n [     233.13      47.458]\n [     237.72       201.2]\n [     19.893      210.15]]\n",
          "output_type": "stream"
        },
        {
          "name": "stderr",
          "text": "395it [01:51,  3.69it/s]",
          "output_type": "stream"
        },
        {
          "name": "stdout",
          "text": "\n0: 256x256 1 plate, 9.8ms\nSpeed: 0.9ms preprocess, 9.8ms inference, 1.6ms postprocess per image at shape (1, 3, 256, 256)\n[[      5.813      37.705]\n [     240.49      41.852]\n [     242.58      223.78]\n [     3.5566      225.12]]\n",
          "output_type": "stream"
        },
        {
          "name": "stderr",
          "text": "396it [01:51,  3.71it/s]",
          "output_type": "stream"
        },
        {
          "name": "stdout",
          "text": "\n0: 256x256 1 plate, 10.1ms\nSpeed: 1.0ms preprocess, 10.1ms inference, 1.6ms postprocess per image at shape (1, 3, 256, 256)\n[[     13.894      14.002]\n [      237.7         116]\n [     233.88      241.18]\n [     3.8335       139.3]]\n",
          "output_type": "stream"
        },
        {
          "name": "stderr",
          "text": "397it [01:51,  3.68it/s]",
          "output_type": "stream"
        },
        {
          "name": "stdout",
          "text": "\n0: 256x256 1 plate, 9.9ms\nSpeed: 0.9ms preprocess, 9.9ms inference, 1.6ms postprocess per image at shape (1, 3, 256, 256)\n[[    0.45924      25.053]\n [      248.6      83.616]\n [     244.85      233.54]\n [     1.1956      179.54]]\n",
          "output_type": "stream"
        },
        {
          "name": "stderr",
          "text": "398it [01:51,  3.67it/s]",
          "output_type": "stream"
        },
        {
          "name": "stdout",
          "text": "\n0: 256x256 1 plate, 9.8ms\nSpeed: 0.9ms preprocess, 9.8ms inference, 1.6ms postprocess per image at shape (1, 3, 256, 256)\n[[     5.6492      20.556]\n [     248.63      64.342]\n [      245.7      221.91]\n [     9.0232      177.29]]\n",
          "output_type": "stream"
        },
        {
          "name": "stderr",
          "text": "399it [01:52,  3.65it/s]",
          "output_type": "stream"
        },
        {
          "name": "stdout",
          "text": "\n0: 256x256 1 plate, 10.5ms\nSpeed: 1.0ms preprocess, 10.5ms inference, 1.7ms postprocess per image at shape (1, 3, 256, 256)\n[[      31.35      56.838]\n [     228.93      16.425]\n [     245.01      174.58]\n [     42.046         228]]\n",
          "output_type": "stream"
        },
        {
          "name": "stderr",
          "text": "400it [01:52,  3.64it/s]",
          "output_type": "stream"
        },
        {
          "name": "stdout",
          "text": "\n0: 256x256 2 plates, 10.2ms\nSpeed: 1.0ms preprocess, 10.2ms inference, 1.8ms postprocess per image at shape (1, 3, 256, 256)\n[[      75.12      91.768]\n [     179.62      31.442]\n [     200.67       105.7]\n [     80.465      174.65]]\n",
          "output_type": "stream"
        },
        {
          "name": "stderr",
          "text": "401it [01:52,  3.58it/s]",
          "output_type": "stream"
        },
        {
          "name": "stdout",
          "text": "\n0: 256x256 2 plates, 9.9ms\nSpeed: 0.9ms preprocess, 9.9ms inference, 1.6ms postprocess per image at shape (1, 3, 256, 256)\n[[     7.0901      43.412]\n [     239.09      38.336]\n [     242.31      214.94]\n [     6.0174       219.8]]\n",
          "output_type": "stream"
        },
        {
          "name": "stderr",
          "text": "402it [01:53,  3.63it/s]",
          "output_type": "stream"
        },
        {
          "name": "stdout",
          "text": "\n0: 256x256 1 plate, 9.9ms\nSpeed: 0.9ms preprocess, 9.9ms inference, 1.6ms postprocess per image at shape (1, 3, 256, 256)\n[[      83.31      82.919]\n [     190.53      14.206]\n [     213.64      111.95]\n [     92.732      181.65]]\n",
          "output_type": "stream"
        },
        {
          "name": "stderr",
          "text": "403it [01:53,  3.67it/s]",
          "output_type": "stream"
        },
        {
          "name": "stdout",
          "text": "\n0: 256x256 1 plate, 10.1ms\nSpeed: 0.9ms preprocess, 10.1ms inference, 1.7ms postprocess per image at shape (1, 3, 256, 256)\n[[          0           0]\n [     249.41      105.03]\n [     245.06      244.14]\n [          0           0]]\n",
          "output_type": "stream"
        },
        {
          "name": "stderr",
          "text": "404it [01:53,  3.65it/s]",
          "output_type": "stream"
        },
        {
          "name": "stdout",
          "text": "\n0: 256x256 1 plate, 9.8ms\nSpeed: 1.0ms preprocess, 9.8ms inference, 1.6ms postprocess per image at shape (1, 3, 256, 256)\n[[     4.6852      45.929]\n [     249.24      31.434]\n [     249.55      206.96]\n [     12.766      227.37]]\n",
          "output_type": "stream"
        },
        {
          "name": "stderr",
          "text": "405it [01:53,  3.63it/s]",
          "output_type": "stream"
        },
        {
          "name": "stdout",
          "text": "\n0: 256x256 1 plate, 10.1ms\nSpeed: 0.9ms preprocess, 10.1ms inference, 1.6ms postprocess per image at shape (1, 3, 256, 256)\n[[     11.578       21.31]\n [     235.96      87.472]\n [     233.37      230.92]\n [     4.6589      170.15]]\n",
          "output_type": "stream"
        },
        {
          "name": "stderr",
          "text": "406it [01:54,  3.66it/s]",
          "output_type": "stream"
        },
        {
          "name": "stdout",
          "text": "\n0: 256x256 1 plate, 9.9ms\nSpeed: 0.9ms preprocess, 9.9ms inference, 1.6ms postprocess per image at shape (1, 3, 256, 256)\n[[     15.194      37.104]\n [     230.48      77.773]\n [     234.83      221.78]\n [       11.1      184.41]]\n",
          "output_type": "stream"
        },
        {
          "name": "stderr",
          "text": "407it [01:54,  3.67it/s]",
          "output_type": "stream"
        },
        {
          "name": "stdout",
          "text": "\n0: 256x256 1 plate, 9.7ms\nSpeed: 0.9ms preprocess, 9.7ms inference, 1.6ms postprocess per image at shape (1, 3, 256, 256)\n[[     25.235      35.227]\n [     234.72      141.81]\n [     230.04       241.5]\n [     20.161      121.75]]\n",
          "output_type": "stream"
        },
        {
          "name": "stderr",
          "text": "408it [01:54,  3.64it/s]",
          "output_type": "stream"
        },
        {
          "name": "stdout",
          "text": "\n0: 256x256 1 plate, 9.6ms\nSpeed: 0.9ms preprocess, 9.6ms inference, 1.6ms postprocess per image at shape (1, 3, 256, 256)\n[[      2.428      45.651]\n [     241.25      35.351]\n [     243.86      212.07]\n [          0      227.65]]\n",
          "output_type": "stream"
        },
        {
          "name": "stderr",
          "text": "409it [01:54,  3.63it/s]",
          "output_type": "stream"
        },
        {
          "name": "stdout",
          "text": "\n0: 256x256 1 plate, 9.9ms\nSpeed: 0.9ms preprocess, 9.9ms inference, 1.6ms postprocess per image at shape (1, 3, 256, 256)\n[[     50.653      84.611]\n [     206.47      20.549]\n [     224.58      131.35]\n [     59.958      209.59]]\n",
          "output_type": "stream"
        },
        {
          "name": "stderr",
          "text": "410it [01:55,  3.59it/s]",
          "output_type": "stream"
        },
        {
          "name": "stdout",
          "text": "\n0: 256x256 1 plate, 9.9ms\nSpeed: 1.1ms preprocess, 9.9ms inference, 1.6ms postprocess per image at shape (1, 3, 256, 256)\n[[     37.659      68.996]\n [     240.91      79.643]\n [      235.3      211.12]\n [     39.027       213.9]]\n",
          "output_type": "stream"
        },
        {
          "name": "stderr",
          "text": "411it [01:55,  3.56it/s]",
          "output_type": "stream"
        },
        {
          "name": "stdout",
          "text": "\n0: 256x256 1 plate, 10.2ms\nSpeed: 1.0ms preprocess, 10.2ms inference, 1.6ms postprocess per image at shape (1, 3, 256, 256)\n[[          0           0]\n [     246.61      95.679]\n [     243.67      245.62]\n [          0           0]]\n",
          "output_type": "stream"
        },
        {
          "name": "stderr",
          "text": "412it [01:55,  3.55it/s]",
          "output_type": "stream"
        },
        {
          "name": "stdout",
          "text": "\n0: 256x256 1 plate, 9.9ms\nSpeed: 0.9ms preprocess, 9.9ms inference, 1.6ms postprocess per image at shape (1, 3, 256, 256)\n[[     14.429      44.477]\n [     238.16      77.364]\n [     235.67      221.29]\n [     10.433      180.05]]\n",
          "output_type": "stream"
        },
        {
          "name": "stderr",
          "text": "413it [01:56,  3.57it/s]",
          "output_type": "stream"
        },
        {
          "name": "stdout",
          "text": "\n0: 256x256 1 plate, 9.8ms\nSpeed: 1.0ms preprocess, 9.8ms inference, 1.6ms postprocess per image at shape (1, 3, 256, 256)\n[[     70.508      85.099]\n [     198.39      19.966]\n [      219.5      124.58]\n [     80.399      198.79]]\n",
          "output_type": "stream"
        },
        {
          "name": "stderr",
          "text": "414it [01:56,  3.55it/s]",
          "output_type": "stream"
        },
        {
          "name": "stdout",
          "text": "\n0: 256x256 1 plate, 12.2ms\nSpeed: 0.9ms preprocess, 12.2ms inference, 2.5ms postprocess per image at shape (1, 3, 256, 256)\n[[     10.242      18.932]\n [     249.58      89.353]\n [     240.26      234.44]\n [      13.42       166.1]]\n",
          "output_type": "stream"
        },
        {
          "name": "stderr",
          "text": "415it [01:56,  3.47it/s]",
          "output_type": "stream"
        },
        {
          "name": "stdout",
          "text": "\n0: 256x256 2 plates, 9.7ms\nSpeed: 1.0ms preprocess, 9.7ms inference, 1.6ms postprocess per image at shape (1, 3, 256, 256)\n[[     26.438      63.337]\n [     225.01      67.862]\n [     228.01      186.53]\n [     31.067      189.49]]\n",
          "output_type": "stream"
        },
        {
          "name": "stderr",
          "text": "416it [01:56,  3.56it/s]",
          "output_type": "stream"
        },
        {
          "name": "stdout",
          "text": "\n0: 256x256 1 plate, 9.8ms\nSpeed: 0.9ms preprocess, 9.8ms inference, 1.6ms postprocess per image at shape (1, 3, 256, 256)\n[[     9.5716      27.923]\n [     249.22      96.178]\n [     239.94       233.9]\n [     11.121      166.86]]\n",
          "output_type": "stream"
        },
        {
          "name": "stderr",
          "text": "417it [01:57,  3.62it/s]",
          "output_type": "stream"
        },
        {
          "name": "stdout",
          "text": "\n0: 256x256 1 plate, 10.3ms\nSpeed: 1.0ms preprocess, 10.3ms inference, 1.6ms postprocess per image at shape (1, 3, 256, 256)\n[[     25.394      66.783]\n [     228.01      71.989]\n [     229.39       193.2]\n [     31.122      194.21]]\n",
          "output_type": "stream"
        },
        {
          "name": "stderr",
          "text": "418it [01:57,  3.59it/s]",
          "output_type": "stream"
        },
        {
          "name": "stdout",
          "text": "\n0: 256x256 1 plate, 10.2ms\nSpeed: 0.9ms preprocess, 10.2ms inference, 1.6ms postprocess per image at shape (1, 3, 256, 256)\n[[     85.822      71.249]\n [     208.36      2.0179]\n [     227.22      125.03]\n [     100.03      197.87]]\n",
          "output_type": "stream"
        },
        {
          "name": "stderr",
          "text": "419it [01:57,  3.53it/s]",
          "output_type": "stream"
        },
        {
          "name": "stdout",
          "text": "\n0: 256x256 1 plate, 9.7ms\nSpeed: 0.9ms preprocess, 9.7ms inference, 1.6ms postprocess per image at shape (1, 3, 256, 256)\n[[     14.694       24.68]\n [     237.19      90.531]\n [     235.85      231.41]\n [     8.2777      168.99]]\n",
          "output_type": "stream"
        },
        {
          "name": "stderr",
          "text": "420it [01:58,  3.54it/s]",
          "output_type": "stream"
        },
        {
          "name": "stdout",
          "text": "\n0: 256x256 1 plate, 10.0ms\nSpeed: 1.0ms preprocess, 10.0ms inference, 1.6ms postprocess per image at shape (1, 3, 256, 256)\n[[      4.233      43.904]\n [     239.17      43.263]\n [     242.89      221.71]\n [     1.1711      225.56]]\n",
          "output_type": "stream"
        },
        {
          "name": "stderr",
          "text": "421it [01:58,  3.54it/s]",
          "output_type": "stream"
        },
        {
          "name": "stdout",
          "text": "\n0: 256x256 1 plate, 9.7ms\nSpeed: 0.9ms preprocess, 9.7ms inference, 1.6ms postprocess per image at shape (1, 3, 256, 256)\n[[     61.354      81.106]\n [     206.45       9.741]\n [     224.05      134.48]\n [     71.866      210.58]]\n",
          "output_type": "stream"
        },
        {
          "name": "stderr",
          "text": "422it [01:58,  3.54it/s]",
          "output_type": "stream"
        },
        {
          "name": "stdout",
          "text": "\n0: 256x256 1 plate, 10.3ms\nSpeed: 1.0ms preprocess, 10.3ms inference, 1.6ms postprocess per image at shape (1, 3, 256, 256)\n[[     21.618      81.578]\n [     231.79        42.8]\n [     234.24      171.92]\n [     24.161      218.18]]\n",
          "output_type": "stream"
        },
        {
          "name": "stderr",
          "text": "423it [01:58,  3.57it/s]",
          "output_type": "stream"
        },
        {
          "name": "stdout",
          "text": "\n0: 256x256 1 plate, 9.9ms\nSpeed: 0.9ms preprocess, 9.9ms inference, 1.6ms postprocess per image at shape (1, 3, 256, 256)\n[[     15.414      18.862]\n [     242.37       88.54]\n [     237.57      246.33]\n [     8.0389      176.54]]\n",
          "output_type": "stream"
        },
        {
          "name": "stderr",
          "text": "424it [01:59,  3.59it/s]",
          "output_type": "stream"
        },
        {
          "name": "stdout",
          "text": "\n0: 256x256 1 plate, 10.1ms\nSpeed: 0.9ms preprocess, 10.1ms inference, 1.7ms postprocess per image at shape (1, 3, 256, 256)\n[[      21.18      28.639]\n [     231.05      104.36]\n [     230.31      217.22]\n [     18.171      146.52]]\n",
          "output_type": "stream"
        },
        {
          "name": "stderr",
          "text": "425it [01:59,  3.48it/s]",
          "output_type": "stream"
        },
        {
          "name": "stdout",
          "text": "\n0: 256x256 1 plate, 10.3ms\nSpeed: 0.9ms preprocess, 10.3ms inference, 1.7ms postprocess per image at shape (1, 3, 256, 256)\n[[     4.3547      34.866]\n [     252.05      61.693]\n [      245.1      231.59]\n [     9.6709      202.57]]\n",
          "output_type": "stream"
        },
        {
          "name": "stderr",
          "text": "426it [01:59,  3.39it/s]",
          "output_type": "stream"
        },
        {
          "name": "stdout",
          "text": "\n0: 256x256 1 plate, 14.9ms\nSpeed: 0.8ms preprocess, 14.9ms inference, 2.4ms postprocess per image at shape (1, 3, 256, 256)\n[[     15.048      52.127]\n [     235.67      48.786]\n [     241.22      209.54]\n [     12.324      216.67]]\n",
          "output_type": "stream"
        },
        {
          "name": "stderr",
          "text": "427it [02:00,  3.44it/s]",
          "output_type": "stream"
        },
        {
          "name": "stdout",
          "text": "\n0: 256x256 1 plate, 10.3ms\nSpeed: 0.9ms preprocess, 10.3ms inference, 1.6ms postprocess per image at shape (1, 3, 256, 256)\n[[     12.806      57.152]\n [     243.97      58.612]\n [     245.25      220.04]\n [     19.441      223.02]]\n",
          "output_type": "stream"
        },
        {
          "name": "stderr",
          "text": "428it [02:00,  3.49it/s]",
          "output_type": "stream"
        },
        {
          "name": "stdout",
          "text": "\n0: 256x256 1 plate, 9.6ms\nSpeed: 1.0ms preprocess, 9.6ms inference, 1.6ms postprocess per image at shape (1, 3, 256, 256)\n[[     35.929      76.039]\n [     224.14      7.7863]\n [     231.67      156.91]\n [     48.326      236.02]]\n",
          "output_type": "stream"
        },
        {
          "name": "stderr",
          "text": "429it [02:00,  3.40it/s]",
          "output_type": "stream"
        },
        {
          "name": "stdout",
          "text": "\n0: 256x256 1 plate, 11.0ms\nSpeed: 1.1ms preprocess, 11.0ms inference, 1.8ms postprocess per image at shape (1, 3, 256, 256)\n[[     20.732      51.473]\n [     235.22      89.126]\n [     234.46      216.25]\n [     21.531      182.75]]\n",
          "output_type": "stream"
        },
        {
          "name": "stderr",
          "text": "430it [02:00,  3.47it/s]",
          "output_type": "stream"
        },
        {
          "name": "stdout",
          "text": "\n0: 256x256 1 plate, 12.6ms\nSpeed: 2.3ms preprocess, 12.6ms inference, 1.7ms postprocess per image at shape (1, 3, 256, 256)\n[[     17.418      21.971]\n [     238.92      117.78]\n [     233.03      244.74]\n [     8.3975      157.33]]\n",
          "output_type": "stream"
        },
        {
          "name": "stderr",
          "text": "431it [02:01,  3.54it/s]",
          "output_type": "stream"
        },
        {
          "name": "stdout",
          "text": "\n0: 256x256 1 plate, 9.7ms\nSpeed: 1.0ms preprocess, 9.7ms inference, 1.6ms postprocess per image at shape (1, 3, 256, 256)\n[[     40.912      35.376]\n [     228.86      142.62]\n [     226.32      236.27]\n [     42.326      110.43]]\n",
          "output_type": "stream"
        },
        {
          "name": "stderr",
          "text": "432it [02:01,  3.53it/s]",
          "output_type": "stream"
        },
        {
          "name": "stdout",
          "text": "\n0: 256x256 1 plate, 10.2ms\nSpeed: 0.9ms preprocess, 10.2ms inference, 1.7ms postprocess per image at shape (1, 3, 256, 256)\n[[     3.9045      46.605]\n [     244.93      20.823]\n [     248.39       200.9]\n [      12.19       231.4]]\n",
          "output_type": "stream"
        },
        {
          "name": "stderr",
          "text": "433it [02:01,  3.58it/s]",
          "output_type": "stream"
        },
        {
          "name": "stdout",
          "text": "\n0: 256x256 1 plate, 9.4ms\nSpeed: 1.0ms preprocess, 9.4ms inference, 1.6ms postprocess per image at shape (1, 3, 256, 256)\n[[     15.998      31.979]\n [     233.17      71.927]\n [     236.83      220.74]\n [     9.8235      184.29]]\n",
          "output_type": "stream"
        },
        {
          "name": "stderr",
          "text": "434it [02:02,  3.62it/s]",
          "output_type": "stream"
        },
        {
          "name": "stdout",
          "text": "\n0: 256x256 1 plate, 10.1ms\nSpeed: 1.0ms preprocess, 10.1ms inference, 1.6ms postprocess per image at shape (1, 3, 256, 256)\n[[     4.8322      25.107]\n [     251.88      64.233]\n [      245.6      230.43]\n [     10.368      191.55]]\n",
          "output_type": "stream"
        },
        {
          "name": "stderr",
          "text": "435it [02:02,  3.57it/s]",
          "output_type": "stream"
        },
        {
          "name": "stdout",
          "text": "\n0: 256x256 1 plate, 9.6ms\nSpeed: 0.6ms preprocess, 9.6ms inference, 1.6ms postprocess per image at shape (1, 3, 256, 256)\n[[     15.196      51.814]\n [     230.62      44.602]\n [      237.9      197.96]\n [     14.566      208.03]]\n",
          "output_type": "stream"
        },
        {
          "name": "stderr",
          "text": "436it [02:02,  3.54it/s]",
          "output_type": "stream"
        },
        {
          "name": "stdout",
          "text": "\n0: 256x256 1 plate, 10.0ms\nSpeed: 1.0ms preprocess, 10.0ms inference, 1.6ms postprocess per image at shape (1, 3, 256, 256)\n[[     64.674      129.12]\n [     184.72      53.894]\n [     195.11      144.52]\n [     75.501      205.15]]\n",
          "output_type": "stream"
        },
        {
          "name": "stderr",
          "text": "437it [02:02,  3.51it/s]",
          "output_type": "stream"
        },
        {
          "name": "stdout",
          "text": "\n0: 256x256 1 plate, 10.1ms\nSpeed: 1.0ms preprocess, 10.1ms inference, 1.6ms postprocess per image at shape (1, 3, 256, 256)\n[[     9.1444      12.197]\n [     243.85      111.25]\n [     234.53      233.66]\n [     11.308      140.38]]\n",
          "output_type": "stream"
        },
        {
          "name": "stderr",
          "text": "438it [02:03,  3.52it/s]",
          "output_type": "stream"
        },
        {
          "name": "stdout",
          "text": "\n0: 256x256 1 plate, 9.7ms\nSpeed: 0.9ms preprocess, 9.7ms inference, 1.6ms postprocess per image at shape (1, 3, 256, 256)\n[[     13.797      45.494]\n [     232.71      70.307]\n [      238.8      220.21]\n [      9.257      199.78]]\n",
          "output_type": "stream"
        },
        {
          "name": "stderr",
          "text": "439it [02:03,  3.52it/s]",
          "output_type": "stream"
        },
        {
          "name": "stdout",
          "text": "\n0: 256x256 1 plate, 9.8ms\nSpeed: 1.0ms preprocess, 9.8ms inference, 1.8ms postprocess per image at shape (1, 3, 256, 256)\n[[     16.805      53.128]\n [     230.26       9.438]\n [     243.51      168.19]\n [     26.544      225.52]]\n",
          "output_type": "stream"
        },
        {
          "name": "stderr",
          "text": "440it [02:03,  3.52it/s]",
          "output_type": "stream"
        },
        {
          "name": "stdout",
          "text": "\n0: 256x256 1 plate, 10.2ms\nSpeed: 1.0ms preprocess, 10.2ms inference, 1.6ms postprocess per image at shape (1, 3, 256, 256)\n[[      34.84      120.92]\n [     195.48      53.224]\n [     198.15      163.05]\n [     43.588      224.23]]\n",
          "output_type": "stream"
        },
        {
          "name": "stderr",
          "text": "441it [02:04,  3.53it/s]",
          "output_type": "stream"
        },
        {
          "name": "stdout",
          "text": "\n0: 256x256 1 plate, 9.6ms\nSpeed: 1.0ms preprocess, 9.6ms inference, 1.6ms postprocess per image at shape (1, 3, 256, 256)\n[[     67.089      80.606]\n [     205.62      11.561]\n [     226.09      125.54]\n [     79.671      204.53]]\n",
          "output_type": "stream"
        },
        {
          "name": "stderr",
          "text": "442it [02:04,  3.55it/s]",
          "output_type": "stream"
        },
        {
          "name": "stdout",
          "text": "\n0: 256x256 1 plate, 9.7ms\nSpeed: 0.5ms preprocess, 9.7ms inference, 1.6ms postprocess per image at shape (1, 3, 256, 256)\n[[     18.366      71.871]\n [     235.74      65.061]\n [     240.35      195.57]\n [     19.293      210.03]]\n",
          "output_type": "stream"
        },
        {
          "name": "stderr",
          "text": "443it [02:04,  3.55it/s]",
          "output_type": "stream"
        },
        {
          "name": "stdout",
          "text": "\n0: 256x256 1 plate, 9.6ms\nSpeed: 1.0ms preprocess, 9.6ms inference, 1.6ms postprocess per image at shape (1, 3, 256, 256)\n[[     18.132      29.029]\n [     230.79      93.418]\n [     233.74      229.18]\n [     12.486      165.71]]\n",
          "output_type": "stream"
        },
        {
          "name": "stderr",
          "text": "444it [02:04,  3.55it/s]",
          "output_type": "stream"
        },
        {
          "name": "stdout",
          "text": "\n0: 256x256 1 plate, 9.6ms\nSpeed: 1.0ms preprocess, 9.6ms inference, 1.7ms postprocess per image at shape (1, 3, 256, 256)\n[[     84.792       52.55]\n [     212.85           0]\n [     233.55      131.77]\n [     97.402      192.62]]\n",
          "output_type": "stream"
        },
        {
          "name": "stderr",
          "text": "445it [02:05,  3.56it/s]",
          "output_type": "stream"
        },
        {
          "name": "stdout",
          "text": "\n0: 256x256 1 plate, 9.7ms\nSpeed: 0.9ms preprocess, 9.7ms inference, 1.6ms postprocess per image at shape (1, 3, 256, 256)\n[[     9.1365      14.038]\n [     246.21      113.51]\n [     236.51      240.67]\n [     12.277      151.22]]\n",
          "output_type": "stream"
        },
        {
          "name": "stderr",
          "text": "446it [02:05,  3.57it/s]",
          "output_type": "stream"
        },
        {
          "name": "stdout",
          "text": "\n0: 256x256 1 plate, 9.6ms\nSpeed: 0.9ms preprocess, 9.6ms inference, 1.8ms postprocess per image at shape (1, 3, 256, 256)\n[[     6.2318      40.913]\n [     246.53      33.018]\n [     247.16      206.37]\n [     12.988       209.6]]\n",
          "output_type": "stream"
        },
        {
          "name": "stderr",
          "text": "447it [02:05,  3.56it/s]",
          "output_type": "stream"
        },
        {
          "name": "stdout",
          "text": "\n0: 256x256 1 plate, 9.6ms\nSpeed: 0.9ms preprocess, 9.6ms inference, 1.6ms postprocess per image at shape (1, 3, 256, 256)\n[[     47.212      89.257]\n [     201.23      18.621]\n [      219.1      135.98]\n [     54.518      216.71]]\n",
          "output_type": "stream"
        },
        {
          "name": "stderr",
          "text": "448it [02:06,  3.61it/s]",
          "output_type": "stream"
        },
        {
          "name": "stdout",
          "text": "\n0: 256x256 1 plate, 9.5ms\nSpeed: 0.9ms preprocess, 9.5ms inference, 1.7ms postprocess per image at shape (1, 3, 256, 256)\n[[     8.8952        33.6]\n [     249.94      89.633]\n [     239.76      234.62]\n [     10.936      180.08]]\n",
          "output_type": "stream"
        },
        {
          "name": "stderr",
          "text": "449it [02:06,  3.61it/s]",
          "output_type": "stream"
        },
        {
          "name": "stdout",
          "text": "\n0: 256x256 1 plate, 9.6ms\nSpeed: 0.9ms preprocess, 9.6ms inference, 1.7ms postprocess per image at shape (1, 3, 256, 256)\n[[     18.645      38.921]\n [     229.87      81.731]\n [      233.3      220.04]\n [     13.578      180.84]]\n",
          "output_type": "stream"
        },
        {
          "name": "stderr",
          "text": "450it [02:06,  3.56it/s]",
          "output_type": "stream"
        },
        {
          "name": "stdout",
          "text": "\n0: 256x256 1 plate, 9.5ms\nSpeed: 1.0ms preprocess, 9.5ms inference, 1.6ms postprocess per image at shape (1, 3, 256, 256)\n[[     28.206      69.935]\n [     232.54      36.209]\n [      235.7      183.43]\n [     36.819      222.09]]\n",
          "output_type": "stream"
        },
        {
          "name": "stderr",
          "text": "451it [02:06,  3.57it/s]",
          "output_type": "stream"
        },
        {
          "name": "stdout",
          "text": "\n0: 256x256 1 plate, 9.5ms\nSpeed: 0.9ms preprocess, 9.5ms inference, 1.6ms postprocess per image at shape (1, 3, 256, 256)\n[[     75.774      81.253]\n [     199.95      11.402]\n [     222.36      122.12]\n [     86.027      195.78]]\n",
          "output_type": "stream"
        },
        {
          "name": "stderr",
          "text": "452it [02:07,  3.60it/s]",
          "output_type": "stream"
        },
        {
          "name": "stdout",
          "text": "\n0: 256x256 1 plate, 9.4ms\nSpeed: 0.9ms preprocess, 9.4ms inference, 1.6ms postprocess per image at shape (1, 3, 256, 256)\n[[     13.664      56.306]\n [      236.9      67.332]\n [     242.35      214.33]\n [     15.815      212.77]]\n",
          "output_type": "stream"
        },
        {
          "name": "stderr",
          "text": "453it [02:07,  3.62it/s]",
          "output_type": "stream"
        },
        {
          "name": "stdout",
          "text": "\n0: 256x256 1 plate, 9.6ms\nSpeed: 1.0ms preprocess, 9.6ms inference, 1.6ms postprocess per image at shape (1, 3, 256, 256)\n[[     6.2156       36.17]\n [     249.97      87.837]\n [     241.61      232.56]\n [     9.3165      186.02]]\n",
          "output_type": "stream"
        },
        {
          "name": "stderr",
          "text": "454it [02:07,  3.58it/s]",
          "output_type": "stream"
        },
        {
          "name": "stdout",
          "text": "\n0: 256x256 1 plate, 9.5ms\nSpeed: 0.9ms preprocess, 9.5ms inference, 1.6ms postprocess per image at shape (1, 3, 256, 256)\n[[     18.715      14.122]\n [     236.74      91.281]\n [     235.05      230.53]\n [     9.5842      151.48]]\n",
          "output_type": "stream"
        },
        {
          "name": "stderr",
          "text": "455it [02:07,  3.60it/s]",
          "output_type": "stream"
        },
        {
          "name": "stdout",
          "text": "\n0: 256x256 1 plate, 9.8ms\nSpeed: 0.6ms preprocess, 9.8ms inference, 1.6ms postprocess per image at shape (1, 3, 256, 256)\n[[      10.47      49.023]\n [     239.12      45.102]\n [     242.03      209.41]\n [     7.5347       216.9]]\n",
          "output_type": "stream"
        },
        {
          "name": "stderr",
          "text": "456it [02:08,  3.59it/s]",
          "output_type": "stream"
        },
        {
          "name": "stdout",
          "text": "\n0: 256x256 1 plate, 9.7ms\nSpeed: 0.9ms preprocess, 9.7ms inference, 1.6ms postprocess per image at shape (1, 3, 256, 256)\n[[     14.148       46.65]\n [     232.44      46.108]\n [     239.66      204.24]\n [     13.785      207.26]]\n",
          "output_type": "stream"
        },
        {
          "name": "stderr",
          "text": "457it [02:08,  3.57it/s]",
          "output_type": "stream"
        },
        {
          "name": "stdout",
          "text": "\n0: 256x256 1 plate, 9.7ms\nSpeed: 0.9ms preprocess, 9.7ms inference, 1.6ms postprocess per image at shape (1, 3, 256, 256)\n[[     5.3093      25.742]\n [     252.04      86.402]\n [     243.92      237.95]\n [     8.4029      182.84]]\n",
          "output_type": "stream"
        },
        {
          "name": "stderr",
          "text": "458it [02:08,  3.56it/s]",
          "output_type": "stream"
        },
        {
          "name": "stdout",
          "text": "\n0: 256x256 1 plate, 9.9ms\nSpeed: 0.9ms preprocess, 9.9ms inference, 1.7ms postprocess per image at shape (1, 3, 256, 256)\n[[     7.2227      19.869]\n [     246.06      112.13]\n [      233.5      239.11]\n [     10.218      148.99]]\n",
          "output_type": "stream"
        },
        {
          "name": "stderr",
          "text": "459it [02:09,  3.54it/s]",
          "output_type": "stream"
        },
        {
          "name": "stdout",
          "text": "\n0: 256x256 1 plate, 10.2ms\nSpeed: 0.8ms preprocess, 10.2ms inference, 1.6ms postprocess per image at shape (1, 3, 256, 256)\n[[     31.426      75.607]\n [      225.1      78.336]\n [     232.66      192.07]\n [     33.206      197.53]]\n",
          "output_type": "stream"
        },
        {
          "name": "stderr",
          "text": "460it [02:09,  3.53it/s]",
          "output_type": "stream"
        },
        {
          "name": "stdout",
          "text": "\n0: 256x256 1 plate, 9.7ms\nSpeed: 0.6ms preprocess, 9.7ms inference, 1.6ms postprocess per image at shape (1, 3, 256, 256)\n[[          0      24.169]\n [     249.85      24.809]\n [     246.53       242.6]\n [          0      239.95]]\n",
          "output_type": "stream"
        },
        {
          "name": "stderr",
          "text": "461it [02:09,  3.47it/s]",
          "output_type": "stream"
        },
        {
          "name": "stdout",
          "text": "\n0: 256x256 1 plate, 9.9ms\nSpeed: 0.9ms preprocess, 9.9ms inference, 1.6ms postprocess per image at shape (1, 3, 256, 256)\n[[     8.1209      30.807]\n [     249.87      60.673]\n [     243.63      226.32]\n [     12.834      191.78]]\n",
          "output_type": "stream"
        },
        {
          "name": "stderr",
          "text": "462it [02:09,  3.51it/s]",
          "output_type": "stream"
        },
        {
          "name": "stdout",
          "text": "\n0: 256x256 1 plate, 9.5ms\nSpeed: 0.9ms preprocess, 9.5ms inference, 1.6ms postprocess per image at shape (1, 3, 256, 256)\n[[     43.245      91.053]\n [     202.69      29.537]\n [     219.54      133.22]\n [      48.05      216.45]]\n",
          "output_type": "stream"
        },
        {
          "name": "stderr",
          "text": "463it [02:10,  3.53it/s]",
          "output_type": "stream"
        },
        {
          "name": "stdout",
          "text": "\n0: 256x256 1 plate, 9.4ms\nSpeed: 0.9ms preprocess, 9.4ms inference, 1.6ms postprocess per image at shape (1, 3, 256, 256)\n[[      44.11      49.667]\n [     234.18      160.53]\n [     226.62      250.65]\n [     39.863      132.27]]\n",
          "output_type": "stream"
        },
        {
          "name": "stderr",
          "text": "464it [02:10,  3.49it/s]",
          "output_type": "stream"
        },
        {
          "name": "stdout",
          "text": "\n0: 256x256 1 plate, 10.2ms\nSpeed: 0.9ms preprocess, 10.2ms inference, 1.6ms postprocess per image at shape (1, 3, 256, 256)\n[[     51.141      60.353]\n [      229.7      156.99]\n [     224.57      235.34]\n [          0           0]]\n",
          "output_type": "stream"
        },
        {
          "name": "stderr",
          "text": "465it [02:10,  3.54it/s]",
          "output_type": "stream"
        },
        {
          "name": "stdout",
          "text": "\n0: 256x256 1 plate, 9.7ms\nSpeed: 0.9ms preprocess, 9.7ms inference, 1.6ms postprocess per image at shape (1, 3, 256, 256)\n[[     6.1876      54.463]\n [     240.56      31.956]\n [      246.8      212.29]\n [     5.8931      244.77]]\n",
          "output_type": "stream"
        },
        {
          "name": "stderr",
          "text": "466it [02:11,  3.55it/s]",
          "output_type": "stream"
        },
        {
          "name": "stdout",
          "text": "\n0: 256x256 1 plate, 10.0ms\nSpeed: 1.0ms preprocess, 10.0ms inference, 1.6ms postprocess per image at shape (1, 3, 256, 256)\n[[     8.9858      50.253]\n [     236.91      43.673]\n [     241.89      211.01]\n [     6.4336      220.17]]\n",
          "output_type": "stream"
        },
        {
          "name": "stderr",
          "text": "467it [02:11,  3.56it/s]",
          "output_type": "stream"
        },
        {
          "name": "stdout",
          "text": "\n0: 256x256 1 plate, 10.0ms\nSpeed: 0.9ms preprocess, 10.0ms inference, 1.7ms postprocess per image at shape (1, 3, 256, 256)\n[[     16.746      65.776]\n [     225.67      34.325]\n [     237.89      191.45]\n [     21.296      239.37]]\n",
          "output_type": "stream"
        },
        {
          "name": "stderr",
          "text": "468it [02:11,  3.45it/s]",
          "output_type": "stream"
        },
        {
          "name": "stdout",
          "text": "\n0: 256x256 1 plate, 10.1ms\nSpeed: 1.0ms preprocess, 10.1ms inference, 1.6ms postprocess per image at shape (1, 3, 256, 256)\n[[     39.976      86.426]\n [      218.8      69.496]\n [     222.16      186.03]\n [     39.014      204.93]]\n",
          "output_type": "stream"
        },
        {
          "name": "stderr",
          "text": "469it [02:11,  3.50it/s]",
          "output_type": "stream"
        },
        {
          "name": "stdout",
          "text": "\n0: 256x256 1 plate, 9.8ms\nSpeed: 1.0ms preprocess, 9.8ms inference, 1.6ms postprocess per image at shape (1, 3, 256, 256)\n[[     5.4533      39.077]\n [     249.05      49.742]\n [     247.27      219.69]\n [     10.917      204.79]]\n",
          "output_type": "stream"
        },
        {
          "name": "stderr",
          "text": "470it [02:12,  3.48it/s]",
          "output_type": "stream"
        },
        {
          "name": "stdout",
          "text": "\n0: 256x256 1 plate, 10.4ms\nSpeed: 1.1ms preprocess, 10.4ms inference, 1.7ms postprocess per image at shape (1, 3, 256, 256)\n[[     20.792      68.014]\n [     234.12      72.384]\n [     239.07      208.09]\n [     24.517      209.59]]\n",
          "output_type": "stream"
        },
        {
          "name": "stderr",
          "text": "471it [02:12,  3.49it/s]",
          "output_type": "stream"
        },
        {
          "name": "stdout",
          "text": "\n0: 256x256 1 plate, 9.8ms\nSpeed: 0.9ms preprocess, 9.8ms inference, 1.7ms postprocess per image at shape (1, 3, 256, 256)\n[[     55.184      93.918]\n [     211.25      27.542]\n [     218.51      145.35]\n [     67.667      215.88]]\n",
          "output_type": "stream"
        },
        {
          "name": "stderr",
          "text": "472it [02:12,  3.46it/s]",
          "output_type": "stream"
        },
        {
          "name": "stdout",
          "text": "\n0: 256x256 1 plate, 10.3ms\nSpeed: 1.0ms preprocess, 10.3ms inference, 1.6ms postprocess per image at shape (1, 3, 256, 256)\n[[     6.5174      46.727]\n [      246.9      27.525]\n [     250.45      209.07]\n [     15.138       233.9]]\n",
          "output_type": "stream"
        },
        {
          "name": "stderr",
          "text": "473it [02:13,  3.48it/s]",
          "output_type": "stream"
        },
        {
          "name": "stdout",
          "text": "\n0: 256x256 1 plate, 10.3ms\nSpeed: 1.0ms preprocess, 10.3ms inference, 1.7ms postprocess per image at shape (1, 3, 256, 256)\n[[     21.774      42.641]\n [     242.82      128.26]\n [      238.3      248.28]\n [      24.17       136.4]]\n",
          "output_type": "stream"
        },
        {
          "name": "stderr",
          "text": "474it [02:13,  3.48it/s]",
          "output_type": "stream"
        },
        {
          "name": "stdout",
          "text": "\n0: 256x256 1 plate, 10.5ms\nSpeed: 1.0ms preprocess, 10.5ms inference, 1.7ms postprocess per image at shape (1, 3, 256, 256)\n[[     18.768      17.013]\n [     235.57      108.51]\n [     233.36      241.16]\n [     10.643      151.71]]\n",
          "output_type": "stream"
        },
        {
          "name": "stderr",
          "text": "475it [02:13,  3.43it/s]",
          "output_type": "stream"
        },
        {
          "name": "stdout",
          "text": "\n0: 256x256 1 plate, 10.5ms\nSpeed: 1.1ms preprocess, 10.5ms inference, 1.7ms postprocess per image at shape (1, 3, 256, 256)\n[[     3.8334      30.191]\n [        256      39.123]\n [      249.2      223.47]\n [     13.187      213.49]]\n",
          "output_type": "stream"
        },
        {
          "name": "stderr",
          "text": "476it [02:14,  3.43it/s]",
          "output_type": "stream"
        },
        {
          "name": "stdout",
          "text": "\n0: 256x256 1 plate, 10.0ms\nSpeed: 1.1ms preprocess, 10.0ms inference, 1.6ms postprocess per image at shape (1, 3, 256, 256)\n[[          0           0]\n [        256      86.937]\n [     247.38      237.02]\n [     13.728      139.81]]\n",
          "output_type": "stream"
        },
        {
          "name": "stderr",
          "text": "477it [02:14,  3.44it/s]",
          "output_type": "stream"
        },
        {
          "name": "stdout",
          "text": "\n0: 256x256 1 plate, 9.8ms\nSpeed: 1.0ms preprocess, 9.8ms inference, 1.7ms postprocess per image at shape (1, 3, 256, 256)\n[[     17.774      58.348]\n [     231.47      60.542]\n [     237.91       191.5]\n [     16.691      189.81]]\n",
          "output_type": "stream"
        },
        {
          "name": "stderr",
          "text": "478it [02:14,  3.37it/s]",
          "output_type": "stream"
        },
        {
          "name": "stdout",
          "text": "\n0: 256x256 1 plate, 9.6ms\nSpeed: 1.0ms preprocess, 9.6ms inference, 1.6ms postprocess per image at shape (1, 3, 256, 256)\n[[     8.8472      51.584]\n [     241.01       48.63]\n [     243.38      207.97]\n [     13.707      213.27]]\n",
          "output_type": "stream"
        },
        {
          "name": "stderr",
          "text": "479it [02:14,  3.38it/s]",
          "output_type": "stream"
        },
        {
          "name": "stdout",
          "text": "\n0: 256x256 1 plate, 10.1ms\nSpeed: 1.1ms preprocess, 10.1ms inference, 1.6ms postprocess per image at shape (1, 3, 256, 256)\n[[     4.8622      44.564]\n [     248.63      32.817]\n [     250.79      210.78]\n [     13.096       227.6]]\n",
          "output_type": "stream"
        },
        {
          "name": "stderr",
          "text": "480it [02:15,  3.34it/s]",
          "output_type": "stream"
        },
        {
          "name": "stdout",
          "text": "\n0: 256x256 1 plate, 10.3ms\nSpeed: 1.0ms preprocess, 10.3ms inference, 1.7ms postprocess per image at shape (1, 3, 256, 256)\n[[     21.435       39.06]\n [     233.62      113.68]\n [     234.56      235.73]\n [     15.514      173.21]]\n",
          "output_type": "stream"
        },
        {
          "name": "stderr",
          "text": "481it [02:15,  3.31it/s]",
          "output_type": "stream"
        },
        {
          "name": "stdout",
          "text": "\n0: 256x256 1 plate, 9.9ms\nSpeed: 0.8ms preprocess, 9.9ms inference, 1.7ms postprocess per image at shape (1, 3, 256, 256)\n[[     38.748      54.446]\n [     201.14      91.671]\n [     199.64      200.38]\n [      40.03      160.76]]\n",
          "output_type": "stream"
        },
        {
          "name": "stderr",
          "text": "482it [02:15,  3.32it/s]",
          "output_type": "stream"
        },
        {
          "name": "stdout",
          "text": "\n0: 256x256 1 plate, 9.7ms\nSpeed: 0.9ms preprocess, 9.7ms inference, 1.6ms postprocess per image at shape (1, 3, 256, 256)\n[[     11.242      51.758]\n [     240.61      21.592]\n [     249.34      193.41]\n [     21.033      231.82]]\n",
          "output_type": "stream"
        },
        {
          "name": "stderr",
          "text": "483it [02:16,  3.34it/s]",
          "output_type": "stream"
        },
        {
          "name": "stdout",
          "text": "\n0: 256x256 1 plate, 10.5ms\nSpeed: 1.0ms preprocess, 10.5ms inference, 1.7ms postprocess per image at shape (1, 3, 256, 256)\n[[     91.952       62.63]\n [     201.37      10.811]\n [     225.41      133.29]\n [     101.98      191.52]]\n",
          "output_type": "stream"
        },
        {
          "name": "stderr",
          "text": "484it [02:16,  3.33it/s]",
          "output_type": "stream"
        },
        {
          "name": "stdout",
          "text": "\n0: 256x256 1 plate, 10.5ms\nSpeed: 1.0ms preprocess, 10.5ms inference, 1.6ms postprocess per image at shape (1, 3, 256, 256)\n[[     32.146      80.915]\n [     229.61      75.142]\n [     234.43      186.58]\n [     28.419      198.74]]\n",
          "output_type": "stream"
        },
        {
          "name": "stderr",
          "text": "485it [02:16,  3.29it/s]",
          "output_type": "stream"
        },
        {
          "name": "stdout",
          "text": "\n0: 256x256 1 plate, 9.8ms\nSpeed: 0.9ms preprocess, 9.8ms inference, 1.6ms postprocess per image at shape (1, 3, 256, 256)\n[[     5.8234      16.783]\n [     245.46      109.74]\n [     234.61      238.53]\n [     9.0883      151.91]]\n",
          "output_type": "stream"
        },
        {
          "name": "stderr",
          "text": "486it [02:17,  3.37it/s]",
          "output_type": "stream"
        },
        {
          "name": "stdout",
          "text": "\n0: 256x256 1 plate, 10.2ms\nSpeed: 1.0ms preprocess, 10.2ms inference, 1.6ms postprocess per image at shape (1, 3, 256, 256)\n[[     3.8232      44.829]\n [     249.56      31.044]\n [     249.46      209.73]\n [     10.992      227.93]]\n",
          "output_type": "stream"
        },
        {
          "name": "stderr",
          "text": "487it [02:17,  3.38it/s]",
          "output_type": "stream"
        },
        {
          "name": "stdout",
          "text": "\n0: 256x256 1 plate, 10.2ms\nSpeed: 1.0ms preprocess, 10.2ms inference, 1.8ms postprocess per image at shape (1, 3, 256, 256)\n[[     5.5474      39.836]\n [     247.32      57.495]\n [     242.34      221.91]\n [     11.872      202.01]]\n",
          "output_type": "stream"
        },
        {
          "name": "stderr",
          "text": "488it [02:17,  3.37it/s]",
          "output_type": "stream"
        },
        {
          "name": "stdout",
          "text": "\n0: 256x256 1 plate, 9.9ms\nSpeed: 1.0ms preprocess, 9.9ms inference, 1.7ms postprocess per image at shape (1, 3, 256, 256)\n[[     12.639      59.181]\n [     237.65      24.964]\n [     237.03      201.85]\n [     14.809      237.12]]\n",
          "output_type": "stream"
        },
        {
          "name": "stderr",
          "text": "489it [02:17,  3.42it/s]",
          "output_type": "stream"
        },
        {
          "name": "stdout",
          "text": "\n0: 256x256 1 plate, 9.5ms\nSpeed: 1.0ms preprocess, 9.5ms inference, 1.6ms postprocess per image at shape (1, 3, 256, 256)\n[[     11.962      39.393]\n [     237.98      70.026]\n [      241.3      229.36]\n [     6.3944      203.55]]\n",
          "output_type": "stream"
        },
        {
          "name": "stderr",
          "text": "490it [02:18,  3.47it/s]",
          "output_type": "stream"
        },
        {
          "name": "stdout",
          "text": "\n0: 256x256 1 plate, 10.0ms\nSpeed: 0.9ms preprocess, 10.0ms inference, 1.7ms postprocess per image at shape (1, 3, 256, 256)\n[[     26.448      42.519]\n [     235.96       130.8]\n [     235.88      240.84]\n [     27.348      130.42]]\n",
          "output_type": "stream"
        },
        {
          "name": "stderr",
          "text": "491it [02:18,  3.47it/s]",
          "output_type": "stream"
        },
        {
          "name": "stdout",
          "text": "\n0: 256x256 1 plate, 9.9ms\nSpeed: 1.0ms preprocess, 9.9ms inference, 1.6ms postprocess per image at shape (1, 3, 256, 256)\n[[     1.6484      28.529]\n [     250.69      65.074]\n [      245.7      232.39]\n [     7.4815      196.01]]\n",
          "output_type": "stream"
        },
        {
          "name": "stderr",
          "text": "492it [02:18,  3.40it/s]",
          "output_type": "stream"
        },
        {
          "name": "stdout",
          "text": "\n0: 256x256 1 plate, 9.9ms\nSpeed: 1.0ms preprocess, 9.9ms inference, 1.6ms postprocess per image at shape (1, 3, 256, 256)\n[[     3.2749      35.871]\n [     251.92      57.108]\n [     246.91      230.32]\n [     9.6062      206.55]]\n",
          "output_type": "stream"
        },
        {
          "name": "stderr",
          "text": "493it [02:19,  3.42it/s]",
          "output_type": "stream"
        },
        {
          "name": "stdout",
          "text": "\n0: 256x256 1 plate, 10.3ms\nSpeed: 1.0ms preprocess, 10.3ms inference, 1.8ms postprocess per image at shape (1, 3, 256, 256)\n[[     8.1899      43.997]\n [     248.28      22.924]\n [     249.26      197.22]\n [     14.395      223.83]]\n",
          "output_type": "stream"
        },
        {
          "name": "stderr",
          "text": "494it [02:19,  3.49it/s]",
          "output_type": "stream"
        },
        {
          "name": "stdout",
          "text": "\n0: 256x256 1 plate, 9.6ms\nSpeed: 0.9ms preprocess, 9.6ms inference, 1.6ms postprocess per image at shape (1, 3, 256, 256)\n[[     19.677      45.103]\n [     232.71       88.13]\n [     233.39      209.75]\n [     18.382      172.56]]\n",
          "output_type": "stream"
        },
        {
          "name": "stderr",
          "text": "495it [02:19,  3.55it/s]",
          "output_type": "stream"
        },
        {
          "name": "stdout",
          "text": "\n0: 256x256 1 plate, 10.2ms\nSpeed: 1.0ms preprocess, 10.2ms inference, 1.7ms postprocess per image at shape (1, 3, 256, 256)\n[[     37.102      62.512]\n [     220.24      8.7026]\n [        242      152.38]\n [     45.368       225.2]]\n",
          "output_type": "stream"
        },
        {
          "name": "stderr",
          "text": "496it [02:19,  3.57it/s]",
          "output_type": "stream"
        },
        {
          "name": "stdout",
          "text": "\n0: 256x256 1 plate, 10.0ms\nSpeed: 0.9ms preprocess, 10.0ms inference, 1.6ms postprocess per image at shape (1, 3, 256, 256)\n[[     14.665      67.793]\n [     235.71      32.406]\n [     232.68      193.42]\n [     17.135      233.93]]\n",
          "output_type": "stream"
        },
        {
          "name": "stderr",
          "text": "497it [02:20,  3.58it/s]",
          "output_type": "stream"
        },
        {
          "name": "stdout",
          "text": "\n0: 256x256 1 plate, 10.0ms\nSpeed: 1.0ms preprocess, 10.0ms inference, 1.6ms postprocess per image at shape (1, 3, 256, 256)\n[[     5.4859      51.816]\n [     246.66      29.753]\n [     251.64      202.59]\n [     13.668      231.51]]\n",
          "output_type": "stream"
        },
        {
          "name": "stderr",
          "text": "498it [02:20,  3.61it/s]",
          "output_type": "stream"
        },
        {
          "name": "stdout",
          "text": "\n0: 256x256 1 plate, 10.1ms\nSpeed: 1.0ms preprocess, 10.1ms inference, 1.6ms postprocess per image at shape (1, 3, 256, 256)\n[[          0      39.202]\n [     242.08      45.099]\n [     237.49      223.75]\n [          0      221.89]]\n",
          "output_type": "stream"
        },
        {
          "name": "stderr",
          "text": "499it [02:20,  3.60it/s]",
          "output_type": "stream"
        },
        {
          "name": "stdout",
          "text": "\n0: 256x256 1 plate, 9.8ms\nSpeed: 0.9ms preprocess, 9.8ms inference, 1.6ms postprocess per image at shape (1, 3, 256, 256)\n[[     20.776      62.242]\n [     235.95      39.058]\n [     240.75      182.29]\n [     23.018       210.2]]\n",
          "output_type": "stream"
        },
        {
          "name": "stderr",
          "text": "500it [02:20,  3.58it/s]",
          "output_type": "stream"
        },
        {
          "name": "stdout",
          "text": "\n0: 256x256 1 plate, 9.9ms\nSpeed: 1.0ms preprocess, 9.9ms inference, 1.6ms postprocess per image at shape (1, 3, 256, 256)\n[[     5.3823      24.815]\n [     244.44      96.459]\n [     236.05      230.79]\n [     7.2025      159.13]]\n",
          "output_type": "stream"
        },
        {
          "name": "stderr",
          "text": "501it [02:21,  3.61it/s]",
          "output_type": "stream"
        },
        {
          "name": "stdout",
          "text": "\n0: 256x256 1 plate, 10.3ms\nSpeed: 1.0ms preprocess, 10.3ms inference, 1.7ms postprocess per image at shape (1, 3, 256, 256)\n[[     48.942      54.218]\n [     236.69      156.16]\n [      229.8      247.89]\n [     47.043      141.94]]\n",
          "output_type": "stream"
        },
        {
          "name": "stderr",
          "text": "502it [02:21,  3.62it/s]",
          "output_type": "stream"
        },
        {
          "name": "stdout",
          "text": "\n0: 256x256 1 plate, 11.9ms\nSpeed: 0.9ms preprocess, 11.9ms inference, 1.6ms postprocess per image at shape (1, 3, 256, 256)\n[[     53.214      57.813]\n [     222.17       9.262]\n [     241.31      156.32]\n [      64.87      218.99]]\n",
          "output_type": "stream"
        },
        {
          "name": "stderr",
          "text": "503it [02:21,  3.58it/s]",
          "output_type": "stream"
        },
        {
          "name": "stdout",
          "text": "\n0: 256x256 1 plate, 9.8ms\nSpeed: 1.0ms preprocess, 9.8ms inference, 1.7ms postprocess per image at shape (1, 3, 256, 256)\n[[     37.122      88.023]\n [     208.05       19.68]\n [     224.07      137.54]\n [     45.545      221.18]]\n",
          "output_type": "stream"
        },
        {
          "name": "stderr",
          "text": "504it [02:22,  3.63it/s]",
          "output_type": "stream"
        },
        {
          "name": "stdout",
          "text": "\n0: 256x256 1 plate, 9.9ms\nSpeed: 1.0ms preprocess, 9.9ms inference, 1.6ms postprocess per image at shape (1, 3, 256, 256)\n[[     137.51      74.783]\n [      212.3      35.486]\n [     224.56      135.95]\n [     144.19      172.44]]\n",
          "output_type": "stream"
        },
        {
          "name": "stderr",
          "text": "505it [02:22,  3.62it/s]",
          "output_type": "stream"
        },
        {
          "name": "stdout",
          "text": "\n0: 256x256 1 plate, 9.9ms\nSpeed: 1.0ms preprocess, 9.9ms inference, 1.6ms postprocess per image at shape (1, 3, 256, 256)\n[[     9.3884      17.619]\n [     240.02      134.17]\n [     225.34      242.01]\n [       11.8      129.07]]\n",
          "output_type": "stream"
        },
        {
          "name": "stderr",
          "text": "506it [02:22,  3.61it/s]",
          "output_type": "stream"
        },
        {
          "name": "stdout",
          "text": "\n0: 256x256 1 plate, 9.7ms\nSpeed: 0.9ms preprocess, 9.7ms inference, 1.6ms postprocess per image at shape (1, 3, 256, 256)\n[[     17.946      72.855]\n [     233.97      34.292]\n [     233.51      178.42]\n [      21.07      221.91]]\n",
          "output_type": "stream"
        },
        {
          "name": "stderr",
          "text": "507it [02:22,  3.60it/s]",
          "output_type": "stream"
        },
        {
          "name": "stdout",
          "text": "\n0: 256x256 1 plate, 10.0ms\nSpeed: 0.9ms preprocess, 10.0ms inference, 1.6ms postprocess per image at shape (1, 3, 256, 256)\n[[     19.358      53.859]\n [     232.42      47.151]\n [     236.04      211.31]\n [     19.133      224.31]]\n",
          "output_type": "stream"
        },
        {
          "name": "stderr",
          "text": "508it [02:23,  3.63it/s]",
          "output_type": "stream"
        },
        {
          "name": "stdout",
          "text": "\n0: 256x256 1 plate, 9.9ms\nSpeed: 1.0ms preprocess, 9.9ms inference, 1.6ms postprocess per image at shape (1, 3, 256, 256)\n[[      14.78       72.38]\n [     236.65      23.394]\n [     237.11      180.19]\n [     21.577      234.87]]\n",
          "output_type": "stream"
        },
        {
          "name": "stderr",
          "text": "509it [02:23,  3.64it/s]",
          "output_type": "stream"
        },
        {
          "name": "stdout",
          "text": "\n0: 256x256 1 plate, 10.0ms\nSpeed: 0.9ms preprocess, 10.0ms inference, 1.6ms postprocess per image at shape (1, 3, 256, 256)\n[[     4.4442      46.471]\n [     247.79      30.997]\n [     249.58      203.36]\n [     10.254      222.71]]\n",
          "output_type": "stream"
        },
        {
          "name": "stderr",
          "text": "510it [02:23,  3.63it/s]",
          "output_type": "stream"
        },
        {
          "name": "stdout",
          "text": "\n0: 256x256 1 plate, 10.2ms\nSpeed: 1.0ms preprocess, 10.2ms inference, 1.6ms postprocess per image at shape (1, 3, 256, 256)\n[[     54.998      76.306]\n [     214.77      6.5674]\n [     229.19      139.73]\n [     68.059      218.52]]\n",
          "output_type": "stream"
        },
        {
          "name": "stderr",
          "text": "511it [02:24,  3.62it/s]",
          "output_type": "stream"
        },
        {
          "name": "stdout",
          "text": "\n0: 256x256 1 plate, 9.7ms\nSpeed: 1.0ms preprocess, 9.7ms inference, 1.6ms postprocess per image at shape (1, 3, 256, 256)\n[[     1.8979      33.537]\n [     252.97      35.555]\n [     250.59      217.47]\n [     8.5523      213.97]]\n",
          "output_type": "stream"
        },
        {
          "name": "stderr",
          "text": "512it [02:24,  3.64it/s]",
          "output_type": "stream"
        },
        {
          "name": "stdout",
          "text": "\n0: 256x256 1 plate, 9.7ms\nSpeed: 0.9ms preprocess, 9.7ms inference, 1.6ms postprocess per image at shape (1, 3, 256, 256)\n[[      29.51      97.646]\n [     223.64      40.702]\n [     223.98      162.21]\n [     30.765      228.07]]\n",
          "output_type": "stream"
        },
        {
          "name": "stderr",
          "text": "513it [02:24,  3.62it/s]",
          "output_type": "stream"
        },
        {
          "name": "stdout",
          "text": "\n0: 256x256 1 plate, 10.2ms\nSpeed: 1.0ms preprocess, 10.2ms inference, 1.6ms postprocess per image at shape (1, 3, 256, 256)\n[[     11.121      53.495]\n [     246.78      37.362]\n [     253.04       211.7]\n [     20.239      236.44]]\n",
          "output_type": "stream"
        },
        {
          "name": "stderr",
          "text": "514it [02:24,  3.57it/s]",
          "output_type": "stream"
        },
        {
          "name": "stdout",
          "text": "\n0: 256x256 1 plate, 10.1ms\nSpeed: 1.0ms preprocess, 10.1ms inference, 1.6ms postprocess per image at shape (1, 3, 256, 256)\n[[     87.054      70.472]\n [     204.64      6.1964]\n [     218.18      137.85]\n [     100.27      197.15]]\n",
          "output_type": "stream"
        },
        {
          "name": "stderr",
          "text": "515it [02:25,  3.60it/s]",
          "output_type": "stream"
        },
        {
          "name": "stdout",
          "text": "\n0: 256x256 1 plate, 9.7ms\nSpeed: 0.9ms preprocess, 9.7ms inference, 1.6ms postprocess per image at shape (1, 3, 256, 256)\n[[     52.721      75.884]\n [     215.84      7.8144]\n [      228.5      144.51]\n [     67.026       222.4]]\n",
          "output_type": "stream"
        },
        {
          "name": "stderr",
          "text": "516it [02:25,  3.63it/s]",
          "output_type": "stream"
        },
        {
          "name": "stdout",
          "text": "\n0: 256x256 1 plate, 10.0ms\nSpeed: 1.0ms preprocess, 10.0ms inference, 1.6ms postprocess per image at shape (1, 3, 256, 256)\n[[     22.891       56.14]\n [     227.73      62.171]\n [      233.6      187.71]\n [     23.593      189.16]]\n",
          "output_type": "stream"
        },
        {
          "name": "stderr",
          "text": "517it [02:25,  3.65it/s]",
          "output_type": "stream"
        },
        {
          "name": "stdout",
          "text": "\n0: 256x256 1 plate, 9.7ms\nSpeed: 0.9ms preprocess, 9.7ms inference, 1.6ms postprocess per image at shape (1, 3, 256, 256)\n[[     3.0938       22.43]\n [     251.04      65.665]\n [     245.29      228.99]\n [     8.2461      189.86]]\n",
          "output_type": "stream"
        },
        {
          "name": "stderr",
          "text": "518it [02:25,  3.62it/s]",
          "output_type": "stream"
        },
        {
          "name": "stdout",
          "text": "\n0: 256x256 1 plate, 9.5ms\nSpeed: 0.7ms preprocess, 9.5ms inference, 1.6ms postprocess per image at shape (1, 3, 256, 256)\n[[          0      48.864]\n [     241.19      18.659]\n [     245.18      215.13]\n [          0      247.71]]\n",
          "output_type": "stream"
        },
        {
          "name": "stderr",
          "text": "519it [02:26,  3.64it/s]",
          "output_type": "stream"
        },
        {
          "name": "stdout",
          "text": "\n0: 256x256 1 plate, 9.9ms\nSpeed: 1.0ms preprocess, 9.9ms inference, 1.6ms postprocess per image at shape (1, 3, 256, 256)\n[[     24.519      86.565]\n [     212.62      23.453]\n [     222.92      156.27]\n [     32.622      231.42]]\n",
          "output_type": "stream"
        },
        {
          "name": "stderr",
          "text": "520it [02:26,  3.52it/s]",
          "output_type": "stream"
        },
        {
          "name": "stdout",
          "text": "\n0: 256x256 1 plate, 10.3ms\nSpeed: 1.0ms preprocess, 10.3ms inference, 1.7ms postprocess per image at shape (1, 3, 256, 256)\n[[     1.2272      31.137]\n [     244.97      39.482]\n [     245.32      238.81]\n [          0      233.89]]\n",
          "output_type": "stream"
        },
        {
          "name": "stderr",
          "text": "521it [02:26,  3.55it/s]",
          "output_type": "stream"
        },
        {
          "name": "stdout",
          "text": "\n0: 256x256 1 plate, 9.8ms\nSpeed: 1.0ms preprocess, 9.8ms inference, 1.6ms postprocess per image at shape (1, 3, 256, 256)\n[[     6.6593      24.844]\n [      244.5       91.74]\n [     236.55      228.87]\n [     8.4412      163.68]]\n",
          "output_type": "stream"
        },
        {
          "name": "stderr",
          "text": "522it [02:27,  3.59it/s]",
          "output_type": "stream"
        },
        {
          "name": "stdout",
          "text": "\n0: 256x256 1 plate, 9.8ms\nSpeed: 0.9ms preprocess, 9.8ms inference, 1.7ms postprocess per image at shape (1, 3, 256, 256)\n[[     4.7803        30.8]\n [     250.23      50.014]\n [     245.14      223.25]\n [     10.878      201.18]]\n",
          "output_type": "stream"
        },
        {
          "name": "stderr",
          "text": "523it [02:27,  3.60it/s]",
          "output_type": "stream"
        },
        {
          "name": "stdout",
          "text": "\n0: 256x256 1 plate, 9.7ms\nSpeed: 1.0ms preprocess, 9.7ms inference, 1.7ms postprocess per image at shape (1, 3, 256, 256)\n[[     16.114      65.527]\n [     237.58      40.098]\n [     236.77      195.19]\n [     19.162      225.72]]\n",
          "output_type": "stream"
        },
        {
          "name": "stderr",
          "text": "524it [02:27,  3.61it/s]",
          "output_type": "stream"
        },
        {
          "name": "stdout",
          "text": "\n0: 256x256 1 plate, 9.7ms\nSpeed: 0.7ms preprocess, 9.7ms inference, 1.6ms postprocess per image at shape (1, 3, 256, 256)\n[[     9.8349      51.773]\n [     243.03      29.292]\n [     249.86      198.66]\n [     18.483      231.62]]\n",
          "output_type": "stream"
        },
        {
          "name": "stderr",
          "text": "525it [02:27,  3.61it/s]",
          "output_type": "stream"
        },
        {
          "name": "stdout",
          "text": "\n0: 256x256 1 plate, 9.9ms\nSpeed: 0.9ms preprocess, 9.9ms inference, 1.6ms postprocess per image at shape (1, 3, 256, 256)\n[[      8.821       48.49]\n [     246.31      55.225]\n [     245.39      218.46]\n [     13.663      210.15]]\n",
          "output_type": "stream"
        },
        {
          "name": "stderr",
          "text": "526it [02:28,  3.64it/s]",
          "output_type": "stream"
        },
        {
          "name": "stdout",
          "text": "\n0: 256x256 1 plate, 10.0ms\nSpeed: 0.9ms preprocess, 10.0ms inference, 1.7ms postprocess per image at shape (1, 3, 256, 256)\n[[     4.8911      19.489]\n [     246.19      65.084]\n [     242.78      241.04]\n [          0      193.94]]\n",
          "output_type": "stream"
        },
        {
          "name": "stderr",
          "text": "527it [02:28,  3.61it/s]",
          "output_type": "stream"
        },
        {
          "name": "stdout",
          "text": "\n0: 256x256 1 plate, 9.8ms\nSpeed: 0.9ms preprocess, 9.8ms inference, 1.7ms postprocess per image at shape (1, 3, 256, 256)\n[[     26.187      44.222]\n [     227.76      91.657]\n [      227.6      198.15]\n [     24.444      155.16]]\n",
          "output_type": "stream"
        },
        {
          "name": "stderr",
          "text": "528it [02:28,  3.57it/s]",
          "output_type": "stream"
        },
        {
          "name": "stdout",
          "text": "\n0: 256x256 1 plate, 10.1ms\nSpeed: 1.0ms preprocess, 10.1ms inference, 1.6ms postprocess per image at shape (1, 3, 256, 256)\n[[     12.428      41.492]\n [     236.75      56.869]\n [     239.29      225.23]\n [     7.6281      212.31]]\n",
          "output_type": "stream"
        },
        {
          "name": "stderr",
          "text": "529it [02:29,  3.59it/s]",
          "output_type": "stream"
        },
        {
          "name": "stdout",
          "text": "\n0: 256x256 1 plate, 9.9ms\nSpeed: 0.9ms preprocess, 9.9ms inference, 1.6ms postprocess per image at shape (1, 3, 256, 256)\n[[     18.061      23.389]\n [     234.51      92.755]\n [     233.51      223.08]\n [     11.651      156.08]]\n",
          "output_type": "stream"
        },
        {
          "name": "stderr",
          "text": "530it [02:29,  3.59it/s]",
          "output_type": "stream"
        },
        {
          "name": "stdout",
          "text": "\n0: 256x256 1 plate, 9.6ms\nSpeed: 1.0ms preprocess, 9.6ms inference, 1.6ms postprocess per image at shape (1, 3, 256, 256)\n[[     9.2638      30.254]\n [     239.82       70.33]\n [     240.63      210.65]\n [     7.3312      169.62]]\n",
          "output_type": "stream"
        },
        {
          "name": "stderr",
          "text": "531it [02:29,  3.58it/s]",
          "output_type": "stream"
        },
        {
          "name": "stdout",
          "text": "\n0: 256x256 1 plate, 10.6ms\nSpeed: 1.1ms preprocess, 10.6ms inference, 1.6ms postprocess per image at shape (1, 3, 256, 256)\n[[     37.909      52.988]\n [     226.12       7.263]\n [      239.7      168.79]\n [     48.558      224.45]]\n",
          "output_type": "stream"
        },
        {
          "name": "stderr",
          "text": "532it [02:29,  3.55it/s]",
          "output_type": "stream"
        },
        {
          "name": "stdout",
          "text": "\n0: 256x256 1 plate, 10.0ms\nSpeed: 0.9ms preprocess, 10.0ms inference, 1.6ms postprocess per image at shape (1, 3, 256, 256)\n[[     36.346      118.51]\n [     190.89        45.5]\n [     199.09      144.19]\n [     35.156      216.53]]\n",
          "output_type": "stream"
        },
        {
          "name": "stderr",
          "text": "533it [02:30,  3.55it/s]",
          "output_type": "stream"
        },
        {
          "name": "stdout",
          "text": "\n0: 256x256 1 plate, 9.8ms\nSpeed: 0.9ms preprocess, 9.8ms inference, 1.6ms postprocess per image at shape (1, 3, 256, 256)\n[[     16.165      19.395]\n [     237.02      113.54]\n [      234.6      233.89]\n [     7.3553      144.78]]\n",
          "output_type": "stream"
        },
        {
          "name": "stderr",
          "text": "534it [02:30,  3.59it/s]",
          "output_type": "stream"
        },
        {
          "name": "stdout",
          "text": "\n0: 256x256 1 plate, 10.2ms\nSpeed: 0.7ms preprocess, 10.2ms inference, 1.6ms postprocess per image at shape (1, 3, 256, 256)\n[[     7.0277      38.617]\n [      243.5       74.56]\n [     242.94      208.06]\n [     5.7333      178.45]]\n",
          "output_type": "stream"
        },
        {
          "name": "stderr",
          "text": "535it [02:30,  3.49it/s]",
          "output_type": "stream"
        },
        {
          "name": "stdout",
          "text": "\n0: 256x256 1 plate, 9.6ms\nSpeed: 1.0ms preprocess, 9.6ms inference, 1.6ms postprocess per image at shape (1, 3, 256, 256)\n[[     28.491      43.018]\n [      232.6      127.79]\n [     230.49      227.97]\n [     24.013      137.43]]\n",
          "output_type": "stream"
        },
        {
          "name": "stderr",
          "text": "536it [02:31,  3.42it/s]",
          "output_type": "stream"
        },
        {
          "name": "stdout",
          "text": "\n0: 256x256 1 plate, 10.4ms\nSpeed: 0.8ms preprocess, 10.4ms inference, 1.7ms postprocess per image at shape (1, 3, 256, 256)\n[[     64.214      80.759]\n [     206.62       11.97]\n [     225.68      130.13]\n [     74.923      206.58]]\n",
          "output_type": "stream"
        },
        {
          "name": "stderr",
          "text": "537it [02:31,  3.45it/s]",
          "output_type": "stream"
        },
        {
          "name": "stdout",
          "text": "\n0: 256x256 1 plate, 13.2ms\nSpeed: 1.0ms preprocess, 13.2ms inference, 1.8ms postprocess per image at shape (1, 3, 256, 256)\n[[     11.435      51.492]\n [     243.06      71.494]\n [     242.55      222.22]\n [     14.889      202.53]]\n",
          "output_type": "stream"
        },
        {
          "name": "stderr",
          "text": "538it [02:31,  3.46it/s]",
          "output_type": "stream"
        },
        {
          "name": "stdout",
          "text": "\n0: 256x256 1 plate, 11.2ms\nSpeed: 0.9ms preprocess, 11.2ms inference, 2.7ms postprocess per image at shape (1, 3, 256, 256)\n[[     6.2374       34.04]\n [     244.26      63.887]\n [     240.77      218.15]\n [     8.5958      185.18]]\n",
          "output_type": "stream"
        },
        {
          "name": "stderr",
          "text": "539it [02:31,  3.49it/s]",
          "output_type": "stream"
        },
        {
          "name": "stdout",
          "text": "\n0: 256x256 1 plate, 10.1ms\nSpeed: 0.9ms preprocess, 10.1ms inference, 1.6ms postprocess per image at shape (1, 3, 256, 256)\n[[     8.3832      10.099]\n [     249.75      77.424]\n [     238.68      246.79]\n [          0      179.34]]\n",
          "output_type": "stream"
        },
        {
          "name": "stderr",
          "text": "540it [02:32,  3.54it/s]",
          "output_type": "stream"
        },
        {
          "name": "stdout",
          "text": "\n0: 256x256 1 plate, 9.9ms\nSpeed: 0.8ms preprocess, 9.9ms inference, 1.6ms postprocess per image at shape (1, 3, 256, 256)\n[[     8.3955      45.263]\n [     240.29      44.214]\n [     244.69      218.91]\n [     6.8353      225.62]]\n",
          "output_type": "stream"
        },
        {
          "name": "stderr",
          "text": "541it [02:32,  3.56it/s]",
          "output_type": "stream"
        },
        {
          "name": "stdout",
          "text": "\n0: 256x256 2 plates, 10.1ms\nSpeed: 0.8ms preprocess, 10.1ms inference, 1.6ms postprocess per image at shape (1, 3, 256, 256)\n[[     15.491      61.645]\n [     234.19      74.893]\n [     239.02      217.81]\n [     20.553      212.43]]\n",
          "output_type": "stream"
        },
        {
          "name": "stderr",
          "text": "542it [02:32,  3.51it/s]",
          "output_type": "stream"
        },
        {
          "name": "stdout",
          "text": "\n0: 256x256 1 plate, 10.3ms\nSpeed: 1.0ms preprocess, 10.3ms inference, 1.6ms postprocess per image at shape (1, 3, 256, 256)\n[[     5.2245      27.018]\n [     253.61      64.942]\n [     244.69      233.35]\n [     11.406      194.84]]\n",
          "output_type": "stream"
        },
        {
          "name": "stderr",
          "text": "543it [02:33,  3.49it/s]",
          "output_type": "stream"
        },
        {
          "name": "stdout",
          "text": "\n0: 256x256 1 plate, 9.7ms\nSpeed: 0.9ms preprocess, 9.7ms inference, 1.7ms postprocess per image at shape (1, 3, 256, 256)\n[[     13.278      56.494]\n [     242.11      57.306]\n [     243.65      214.22]\n [     17.374      216.43]]\n",
          "output_type": "stream"
        },
        {
          "name": "stderr",
          "text": "544it [02:33,  3.48it/s]",
          "output_type": "stream"
        },
        {
          "name": "stdout",
          "text": "\n0: 256x256 1 plate, 10.1ms\nSpeed: 1.0ms preprocess, 10.1ms inference, 1.6ms postprocess per image at shape (1, 3, 256, 256)\n[[     105.83      92.855]\n [     207.76      21.013]\n [     227.84      127.17]\n [     114.61      189.03]]\n",
          "output_type": "stream"
        },
        {
          "name": "stderr",
          "text": "545it [02:33,  3.50it/s]",
          "output_type": "stream"
        },
        {
          "name": "stdout",
          "text": "\n0: 256x256 1 plate, 10.5ms\nSpeed: 0.8ms preprocess, 10.5ms inference, 1.7ms postprocess per image at shape (1, 3, 256, 256)\n[[      16.81      18.274]\n [     237.88      108.34]\n [     235.16      229.65]\n [      8.729      145.17]]\n",
          "output_type": "stream"
        },
        {
          "name": "stderr",
          "text": "546it [02:33,  3.46it/s]",
          "output_type": "stream"
        },
        {
          "name": "stdout",
          "text": "\n0: 256x256 1 plate, 9.9ms\nSpeed: 1.0ms preprocess, 9.9ms inference, 1.7ms postprocess per image at shape (1, 3, 256, 256)\n[[     3.8675      31.113]\n [     247.87      67.443]\n [     244.94      226.33]\n [     7.3011      189.06]]\n",
          "output_type": "stream"
        },
        {
          "name": "stderr",
          "text": "547it [02:34,  3.45it/s]",
          "output_type": "stream"
        },
        {
          "name": "stdout",
          "text": "\n0: 256x256 1 plate, 9.5ms\nSpeed: 0.9ms preprocess, 9.5ms inference, 1.6ms postprocess per image at shape (1, 3, 256, 256)\n[[      3.075      39.727]\n [      250.5       42.28]\n [     246.15      224.53]\n [     12.944      223.77]]\n",
          "output_type": "stream"
        },
        {
          "name": "stderr",
          "text": "548it [02:34,  3.49it/s]",
          "output_type": "stream"
        },
        {
          "name": "stdout",
          "text": "\n0: 256x256 1 plate, 10.1ms\nSpeed: 0.9ms preprocess, 10.1ms inference, 1.7ms postprocess per image at shape (1, 3, 256, 256)\n[[     9.0117      54.843]\n [     244.84      33.292]\n [     247.81      204.12]\n [     16.174      233.15]]\n",
          "output_type": "stream"
        },
        {
          "name": "stderr",
          "text": "549it [02:34,  3.42it/s]",
          "output_type": "stream"
        },
        {
          "name": "stdout",
          "text": "\n0: 256x256 1 plate, 9.7ms\nSpeed: 1.0ms preprocess, 9.7ms inference, 1.6ms postprocess per image at shape (1, 3, 256, 256)\n[[      2.294      26.073]\n [      247.1      35.619]\n [     237.51      227.63]\n [     10.269      222.91]]\n",
          "output_type": "stream"
        },
        {
          "name": "stderr",
          "text": "550it [02:35,  3.46it/s]",
          "output_type": "stream"
        },
        {
          "name": "stdout",
          "text": "\n0: 256x256 1 plate, 10.1ms\nSpeed: 0.6ms preprocess, 10.1ms inference, 1.7ms postprocess per image at shape (1, 3, 256, 256)\n[[     62.117      82.835]\n [     202.73      14.283]\n [     221.99      126.71]\n [     70.838      205.24]]\n",
          "output_type": "stream"
        },
        {
          "name": "stderr",
          "text": "551it [02:35,  3.47it/s]",
          "output_type": "stream"
        },
        {
          "name": "stdout",
          "text": "\n0: 256x256 1 plate, 10.2ms\nSpeed: 1.0ms preprocess, 10.2ms inference, 1.8ms postprocess per image at shape (1, 3, 256, 256)\n[[     18.197      25.086]\n [     241.68      135.22]\n [     238.31      249.87]\n [     26.534      119.84]]\n",
          "output_type": "stream"
        },
        {
          "name": "stderr",
          "text": "552it [02:35,  3.48it/s]",
          "output_type": "stream"
        },
        {
          "name": "stdout",
          "text": "\n0: 256x256 1 plate, 10.1ms\nSpeed: 0.9ms preprocess, 10.1ms inference, 1.7ms postprocess per image at shape (1, 3, 256, 256)\n[[     25.087      67.753]\n [     224.33      61.354]\n [        226      178.32]\n [     32.294      194.03]]\n",
          "output_type": "stream"
        },
        {
          "name": "stderr",
          "text": "553it [02:35,  3.47it/s]",
          "output_type": "stream"
        },
        {
          "name": "stdout",
          "text": "\n0: 256x256 1 plate, 9.6ms\nSpeed: 0.9ms preprocess, 9.6ms inference, 1.6ms postprocess per image at shape (1, 3, 256, 256)\n[[     10.833      49.548]\n [     234.18      41.969]\n [     240.26      202.08]\n [     9.3769      212.66]]\n",
          "output_type": "stream"
        },
        {
          "name": "stderr",
          "text": "554it [02:36,  3.42it/s]",
          "output_type": "stream"
        },
        {
          "name": "stdout",
          "text": "\n0: 256x256 1 plate, 10.4ms\nSpeed: 1.1ms preprocess, 10.4ms inference, 1.6ms postprocess per image at shape (1, 3, 256, 256)\n[[     1.4517      40.057]\n [     249.23      44.198]\n [      244.5      221.19]\n [     7.9476      216.38]]\n",
          "output_type": "stream"
        },
        {
          "name": "stderr",
          "text": "555it [02:36,  3.37it/s]",
          "output_type": "stream"
        },
        {
          "name": "stdout",
          "text": "\n0: 256x256 1 plate, 10.5ms\nSpeed: 1.0ms preprocess, 10.5ms inference, 1.7ms postprocess per image at shape (1, 3, 256, 256)\n[[     22.826      71.649]\n [     227.21      60.714]\n [     231.52      188.66]\n [     27.901      203.74]]\n",
          "output_type": "stream"
        },
        {
          "name": "stderr",
          "text": "556it [02:36,  3.42it/s]",
          "output_type": "stream"
        },
        {
          "name": "stdout",
          "text": "\n0: 256x256 1 plate, 11.2ms\nSpeed: 1.0ms preprocess, 11.2ms inference, 1.8ms postprocess per image at shape (1, 3, 256, 256)\n[[     32.299        88.5]\n [     222.65      26.275]\n [     227.32      164.07]\n [     43.089      236.43]]\n",
          "output_type": "stream"
        },
        {
          "name": "stderr",
          "text": "557it [02:37,  3.41it/s]",
          "output_type": "stream"
        },
        {
          "name": "stdout",
          "text": "\n0: 256x256 1 plate, 9.8ms\nSpeed: 0.9ms preprocess, 9.8ms inference, 1.6ms postprocess per image at shape (1, 3, 256, 256)\n[[     6.9332      31.824]\n [     248.52      92.347]\n [     236.19      236.83]\n [     10.801      178.61]]\n",
          "output_type": "stream"
        },
        {
          "name": "stderr",
          "text": "558it [02:37,  3.47it/s]",
          "output_type": "stream"
        },
        {
          "name": "stdout",
          "text": "\n0: 256x256 1 plate, 9.8ms\nSpeed: 1.0ms preprocess, 9.8ms inference, 1.6ms postprocess per image at shape (1, 3, 256, 256)\n[[     27.555      92.599]\n [     209.38      36.011]\n [     224.18      156.22]\n [     33.249      230.26]]\n",
          "output_type": "stream"
        },
        {
          "name": "stderr",
          "text": "559it [02:37,  3.46it/s]",
          "output_type": "stream"
        },
        {
          "name": "stdout",
          "text": "\n0: 256x256 1 plate, 9.7ms\nSpeed: 1.0ms preprocess, 9.7ms inference, 1.6ms postprocess per image at shape (1, 3, 256, 256)\n[[     22.852      52.057]\n [     240.28      21.111]\n [     250.32      191.05]\n [     33.016      233.09]]\n",
          "output_type": "stream"
        },
        {
          "name": "stderr",
          "text": "560it [02:37,  3.48it/s]",
          "output_type": "stream"
        },
        {
          "name": "stdout",
          "text": "\n0: 256x256 1 plate, 10.0ms\nSpeed: 1.0ms preprocess, 10.0ms inference, 1.6ms postprocess per image at shape (1, 3, 256, 256)\n[[     31.863       84.19]\n [      218.4       28.14]\n [     228.53      154.07]\n [     36.682      222.86]]\n",
          "output_type": "stream"
        },
        {
          "name": "stderr",
          "text": "561it [02:38,  3.50it/s]",
          "output_type": "stream"
        },
        {
          "name": "stdout",
          "text": "\n0: 256x256 1 plate, 10.0ms\nSpeed: 0.9ms preprocess, 10.0ms inference, 1.7ms postprocess per image at shape (1, 3, 256, 256)\n[[     9.9448       53.88]\n [     241.72      27.294]\n [     249.38         194]\n [     18.311      228.96]]\n",
          "output_type": "stream"
        },
        {
          "name": "stderr",
          "text": "562it [02:38,  3.53it/s]",
          "output_type": "stream"
        },
        {
          "name": "stdout",
          "text": "\n0: 256x256 1 plate, 10.0ms\nSpeed: 0.9ms preprocess, 10.0ms inference, 1.6ms postprocess per image at shape (1, 3, 256, 256)\n[[     20.731      73.542]\n [     230.94       12.56]\n [     233.63       173.1]\n [     31.505      242.83]]\n",
          "output_type": "stream"
        },
        {
          "name": "stderr",
          "text": "563it [02:38,  3.54it/s]",
          "output_type": "stream"
        },
        {
          "name": "stdout",
          "text": "\n0: 256x256 1 plate, 10.1ms\nSpeed: 0.9ms preprocess, 10.1ms inference, 1.6ms postprocess per image at shape (1, 3, 256, 256)\n[[     17.546      16.757]\n [     238.41      102.87]\n [     236.89      239.84]\n [     9.5423       157.2]]\n",
          "output_type": "stream"
        },
        {
          "name": "stderr",
          "text": "564it [02:39,  3.56it/s]",
          "output_type": "stream"
        },
        {
          "name": "stdout",
          "text": "\n0: 256x256 1 plate, 9.8ms\nSpeed: 0.9ms preprocess, 9.8ms inference, 1.6ms postprocess per image at shape (1, 3, 256, 256)\n[[     30.908      80.265]\n [     221.85      16.629]\n [     228.84      157.27]\n [     42.866       233.2]]\n",
          "output_type": "stream"
        },
        {
          "name": "stderr",
          "text": "565it [02:39,  3.59it/s]",
          "output_type": "stream"
        },
        {
          "name": "stdout",
          "text": "\n0: 256x256 1 plate, 9.8ms\nSpeed: 1.0ms preprocess, 9.8ms inference, 1.6ms postprocess per image at shape (1, 3, 256, 256)\n[[     3.5028      28.583]\n [     249.27      85.804]\n [      238.8      241.92]\n [     9.1916      185.39]]\n",
          "output_type": "stream"
        },
        {
          "name": "stderr",
          "text": "566it [02:39,  3.61it/s]",
          "output_type": "stream"
        },
        {
          "name": "stdout",
          "text": "\n0: 256x256 1 plate, 11.3ms\nSpeed: 0.9ms preprocess, 11.3ms inference, 1.6ms postprocess per image at shape (1, 3, 256, 256)\n[[     0.2055      33.757]\n [     246.44      28.989]\n [     247.33       232.3]\n [          0      239.01]]\n",
          "output_type": "stream"
        },
        {
          "name": "stderr",
          "text": "567it [02:39,  3.59it/s]",
          "output_type": "stream"
        },
        {
          "name": "stdout",
          "text": "\n0: 256x256 1 plate, 10.2ms\nSpeed: 1.0ms preprocess, 10.2ms inference, 1.8ms postprocess per image at shape (1, 3, 256, 256)\n[[     81.236      90.997]\n [     194.61      37.237]\n [     225.54      161.18]\n [     87.268      230.25]]\n",
          "output_type": "stream"
        },
        {
          "name": "stderr",
          "text": "568it [02:40,  3.59it/s]",
          "output_type": "stream"
        },
        {
          "name": "stdout",
          "text": "\n0: 256x256 1 plate, 9.9ms\nSpeed: 0.9ms preprocess, 9.9ms inference, 1.6ms postprocess per image at shape (1, 3, 256, 256)\n[[     9.3504      39.629]\n [     247.07       29.24]\n [      244.4       211.3]\n [     19.583      227.92]]\n",
          "output_type": "stream"
        },
        {
          "name": "stderr",
          "text": "569it [02:40,  3.62it/s]",
          "output_type": "stream"
        },
        {
          "name": "stdout",
          "text": "\n0: 256x256 1 plate, 10.2ms\nSpeed: 0.9ms preprocess, 10.2ms inference, 1.6ms postprocess per image at shape (1, 3, 256, 256)\n[[     26.099      81.055]\n [      222.7      14.285]\n [     230.42      154.28]\n [     34.764      232.93]]\n",
          "output_type": "stream"
        },
        {
          "name": "stderr",
          "text": "570it [02:40,  3.62it/s]",
          "output_type": "stream"
        },
        {
          "name": "stdout",
          "text": "\n0: 256x256 1 plate, 9.9ms\nSpeed: 0.9ms preprocess, 9.9ms inference, 1.7ms postprocess per image at shape (1, 3, 256, 256)\n[[     12.977      27.187]\n [     246.79      126.92]\n [     242.18         256]\n [     17.546      130.54]]\n",
          "output_type": "stream"
        },
        {
          "name": "stderr",
          "text": "571it [02:40,  3.61it/s]",
          "output_type": "stream"
        },
        {
          "name": "stdout",
          "text": "\n0: 256x256 1 plate, 10.1ms\nSpeed: 1.0ms preprocess, 10.1ms inference, 1.6ms postprocess per image at shape (1, 3, 256, 256)\n[[     29.499      85.763]\n [     215.82      14.993]\n [     224.93      153.01]\n [      37.48      234.38]]\n",
          "output_type": "stream"
        },
        {
          "name": "stderr",
          "text": "572it [02:41,  3.63it/s]",
          "output_type": "stream"
        },
        {
          "name": "stdout",
          "text": "\n0: 256x256 1 plate, 10.2ms\nSpeed: 0.6ms preprocess, 10.2ms inference, 1.6ms postprocess per image at shape (1, 3, 256, 256)\n[[     27.061      52.755]\n [     234.08      12.223]\n [     245.89      180.68]\n [     37.105      232.78]]\n",
          "output_type": "stream"
        },
        {
          "name": "stderr",
          "text": "573it [02:41,  3.63it/s]",
          "output_type": "stream"
        },
        {
          "name": "stdout",
          "text": "\n0: 256x256 1 plate, 9.8ms\nSpeed: 0.9ms preprocess, 9.8ms inference, 1.6ms postprocess per image at shape (1, 3, 256, 256)\n[[     5.5003      25.758]\n [     243.35      50.478]\n [     241.39      229.69]\n [      1.699      202.86]]\n",
          "output_type": "stream"
        },
        {
          "name": "stderr",
          "text": "574it [02:41,  3.62it/s]",
          "output_type": "stream"
        },
        {
          "name": "stdout",
          "text": "\n0: 256x256 1 plate, 10.0ms\nSpeed: 0.8ms preprocess, 10.0ms inference, 1.7ms postprocess per image at shape (1, 3, 256, 256)\n[[     19.855      16.179]\n [     234.49      157.34]\n [     228.51      250.13]\n [     12.053      105.69]]\n",
          "output_type": "stream"
        },
        {
          "name": "stderr",
          "text": "575it [02:42,  3.63it/s]",
          "output_type": "stream"
        },
        {
          "name": "stdout",
          "text": "\n0: 256x256 1 plate, 9.8ms\nSpeed: 1.0ms preprocess, 9.8ms inference, 1.6ms postprocess per image at shape (1, 3, 256, 256)\n[[     8.5308      31.093]\n [     247.35      92.384]\n [     238.53      235.06]\n [     10.248      171.06]]\n",
          "output_type": "stream"
        },
        {
          "name": "stderr",
          "text": "576it [02:42,  3.67it/s]",
          "output_type": "stream"
        },
        {
          "name": "stdout",
          "text": "\n0: 256x256 1 plate, 9.8ms\nSpeed: 0.9ms preprocess, 9.8ms inference, 1.7ms postprocess per image at shape (1, 3, 256, 256)\n[[     8.8852      18.158]\n [     243.45      113.14]\n [     232.24      237.15]\n [     11.762      144.29]]\n",
          "output_type": "stream"
        },
        {
          "name": "stderr",
          "text": "577it [02:42,  3.62it/s]",
          "output_type": "stream"
        },
        {
          "name": "stdout",
          "text": "\n0: 256x256 1 plate, 9.7ms\nSpeed: 0.9ms preprocess, 9.7ms inference, 1.6ms postprocess per image at shape (1, 3, 256, 256)\n[[     24.339       86.28]\n [     231.65      33.383]\n [     230.07      171.06]\n [     27.612      232.44]]\n",
          "output_type": "stream"
        },
        {
          "name": "stderr",
          "text": "578it [02:42,  3.61it/s]",
          "output_type": "stream"
        },
        {
          "name": "stdout",
          "text": "\n0: 256x256 1 plate, 9.9ms\nSpeed: 1.0ms preprocess, 9.9ms inference, 1.6ms postprocess per image at shape (1, 3, 256, 256)\n[[     3.1993      11.856]\n [     249.47      104.09]\n [     239.92      240.82]\n [     5.5856      160.06]]\n",
          "output_type": "stream"
        },
        {
          "name": "stderr",
          "text": "579it [02:43,  3.63it/s]",
          "output_type": "stream"
        },
        {
          "name": "stdout",
          "text": "\n0: 256x256 1 plate, 9.7ms\nSpeed: 1.0ms preprocess, 9.7ms inference, 1.6ms postprocess per image at shape (1, 3, 256, 256)\n[[     19.006      73.425]\n [     233.56      27.437]\n [     232.36      181.51]\n [     20.886      230.65]]\n",
          "output_type": "stream"
        },
        {
          "name": "stderr",
          "text": "580it [02:43,  3.64it/s]",
          "output_type": "stream"
        },
        {
          "name": "stdout",
          "text": "\n0: 256x256 2 plates, 10.0ms\nSpeed: 0.8ms preprocess, 10.0ms inference, 1.6ms postprocess per image at shape (1, 3, 256, 256)\n[[     16.319      65.429]\n [     231.34      48.699]\n [     238.32      187.84]\n [     22.831      215.47]]\n",
          "output_type": "stream"
        },
        {
          "name": "stderr",
          "text": "581it [02:43,  3.61it/s]",
          "output_type": "stream"
        },
        {
          "name": "stdout",
          "text": "\n0: 256x256 1 plate, 10.0ms\nSpeed: 0.9ms preprocess, 10.0ms inference, 1.6ms postprocess per image at shape (1, 3, 256, 256)\n[[      13.64      59.087]\n [     238.13       27.64]\n [        237      197.81]\n [     16.692      231.54]]\n",
          "output_type": "stream"
        },
        {
          "name": "stderr",
          "text": "582it [02:44,  3.61it/s]",
          "output_type": "stream"
        },
        {
          "name": "stdout",
          "text": "\n0: 256x256 1 plate, 9.9ms\nSpeed: 0.9ms preprocess, 9.9ms inference, 1.6ms postprocess per image at shape (1, 3, 256, 256)\n[[    0.16714      31.843]\n [     249.43      43.754]\n [     245.15      223.42]\n [     8.6767      214.11]]\n",
          "output_type": "stream"
        },
        {
          "name": "stderr",
          "text": "583it [02:44,  3.62it/s]",
          "output_type": "stream"
        },
        {
          "name": "stdout",
          "text": "\n0: 256x256 1 plate, 9.8ms\nSpeed: 0.9ms preprocess, 9.8ms inference, 1.6ms postprocess per image at shape (1, 3, 256, 256)\n[[      11.17      23.949]\n [     243.26      117.46]\n [     237.84      245.39]\n [     16.307      125.12]]\n",
          "output_type": "stream"
        },
        {
          "name": "stderr",
          "text": "584it [02:44,  3.60it/s]",
          "output_type": "stream"
        },
        {
          "name": "stdout",
          "text": "\n0: 256x256 1 plate, 10.0ms\nSpeed: 0.9ms preprocess, 10.0ms inference, 1.6ms postprocess per image at shape (1, 3, 256, 256)\n[[      14.37      47.194]\n [     242.43      17.958]\n [     250.65       192.4]\n [     23.469      229.59]]\n",
          "output_type": "stream"
        },
        {
          "name": "stderr",
          "text": "585it [02:44,  3.57it/s]",
          "output_type": "stream"
        },
        {
          "name": "stdout",
          "text": "\n0: 256x256 1 plate, 9.8ms\nSpeed: 0.9ms preprocess, 9.8ms inference, 1.6ms postprocess per image at shape (1, 3, 256, 256)\n[[      14.96       33.21]\n [     241.71      92.226]\n [     233.53      224.83]\n [     13.194      161.32]]\n",
          "output_type": "stream"
        },
        {
          "name": "stderr",
          "text": "586it [02:45,  3.57it/s]",
          "output_type": "stream"
        },
        {
          "name": "stdout",
          "text": "\n0: 256x256 1 plate, 9.8ms\nSpeed: 0.9ms preprocess, 9.8ms inference, 1.6ms postprocess per image at shape (1, 3, 256, 256)\n[[     3.0502      28.784]\n [      252.4      67.462]\n [     245.21       233.6]\n [     8.5153       194.2]]\n",
          "output_type": "stream"
        },
        {
          "name": "stderr",
          "text": "587it [02:45,  3.56it/s]",
          "output_type": "stream"
        },
        {
          "name": "stdout",
          "text": "\n0: 256x256 1 plate, 9.9ms\nSpeed: 0.9ms preprocess, 9.9ms inference, 1.6ms postprocess per image at shape (1, 3, 256, 256)\n[[     1.7316      27.953]\n [     253.72      37.998]\n [     249.59      222.54]\n [     9.5815      210.85]]\n",
          "output_type": "stream"
        },
        {
          "name": "stderr",
          "text": "588it [02:45,  3.53it/s]",
          "output_type": "stream"
        },
        {
          "name": "stdout",
          "text": "\n0: 256x256 1 plate, 10.2ms\nSpeed: 0.9ms preprocess, 10.2ms inference, 1.6ms postprocess per image at shape (1, 3, 256, 256)\n[[     7.7878      46.368]\n [     243.73      49.409]\n [     245.82      225.93]\n [     10.743      232.78]]\n",
          "output_type": "stream"
        },
        {
          "name": "stderr",
          "text": "589it [02:46,  3.47it/s]",
          "output_type": "stream"
        },
        {
          "name": "stdout",
          "text": "\n0: 256x256 1 plate, 10.7ms\nSpeed: 0.8ms preprocess, 10.7ms inference, 1.8ms postprocess per image at shape (1, 3, 256, 256)\n[[     15.941      40.961]\n [     234.29      53.882]\n [     239.56      214.03]\n [     11.581      201.88]]\n",
          "output_type": "stream"
        },
        {
          "name": "stderr",
          "text": "590it [02:46,  3.40it/s]",
          "output_type": "stream"
        },
        {
          "name": "stdout",
          "text": "\n0: 256x256 1 plate, 10.0ms\nSpeed: 1.0ms preprocess, 10.0ms inference, 1.7ms postprocess per image at shape (1, 3, 256, 256)\n[[     4.8538      45.177]\n [     249.37      49.847]\n [     248.95      217.28]\n [     10.891      217.87]]\n",
          "output_type": "stream"
        },
        {
          "name": "stderr",
          "text": "591it [02:46,  3.27it/s]",
          "output_type": "stream"
        },
        {
          "name": "stdout",
          "text": "\n0: 256x256 1 plate, 9.9ms\nSpeed: 1.0ms preprocess, 9.9ms inference, 1.6ms postprocess per image at shape (1, 3, 256, 256)\n[[     4.7972       20.84]\n [     245.24      104.08]\n [     238.07      238.78]\n [     6.8663      159.54]]\n",
          "output_type": "stream"
        },
        {
          "name": "stderr",
          "text": "592it [02:46,  3.32it/s]",
          "output_type": "stream"
        },
        {
          "name": "stdout",
          "text": "\n0: 256x256 1 plate, 9.9ms\nSpeed: 0.7ms preprocess, 9.9ms inference, 1.6ms postprocess per image at shape (1, 3, 256, 256)\n[[     13.874      72.668]\n [     235.06      22.483]\n [     237.77       185.2]\n [     23.688      241.75]]\n",
          "output_type": "stream"
        },
        {
          "name": "stderr",
          "text": "593it [02:47,  3.39it/s]",
          "output_type": "stream"
        },
        {
          "name": "stdout",
          "text": "\n0: 256x256 1 plate, 9.9ms\nSpeed: 0.9ms preprocess, 9.9ms inference, 1.6ms postprocess per image at shape (1, 3, 256, 256)\n[[     19.591      51.741]\n [     226.91      60.735]\n [      235.3      201.24]\n [     18.468      195.58]]\n",
          "output_type": "stream"
        },
        {
          "name": "stderr",
          "text": "594it [02:47,  3.41it/s]",
          "output_type": "stream"
        },
        {
          "name": "stdout",
          "text": "\n0: 256x256 1 plate, 9.7ms\nSpeed: 0.6ms preprocess, 9.7ms inference, 1.6ms postprocess per image at shape (1, 3, 256, 256)\n[[     5.4997      46.689]\n [     248.72      31.493]\n [     249.07      207.26]\n [      13.33      228.55]]\n",
          "output_type": "stream"
        },
        {
          "name": "stderr",
          "text": "595it [02:47,  3.42it/s]",
          "output_type": "stream"
        },
        {
          "name": "stdout",
          "text": "\n0: 256x256 1 plate, 9.5ms\nSpeed: 1.0ms preprocess, 9.5ms inference, 1.6ms postprocess per image at shape (1, 3, 256, 256)\n[[     18.756      33.592]\n [      233.4       117.2]\n [     229.01      231.24]\n [     17.074      154.92]]\n",
          "output_type": "stream"
        },
        {
          "name": "stderr",
          "text": "596it [02:48,  3.47it/s]",
          "output_type": "stream"
        },
        {
          "name": "stdout",
          "text": "\n0: 256x256 1 plate, 9.6ms\nSpeed: 0.9ms preprocess, 9.6ms inference, 1.6ms postprocess per image at shape (1, 3, 256, 256)\n[[     7.6759      51.311]\n [     247.48      44.166]\n [     252.76      214.17]\n [     14.891      227.43]]\n",
          "output_type": "stream"
        },
        {
          "name": "stderr",
          "text": "597it [02:48,  3.48it/s]",
          "output_type": "stream"
        },
        {
          "name": "stdout",
          "text": "\n0: 256x256 1 plate, 9.5ms\nSpeed: 1.0ms preprocess, 9.5ms inference, 1.6ms postprocess per image at shape (1, 3, 256, 256)\n[[     31.909      62.118]\n [     228.14      77.885]\n [     230.27      188.07]\n [     27.336      177.67]]\n",
          "output_type": "stream"
        },
        {
          "name": "stderr",
          "text": "598it [02:48,  3.51it/s]",
          "output_type": "stream"
        },
        {
          "name": "stdout",
          "text": "\n0: 256x256 1 plate, 9.6ms\nSpeed: 0.9ms preprocess, 9.6ms inference, 1.6ms postprocess per image at shape (1, 3, 256, 256)\n[[     68.636      91.936]\n [     179.87      26.525]\n [     198.94      110.29]\n [     76.711      181.44]]\n",
          "output_type": "stream"
        },
        {
          "name": "stderr",
          "text": "599it [02:48,  3.53it/s]",
          "output_type": "stream"
        },
        {
          "name": "stdout",
          "text": "\n0: 256x256 1 plate, 10.3ms\nSpeed: 1.0ms preprocess, 10.3ms inference, 1.6ms postprocess per image at shape (1, 3, 256, 256)\n[[     20.579      56.686]\n [     237.82      26.793]\n [     248.71      188.46]\n [      30.72      230.84]]\n",
          "output_type": "stream"
        },
        {
          "name": "stderr",
          "text": "600it [02:49,  3.53it/s]",
          "output_type": "stream"
        },
        {
          "name": "stdout",
          "text": "\n0: 256x256 1 plate, 10.1ms\nSpeed: 1.0ms preprocess, 10.1ms inference, 1.7ms postprocess per image at shape (1, 3, 256, 256)\n[[     6.6854      49.254]\n [     246.62      46.654]\n [     246.98      210.12]\n [     12.391      217.16]]\n",
          "output_type": "stream"
        },
        {
          "name": "stderr",
          "text": "601it [02:49,  3.55it/s]",
          "output_type": "stream"
        },
        {
          "name": "stdout",
          "text": "\n0: 256x256 1 plate, 10.0ms\nSpeed: 0.9ms preprocess, 10.0ms inference, 1.6ms postprocess per image at shape (1, 3, 256, 256)\n[[     19.965      48.196]\n [     231.97      85.385]\n [     233.07      216.41]\n [     21.289      183.04]]\n",
          "output_type": "stream"
        },
        {
          "name": "stderr",
          "text": "602it [02:49,  3.55it/s]",
          "output_type": "stream"
        },
        {
          "name": "stdout",
          "text": "\n0: 256x256 1 plate, 9.9ms\nSpeed: 1.0ms preprocess, 9.9ms inference, 1.6ms postprocess per image at shape (1, 3, 256, 256)\n[[     12.788      64.506]\n [     233.87      59.401]\n [     236.43      194.72]\n [     15.939      205.47]]\n",
          "output_type": "stream"
        },
        {
          "name": "stderr",
          "text": "603it [02:50,  3.57it/s]",
          "output_type": "stream"
        },
        {
          "name": "stdout",
          "text": "\n0: 256x256 1 plate, 9.9ms\nSpeed: 0.8ms preprocess, 9.9ms inference, 1.6ms postprocess per image at shape (1, 3, 256, 256)\n[[     15.752      56.505]\n [     232.73       71.62]\n [        236      209.46]\n [     19.235      197.06]]\n",
          "output_type": "stream"
        },
        {
          "name": "stderr",
          "text": "604it [02:50,  3.59it/s]",
          "output_type": "stream"
        },
        {
          "name": "stdout",
          "text": "\n0: 256x256 1 plate, 10.1ms\nSpeed: 1.0ms preprocess, 10.1ms inference, 1.7ms postprocess per image at shape (1, 3, 256, 256)\n[[     10.362      37.479]\n [     245.88      89.393]\n [     235.74      231.11]\n [     11.573       175.5]]\n",
          "output_type": "stream"
        },
        {
          "name": "stderr",
          "text": "605it [02:50,  3.57it/s]",
          "output_type": "stream"
        },
        {
          "name": "stdout",
          "text": "\n0: 256x256 1 plate, 10.0ms\nSpeed: 1.0ms preprocess, 10.0ms inference, 1.8ms postprocess per image at shape (1, 3, 256, 256)\n[[     9.6581      54.137]\n [     246.99      34.259]\n [     251.81      203.43]\n [     18.081      232.05]]\n",
          "output_type": "stream"
        },
        {
          "name": "stderr",
          "text": "606it [02:50,  3.53it/s]",
          "output_type": "stream"
        },
        {
          "name": "stdout",
          "text": "\n0: 256x256 1 plate, 10.0ms\nSpeed: 0.6ms preprocess, 10.0ms inference, 1.7ms postprocess per image at shape (1, 3, 256, 256)\n[[     11.864      58.122]\n [     237.41      33.126]\n [     245.36      189.74]\n [     16.972      228.21]]\n",
          "output_type": "stream"
        },
        {
          "name": "stderr",
          "text": "607it [02:51,  3.52it/s]",
          "output_type": "stream"
        },
        {
          "name": "stdout",
          "text": "\n0: 256x256 1 plate, 10.7ms\nSpeed: 1.1ms preprocess, 10.7ms inference, 1.8ms postprocess per image at shape (1, 3, 256, 256)\n[[     21.597      66.392]\n [     231.87      68.848]\n [     236.46      199.87]\n [     25.067      205.64]]\n",
          "output_type": "stream"
        },
        {
          "name": "stderr",
          "text": "608it [02:51,  3.47it/s]",
          "output_type": "stream"
        },
        {
          "name": "stdout",
          "text": "\n0: 256x256 1 plate, 9.8ms\nSpeed: 0.9ms preprocess, 9.8ms inference, 1.7ms postprocess per image at shape (1, 3, 256, 256)\n[[     32.899      92.096]\n [     219.56      18.359]\n [     221.81      164.38]\n [     33.595      235.11]]\n",
          "output_type": "stream"
        },
        {
          "name": "stderr",
          "text": "609it [02:51,  3.48it/s]",
          "output_type": "stream"
        },
        {
          "name": "stdout",
          "text": "\n0: 256x256 1 plate, 9.7ms\nSpeed: 1.0ms preprocess, 9.7ms inference, 1.6ms postprocess per image at shape (1, 3, 256, 256)\n[[      5.584      39.623]\n [      249.2      53.653]\n [     243.08      223.25]\n [     11.553      208.44]]\n",
          "output_type": "stream"
        },
        {
          "name": "stderr",
          "text": "610it [02:52,  3.50it/s]",
          "output_type": "stream"
        },
        {
          "name": "stdout",
          "text": "\n0: 256x256 1 plate, 9.8ms\nSpeed: 0.9ms preprocess, 9.8ms inference, 1.6ms postprocess per image at shape (1, 3, 256, 256)\n[[     6.4945      17.267]\n [     247.02      79.631]\n [     241.02      248.17]\n [          0      189.33]]\n",
          "output_type": "stream"
        },
        {
          "name": "stderr",
          "text": "611it [02:52,  3.52it/s]",
          "output_type": "stream"
        },
        {
          "name": "stdout",
          "text": "\n0: 256x256 1 plate, 9.6ms\nSpeed: 0.9ms preprocess, 9.6ms inference, 1.6ms postprocess per image at shape (1, 3, 256, 256)\n[[     5.4694      23.958]\n [     246.24      82.422]\n [     238.67      235.17]\n [     10.629      174.12]]\n",
          "output_type": "stream"
        },
        {
          "name": "stderr",
          "text": "612it [02:52,  3.51it/s]",
          "output_type": "stream"
        },
        {
          "name": "stdout",
          "text": "\n0: 256x256 1 plate, 10.0ms\nSpeed: 1.0ms preprocess, 10.0ms inference, 1.6ms postprocess per image at shape (1, 3, 256, 256)\n[[     6.6895      45.707]\n [     242.59      18.615]\n [     243.86      195.31]\n [     13.637      228.06]]\n",
          "output_type": "stream"
        },
        {
          "name": "stderr",
          "text": "613it [02:52,  3.51it/s]",
          "output_type": "stream"
        },
        {
          "name": "stdout",
          "text": "\n0: 256x256 1 plate, 10.1ms\nSpeed: 1.0ms preprocess, 10.1ms inference, 1.7ms postprocess per image at shape (1, 3, 256, 256)\n[[     8.0282      52.575]\n [     244.91      59.428]\n [     243.31      220.49]\n [     13.181      217.08]]\n",
          "output_type": "stream"
        },
        {
          "name": "stderr",
          "text": "614it [02:53,  3.52it/s]",
          "output_type": "stream"
        },
        {
          "name": "stdout",
          "text": "\n0: 256x256 1 plate, 10.2ms\nSpeed: 1.0ms preprocess, 10.2ms inference, 1.7ms postprocess per image at shape (1, 3, 256, 256)\n[[     35.058      88.628]\n [     211.02      33.735]\n [     225.44      140.41]\n [     40.119      218.34]]\n",
          "output_type": "stream"
        },
        {
          "name": "stderr",
          "text": "615it [02:53,  3.52it/s]",
          "output_type": "stream"
        },
        {
          "name": "stdout",
          "text": "\n0: 256x256 1 plate, 9.6ms\nSpeed: 0.6ms preprocess, 9.6ms inference, 1.7ms postprocess per image at shape (1, 3, 256, 256)\n[[     67.929      51.542]\n [     195.41       121.6]\n [     187.71      213.78]\n [     66.717      130.84]]\n",
          "output_type": "stream"
        },
        {
          "name": "stderr",
          "text": "616it [02:53,  3.51it/s]",
          "output_type": "stream"
        },
        {
          "name": "stdout",
          "text": "\n0: 256x256 1 plate, 10.1ms\nSpeed: 1.0ms preprocess, 10.1ms inference, 1.6ms postprocess per image at shape (1, 3, 256, 256)\n[[       18.7      51.663]\n [     231.26      54.015]\n [     237.38      208.83]\n [      17.29      210.66]]\n",
          "output_type": "stream"
        },
        {
          "name": "stderr",
          "text": "617it [02:54,  3.51it/s]",
          "output_type": "stream"
        },
        {
          "name": "stdout",
          "text": "\n0: 256x256 1 plate, 9.8ms\nSpeed: 0.9ms preprocess, 9.8ms inference, 1.8ms postprocess per image at shape (1, 3, 256, 256)\n[[     17.828      32.274]\n [     240.07      129.19]\n [     235.98      247.18]\n [     23.463       124.2]]\n",
          "output_type": "stream"
        },
        {
          "name": "stderr",
          "text": "618it [02:54,  3.52it/s]",
          "output_type": "stream"
        },
        {
          "name": "stdout",
          "text": "\n0: 256x256 1 plate, 10.0ms\nSpeed: 1.1ms preprocess, 10.0ms inference, 1.6ms postprocess per image at shape (1, 3, 256, 256)\n[[     12.611       42.29]\n [     235.99      55.124]\n [     240.55       216.4]\n [     8.1354      204.91]]\n",
          "output_type": "stream"
        },
        {
          "name": "stderr",
          "text": "619it [02:54,  3.51it/s]",
          "output_type": "stream"
        },
        {
          "name": "stdout",
          "text": "\n0: 256x256 1 plate, 10.2ms\nSpeed: 0.9ms preprocess, 10.2ms inference, 1.8ms postprocess per image at shape (1, 3, 256, 256)\n[[     17.246      33.938]\n [     238.51      91.406]\n [     239.08      216.16]\n [     13.468      167.63]]\n",
          "output_type": "stream"
        },
        {
          "name": "stderr",
          "text": "620it [02:54,  3.51it/s]",
          "output_type": "stream"
        },
        {
          "name": "stdout",
          "text": "\n0: 256x256 1 plate, 10.0ms\nSpeed: 1.0ms preprocess, 10.0ms inference, 1.6ms postprocess per image at shape (1, 3, 256, 256)\n[[     6.6935      29.853]\n [        245      75.077]\n [     240.25      226.89]\n [     11.245      179.94]]\n",
          "output_type": "stream"
        },
        {
          "name": "stderr",
          "text": "621it [02:55,  3.51it/s]",
          "output_type": "stream"
        },
        {
          "name": "stdout",
          "text": "\n0: 256x256 1 plate, 9.8ms\nSpeed: 0.9ms preprocess, 9.8ms inference, 1.7ms postprocess per image at shape (1, 3, 256, 256)\n[[      16.31      32.348]\n [     238.72       56.59]\n [     241.14      218.57]\n [     11.216      194.47]]\n",
          "output_type": "stream"
        },
        {
          "name": "stderr",
          "text": "622it [02:55,  3.53it/s]",
          "output_type": "stream"
        },
        {
          "name": "stdout",
          "text": "\n0: 256x256 1 plate, 9.8ms\nSpeed: 0.9ms preprocess, 9.8ms inference, 1.6ms postprocess per image at shape (1, 3, 256, 256)\n[[     1.5225      32.459]\n [     250.01      57.547]\n [     242.33      228.82]\n [     8.5542      203.12]]\n",
          "output_type": "stream"
        },
        {
          "name": "stderr",
          "text": "623it [02:55,  3.53it/s]",
          "output_type": "stream"
        },
        {
          "name": "stdout",
          "text": "\n0: 256x256 1 plate, 10.5ms\nSpeed: 1.1ms preprocess, 10.5ms inference, 1.6ms postprocess per image at shape (1, 3, 256, 256)\n[[     4.0335      17.627]\n [     247.94      120.01]\n [      235.7      246.64]\n [        7.6      150.88]]\n",
          "output_type": "stream"
        },
        {
          "name": "stderr",
          "text": "624it [02:56,  3.52it/s]",
          "output_type": "stream"
        },
        {
          "name": "stdout",
          "text": "\n0: 256x256 1 plate, 10.1ms\nSpeed: 0.9ms preprocess, 10.1ms inference, 1.7ms postprocess per image at shape (1, 3, 256, 256)\n[[     1.0249      39.312]\n [     244.12      28.864]\n [     246.46       225.2]\n [          0      236.71]]\n",
          "output_type": "stream"
        },
        {
          "name": "stderr",
          "text": "625it [02:56,  3.50it/s]",
          "output_type": "stream"
        },
        {
          "name": "stdout",
          "text": "\n0: 256x256 1 plate, 9.8ms\nSpeed: 0.9ms preprocess, 9.8ms inference, 1.7ms postprocess per image at shape (1, 3, 256, 256)\n[[     19.607      58.967]\n [     234.48      21.362]\n [     247.29      180.98]\n [     29.203      232.92]]\n",
          "output_type": "stream"
        },
        {
          "name": "stderr",
          "text": "626it [02:56,  3.45it/s]",
          "output_type": "stream"
        },
        {
          "name": "stdout",
          "text": "\n0: 256x256 1 plate, 10.2ms\nSpeed: 0.9ms preprocess, 10.2ms inference, 1.8ms postprocess per image at shape (1, 3, 256, 256)\n[[     17.701      34.124]\n [     232.19      108.28]\n [     229.74      223.95]\n [     15.843      153.98]]\n",
          "output_type": "stream"
        },
        {
          "name": "stderr",
          "text": "627it [02:56,  3.47it/s]",
          "output_type": "stream"
        },
        {
          "name": "stdout",
          "text": "\n0: 256x256 1 plate, 9.9ms\nSpeed: 1.0ms preprocess, 9.9ms inference, 1.6ms postprocess per image at shape (1, 3, 256, 256)\n[[     4.5132      35.348]\n [     250.31      23.539]\n [     246.76      211.38]\n [     13.791      228.03]]\n",
          "output_type": "stream"
        },
        {
          "name": "stderr",
          "text": "628it [02:57,  3.52it/s]",
          "output_type": "stream"
        },
        {
          "name": "stdout",
          "text": "\n0: 256x256 1 plate, 9.7ms\nSpeed: 1.0ms preprocess, 9.7ms inference, 1.6ms postprocess per image at shape (1, 3, 256, 256)\n[[     25.792      67.814]\n [     230.15       71.67]\n [      234.6      191.64]\n [     24.352      192.34]]\n",
          "output_type": "stream"
        },
        {
          "name": "stderr",
          "text": "629it [02:57,  3.52it/s]",
          "output_type": "stream"
        },
        {
          "name": "stdout",
          "text": "\n0: 256x256 1 plate, 9.7ms\nSpeed: 0.9ms preprocess, 9.7ms inference, 1.6ms postprocess per image at shape (1, 3, 256, 256)\n[[     14.777      30.265]\n [     238.07      101.38]\n [     235.43      226.46]\n [     14.099      164.01]]\n",
          "output_type": "stream"
        },
        {
          "name": "stderr",
          "text": "630it [02:57,  3.49it/s]",
          "output_type": "stream"
        },
        {
          "name": "stdout",
          "text": "\n0: 256x256 1 plate, 10.3ms\nSpeed: 1.0ms preprocess, 10.3ms inference, 1.6ms postprocess per image at shape (1, 3, 256, 256)\n[[     17.528      66.713]\n [     237.84      32.178]\n [     236.51      185.01]\n [     20.111      225.31]]\n",
          "output_type": "stream"
        },
        {
          "name": "stderr",
          "text": "631it [02:58,  3.49it/s]",
          "output_type": "stream"
        },
        {
          "name": "stdout",
          "text": "\n0: 256x256 1 plate, 9.8ms\nSpeed: 1.0ms preprocess, 9.8ms inference, 1.6ms postprocess per image at shape (1, 3, 256, 256)\n[[     15.426      31.982]\n [     237.65      75.308]\n [     243.23      220.72]\n [     8.9574       179.7]]\n",
          "output_type": "stream"
        },
        {
          "name": "stderr",
          "text": "632it [02:58,  3.55it/s]",
          "output_type": "stream"
        },
        {
          "name": "stdout",
          "text": "\n0: 256x256 1 plate, 9.9ms\nSpeed: 0.9ms preprocess, 9.9ms inference, 1.6ms postprocess per image at shape (1, 3, 256, 256)\n[[     66.281      74.787]\n [     210.23      4.3204]\n [     225.89      128.59]\n [     79.907      206.09]]\n",
          "output_type": "stream"
        },
        {
          "name": "stderr",
          "text": "633it [02:58,  3.57it/s]",
          "output_type": "stream"
        },
        {
          "name": "stdout",
          "text": "\n0: 256x256 1 plate, 10.2ms\nSpeed: 0.9ms preprocess, 10.2ms inference, 1.8ms postprocess per image at shape (1, 3, 256, 256)\n[[     14.425      29.972]\n [     240.32      135.55]\n [     227.47      238.33]\n [     12.613      143.18]]\n",
          "output_type": "stream"
        },
        {
          "name": "stderr",
          "text": "634it [02:58,  3.58it/s]",
          "output_type": "stream"
        },
        {
          "name": "stdout",
          "text": "\n0: 256x256 1 plate, 10.2ms\nSpeed: 1.1ms preprocess, 10.2ms inference, 1.7ms postprocess per image at shape (1, 3, 256, 256)\n[[     19.712      26.388]\n [     238.08      111.45]\n [     235.75      224.34]\n [      16.62       146.1]]\n",
          "output_type": "stream"
        },
        {
          "name": "stderr",
          "text": "635it [02:59,  3.59it/s]",
          "output_type": "stream"
        },
        {
          "name": "stdout",
          "text": "\n0: 256x256 1 plate, 10.1ms\nSpeed: 1.1ms preprocess, 10.1ms inference, 1.7ms postprocess per image at shape (1, 3, 256, 256)\n[[     19.339      76.435]\n [     231.25      47.723]\n [     232.34      190.11]\n [     22.227      225.56]]\n",
          "output_type": "stream"
        },
        {
          "name": "stderr",
          "text": "636it [02:59,  3.59it/s]",
          "output_type": "stream"
        },
        {
          "name": "stdout",
          "text": "\n0: 256x256 1 plate, 9.6ms\nSpeed: 1.0ms preprocess, 9.6ms inference, 1.7ms postprocess per image at shape (1, 3, 256, 256)\n[[     20.978      69.852]\n [     229.11      73.941]\n [      229.2      188.32]\n [      25.84      195.56]]\n",
          "output_type": "stream"
        },
        {
          "name": "stderr",
          "text": "637it [02:59,  3.54it/s]",
          "output_type": "stream"
        },
        {
          "name": "stdout",
          "text": "\n0: 256x256 1 plate, 10.0ms\nSpeed: 1.0ms preprocess, 10.0ms inference, 1.7ms postprocess per image at shape (1, 3, 256, 256)\n[[     16.664      55.752]\n [     231.32      86.023]\n [      229.7      201.74]\n [     16.207      181.85]]\n",
          "output_type": "stream"
        },
        {
          "name": "stderr",
          "text": "638it [02:59,  3.52it/s]",
          "output_type": "stream"
        },
        {
          "name": "stdout",
          "text": "\n0: 256x256 1 plate, 9.7ms\nSpeed: 1.0ms preprocess, 9.7ms inference, 1.6ms postprocess per image at shape (1, 3, 256, 256)\n[[      51.07      97.121]\n [     207.58      25.806]\n [     216.78       158.7]\n [     52.915      224.43]]\n",
          "output_type": "stream"
        },
        {
          "name": "stderr",
          "text": "639it [03:00,  3.52it/s]",
          "output_type": "stream"
        },
        {
          "name": "stdout",
          "text": "\n0: 256x256 1 plate, 9.7ms\nSpeed: 0.9ms preprocess, 9.7ms inference, 1.6ms postprocess per image at shape (1, 3, 256, 256)\n[[     35.602      82.139]\n [     225.45      51.323]\n [     230.56      173.81]\n [     44.157      216.45]]\n",
          "output_type": "stream"
        },
        {
          "name": "stderr",
          "text": "640it [03:00,  3.51it/s]",
          "output_type": "stream"
        },
        {
          "name": "stdout",
          "text": "\n0: 256x256 1 plate, 9.9ms\nSpeed: 1.0ms preprocess, 9.9ms inference, 1.6ms postprocess per image at shape (1, 3, 256, 256)\n[[     5.7112      20.985]\n [     249.46      81.588]\n [     239.91      238.17]\n [     11.873      179.97]]\n",
          "output_type": "stream"
        },
        {
          "name": "stderr",
          "text": "641it [03:00,  3.35it/s]",
          "output_type": "stream"
        },
        {
          "name": "stdout",
          "text": "\n0: 256x256 1 plate, 9.9ms\nSpeed: 0.9ms preprocess, 9.9ms inference, 1.7ms postprocess per image at shape (1, 3, 256, 256)\n[[     10.362      58.536]\n [     241.99      39.224]\n [     242.48       204.1]\n [     13.623      226.36]]\n",
          "output_type": "stream"
        },
        {
          "name": "stderr",
          "text": "642it [03:01,  3.43it/s]",
          "output_type": "stream"
        },
        {
          "name": "stdout",
          "text": "\n0: 256x256 1 plate, 12.9ms\nSpeed: 2.1ms preprocess, 12.9ms inference, 1.7ms postprocess per image at shape (1, 3, 256, 256)\n[[     11.677      55.193]\n [      236.2      32.511]\n [     241.17      203.74]\n [     9.6373      233.19]]\n",
          "output_type": "stream"
        },
        {
          "name": "stderr",
          "text": "643it [03:01,  3.47it/s]",
          "output_type": "stream"
        },
        {
          "name": "stdout",
          "text": "\n0: 256x256 1 plate, 9.9ms\nSpeed: 1.0ms preprocess, 9.9ms inference, 1.6ms postprocess per image at shape (1, 3, 256, 256)\n[[     26.319      79.184]\n [     224.02      15.804]\n [     232.06      165.13]\n [     36.761      237.27]]\n",
          "output_type": "stream"
        },
        {
          "name": "stderr",
          "text": "644it [03:01,  3.42it/s]",
          "output_type": "stream"
        },
        {
          "name": "stdout",
          "text": "\n0: 256x256 1 plate, 17.4ms\nSpeed: 1.1ms preprocess, 17.4ms inference, 2.3ms postprocess per image at shape (1, 3, 256, 256)\n[[     7.6216      27.782]\n [     246.86      90.013]\n [     237.66      234.01]\n [     9.4245       167.7]]\n",
          "output_type": "stream"
        },
        {
          "name": "stderr",
          "text": "645it [03:02,  3.34it/s]",
          "output_type": "stream"
        },
        {
          "name": "stdout",
          "text": "\n0: 256x256 1 plate, 14.3ms\nSpeed: 1.0ms preprocess, 14.3ms inference, 2.3ms postprocess per image at shape (1, 3, 256, 256)\n[[     100.99      58.335]\n [     216.34      5.8362]\n [     236.15       144.1]\n [     112.03      199.44]]\n",
          "output_type": "stream"
        },
        {
          "name": "stderr",
          "text": "646it [03:02,  3.29it/s]",
          "output_type": "stream"
        },
        {
          "name": "stdout",
          "text": "\n0: 256x256 1 plate, 10.0ms\nSpeed: 0.9ms preprocess, 10.0ms inference, 1.7ms postprocess per image at shape (1, 3, 256, 256)\n[[     32.665      95.402]\n [     223.45      27.141]\n [     222.09      160.12]\n [      33.91      233.28]]\n",
          "output_type": "stream"
        },
        {
          "name": "stderr",
          "text": "647it [03:02,  3.34it/s]",
          "output_type": "stream"
        },
        {
          "name": "stdout",
          "text": "\n0: 256x256 1 plate, 13.1ms\nSpeed: 1.1ms preprocess, 13.1ms inference, 2.0ms postprocess per image at shape (1, 3, 256, 256)\n[[     76.428      71.976]\n [      220.7      151.79]\n [     223.84      224.03]\n [     77.591       132.7]]\n",
          "output_type": "stream"
        },
        {
          "name": "stderr",
          "text": "648it [03:02,  3.40it/s]",
          "output_type": "stream"
        },
        {
          "name": "stdout",
          "text": "\n0: 256x256 1 plate, 10.1ms\nSpeed: 1.0ms preprocess, 10.1ms inference, 1.6ms postprocess per image at shape (1, 3, 256, 256)\n[[     11.927      62.051]\n [     239.35      62.688]\n [     239.99      208.77]\n [     13.407       210.2]]\n",
          "output_type": "stream"
        },
        {
          "name": "stderr",
          "text": "649it [03:03,  3.48it/s]",
          "output_type": "stream"
        },
        {
          "name": "stdout",
          "text": "\n0: 256x256 1 plate, 10.3ms\nSpeed: 1.0ms preprocess, 10.3ms inference, 1.7ms postprocess per image at shape (1, 3, 256, 256)\n[[     7.5214      32.182]\n [     244.95      72.183]\n [     242.69       221.1]\n [     8.0458      178.71]]\n",
          "output_type": "stream"
        },
        {
          "name": "stderr",
          "text": "650it [03:03,  3.54it/s]",
          "output_type": "stream"
        },
        {
          "name": "stdout",
          "text": "\n0: 256x256 1 plate, 9.7ms\nSpeed: 0.9ms preprocess, 9.7ms inference, 1.7ms postprocess per image at shape (1, 3, 256, 256)\n[[     6.7466      31.533]\n [     246.77      85.251]\n [     239.18      231.94]\n [     8.4181      174.64]]\n",
          "output_type": "stream"
        },
        {
          "name": "stderr",
          "text": "651it [03:03,  3.53it/s]",
          "output_type": "stream"
        },
        {
          "name": "stdout",
          "text": "\n0: 256x256 1 plate, 10.2ms\nSpeed: 0.9ms preprocess, 10.2ms inference, 1.7ms postprocess per image at shape (1, 3, 256, 256)\n[[     1.5745      30.198]\n [     254.49      43.027]\n [     249.11       222.1]\n [     8.9227      207.29]]\n",
          "output_type": "stream"
        },
        {
          "name": "stderr",
          "text": "652it [03:04,  3.56it/s]",
          "output_type": "stream"
        },
        {
          "name": "stdout",
          "text": "\n0: 256x256 1 plate, 10.1ms\nSpeed: 0.9ms preprocess, 10.1ms inference, 1.6ms postprocess per image at shape (1, 3, 256, 256)\n[[     4.8267      12.978]\n [     249.69      95.812]\n [     239.34      240.71]\n [     9.4708      165.79]]\n",
          "output_type": "stream"
        },
        {
          "name": "stderr",
          "text": "653it [03:04,  3.58it/s]",
          "output_type": "stream"
        },
        {
          "name": "stdout",
          "text": "\n0: 256x256 1 plate, 10.5ms\nSpeed: 0.9ms preprocess, 10.5ms inference, 1.7ms postprocess per image at shape (1, 3, 256, 256)\n[[     90.522      97.602]\n [     211.04      21.523]\n [     229.41      131.75]\n [      97.94      199.57]]\n",
          "output_type": "stream"
        },
        {
          "name": "stderr",
          "text": "654it [03:04,  3.56it/s]",
          "output_type": "stream"
        },
        {
          "name": "stdout",
          "text": "\n0: 256x256 1 plate, 10.4ms\nSpeed: 1.0ms preprocess, 10.4ms inference, 1.6ms postprocess per image at shape (1, 3, 256, 256)\n[[     24.761      81.198]\n [      230.4      36.368]\n [     230.88      171.67]\n [     27.198      222.58]]\n",
          "output_type": "stream"
        },
        {
          "name": "stderr",
          "text": "655it [03:04,  3.53it/s]",
          "output_type": "stream"
        },
        {
          "name": "stdout",
          "text": "\n0: 256x256 1 plate, 10.0ms\nSpeed: 0.9ms preprocess, 10.0ms inference, 1.7ms postprocess per image at shape (1, 3, 256, 256)\n[[     14.275      48.352]\n [     235.05      73.865]\n [     238.88      214.11]\n [     15.187       198.9]]\n",
          "output_type": "stream"
        },
        {
          "name": "stderr",
          "text": "656it [03:05,  3.47it/s]",
          "output_type": "stream"
        },
        {
          "name": "stdout",
          "text": "\n0: 256x256 1 plate, 10.1ms\nSpeed: 0.9ms preprocess, 10.1ms inference, 1.7ms postprocess per image at shape (1, 3, 256, 256)\n[[     17.141      80.412]\n [     231.86      33.469]\n [     238.41      176.27]\n [     24.707      234.34]]\n",
          "output_type": "stream"
        },
        {
          "name": "stderr",
          "text": "657it [03:05,  3.44it/s]",
          "output_type": "stream"
        },
        {
          "name": "stdout",
          "text": "\n0: 256x256 1 plate, 10.0ms\nSpeed: 1.0ms preprocess, 10.0ms inference, 1.6ms postprocess per image at shape (1, 3, 256, 256)\n[[     3.1939      27.098]\n [     252.41      49.872]\n [     246.73       223.7]\n [     10.308      199.27]]\n",
          "output_type": "stream"
        },
        {
          "name": "stderr",
          "text": "658it [03:05,  3.44it/s]",
          "output_type": "stream"
        },
        {
          "name": "stdout",
          "text": "\n0: 256x256 1 plate, 10.0ms\nSpeed: 1.0ms preprocess, 10.0ms inference, 1.6ms postprocess per image at shape (1, 3, 256, 256)\n[[     8.1274      46.327]\n [     245.97      21.726]\n [     250.91      196.81]\n [     16.774      225.54]]\n",
          "output_type": "stream"
        },
        {
          "name": "stderr",
          "text": "659it [03:06,  3.47it/s]",
          "output_type": "stream"
        },
        {
          "name": "stdout",
          "text": "\n0: 256x256 1 plate, 9.8ms\nSpeed: 1.0ms preprocess, 9.8ms inference, 1.6ms postprocess per image at shape (1, 3, 256, 256)\n[[     2.3172      27.875]\n [     253.69      39.968]\n [     243.12      229.35]\n [     12.312      218.63]]\n",
          "output_type": "stream"
        },
        {
          "name": "stderr",
          "text": "660it [03:06,  3.45it/s]",
          "output_type": "stream"
        },
        {
          "name": "stdout",
          "text": "\n0: 256x256 1 plate, 9.9ms\nSpeed: 0.9ms preprocess, 9.9ms inference, 1.7ms postprocess per image at shape (1, 3, 256, 256)\n[[     8.7556      40.121]\n [      246.6      16.286]\n [     246.69         213]\n [     9.8403      229.18]]\n",
          "output_type": "stream"
        },
        {
          "name": "stderr",
          "text": "661it [03:06,  3.38it/s]",
          "output_type": "stream"
        },
        {
          "name": "stdout",
          "text": "\n0: 256x256 1 plate, 10.1ms\nSpeed: 0.9ms preprocess, 10.1ms inference, 1.6ms postprocess per image at shape (1, 3, 256, 256)\n[[     1.4461      31.184]\n [     253.22      43.443]\n [     247.35      223.49]\n [     8.6843      210.33]]\n",
          "output_type": "stream"
        },
        {
          "name": "stderr",
          "text": "662it [03:06,  3.42it/s]",
          "output_type": "stream"
        },
        {
          "name": "stdout",
          "text": "\n0: 256x256 1 plate, 10.0ms\nSpeed: 0.9ms preprocess, 10.0ms inference, 1.6ms postprocess per image at shape (1, 3, 256, 256)\n[[     178.64      62.255]\n [     85.446      96.657]\n [     84.966      162.44]\n [     182.63      117.58]]\n",
          "output_type": "stream"
        },
        {
          "name": "stderr",
          "text": "663it [03:07,  3.49it/s]",
          "output_type": "stream"
        },
        {
          "name": "stdout",
          "text": "\n0: 256x256 1 plate, 9.6ms\nSpeed: 0.6ms preprocess, 9.6ms inference, 1.7ms postprocess per image at shape (1, 3, 256, 256)\n[[     11.685      63.708]\n [     243.73      54.455]\n [     243.59       202.4]\n [     14.963      218.19]]\n",
          "output_type": "stream"
        },
        {
          "name": "stderr",
          "text": "664it [03:07,  3.51it/s]",
          "output_type": "stream"
        },
        {
          "name": "stdout",
          "text": "\n0: 256x256 1 plate, 9.8ms\nSpeed: 1.0ms preprocess, 9.8ms inference, 1.6ms postprocess per image at shape (1, 3, 256, 256)\n[[     14.588      57.692]\n [     238.06      45.857]\n [     239.28      199.47]\n [     18.947      215.25]]\n",
          "output_type": "stream"
        },
        {
          "name": "stderr",
          "text": "665it [03:07,  3.49it/s]",
          "output_type": "stream"
        },
        {
          "name": "stdout",
          "text": "\n0: 256x256 1 plate, 9.8ms\nSpeed: 0.9ms preprocess, 9.8ms inference, 1.6ms postprocess per image at shape (1, 3, 256, 256)\n[[     9.7969      20.871]\n [     248.83      91.467]\n [     238.24      233.46]\n [     13.624      165.62]]\n",
          "output_type": "stream"
        },
        {
          "name": "stderr",
          "text": "666it [03:08,  3.51it/s]",
          "output_type": "stream"
        },
        {
          "name": "stdout",
          "text": "\n0: 256x256 1 plate, 9.8ms\nSpeed: 1.0ms preprocess, 9.8ms inference, 1.7ms postprocess per image at shape (1, 3, 256, 256)\n[[     4.1968      44.603]\n [      248.6      33.484]\n [      250.4      210.33]\n [     12.598      222.46]]\n",
          "output_type": "stream"
        },
        {
          "name": "stderr",
          "text": "667it [03:08,  3.54it/s]",
          "output_type": "stream"
        },
        {
          "name": "stdout",
          "text": "\n0: 256x256 1 plate, 10.0ms\nSpeed: 1.0ms preprocess, 10.0ms inference, 1.6ms postprocess per image at shape (1, 3, 256, 256)\n[[     50.416      83.776]\n [     211.58      15.598]\n [      224.9      162.47]\n [     62.473      233.41]]\n",
          "output_type": "stream"
        },
        {
          "name": "stderr",
          "text": "668it [03:08,  3.55it/s]",
          "output_type": "stream"
        },
        {
          "name": "stdout",
          "text": "\n0: 256x256 1 plate, 10.0ms\nSpeed: 1.0ms preprocess, 10.0ms inference, 1.7ms postprocess per image at shape (1, 3, 256, 256)\n[[     55.621      47.799]\n [     225.32       143.4]\n [     219.77      233.21]\n [     54.291      126.19]]\n",
          "output_type": "stream"
        },
        {
          "name": "stderr",
          "text": "669it [03:08,  3.57it/s]",
          "output_type": "stream"
        },
        {
          "name": "stdout",
          "text": "\n0: 256x256 1 plate, 10.2ms\nSpeed: 1.0ms preprocess, 10.2ms inference, 1.6ms postprocess per image at shape (1, 3, 256, 256)\n[[     18.835       53.34]\n [      230.5      58.279]\n [     237.89      203.54]\n [     16.289      202.26]]\n",
          "output_type": "stream"
        },
        {
          "name": "stderr",
          "text": "670it [03:09,  3.61it/s]",
          "output_type": "stream"
        },
        {
          "name": "stdout",
          "text": "\n0: 256x256 1 plate, 10.0ms\nSpeed: 0.9ms preprocess, 10.0ms inference, 1.6ms postprocess per image at shape (1, 3, 256, 256)\n[[     11.411      6.9658]\n [     243.41       118.7]\n [     233.32      245.96]\n [     1.9914      137.55]]\n",
          "output_type": "stream"
        },
        {
          "name": "stderr",
          "text": "671it [03:09,  3.56it/s]",
          "output_type": "stream"
        },
        {
          "name": "stdout",
          "text": "\n0: 256x256 1 plate, 10.1ms\nSpeed: 1.0ms preprocess, 10.1ms inference, 1.6ms postprocess per image at shape (1, 3, 256, 256)\n[[     144.78      55.077]\n [     208.13      8.3427]\n [     228.31      131.61]\n [     154.13      175.23]]\n",
          "output_type": "stream"
        },
        {
          "name": "stderr",
          "text": "672it [03:09,  3.54it/s]",
          "output_type": "stream"
        },
        {
          "name": "stdout",
          "text": "\n0: 256x256 1 plate, 9.7ms\nSpeed: 0.9ms preprocess, 9.7ms inference, 1.6ms postprocess per image at shape (1, 3, 256, 256)\n[[     5.6888      41.257]\n [     240.95      29.843]\n [     243.58      196.44]\n [     9.5894      210.36]]\n",
          "output_type": "stream"
        },
        {
          "name": "stderr",
          "text": "673it [03:10,  3.57it/s]",
          "output_type": "stream"
        },
        {
          "name": "stdout",
          "text": "\n0: 256x256 1 plate, 9.9ms\nSpeed: 0.8ms preprocess, 9.9ms inference, 1.6ms postprocess per image at shape (1, 3, 256, 256)\n[[      51.76      69.622]\n [     202.99      22.993]\n [     223.52       163.1]\n [     57.337      225.36]]\n",
          "output_type": "stream"
        },
        {
          "name": "stderr",
          "text": "674it [03:10,  3.59it/s]",
          "output_type": "stream"
        },
        {
          "name": "stdout",
          "text": "\n0: 256x256 1 plate, 9.8ms\nSpeed: 0.9ms preprocess, 9.8ms inference, 1.7ms postprocess per image at shape (1, 3, 256, 256)\n[[     6.0284      39.642]\n [     247.95      65.967]\n [     240.99      230.28]\n [     11.546      198.49]]\n",
          "output_type": "stream"
        },
        {
          "name": "stderr",
          "text": "675it [03:10,  3.61it/s]",
          "output_type": "stream"
        },
        {
          "name": "stdout",
          "text": "\n0: 256x256 1 plate, 10.6ms\nSpeed: 1.0ms preprocess, 10.6ms inference, 1.7ms postprocess per image at shape (1, 3, 256, 256)\n[[     28.724       98.45]\n [     199.14      38.131]\n [     214.83      152.73]\n [     33.308      228.05]]\n",
          "output_type": "stream"
        },
        {
          "name": "stderr",
          "text": "676it [03:10,  3.61it/s]",
          "output_type": "stream"
        },
        {
          "name": "stdout",
          "text": "\n0: 256x256 1 plate, 10.0ms\nSpeed: 1.0ms preprocess, 10.0ms inference, 1.6ms postprocess per image at shape (1, 3, 256, 256)\n[[     1.1411      23.832]\n [     253.99      37.737]\n [     249.75      221.09]\n [     7.8359      211.49]]\n",
          "output_type": "stream"
        },
        {
          "name": "stderr",
          "text": "677it [03:11,  3.60it/s]",
          "output_type": "stream"
        },
        {
          "name": "stdout",
          "text": "\n0: 256x256 1 plate, 9.8ms\nSpeed: 1.0ms preprocess, 9.8ms inference, 1.6ms postprocess per image at shape (1, 3, 256, 256)\n[[     10.398      19.147]\n [     241.57      89.662]\n [     235.72      228.27]\n [     12.674      160.88]]\n",
          "output_type": "stream"
        },
        {
          "name": "stderr",
          "text": "678it [03:11,  3.62it/s]",
          "output_type": "stream"
        },
        {
          "name": "stdout",
          "text": "\n0: 256x256 1 plate, 10.0ms\nSpeed: 1.0ms preprocess, 10.0ms inference, 1.6ms postprocess per image at shape (1, 3, 256, 256)\n[[     10.994      14.668]\n [     243.49      122.59]\n [     228.75      237.57]\n [     15.482      134.65]]\n",
          "output_type": "stream"
        },
        {
          "name": "stderr",
          "text": "679it [03:11,  3.50it/s]",
          "output_type": "stream"
        },
        {
          "name": "stdout",
          "text": "\n0: 256x256 1 plate, 10.2ms\nSpeed: 1.1ms preprocess, 10.2ms inference, 1.7ms postprocess per image at shape (1, 3, 256, 256)\n[[     14.352      54.437]\n [     236.27      16.391]\n [     248.15      179.72]\n [     23.589      231.07]]\n",
          "output_type": "stream"
        },
        {
          "name": "stderr",
          "text": "680it [03:12,  3.46it/s]",
          "output_type": "stream"
        },
        {
          "name": "stdout",
          "text": "\n0: 256x256 1 plate, 10.2ms\nSpeed: 0.9ms preprocess, 10.2ms inference, 1.7ms postprocess per image at shape (1, 3, 256, 256)\n[[     38.996      56.171]\n [     227.82      8.0397]\n [     244.58      168.87]\n [     50.644      229.42]]\n",
          "output_type": "stream"
        },
        {
          "name": "stderr",
          "text": "681it [03:12,  3.45it/s]",
          "output_type": "stream"
        },
        {
          "name": "stdout",
          "text": "\n0: 256x256 1 plate, 10.1ms\nSpeed: 0.9ms preprocess, 10.1ms inference, 1.7ms postprocess per image at shape (1, 3, 256, 256)\n[[     10.145      51.443]\n [     240.84      37.026]\n [     247.08      215.09]\n [     8.4733      239.14]]\n",
          "output_type": "stream"
        },
        {
          "name": "stderr",
          "text": "682it [03:12,  3.41it/s]",
          "output_type": "stream"
        },
        {
          "name": "stdout",
          "text": "\n0: 256x256 1 plate, 9.9ms\nSpeed: 0.8ms preprocess, 9.9ms inference, 1.6ms postprocess per image at shape (1, 3, 256, 256)\n[[     8.2782      38.625]\n [     244.63      56.817]\n [     239.04      222.59]\n [     13.965      194.83]]\n",
          "output_type": "stream"
        },
        {
          "name": "stderr",
          "text": "683it [03:12,  3.40it/s]",
          "output_type": "stream"
        },
        {
          "name": "stdout",
          "text": "\n0: 256x256 1 plate, 10.0ms\nSpeed: 1.1ms preprocess, 10.0ms inference, 1.7ms postprocess per image at shape (1, 3, 256, 256)\n[[     2.8803      42.504]\n [     249.04      29.607]\n [     249.16      205.13]\n [     9.0267      222.64]]\n",
          "output_type": "stream"
        },
        {
          "name": "stderr",
          "text": "684it [03:13,  3.40it/s]",
          "output_type": "stream"
        },
        {
          "name": "stdout",
          "text": "\n0: 256x256 1 plate, 10.2ms\nSpeed: 1.0ms preprocess, 10.2ms inference, 1.8ms postprocess per image at shape (1, 3, 256, 256)\n[[     9.8916      9.1914]\n [     243.52      91.436]\n [     235.65      244.72]\n [    0.97867      160.87]]\n",
          "output_type": "stream"
        },
        {
          "name": "stderr",
          "text": "685it [03:13,  3.40it/s]",
          "output_type": "stream"
        },
        {
          "name": "stdout",
          "text": "\n0: 256x256 1 plate, 9.9ms\nSpeed: 0.9ms preprocess, 9.9ms inference, 1.7ms postprocess per image at shape (1, 3, 256, 256)\n[[     39.371       61.08]\n [     224.47        15.3]\n [     242.11      170.86]\n [     49.698      231.06]]\n",
          "output_type": "stream"
        },
        {
          "name": "stderr",
          "text": "686it [03:13,  3.42it/s]",
          "output_type": "stream"
        },
        {
          "name": "stdout",
          "text": "\n0: 256x256 1 plate, 10.3ms\nSpeed: 1.0ms preprocess, 10.3ms inference, 1.6ms postprocess per image at shape (1, 3, 256, 256)\n[[     61.457      101.04]\n [     183.97      37.315]\n [     203.95      121.12]\n [     63.367      199.63]]\n",
          "output_type": "stream"
        },
        {
          "name": "stderr",
          "text": "687it [03:14,  3.46it/s]",
          "output_type": "stream"
        },
        {
          "name": "stdout",
          "text": "\n0: 256x256 1 plate, 10.2ms\nSpeed: 1.0ms preprocess, 10.2ms inference, 1.6ms postprocess per image at shape (1, 3, 256, 256)\n[[      13.89      44.271]\n [     236.19      56.521]\n [     239.86      219.76]\n [     8.7752      210.26]]\n",
          "output_type": "stream"
        },
        {
          "name": "stderr",
          "text": "688it [03:14,  3.45it/s]",
          "output_type": "stream"
        },
        {
          "name": "stdout",
          "text": "\n0: 256x256 1 plate, 10.2ms\nSpeed: 0.9ms preprocess, 10.2ms inference, 1.6ms postprocess per image at shape (1, 3, 256, 256)\n[[      31.78      56.372]\n [     231.71      16.543]\n [     246.39      183.31]\n [     42.634      233.89]]\n",
          "output_type": "stream"
        },
        {
          "name": "stderr",
          "text": "689it [03:14,  3.40it/s]",
          "output_type": "stream"
        },
        {
          "name": "stdout",
          "text": "\n0: 256x256 1 plate, 10.2ms\nSpeed: 0.9ms preprocess, 10.2ms inference, 1.7ms postprocess per image at shape (1, 3, 256, 256)\n[[     13.827      55.268]\n [     231.17      69.709]\n [     234.75      199.83]\n [     18.138       195.2]]\n",
          "output_type": "stream"
        },
        {
          "name": "stderr",
          "text": "690it [03:14,  3.39it/s]",
          "output_type": "stream"
        },
        {
          "name": "stdout",
          "text": "\n0: 256x256 1 plate, 10.6ms\nSpeed: 1.1ms preprocess, 10.6ms inference, 1.7ms postprocess per image at shape (1, 3, 256, 256)\n[[     22.076      84.273]\n [     225.52      34.212]\n [     235.81      169.19]\n [     30.062      234.52]]\n",
          "output_type": "stream"
        },
        {
          "name": "stderr",
          "text": "691it [03:15,  3.35it/s]",
          "output_type": "stream"
        },
        {
          "name": "stdout",
          "text": "\n0: 256x256 1 plate, 10.6ms\nSpeed: 0.9ms preprocess, 10.6ms inference, 2.2ms postprocess per image at shape (1, 3, 256, 256)\n[[     15.029      73.179]\n [     234.06      28.745]\n [     236.13      180.42]\n [     22.323      232.09]]\n",
          "output_type": "stream"
        },
        {
          "name": "stderr",
          "text": "692it [03:15,  3.38it/s]",
          "output_type": "stream"
        },
        {
          "name": "stdout",
          "text": "\n0: 256x256 1 plate, 9.8ms\nSpeed: 1.0ms preprocess, 9.8ms inference, 1.6ms postprocess per image at shape (1, 3, 256, 256)\n[[     7.2811      23.218]\n [     249.07      93.339]\n [     239.29      238.66]\n [     11.089      170.17]]\n",
          "output_type": "stream"
        },
        {
          "name": "stderr",
          "text": "693it [03:15,  3.43it/s]",
          "output_type": "stream"
        },
        {
          "name": "stdout",
          "text": "\n0: 256x256 1 plate, 9.8ms\nSpeed: 0.9ms preprocess, 9.8ms inference, 1.6ms postprocess per image at shape (1, 3, 256, 256)\n[[     9.4961      12.639]\n [      245.8      88.801]\n [     237.49      231.46]\n [     14.193      162.75]]\n",
          "output_type": "stream"
        },
        {
          "name": "stderr",
          "text": "694it [03:16,  3.44it/s]",
          "output_type": "stream"
        },
        {
          "name": "stdout",
          "text": "\n0: 256x256 1 plate, 10.2ms\nSpeed: 1.0ms preprocess, 10.2ms inference, 1.7ms postprocess per image at shape (1, 3, 256, 256)\n[[     70.749      77.129]\n [     208.21       10.23]\n [     228.33      123.72]\n [      82.92      201.33]]\n",
          "output_type": "stream"
        },
        {
          "name": "stderr",
          "text": "695it [03:16,  3.48it/s]",
          "output_type": "stream"
        },
        {
          "name": "stdout",
          "text": "\n0: 256x256 1 plate, 9.6ms\nSpeed: 1.0ms preprocess, 9.6ms inference, 1.6ms postprocess per image at shape (1, 3, 256, 256)\n[[     11.654      31.933]\n [        244      101.22]\n [     234.37      232.56]\n [     12.907      162.41]]\n",
          "output_type": "stream"
        },
        {
          "name": "stderr",
          "text": "696it [03:16,  3.46it/s]",
          "output_type": "stream"
        },
        {
          "name": "stdout",
          "text": "\n0: 256x256 1 plate, 9.8ms\nSpeed: 0.9ms preprocess, 9.8ms inference, 1.6ms postprocess per image at shape (1, 3, 256, 256)\n[[     10.026      54.626]\n [     239.33      25.688]\n [     246.15      191.37]\n [     17.761      232.46]]\n",
          "output_type": "stream"
        },
        {
          "name": "stderr",
          "text": "697it [03:16,  3.40it/s]",
          "output_type": "stream"
        },
        {
          "name": "stdout",
          "text": "\n0: 256x256 1 plate, 10.4ms\nSpeed: 1.0ms preprocess, 10.4ms inference, 1.7ms postprocess per image at shape (1, 3, 256, 256)\n[[     3.6172      25.009]\n [      248.4      69.148]\n [      243.2      230.94]\n [      8.623      186.93]]\n",
          "output_type": "stream"
        },
        {
          "name": "stderr",
          "text": "698it [03:17,  3.40it/s]",
          "output_type": "stream"
        },
        {
          "name": "stdout",
          "text": "\n0: 256x256 1 plate, 10.2ms\nSpeed: 1.0ms preprocess, 10.2ms inference, 1.7ms postprocess per image at shape (1, 3, 256, 256)\n[[      3.525      36.737]\n [     252.61      30.784]\n [     249.44      216.36]\n [     12.326      220.05]]\n",
          "output_type": "stream"
        },
        {
          "name": "stderr",
          "text": "699it [03:17,  3.35it/s]",
          "output_type": "stream"
        },
        {
          "name": "stdout",
          "text": "\n0: 256x256 1 plate, 9.9ms\nSpeed: 0.9ms preprocess, 9.9ms inference, 1.7ms postprocess per image at shape (1, 3, 256, 256)\n[[     20.821      72.066]\n [     234.52      50.454]\n [      242.1      194.83]\n [     25.563      227.59]]\n",
          "output_type": "stream"
        },
        {
          "name": "stderr",
          "text": "700it [03:17,  3.42it/s]",
          "output_type": "stream"
        },
        {
          "name": "stdout",
          "text": "\n0: 256x256 1 plate, 9.7ms\nSpeed: 1.0ms preprocess, 9.7ms inference, 1.6ms postprocess per image at shape (1, 3, 256, 256)\n[[     10.541      26.586]\n [     247.77      110.24]\n [     233.39      244.47]\n [     15.774      161.18]]\n",
          "output_type": "stream"
        },
        {
          "name": "stderr",
          "text": "701it [03:18,  3.47it/s]",
          "output_type": "stream"
        },
        {
          "name": "stdout",
          "text": "\n0: 256x256 1 plate, 9.7ms\nSpeed: 1.0ms preprocess, 9.7ms inference, 1.6ms postprocess per image at shape (1, 3, 256, 256)\n[[     13.834       71.95]\n [     228.77      16.783]\n [      230.6      182.27]\n [     22.926      240.53]]\n",
          "output_type": "stream"
        },
        {
          "name": "stderr",
          "text": "702it [03:18,  3.54it/s]",
          "output_type": "stream"
        },
        {
          "name": "stdout",
          "text": "\n0: 256x256 1 plate, 9.5ms\nSpeed: 0.9ms preprocess, 9.5ms inference, 1.7ms postprocess per image at shape (1, 3, 256, 256)\n[[     77.175      77.307]\n [     209.12      8.1223]\n [     228.97       133.7]\n [     91.047      207.19]]\n",
          "output_type": "stream"
        },
        {
          "name": "stderr",
          "text": "703it [03:18,  3.54it/s]",
          "output_type": "stream"
        },
        {
          "name": "stdout",
          "text": "\n0: 256x256 1 plate, 9.8ms\nSpeed: 1.1ms preprocess, 9.8ms inference, 1.6ms postprocess per image at shape (1, 3, 256, 256)\n[[          0           0]\n [     239.13      140.35]\n [     236.77      251.41]\n [          0           0]]\n",
          "output_type": "stream"
        },
        {
          "name": "stderr",
          "text": "704it [03:18,  3.58it/s]",
          "output_type": "stream"
        },
        {
          "name": "stdout",
          "text": "\n0: 256x256 1 plate, 9.9ms\nSpeed: 1.0ms preprocess, 9.9ms inference, 1.6ms postprocess per image at shape (1, 3, 256, 256)\n[[     3.7341      35.473]\n [     249.65      35.784]\n [     249.67      213.08]\n [     9.8463      212.12]]\n",
          "output_type": "stream"
        },
        {
          "name": "stderr",
          "text": "705it [03:19,  3.63it/s]",
          "output_type": "stream"
        },
        {
          "name": "stdout",
          "text": "\n0: 256x256 1 plate, 9.9ms\nSpeed: 1.0ms preprocess, 9.9ms inference, 1.6ms postprocess per image at shape (1, 3, 256, 256)\n[[     18.843       54.24]\n [      233.5      15.123]\n [     245.99      175.04]\n [     28.168      226.99]]\n",
          "output_type": "stream"
        },
        {
          "name": "stderr",
          "text": "706it [03:19,  3.64it/s]",
          "output_type": "stream"
        },
        {
          "name": "stdout",
          "text": "\n0: 256x256 1 plate, 10.2ms\nSpeed: 1.0ms preprocess, 10.2ms inference, 1.6ms postprocess per image at shape (1, 3, 256, 256)\n[[      61.56      92.903]\n [     185.46      25.498]\n [     204.83       139.7]\n [      69.02      209.25]]\n",
          "output_type": "stream"
        },
        {
          "name": "stderr",
          "text": "707it [03:19,  3.63it/s]",
          "output_type": "stream"
        },
        {
          "name": "stdout",
          "text": "\n0: 256x256 1 plate, 10.3ms\nSpeed: 0.9ms preprocess, 10.3ms inference, 1.6ms postprocess per image at shape (1, 3, 256, 256)\n[[     31.086      84.037]\n [     217.18      22.214]\n [     228.62      154.72]\n [     40.451      228.25]]\n",
          "output_type": "stream"
        },
        {
          "name": "stderr",
          "text": "708it [03:20,  3.63it/s]",
          "output_type": "stream"
        },
        {
          "name": "stdout",
          "text": "\n0: 256x256 1 plate, 10.3ms\nSpeed: 1.0ms preprocess, 10.3ms inference, 1.6ms postprocess per image at shape (1, 3, 256, 256)\n[[     42.334      40.498]\n [      242.5      122.35]\n [     236.18       234.8]\n [     41.012      140.58]]\n",
          "output_type": "stream"
        },
        {
          "name": "stderr",
          "text": "709it [03:20,  3.66it/s]",
          "output_type": "stream"
        },
        {
          "name": "stdout",
          "text": "\n0: 256x256 1 plate, 10.2ms\nSpeed: 0.9ms preprocess, 10.2ms inference, 1.6ms postprocess per image at shape (1, 3, 256, 256)\n[[      32.88      96.313]\n [     216.28      51.074]\n [     218.85      151.69]\n [     37.442      202.62]]\n",
          "output_type": "stream"
        },
        {
          "name": "stderr",
          "text": "710it [03:20,  3.66it/s]",
          "output_type": "stream"
        },
        {
          "name": "stdout",
          "text": "\n0: 256x256 1 plate, 10.5ms\nSpeed: 1.0ms preprocess, 10.5ms inference, 1.6ms postprocess per image at shape (1, 3, 256, 256)\n[[     6.7015      53.038]\n [     246.95      52.015]\n [     247.54      217.34]\n [     11.049       225.4]]\n",
          "output_type": "stream"
        },
        {
          "name": "stderr",
          "text": "711it [03:20,  3.66it/s]",
          "output_type": "stream"
        },
        {
          "name": "stdout",
          "text": "\n0: 256x256 1 plate, 9.8ms\nSpeed: 1.0ms preprocess, 9.8ms inference, 1.6ms postprocess per image at shape (1, 3, 256, 256)\n[[     5.7121      27.164]\n [     249.39      67.436]\n [     243.12      229.35]\n [     9.9349      185.85]]\n",
          "output_type": "stream"
        },
        {
          "name": "stderr",
          "text": "712it [03:21,  3.65it/s]",
          "output_type": "stream"
        },
        {
          "name": "stdout",
          "text": "\n0: 256x256 1 plate, 10.6ms\nSpeed: 1.0ms preprocess, 10.6ms inference, 1.6ms postprocess per image at shape (1, 3, 256, 256)\n[[     9.7669      46.423]\n [     247.37      34.472]\n [     250.99      208.79]\n [     18.956      225.04]]\n",
          "output_type": "stream"
        },
        {
          "name": "stderr",
          "text": "713it [03:21,  3.66it/s]",
          "output_type": "stream"
        },
        {
          "name": "stdout",
          "text": "\n0: 256x256 1 plate, 9.7ms\nSpeed: 1.0ms preprocess, 9.7ms inference, 1.6ms postprocess per image at shape (1, 3, 256, 256)\n[[     11.658      18.508]\n [     243.42      123.37]\n [     228.22      240.97]\n [     17.031      139.82]]\n",
          "output_type": "stream"
        },
        {
          "name": "stderr",
          "text": "714it [03:21,  3.65it/s]",
          "output_type": "stream"
        },
        {
          "name": "stdout",
          "text": "\n0: 256x256 1 plate, 10.1ms\nSpeed: 1.0ms preprocess, 10.1ms inference, 1.7ms postprocess per image at shape (1, 3, 256, 256)\n[[     68.589      111.79]\n [     205.11      33.831]\n [     212.93      154.01]\n [     80.115      220.58]]\n",
          "output_type": "stream"
        },
        {
          "name": "stderr",
          "text": "715it [03:21,  3.63it/s]",
          "output_type": "stream"
        },
        {
          "name": "stdout",
          "text": "\n0: 256x256 1 plate, 10.0ms\nSpeed: 0.9ms preprocess, 10.0ms inference, 1.6ms postprocess per image at shape (1, 3, 256, 256)\n[[     16.706      74.589]\n [     235.43      33.784]\n [     233.57      182.84]\n [     19.595      227.84]]\n",
          "output_type": "stream"
        },
        {
          "name": "stderr",
          "text": "716it [03:22,  3.60it/s]",
          "output_type": "stream"
        },
        {
          "name": "stdout",
          "text": "\n0: 256x256 1 plate, 10.0ms\nSpeed: 0.9ms preprocess, 10.0ms inference, 1.6ms postprocess per image at shape (1, 3, 256, 256)\n[[     42.378      70.708]\n [     225.86      86.236]\n [     226.68      186.94]\n [     39.904      174.65]]\n",
          "output_type": "stream"
        },
        {
          "name": "stderr",
          "text": "717it [03:22,  3.63it/s]",
          "output_type": "stream"
        },
        {
          "name": "stdout",
          "text": "\n0: 256x256 1 plate, 9.6ms\nSpeed: 0.9ms preprocess, 9.6ms inference, 1.6ms postprocess per image at shape (1, 3, 256, 256)\n[[     9.0743      35.371]\n [     252.78      43.794]\n [     247.09      219.92]\n [     13.892      209.69]]\n",
          "output_type": "stream"
        },
        {
          "name": "stderr",
          "text": "718it [03:22,  3.61it/s]",
          "output_type": "stream"
        },
        {
          "name": "stdout",
          "text": "\n0: 256x256 1 plate, 10.5ms\nSpeed: 0.9ms preprocess, 10.5ms inference, 1.6ms postprocess per image at shape (1, 3, 256, 256)\n[[     5.7339      46.609]\n [     244.22      62.203]\n [     240.84      224.23]\n [     9.9881      207.52]]\n",
          "output_type": "stream"
        },
        {
          "name": "stderr",
          "text": "719it [03:23,  3.64it/s]",
          "output_type": "stream"
        },
        {
          "name": "stdout",
          "text": "\n0: 256x256 1 plate, 9.9ms\nSpeed: 0.9ms preprocess, 9.9ms inference, 1.6ms postprocess per image at shape (1, 3, 256, 256)\n[[     7.0117      21.686]\n [     246.24      106.84]\n [     235.45       238.8]\n [     10.161      156.63]]\n",
          "output_type": "stream"
        },
        {
          "name": "stderr",
          "text": "720it [03:23,  3.67it/s]",
          "output_type": "stream"
        },
        {
          "name": "stdout",
          "text": "\n0: 256x256 1 plate, 9.6ms\nSpeed: 0.9ms preprocess, 9.6ms inference, 1.6ms postprocess per image at shape (1, 3, 256, 256)\n[[     4.4516      40.304]\n [     250.14      37.329]\n [     246.57      214.51]\n [      11.17      221.49]]\n",
          "output_type": "stream"
        },
        {
          "name": "stderr",
          "text": "721it [03:23,  3.67it/s]",
          "output_type": "stream"
        },
        {
          "name": "stdout",
          "text": "\n0: 256x256 1 plate, 9.6ms\nSpeed: 0.6ms preprocess, 9.6ms inference, 1.7ms postprocess per image at shape (1, 3, 256, 256)\n[[      55.01      94.113]\n [     220.98      16.689]\n [     228.99      152.29]\n [     58.804      223.27]]\n",
          "output_type": "stream"
        },
        {
          "name": "stderr",
          "text": "722it [03:23,  3.65it/s]",
          "output_type": "stream"
        },
        {
          "name": "stdout",
          "text": "\n0: 256x256 1 plate, 10.2ms\nSpeed: 0.9ms preprocess, 10.2ms inference, 1.7ms postprocess per image at shape (1, 3, 256, 256)\n[[     22.183      29.867]\n [     237.09      136.09]\n [     237.96      242.16]\n [     28.232      111.57]]\n",
          "output_type": "stream"
        },
        {
          "name": "stderr",
          "text": "723it [03:24,  3.67it/s]",
          "output_type": "stream"
        },
        {
          "name": "stdout",
          "text": "\n0: 256x256 1 plate, 10.1ms\nSpeed: 1.0ms preprocess, 10.1ms inference, 1.7ms postprocess per image at shape (1, 3, 256, 256)\n[[     13.722      53.705]\n [     234.56      73.019]\n [     237.85       206.1]\n [     13.588      200.44]]\n",
          "output_type": "stream"
        },
        {
          "name": "stderr",
          "text": "724it [03:24,  3.66it/s]",
          "output_type": "stream"
        },
        {
          "name": "stdout",
          "text": "\n0: 256x256 1 plate, 9.7ms\nSpeed: 0.9ms preprocess, 9.7ms inference, 1.6ms postprocess per image at shape (1, 3, 256, 256)\n[[     18.577      19.949]\n [     235.02      128.38]\n [     231.96      242.96]\n [     10.796      141.23]]\n",
          "output_type": "stream"
        },
        {
          "name": "stderr",
          "text": "725it [03:24,  3.62it/s]",
          "output_type": "stream"
        },
        {
          "name": "stdout",
          "text": "\n0: 256x256 1 plate, 10.1ms\nSpeed: 0.8ms preprocess, 10.1ms inference, 1.7ms postprocess per image at shape (1, 3, 256, 256)\n[[     10.044      28.193]\n [     244.51      103.27]\n [     230.12       238.9]\n [     15.271      161.06]]\n",
          "output_type": "stream"
        },
        {
          "name": "stderr",
          "text": "726it [03:25,  3.63it/s]",
          "output_type": "stream"
        },
        {
          "name": "stdout",
          "text": "\n0: 256x256 1 plate, 9.8ms\nSpeed: 0.9ms preprocess, 9.8ms inference, 1.6ms postprocess per image at shape (1, 3, 256, 256)\n[[     26.594      69.703]\n [     225.89      58.848]\n [     230.62      185.48]\n [     33.556      204.66]]\n",
          "output_type": "stream"
        },
        {
          "name": "stderr",
          "text": "727it [03:25,  3.63it/s]",
          "output_type": "stream"
        },
        {
          "name": "stdout",
          "text": "\n0: 256x256 1 plate, 10.0ms\nSpeed: 1.0ms preprocess, 10.0ms inference, 1.6ms postprocess per image at shape (1, 3, 256, 256)\n[[     95.853      81.072]\n [     222.57      163.19]\n [     227.19      239.02]\n [     94.793      151.14]]\n",
          "output_type": "stream"
        },
        {
          "name": "stderr",
          "text": "728it [03:25,  3.65it/s]",
          "output_type": "stream"
        },
        {
          "name": "stdout",
          "text": "\n0: 256x256 1 plate, 9.7ms\nSpeed: 0.9ms preprocess, 9.7ms inference, 1.8ms postprocess per image at shape (1, 3, 256, 256)\n[[     9.7443      59.903]\n [     243.82      49.472]\n [     245.41      214.76]\n [     11.956      228.97]]\n",
          "output_type": "stream"
        },
        {
          "name": "stderr",
          "text": "729it [03:25,  3.65it/s]",
          "output_type": "stream"
        },
        {
          "name": "stdout",
          "text": "\n0: 256x256 1 plate, 10.3ms\nSpeed: 1.0ms preprocess, 10.3ms inference, 1.6ms postprocess per image at shape (1, 3, 256, 256)\n[[     32.937      36.471]\n [     234.23      137.36]\n [     228.69      238.81]\n [     27.995      123.93]]\n",
          "output_type": "stream"
        },
        {
          "name": "stderr",
          "text": "730it [03:26,  3.65it/s]",
          "output_type": "stream"
        },
        {
          "name": "stdout",
          "text": "\n0: 256x256 1 plate, 9.6ms\nSpeed: 0.9ms preprocess, 9.6ms inference, 1.6ms postprocess per image at shape (1, 3, 256, 256)\n[[     13.506      8.0622]\n [     241.33       122.7]\n [     233.17       245.8]\n [     3.8527      134.08]]\n",
          "output_type": "stream"
        },
        {
          "name": "stderr",
          "text": "731it [03:26,  3.59it/s]",
          "output_type": "stream"
        },
        {
          "name": "stdout",
          "text": "\n0: 256x256 1 plate, 9.9ms\nSpeed: 0.6ms preprocess, 9.9ms inference, 1.6ms postprocess per image at shape (1, 3, 256, 256)\n[[      17.22      71.226]\n [     235.37      44.036]\n [     237.57      182.39]\n [     20.494      215.26]]\n",
          "output_type": "stream"
        },
        {
          "name": "stderr",
          "text": "732it [03:26,  3.54it/s]",
          "output_type": "stream"
        },
        {
          "name": "stdout",
          "text": "\n0: 256x256 1 plate, 9.6ms\nSpeed: 0.9ms preprocess, 9.6ms inference, 1.6ms postprocess per image at shape (1, 3, 256, 256)\n[[     9.6646       58.36]\n [     238.49       65.42]\n [     243.18      208.83]\n [     10.488      214.67]]\n",
          "output_type": "stream"
        },
        {
          "name": "stderr",
          "text": "733it [03:26,  3.56it/s]",
          "output_type": "stream"
        },
        {
          "name": "stdout",
          "text": "\n0: 256x256 1 plate, 9.7ms\nSpeed: 0.9ms preprocess, 9.7ms inference, 1.6ms postprocess per image at shape (1, 3, 256, 256)\n[[     28.767      59.768]\n [     242.07      31.833]\n [      233.4      190.86]\n [     42.861      218.02]]\n",
          "output_type": "stream"
        },
        {
          "name": "stderr",
          "text": "734it [03:27,  3.56it/s]",
          "output_type": "stream"
        },
        {
          "name": "stdout",
          "text": "\n0: 256x256 1 plate, 9.6ms\nSpeed: 0.6ms preprocess, 9.6ms inference, 1.6ms postprocess per image at shape (1, 3, 256, 256)\n[[     8.3918      11.725]\n [     248.87      77.705]\n [     240.02      244.06]\n [          0      178.65]]\n",
          "output_type": "stream"
        },
        {
          "name": "stderr",
          "text": "735it [03:27,  3.56it/s]",
          "output_type": "stream"
        },
        {
          "name": "stdout",
          "text": "\n0: 256x256 1 plate, 9.6ms\nSpeed: 0.9ms preprocess, 9.6ms inference, 1.6ms postprocess per image at shape (1, 3, 256, 256)\n[[     11.686      59.246]\n [     244.78       35.71]\n [     243.97      202.02]\n [     14.505      229.09]]\n",
          "output_type": "stream"
        },
        {
          "name": "stderr",
          "text": "736it [03:27,  3.55it/s]",
          "output_type": "stream"
        },
        {
          "name": "stdout",
          "text": "\n0: 256x256 1 plate, 10.0ms\nSpeed: 0.6ms preprocess, 10.0ms inference, 1.6ms postprocess per image at shape (1, 3, 256, 256)\n[[     6.9085      29.829]\n [     253.06      73.005]\n [     245.25       233.3]\n [     12.042      194.24]]\n",
          "output_type": "stream"
        },
        {
          "name": "stderr",
          "text": "737it [03:28,  3.56it/s]",
          "output_type": "stream"
        },
        {
          "name": "stdout",
          "text": "\n0: 256x256 1 plate, 9.7ms\nSpeed: 0.6ms preprocess, 9.7ms inference, 1.6ms postprocess per image at shape (1, 3, 256, 256)\n[[     14.136       28.54]\n [     234.83      111.67]\n [     231.01      210.07]\n [      8.516      133.09]]\n",
          "output_type": "stream"
        },
        {
          "name": "stderr",
          "text": "738it [03:28,  3.55it/s]",
          "output_type": "stream"
        },
        {
          "name": "stdout",
          "text": "\n0: 256x256 1 plate, 9.8ms\nSpeed: 1.0ms preprocess, 9.8ms inference, 1.6ms postprocess per image at shape (1, 3, 256, 256)\n[[     7.5519      41.574]\n [     238.86      48.957]\n [     241.48      226.17]\n [      5.773       221.9]]\n",
          "output_type": "stream"
        },
        {
          "name": "stderr",
          "text": "739it [03:28,  3.59it/s]",
          "output_type": "stream"
        },
        {
          "name": "stdout",
          "text": "\n0: 256x256 1 plate, 10.3ms\nSpeed: 1.1ms preprocess, 10.3ms inference, 1.7ms postprocess per image at shape (1, 3, 256, 256)\n[[      20.58      22.573]\n [     235.29      119.13]\n [     234.19      235.35]\n [     11.722      141.46]]\n",
          "output_type": "stream"
        },
        {
          "name": "stderr",
          "text": "740it [03:28,  3.63it/s]",
          "output_type": "stream"
        },
        {
          "name": "stdout",
          "text": "\n0: 256x256 1 plate, 10.6ms\nSpeed: 0.9ms preprocess, 10.6ms inference, 1.6ms postprocess per image at shape (1, 3, 256, 256)\n[[     9.7092      47.486]\n [     244.28      75.556]\n [     239.79      226.18]\n [     12.027      194.82]]\n",
          "output_type": "stream"
        },
        {
          "name": "stderr",
          "text": "741it [03:29,  3.63it/s]",
          "output_type": "stream"
        },
        {
          "name": "stdout",
          "text": "\n0: 256x256 1 plate, 10.1ms\nSpeed: 1.0ms preprocess, 10.1ms inference, 1.6ms postprocess per image at shape (1, 3, 256, 256)\n[[     8.6369      50.965]\n [     236.31      37.479]\n [     242.18      200.71]\n [     8.6086      218.21]]\n",
          "output_type": "stream"
        },
        {
          "name": "stderr",
          "text": "742it [03:29,  3.64it/s]",
          "output_type": "stream"
        },
        {
          "name": "stdout",
          "text": "\n0: 256x256 1 plate, 10.0ms\nSpeed: 1.0ms preprocess, 10.0ms inference, 1.6ms postprocess per image at shape (1, 3, 256, 256)\n[[     15.949      61.547]\n [     238.97      63.623]\n [     241.96      209.75]\n [     17.763      210.75]]\n",
          "output_type": "stream"
        },
        {
          "name": "stderr",
          "text": "743it [03:29,  3.61it/s]",
          "output_type": "stream"
        },
        {
          "name": "stdout",
          "text": "\n0: 256x256 1 plate, 9.8ms\nSpeed: 1.0ms preprocess, 9.8ms inference, 1.8ms postprocess per image at shape (1, 3, 256, 256)\n[[     2.5317      29.565]\n [        256      44.027]\n [      249.1      224.13]\n [     10.624      211.52]]\n",
          "output_type": "stream"
        },
        {
          "name": "stderr",
          "text": "744it [03:30,  3.62it/s]",
          "output_type": "stream"
        },
        {
          "name": "stdout",
          "text": "\n0: 256x256 1 plate, 9.6ms\nSpeed: 1.0ms preprocess, 9.6ms inference, 1.6ms postprocess per image at shape (1, 3, 256, 256)\n[[      12.47      60.068]\n [     230.14      90.582]\n [     228.34      211.35]\n [     13.161      187.94]]\n",
          "output_type": "stream"
        },
        {
          "name": "stderr",
          "text": "745it [03:30,  3.60it/s]",
          "output_type": "stream"
        },
        {
          "name": "stdout",
          "text": "\n0: 256x256 1 plate, 9.6ms\nSpeed: 1.0ms preprocess, 9.6ms inference, 1.7ms postprocess per image at shape (1, 3, 256, 256)\n[[     12.314      51.626]\n [      240.8      53.763]\n [     243.88      205.56]\n [     15.965       206.6]]\n",
          "output_type": "stream"
        },
        {
          "name": "stderr",
          "text": "746it [03:30,  3.61it/s]",
          "output_type": "stream"
        },
        {
          "name": "stdout",
          "text": "\n0: 256x256 1 plate, 9.8ms\nSpeed: 0.9ms preprocess, 9.8ms inference, 1.6ms postprocess per image at shape (1, 3, 256, 256)\n[[     29.961       86.46]\n [     213.55      36.495]\n [     224.69      143.35]\n [     35.142      215.72]]\n",
          "output_type": "stream"
        },
        {
          "name": "stderr",
          "text": "747it [03:30,  3.61it/s]",
          "output_type": "stream"
        },
        {
          "name": "stdout",
          "text": "\n0: 256x256 1 plate, 9.7ms\nSpeed: 0.8ms preprocess, 9.7ms inference, 1.6ms postprocess per image at shape (1, 3, 256, 256)\n[[     4.5339      46.078]\n [      249.4      50.255]\n [      247.1      221.92]\n [     12.708      221.99]]\n",
          "output_type": "stream"
        },
        {
          "name": "stderr",
          "text": "748it [03:31,  3.60it/s]",
          "output_type": "stream"
        },
        {
          "name": "stdout",
          "text": "\n0: 256x256 1 plate, 10.1ms\nSpeed: 0.9ms preprocess, 10.1ms inference, 1.7ms postprocess per image at shape (1, 3, 256, 256)\n[[     13.242      40.711]\n [     237.09      61.398]\n [     241.46      220.56]\n [     7.5248      199.35]]\n",
          "output_type": "stream"
        },
        {
          "name": "stderr",
          "text": "749it [03:31,  3.64it/s]",
          "output_type": "stream"
        },
        {
          "name": "stdout",
          "text": "\n0: 256x256 1 plate, 10.1ms\nSpeed: 1.0ms preprocess, 10.1ms inference, 1.7ms postprocess per image at shape (1, 3, 256, 256)\n[[     8.9451      16.979]\n [     240.15      84.931]\n [     237.34      238.85]\n [     1.6302      171.97]]\n",
          "output_type": "stream"
        },
        {
          "name": "stderr",
          "text": "750it [03:31,  3.65it/s]",
          "output_type": "stream"
        },
        {
          "name": "stdout",
          "text": "\n0: 256x256 1 plate, 9.9ms\nSpeed: 0.9ms preprocess, 9.9ms inference, 1.6ms postprocess per image at shape (1, 3, 256, 256)\n[[     6.5151      19.713]\n [     249.02      96.219]\n [     239.15       238.2]\n [     9.6285      164.42]]\n",
          "output_type": "stream"
        },
        {
          "name": "stderr",
          "text": "751it [03:31,  3.65it/s]",
          "output_type": "stream"
        },
        {
          "name": "stdout",
          "text": "\n0: 256x256 1 plate, 10.6ms\nSpeed: 1.1ms preprocess, 10.6ms inference, 1.6ms postprocess per image at shape (1, 3, 256, 256)\n[[     8.7344      33.644]\n [     246.76      102.73]\n [     235.66      235.05]\n [     9.6748       164.8]]\n",
          "output_type": "stream"
        },
        {
          "name": "stderr",
          "text": "752it [03:32,  3.66it/s]",
          "output_type": "stream"
        },
        {
          "name": "stdout",
          "text": "\n0: 256x256 1 plate, 9.9ms\nSpeed: 0.9ms preprocess, 9.9ms inference, 1.6ms postprocess per image at shape (1, 3, 256, 256)\n[[     10.281      46.689]\n [      240.8      67.825]\n [     240.13      217.49]\n [     6.2031      189.36]]\n",
          "output_type": "stream"
        },
        {
          "name": "stderr",
          "text": "753it [03:32,  3.66it/s]",
          "output_type": "stream"
        },
        {
          "name": "stdout",
          "text": "\n0: 256x256 1 plate, 10.5ms\nSpeed: 1.0ms preprocess, 10.5ms inference, 1.6ms postprocess per image at shape (1, 3, 256, 256)\n[[     5.8436      43.855]\n [     246.84      47.265]\n [     244.31      218.18]\n [     11.758      211.86]]\n",
          "output_type": "stream"
        },
        {
          "name": "stderr",
          "text": "754it [03:32,  3.62it/s]",
          "output_type": "stream"
        },
        {
          "name": "stdout",
          "text": "\n0: 256x256 1 plate, 10.7ms\nSpeed: 1.0ms preprocess, 10.7ms inference, 1.6ms postprocess per image at shape (1, 3, 256, 256)\n[[     14.889      66.447]\n [     238.68      36.558]\n [     240.71      189.31]\n [      19.01      223.32]]\n",
          "output_type": "stream"
        },
        {
          "name": "stderr",
          "text": "755it [03:33,  3.41it/s]",
          "output_type": "stream"
        },
        {
          "name": "stdout",
          "text": "\n0: 256x256 1 plate, 14.1ms\nSpeed: 0.7ms preprocess, 14.1ms inference, 2.3ms postprocess per image at shape (1, 3, 256, 256)\n[[     7.7736      12.537]\n [     246.15      117.37]\n [      233.5      237.43]\n [     10.692      143.08]]\n",
          "output_type": "stream"
        },
        {
          "name": "stderr",
          "text": "756it [03:33,  3.36it/s]",
          "output_type": "stream"
        },
        {
          "name": "stdout",
          "text": "\n0: 256x256 1 plate, 13.5ms\nSpeed: 1.1ms preprocess, 13.5ms inference, 1.6ms postprocess per image at shape (1, 3, 256, 256)\n[[     55.656      119.11]\n [      191.6      43.732]\n [     199.72      151.35]\n [     66.165      212.22]]\n",
          "output_type": "stream"
        },
        {
          "name": "stderr",
          "text": "757it [03:33,  3.36it/s]",
          "output_type": "stream"
        },
        {
          "name": "stdout",
          "text": "\n0: 256x256 1 plate, 12.9ms\nSpeed: 2.6ms preprocess, 12.9ms inference, 1.6ms postprocess per image at shape (1, 3, 256, 256)\n[[     14.097      36.967]\n [     237.31      70.829]\n [     241.75      210.03]\n [     12.252      183.96]]\n",
          "output_type": "stream"
        },
        {
          "name": "stderr",
          "text": "758it [03:33,  3.38it/s]",
          "output_type": "stream"
        },
        {
          "name": "stdout",
          "text": "\n0: 256x256 1 plate, 10.0ms\nSpeed: 1.1ms preprocess, 10.0ms inference, 1.6ms postprocess per image at shape (1, 3, 256, 256)\n[[      20.32      60.806]\n [     242.71       30.73]\n [     240.27      185.42]\n [      21.47      222.48]]\n",
          "output_type": "stream"
        },
        {
          "name": "stderr",
          "text": "759it [03:34,  3.46it/s]",
          "output_type": "stream"
        },
        {
          "name": "stdout",
          "text": "\n0: 256x256 1 plate, 10.3ms\nSpeed: 1.0ms preprocess, 10.3ms inference, 1.6ms postprocess per image at shape (1, 3, 256, 256)\n[[     69.555      78.843]\n [     208.37      8.4883]\n [      227.3      133.34]\n [     82.591       208.1]]\n",
          "output_type": "stream"
        },
        {
          "name": "stderr",
          "text": "760it [03:34,  3.50it/s]",
          "output_type": "stream"
        },
        {
          "name": "stdout",
          "text": "\n0: 256x256 1 plate, 10.0ms\nSpeed: 1.0ms preprocess, 10.0ms inference, 1.7ms postprocess per image at shape (1, 3, 256, 256)\n[[     32.194      87.732]\n [     225.56      26.051]\n [     232.04      164.62]\n [       42.8      236.26]]\n",
          "output_type": "stream"
        },
        {
          "name": "stderr",
          "text": "761it [03:34,  3.51it/s]",
          "output_type": "stream"
        },
        {
          "name": "stdout",
          "text": "\n0: 256x256 1 plate, 9.7ms\nSpeed: 0.9ms preprocess, 9.7ms inference, 1.6ms postprocess per image at shape (1, 3, 256, 256)\n[[      72.64      86.805]\n [     216.78      20.305]\n [      227.4      136.51]\n [     85.316      209.16]]\n",
          "output_type": "stream"
        },
        {
          "name": "stderr",
          "text": "762it [03:35,  3.52it/s]",
          "output_type": "stream"
        },
        {
          "name": "stdout",
          "text": "\n0: 256x256 1 plate, 9.8ms\nSpeed: 0.9ms preprocess, 9.8ms inference, 1.6ms postprocess per image at shape (1, 3, 256, 256)\n[[     93.677      121.76]\n [     178.02       62.28]\n [     193.56      130.74]\n [     107.26      173.29]]\n",
          "output_type": "stream"
        },
        {
          "name": "stderr",
          "text": "763it [03:35,  3.51it/s]",
          "output_type": "stream"
        },
        {
          "name": "stdout",
          "text": "\n0: 256x256 1 plate, 10.0ms\nSpeed: 1.2ms preprocess, 10.0ms inference, 1.6ms postprocess per image at shape (1, 3, 256, 256)\n[[      25.03      71.563]\n [     233.39      48.284]\n [     233.75      193.79]\n [     25.989      217.77]]\n",
          "output_type": "stream"
        },
        {
          "name": "stderr",
          "text": "764it [03:35,  3.51it/s]",
          "output_type": "stream"
        },
        {
          "name": "stdout",
          "text": "\n0: 256x256 1 plate, 9.9ms\nSpeed: 1.0ms preprocess, 9.9ms inference, 1.6ms postprocess per image at shape (1, 3, 256, 256)\n[[     3.3592      43.162]\n [     251.08      33.306]\n [     248.48      214.33]\n [     10.918      227.76]]\n",
          "output_type": "stream"
        },
        {
          "name": "stderr",
          "text": "765it [03:35,  3.53it/s]",
          "output_type": "stream"
        },
        {
          "name": "stdout",
          "text": "\n0: 256x256 1 plate, 10.2ms\nSpeed: 1.0ms preprocess, 10.2ms inference, 1.6ms postprocess per image at shape (1, 3, 256, 256)\n[[     16.399      77.308]\n [     234.32      27.789]\n [     236.29      186.44]\n [     27.493       243.9]]\n",
          "output_type": "stream"
        },
        {
          "name": "stderr",
          "text": "766it [03:36,  3.51it/s]",
          "output_type": "stream"
        },
        {
          "name": "stdout",
          "text": "\n0: 256x256 1 plate, 9.9ms\nSpeed: 1.0ms preprocess, 9.9ms inference, 1.6ms postprocess per image at shape (1, 3, 256, 256)\n[[     30.318      79.685]\n [     220.91      14.598]\n [     232.41      159.55]\n [      42.17      234.98]]\n",
          "output_type": "stream"
        },
        {
          "name": "stderr",
          "text": "767it [03:36,  3.42it/s]",
          "output_type": "stream"
        },
        {
          "name": "stdout",
          "text": "\n0: 256x256 1 plate, 10.5ms\nSpeed: 1.2ms preprocess, 10.5ms inference, 1.6ms postprocess per image at shape (1, 3, 256, 256)\n[[     18.515       68.95]\n [     234.31      35.134]\n [     233.91      192.12]\n [     20.473      228.88]]\n",
          "output_type": "stream"
        },
        {
          "name": "stderr",
          "text": "768it [03:36,  3.45it/s]",
          "output_type": "stream"
        },
        {
          "name": "stdout",
          "text": "\n0: 256x256 1 plate, 10.2ms\nSpeed: 1.0ms preprocess, 10.2ms inference, 1.6ms postprocess per image at shape (1, 3, 256, 256)\n[[     54.236      97.671]\n [      217.6      20.392]\n [     224.35      156.11]\n [     59.312      229.63]]\n",
          "output_type": "stream"
        },
        {
          "name": "stderr",
          "text": "769it [03:37,  3.45it/s]",
          "output_type": "stream"
        },
        {
          "name": "stdout",
          "text": "\n0: 256x256 1 plate, 10.0ms\nSpeed: 1.0ms preprocess, 10.0ms inference, 1.6ms postprocess per image at shape (1, 3, 256, 256)\n[[     9.2289      27.794]\n [     247.12      67.314]\n [     241.48      225.44]\n [     13.324      180.07]]\n",
          "output_type": "stream"
        },
        {
          "name": "stderr",
          "text": "770it [03:37,  3.48it/s]",
          "output_type": "stream"
        },
        {
          "name": "stdout",
          "text": "\n0: 256x256 1 plate, 10.2ms\nSpeed: 0.9ms preprocess, 10.2ms inference, 1.6ms postprocess per image at shape (1, 3, 256, 256)\n[[    0.82708      39.155]\n [     251.96      37.328]\n [     248.37      221.04]\n [     9.6616       224.2]]\n",
          "output_type": "stream"
        },
        {
          "name": "stderr",
          "text": "771it [03:37,  3.49it/s]",
          "output_type": "stream"
        },
        {
          "name": "stdout",
          "text": "\n0: 256x256 1 plate, 10.7ms\nSpeed: 1.0ms preprocess, 10.7ms inference, 1.6ms postprocess per image at shape (1, 3, 256, 256)\n[[     5.7441      38.904]\n [     246.58      55.549]\n [     243.73      214.65]\n [     12.321      199.64]]\n",
          "output_type": "stream"
        },
        {
          "name": "stderr",
          "text": "772it [03:37,  3.50it/s]",
          "output_type": "stream"
        },
        {
          "name": "stdout",
          "text": "\n0: 256x256 1 plate, 10.3ms\nSpeed: 1.0ms preprocess, 10.3ms inference, 1.7ms postprocess per image at shape (1, 3, 256, 256)\n[[     36.914      141.33]\n [     172.12      71.045]\n [     173.74      163.78]\n [     41.192      226.22]]\n",
          "output_type": "stream"
        },
        {
          "name": "stderr",
          "text": "773it [03:38,  3.50it/s]",
          "output_type": "stream"
        },
        {
          "name": "stdout",
          "text": "\n0: 256x256 1 plate, 10.6ms\nSpeed: 1.0ms preprocess, 10.6ms inference, 1.6ms postprocess per image at shape (1, 3, 256, 256)\n[[     16.245      33.708]\n [     234.89      130.75]\n [     229.29      237.64]\n [     11.422      131.15]]\n",
          "output_type": "stream"
        },
        {
          "name": "stderr",
          "text": "774it [03:38,  3.49it/s]",
          "output_type": "stream"
        },
        {
          "name": "stdout",
          "text": "\n0: 256x256 1 plate, 10.5ms\nSpeed: 1.0ms preprocess, 10.5ms inference, 1.6ms postprocess per image at shape (1, 3, 256, 256)\n[[     9.4069      13.466]\n [     246.77      109.81]\n [     233.05      239.76]\n [     13.094      154.24]]\n",
          "output_type": "stream"
        },
        {
          "name": "stderr",
          "text": "775it [03:38,  3.49it/s]",
          "output_type": "stream"
        },
        {
          "name": "stdout",
          "text": "\n0: 256x256 1 plate, 10.0ms\nSpeed: 1.0ms preprocess, 10.0ms inference, 1.7ms postprocess per image at shape (1, 3, 256, 256)\n[[     4.3452      22.696]\n [     241.79      83.306]\n [     239.21      243.21]\n [          0       186.3]]\n",
          "output_type": "stream"
        },
        {
          "name": "stderr",
          "text": "776it [03:39,  3.54it/s]",
          "output_type": "stream"
        },
        {
          "name": "stdout",
          "text": "\n0: 256x256 1 plate, 10.2ms\nSpeed: 1.0ms preprocess, 10.2ms inference, 1.6ms postprocess per image at shape (1, 3, 256, 256)\n[[     52.638      54.698]\n [     217.42     0.42698]\n [      237.7      139.51]\n [     63.904      207.53]]\n",
          "output_type": "stream"
        },
        {
          "name": "stderr",
          "text": "777it [03:39,  3.58it/s]",
          "output_type": "stream"
        },
        {
          "name": "stdout",
          "text": "\n0: 256x256 1 plate, 9.6ms\nSpeed: 0.8ms preprocess, 9.6ms inference, 1.6ms postprocess per image at shape (1, 3, 256, 256)\n[[     14.302      20.649]\n [      237.8      108.34]\n [     235.98      235.39]\n [     5.6354      153.98]]\n",
          "output_type": "stream"
        },
        {
          "name": "stderr",
          "text": "778it [03:39,  3.57it/s]",
          "output_type": "stream"
        },
        {
          "name": "stdout",
          "text": "\n0: 256x256 1 plate, 10.5ms\nSpeed: 1.0ms preprocess, 10.5ms inference, 1.6ms postprocess per image at shape (1, 3, 256, 256)\n[[     28.261      34.279]\n [     238.59      144.37]\n [     237.79      250.32]\n [     33.064      117.79]]\n",
          "output_type": "stream"
        },
        {
          "name": "stderr",
          "text": "779it [03:39,  3.60it/s]",
          "output_type": "stream"
        },
        {
          "name": "stdout",
          "text": "\n0: 256x256 1 plate, 9.8ms\nSpeed: 0.9ms preprocess, 9.8ms inference, 1.6ms postprocess per image at shape (1, 3, 256, 256)\n[[     13.026       61.19]\n [     232.77      39.695]\n [     239.56      197.02]\n [     12.851      223.52]]\n",
          "output_type": "stream"
        },
        {
          "name": "stderr",
          "text": "780it [03:40,  3.59it/s]",
          "output_type": "stream"
        },
        {
          "name": "stdout",
          "text": "\n0: 256x256 1 plate, 9.7ms\nSpeed: 0.9ms preprocess, 9.7ms inference, 1.7ms postprocess per image at shape (1, 3, 256, 256)\n[[     9.0384      56.351]\n [        241      34.843]\n [     248.53      199.08]\n [     17.357      230.39]]\n",
          "output_type": "stream"
        },
        {
          "name": "stderr",
          "text": "781it [03:40,  3.57it/s]",
          "output_type": "stream"
        },
        {
          "name": "stdout",
          "text": "\n0: 256x256 1 plate, 9.9ms\nSpeed: 0.9ms preprocess, 9.9ms inference, 1.6ms postprocess per image at shape (1, 3, 256, 256)\n[[     8.0743      18.595]\n [     242.74      86.514]\n [     237.35      239.39]\n [          0      175.16]]\n",
          "output_type": "stream"
        },
        {
          "name": "stderr",
          "text": "782it [03:40,  3.56it/s]",
          "output_type": "stream"
        },
        {
          "name": "stdout",
          "text": "\n0: 256x256 1 plate, 10.5ms\nSpeed: 1.0ms preprocess, 10.5ms inference, 1.7ms postprocess per image at shape (1, 3, 256, 256)\n[[     51.574      44.362]\n [     224.36      159.65]\n [      226.6      242.05]\n [     55.705      113.92]]\n",
          "output_type": "stream"
        },
        {
          "name": "stderr",
          "text": "783it [03:41,  3.53it/s]",
          "output_type": "stream"
        },
        {
          "name": "stdout",
          "text": "\n0: 256x256 1 plate, 10.2ms\nSpeed: 1.0ms preprocess, 10.2ms inference, 1.6ms postprocess per image at shape (1, 3, 256, 256)\n[[     6.3537      25.256]\n [     243.09      41.338]\n [     241.83       233.5]\n [          0       216.9]]\n",
          "output_type": "stream"
        },
        {
          "name": "stderr",
          "text": "784it [03:41,  3.55it/s]",
          "output_type": "stream"
        },
        {
          "name": "stdout",
          "text": "\n0: 256x256 1 plate, 10.1ms\nSpeed: 1.0ms preprocess, 10.1ms inference, 1.6ms postprocess per image at shape (1, 3, 256, 256)\n[[      39.43      88.581]\n [     225.27      25.888]\n [      231.1      156.39]\n [     51.584      231.99]]\n",
          "output_type": "stream"
        },
        {
          "name": "stderr",
          "text": "785it [03:41,  3.57it/s]",
          "output_type": "stream"
        },
        {
          "name": "stdout",
          "text": "\n0: 256x256 1 plate, 10.0ms\nSpeed: 0.8ms preprocess, 10.0ms inference, 1.6ms postprocess per image at shape (1, 3, 256, 256)\n[[     1.4082      25.092]\n [     253.11      54.396]\n [     246.29      231.66]\n [     8.5535      201.29]]\n",
          "output_type": "stream"
        },
        {
          "name": "stderr",
          "text": "786it [03:41,  3.56it/s]",
          "output_type": "stream"
        },
        {
          "name": "stdout",
          "text": "\n0: 256x256 1 plate, 10.4ms\nSpeed: 1.0ms preprocess, 10.4ms inference, 1.7ms postprocess per image at shape (1, 3, 256, 256)\n[[     1.4104      33.316]\n [     251.36      44.829]\n [      242.8      227.08]\n [     9.6171      216.78]]\n",
          "output_type": "stream"
        },
        {
          "name": "stderr",
          "text": "787it [03:42,  3.55it/s]",
          "output_type": "stream"
        },
        {
          "name": "stdout",
          "text": "\n0: 256x256 1 plate, 9.8ms\nSpeed: 0.9ms preprocess, 9.8ms inference, 1.7ms postprocess per image at shape (1, 3, 256, 256)\n[[     12.147      45.354]\n [     235.59      63.706]\n [     240.55      223.35]\n [      11.03      206.65]]\n",
          "output_type": "stream"
        },
        {
          "name": "stderr",
          "text": "788it [03:42,  3.57it/s]",
          "output_type": "stream"
        },
        {
          "name": "stdout",
          "text": "\n0: 256x256 1 plate, 10.8ms\nSpeed: 0.9ms preprocess, 10.8ms inference, 1.6ms postprocess per image at shape (1, 3, 256, 256)\n[[     21.565      83.871]\n [     231.79      43.562]\n [     231.94      182.52]\n [     23.736      228.63]]\n",
          "output_type": "stream"
        },
        {
          "name": "stderr",
          "text": "789it [03:42,  3.56it/s]",
          "output_type": "stream"
        },
        {
          "name": "stdout",
          "text": "\n0: 256x256 1 plate, 10.1ms\nSpeed: 1.0ms preprocess, 10.1ms inference, 1.6ms postprocess per image at shape (1, 3, 256, 256)\n[[     22.432      121.09]\n [     186.17      59.761]\n [      187.8       171.2]\n [     27.538       230.4]]\n",
          "output_type": "stream"
        },
        {
          "name": "stderr",
          "text": "790it [03:43,  3.56it/s]",
          "output_type": "stream"
        },
        {
          "name": "stdout",
          "text": "\n0: 256x256 1 plate, 10.3ms\nSpeed: 1.0ms preprocess, 10.3ms inference, 1.6ms postprocess per image at shape (1, 3, 256, 256)\n[[     12.503      42.813]\n [     240.65      62.731]\n [     240.87      205.18]\n [     12.551      185.01]]\n",
          "output_type": "stream"
        },
        {
          "name": "stderr",
          "text": "791it [03:43,  3.61it/s]",
          "output_type": "stream"
        },
        {
          "name": "stdout",
          "text": "\n0: 256x256 1 plate, 9.7ms\nSpeed: 1.0ms preprocess, 9.7ms inference, 1.6ms postprocess per image at shape (1, 3, 256, 256)\n[[      16.61      44.601]\n [     232.99      49.038]\n [     237.47      214.19]\n [     15.509      215.89]]\n",
          "output_type": "stream"
        },
        {
          "name": "stderr",
          "text": "792it [03:43,  3.62it/s]",
          "output_type": "stream"
        },
        {
          "name": "stdout",
          "text": "\n0: 256x256 1 plate, 10.1ms\nSpeed: 1.0ms preprocess, 10.1ms inference, 1.6ms postprocess per image at shape (1, 3, 256, 256)\n[[     8.6587      51.315]\n [      245.4      52.049]\n [     245.72      215.06]\n [     14.405      214.31]]\n",
          "output_type": "stream"
        },
        {
          "name": "stderr",
          "text": "793it [03:43,  3.56it/s]",
          "output_type": "stream"
        },
        {
          "name": "stdout",
          "text": "\n0: 256x256 1 plate, 9.9ms\nSpeed: 0.9ms preprocess, 9.9ms inference, 1.6ms postprocess per image at shape (1, 3, 256, 256)\n[[     11.566      36.782]\n [     237.71      51.418]\n [     242.58      216.46]\n [     8.4805      201.06]]\n",
          "output_type": "stream"
        },
        {
          "name": "stderr",
          "text": "794it [03:44,  3.57it/s]",
          "output_type": "stream"
        },
        {
          "name": "stdout",
          "text": "\n0: 256x256 1 plate, 10.2ms\nSpeed: 1.0ms preprocess, 10.2ms inference, 1.7ms postprocess per image at shape (1, 3, 256, 256)\n[[     17.367      45.584]\n [     232.84      66.767]\n [     238.31      214.48]\n [     14.311      196.52]]\n",
          "output_type": "stream"
        },
        {
          "name": "stderr",
          "text": "795it [03:44,  3.48it/s]",
          "output_type": "stream"
        },
        {
          "name": "stdout",
          "text": "\n0: 256x256 1 plate, 10.0ms\nSpeed: 0.9ms preprocess, 10.0ms inference, 1.7ms postprocess per image at shape (1, 3, 256, 256)\n[[     108.13      67.148]\n [     210.98      2.8423]\n [     230.01      123.96]\n [     125.67       190.8]]\n",
          "output_type": "stream"
        },
        {
          "name": "stderr",
          "text": "796it [03:44,  3.52it/s]",
          "output_type": "stream"
        },
        {
          "name": "stdout",
          "text": "\n0: 256x256 1 plate, 10.3ms\nSpeed: 1.0ms preprocess, 10.3ms inference, 1.6ms postprocess per image at shape (1, 3, 256, 256)\n[[     9.9002       41.39]\n [     246.71      71.925]\n [     242.35      219.14]\n [     12.803      194.93]]\n",
          "output_type": "stream"
        },
        {
          "name": "stderr",
          "text": "797it [03:45,  3.53it/s]",
          "output_type": "stream"
        },
        {
          "name": "stdout",
          "text": "\n0: 256x256 1 plate, 9.9ms\nSpeed: 0.9ms preprocess, 9.9ms inference, 1.7ms postprocess per image at shape (1, 3, 256, 256)\n[[     12.227      59.671]\n [     237.58      78.596]\n [     240.36      220.15]\n [     13.279         208]]\n",
          "output_type": "stream"
        },
        {
          "name": "stderr",
          "text": "798it [03:45,  3.54it/s]",
          "output_type": "stream"
        },
        {
          "name": "stdout",
          "text": "\n0: 256x256 1 plate, 10.5ms\nSpeed: 0.8ms preprocess, 10.5ms inference, 1.6ms postprocess per image at shape (1, 3, 256, 256)\n[[     50.842      85.969]\n [     204.83       17.64]\n [     222.15      130.05]\n [     60.043      211.36]]\n",
          "output_type": "stream"
        },
        {
          "name": "stderr",
          "text": "799it [03:45,  3.56it/s]",
          "output_type": "stream"
        },
        {
          "name": "stdout",
          "text": "\n0: 256x256 1 plate, 10.3ms\nSpeed: 1.1ms preprocess, 10.3ms inference, 1.6ms postprocess per image at shape (1, 3, 256, 256)\n[[     4.3165      39.944]\n [     250.86      25.031]\n [     252.42      202.24]\n [     11.599       220.5]]\n",
          "output_type": "stream"
        },
        {
          "name": "stderr",
          "text": "800it [03:45,  3.55it/s]",
          "output_type": "stream"
        },
        {
          "name": "stdout",
          "text": "\n0: 256x256 1 plate, 10.0ms\nSpeed: 0.9ms preprocess, 10.0ms inference, 1.6ms postprocess per image at shape (1, 3, 256, 256)\n[[     10.545      52.353]\n [     237.88      72.343]\n [     242.35      221.07]\n [     12.448      207.33]]\n",
          "output_type": "stream"
        },
        {
          "name": "stderr",
          "text": "801it [03:46,  3.60it/s]",
          "output_type": "stream"
        },
        {
          "name": "stdout",
          "text": "\n0: 256x256 1 plate, 10.0ms\nSpeed: 0.8ms preprocess, 10.0ms inference, 1.6ms postprocess per image at shape (1, 3, 256, 256)\n[[     20.066      35.744]\n [     241.02      114.24]\n [     235.02      231.82]\n [     16.682      139.25]]\n",
          "output_type": "stream"
        },
        {
          "name": "stderr",
          "text": "802it [03:46,  3.61it/s]",
          "output_type": "stream"
        },
        {
          "name": "stdout",
          "text": "\n0: 256x256 1 plate, 9.8ms\nSpeed: 0.6ms preprocess, 9.8ms inference, 1.6ms postprocess per image at shape (1, 3, 256, 256)\n[[     7.2396      39.464]\n [     245.86      73.397]\n [     241.04      229.43]\n [     10.074       190.6]]\n",
          "output_type": "stream"
        },
        {
          "name": "stderr",
          "text": "803it [03:46,  3.57it/s]",
          "output_type": "stream"
        },
        {
          "name": "stdout",
          "text": "\n0: 256x256 1 plate, 9.6ms\nSpeed: 0.9ms preprocess, 9.6ms inference, 1.6ms postprocess per image at shape (1, 3, 256, 256)\n[[     12.503      12.419]\n [     245.24      108.07]\n [     235.43      231.44]\n [     15.819      143.24]]\n",
          "output_type": "stream"
        },
        {
          "name": "stderr",
          "text": "804it [03:46,  3.60it/s]",
          "output_type": "stream"
        },
        {
          "name": "stdout",
          "text": "\n0: 256x256 1 plate, 10.1ms\nSpeed: 1.1ms preprocess, 10.1ms inference, 1.6ms postprocess per image at shape (1, 3, 256, 256)\n[[      10.86      53.894]\n [     231.96      79.044]\n [     233.24      212.48]\n [     14.045       196.6]]\n",
          "output_type": "stream"
        },
        {
          "name": "stderr",
          "text": "805it [03:47,  3.61it/s]",
          "output_type": "stream"
        },
        {
          "name": "stdout",
          "text": "\n0: 256x256 1 plate, 9.7ms\nSpeed: 0.9ms preprocess, 9.7ms inference, 1.6ms postprocess per image at shape (1, 3, 256, 256)\n[[     10.355       14.43]\n [     243.46      122.76]\n [     231.21      235.66]\n [       13.2      133.77]]\n",
          "output_type": "stream"
        },
        {
          "name": "stderr",
          "text": "806it [03:47,  3.57it/s]",
          "output_type": "stream"
        },
        {
          "name": "stdout",
          "text": "\n0: 256x256 1 plate, 10.2ms\nSpeed: 1.0ms preprocess, 10.2ms inference, 1.7ms postprocess per image at shape (1, 3, 256, 256)\n[[     9.5742      47.636]\n [     233.95      62.481]\n [     238.52      221.61]\n [     9.6582      208.92]]\n",
          "output_type": "stream"
        },
        {
          "name": "stderr",
          "text": "807it [03:47,  3.52it/s]",
          "output_type": "stream"
        },
        {
          "name": "stdout",
          "text": "\n0: 256x256 1 plate, 10.0ms\nSpeed: 0.9ms preprocess, 10.0ms inference, 1.6ms postprocess per image at shape (1, 3, 256, 256)\n[[     20.129      58.365]\n [        236      37.111]\n [     243.36      199.44]\n [      29.91      230.64]]\n",
          "output_type": "stream"
        },
        {
          "name": "stderr",
          "text": "808it [03:48,  3.40it/s]",
          "output_type": "stream"
        },
        {
          "name": "stdout",
          "text": "\n0: 256x256 1 plate, 10.5ms\nSpeed: 0.9ms preprocess, 10.5ms inference, 1.7ms postprocess per image at shape (1, 3, 256, 256)\n[[     82.699      69.396]\n [     213.54      2.9787]\n [     231.13      130.91]\n [     97.066      199.71]]\n",
          "output_type": "stream"
        },
        {
          "name": "stderr",
          "text": "809it [03:48,  3.39it/s]",
          "output_type": "stream"
        },
        {
          "name": "stdout",
          "text": "\n0: 256x256 1 plate, 10.1ms\nSpeed: 0.9ms preprocess, 10.1ms inference, 1.7ms postprocess per image at shape (1, 3, 256, 256)\n[[      44.52      67.309]\n [      213.2      18.114]\n [     231.53      167.76]\n [     52.223      230.99]]\n",
          "output_type": "stream"
        },
        {
          "name": "stderr",
          "text": "810it [03:48,  3.37it/s]",
          "output_type": "stream"
        },
        {
          "name": "stdout",
          "text": "\n0: 256x256 1 plate, 9.9ms\nSpeed: 0.9ms preprocess, 9.9ms inference, 1.6ms postprocess per image at shape (1, 3, 256, 256)\n[[     19.389      27.297]\n [     240.01      125.09]\n [     238.02      243.61]\n [     25.347      121.28]]\n",
          "output_type": "stream"
        },
        {
          "name": "stderr",
          "text": "811it [03:49,  3.42it/s]",
          "output_type": "stream"
        },
        {
          "name": "stdout",
          "text": "\n0: 256x256 1 plate, 9.7ms\nSpeed: 1.0ms preprocess, 9.7ms inference, 1.6ms postprocess per image at shape (1, 3, 256, 256)\n[[     4.5361      29.812]\n [     248.84       64.18]\n [     241.28      230.54]\n [     10.547      192.91]]\n",
          "output_type": "stream"
        },
        {
          "name": "stderr",
          "text": "812it [03:49,  3.49it/s]",
          "output_type": "stream"
        },
        {
          "name": "stdout",
          "text": "\n0: 256x256 1 plate, 9.8ms\nSpeed: 0.9ms preprocess, 9.8ms inference, 1.6ms postprocess per image at shape (1, 3, 256, 256)\n[[     17.499      57.295]\n [     231.22       16.54]\n [     242.67      180.09]\n [     25.122      233.91]]\n",
          "output_type": "stream"
        },
        {
          "name": "stderr",
          "text": "813it [03:49,  3.54it/s]",
          "output_type": "stream"
        },
        {
          "name": "stdout",
          "text": "\n0: 256x256 1 plate, 9.6ms\nSpeed: 1.0ms preprocess, 9.6ms inference, 1.6ms postprocess per image at shape (1, 3, 256, 256)\n[[     8.5991      48.067]\n [     245.25      27.642]\n [     246.92      208.98]\n [     17.435       236.8]]\n",
          "output_type": "stream"
        },
        {
          "name": "stderr",
          "text": "814it [03:49,  3.57it/s]",
          "output_type": "stream"
        },
        {
          "name": "stdout",
          "text": "\n0: 256x256 1 plate, 9.6ms\nSpeed: 1.0ms preprocess, 9.6ms inference, 1.6ms postprocess per image at shape (1, 3, 256, 256)\n[[     16.922       77.56]\n [     232.89      35.744]\n [     231.57      186.35]\n [     19.448      231.55]]\n",
          "output_type": "stream"
        },
        {
          "name": "stderr",
          "text": "815it [03:50,  3.58it/s]",
          "output_type": "stream"
        },
        {
          "name": "stdout",
          "text": "\n0: 256x256 1 plate, 9.5ms\nSpeed: 1.0ms preprocess, 9.5ms inference, 1.6ms postprocess per image at shape (1, 3, 256, 256)\n[[     27.305      54.953]\n [     229.08      9.0112]\n [     243.83      165.03]\n [     36.789       225.8]]\n",
          "output_type": "stream"
        },
        {
          "name": "stderr",
          "text": "816it [03:50,  3.60it/s]",
          "output_type": "stream"
        },
        {
          "name": "stdout",
          "text": "\n0: 256x256 1 plate, 9.7ms\nSpeed: 0.9ms preprocess, 9.7ms inference, 1.6ms postprocess per image at shape (1, 3, 256, 256)\n[[     11.347      46.856]\n [     238.22      44.592]\n [     242.56      216.47]\n [     7.7473      220.39]]\n",
          "output_type": "stream"
        },
        {
          "name": "stderr",
          "text": "817it [03:50,  3.62it/s]",
          "output_type": "stream"
        },
        {
          "name": "stdout",
          "text": "\n0: 256x256 1 plate, 9.8ms\nSpeed: 0.9ms preprocess, 9.8ms inference, 1.6ms postprocess per image at shape (1, 3, 256, 256)\n[[      8.984      13.317]\n [      246.5      102.29]\n [     236.55      235.59]\n [     13.057      153.81]]\n",
          "output_type": "stream"
        },
        {
          "name": "stderr",
          "text": "818it [03:50,  3.61it/s]",
          "output_type": "stream"
        },
        {
          "name": "stdout",
          "text": "\n0: 256x256 1 plate, 9.9ms\nSpeed: 1.1ms preprocess, 9.9ms inference, 1.6ms postprocess per image at shape (1, 3, 256, 256)\n[[     22.066      64.294]\n [     229.38      61.269]\n [     233.74      194.55]\n [     27.116      201.45]]\n",
          "output_type": "stream"
        },
        {
          "name": "stderr",
          "text": "819it [03:51,  3.61it/s]",
          "output_type": "stream"
        },
        {
          "name": "stdout",
          "text": "\n0: 256x256 1 plate, 9.8ms\nSpeed: 1.0ms preprocess, 9.8ms inference, 1.6ms postprocess per image at shape (1, 3, 256, 256)\n[[     4.9071      40.291]\n [     252.26      45.713]\n [     250.02      220.43]\n [     11.852      219.83]]\n",
          "output_type": "stream"
        },
        {
          "name": "stderr",
          "text": "820it [03:51,  3.63it/s]",
          "output_type": "stream"
        },
        {
          "name": "stdout",
          "text": "\n0: 256x256 1 plate, 10.2ms\nSpeed: 1.1ms preprocess, 10.2ms inference, 1.8ms postprocess per image at shape (1, 3, 256, 256)\n[[     9.1396      18.362]\n [      243.1      104.92]\n [      233.1      236.29]\n [     12.223      152.53]]\n",
          "output_type": "stream"
        },
        {
          "name": "stderr",
          "text": "821it [03:51,  3.59it/s]",
          "output_type": "stream"
        },
        {
          "name": "stdout",
          "text": "\n0: 256x256 1 plate, 9.9ms\nSpeed: 1.1ms preprocess, 9.9ms inference, 1.6ms postprocess per image at shape (1, 3, 256, 256)\n[[     7.4162      46.308]\n [     249.95      43.267]\n [      252.6      212.69]\n [     15.024      220.91]]\n",
          "output_type": "stream"
        },
        {
          "name": "stderr",
          "text": "822it [03:52,  3.60it/s]",
          "output_type": "stream"
        },
        {
          "name": "stdout",
          "text": "\n0: 256x256 1 plate, 10.4ms\nSpeed: 1.1ms preprocess, 10.4ms inference, 1.6ms postprocess per image at shape (1, 3, 256, 256)\n[[     21.361       38.94]\n [     235.73      122.41]\n [     226.04       225.9]\n [     21.801      168.94]]\n",
          "output_type": "stream"
        },
        {
          "name": "stderr",
          "text": "823it [03:52,  3.59it/s]",
          "output_type": "stream"
        },
        {
          "name": "stdout",
          "text": "\n0: 256x256 1 plate, 9.9ms\nSpeed: 0.9ms preprocess, 9.9ms inference, 1.6ms postprocess per image at shape (1, 3, 256, 256)\n[[     37.009      104.07]\n [     204.81       31.62]\n [     211.28       162.2]\n [     37.691       233.9]]\n",
          "output_type": "stream"
        },
        {
          "name": "stderr",
          "text": "824it [03:52,  3.59it/s]",
          "output_type": "stream"
        },
        {
          "name": "stdout",
          "text": "\n0: 256x256 1 plate, 9.8ms\nSpeed: 1.0ms preprocess, 9.8ms inference, 1.6ms postprocess per image at shape (1, 3, 256, 256)\n[[     20.174       77.57]\n [     232.13      65.337]\n [     232.15      188.67]\n [     24.627      204.55]]\n",
          "output_type": "stream"
        },
        {
          "name": "stderr",
          "text": "825it [03:52,  3.58it/s]",
          "output_type": "stream"
        },
        {
          "name": "stdout",
          "text": "\n0: 256x256 1 plate, 10.8ms\nSpeed: 1.0ms preprocess, 10.8ms inference, 1.7ms postprocess per image at shape (1, 3, 256, 256)\n[[     62.502      101.68]\n [     175.43      49.644]\n [     183.51      156.06]\n [     73.991      210.99]]\n",
          "output_type": "stream"
        },
        {
          "name": "stderr",
          "text": "826it [03:53,  3.60it/s]",
          "output_type": "stream"
        },
        {
          "name": "stdout",
          "text": "\n0: 256x256 1 plate, 10.1ms\nSpeed: 1.0ms preprocess, 10.1ms inference, 1.6ms postprocess per image at shape (1, 3, 256, 256)\n[[     61.705      112.96]\n [      204.9      31.516]\n [     219.63      132.67]\n [     66.009      211.52]]\n",
          "output_type": "stream"
        },
        {
          "name": "stderr",
          "text": "827it [03:53,  3.63it/s]",
          "output_type": "stream"
        },
        {
          "name": "stdout",
          "text": "\n0: 256x256 1 plate, 9.6ms\nSpeed: 0.9ms preprocess, 9.6ms inference, 1.6ms postprocess per image at shape (1, 3, 256, 256)\n[[     4.8472      39.812]\n [     253.76      30.807]\n [     251.27      210.37]\n [     11.741      220.31]]\n",
          "output_type": "stream"
        },
        {
          "name": "stderr",
          "text": "828it [03:53,  3.64it/s]",
          "output_type": "stream"
        },
        {
          "name": "stdout",
          "text": "\n0: 256x256 1 plate, 10.5ms\nSpeed: 1.0ms preprocess, 10.5ms inference, 1.6ms postprocess per image at shape (1, 3, 256, 256)\n[[     35.631      93.554]\n [     207.69       32.67]\n [     225.53      145.58]\n [     41.013      226.47]]\n",
          "output_type": "stream"
        },
        {
          "name": "stderr",
          "text": "829it [03:53,  3.62it/s]",
          "output_type": "stream"
        },
        {
          "name": "stdout",
          "text": "\n0: 256x256 1 plate, 10.3ms\nSpeed: 0.9ms preprocess, 10.3ms inference, 1.6ms postprocess per image at shape (1, 3, 256, 256)\n[[     11.631      61.056]\n [     238.08      32.319]\n [     245.06      203.01]\n [     10.539      238.97]]\n",
          "output_type": "stream"
        },
        {
          "name": "stderr",
          "text": "830it [03:54,  3.62it/s]",
          "output_type": "stream"
        },
        {
          "name": "stdout",
          "text": "\n0: 256x256 1 plate, 10.1ms\nSpeed: 1.0ms preprocess, 10.1ms inference, 1.6ms postprocess per image at shape (1, 3, 256, 256)\n[[     27.747      71.042]\n [     227.04      79.338]\n [     227.47      190.75]\n [     30.312      189.97]]\n",
          "output_type": "stream"
        },
        {
          "name": "stderr",
          "text": "831it [03:54,  3.66it/s]",
          "output_type": "stream"
        },
        {
          "name": "stdout",
          "text": "\n0: 256x256 1 plate, 9.9ms\nSpeed: 1.0ms preprocess, 9.9ms inference, 1.6ms postprocess per image at shape (1, 3, 256, 256)\n[[     27.722        65.5]\n [     216.83      18.305]\n [     233.88      167.63]\n [     34.449       232.6]]\n",
          "output_type": "stream"
        },
        {
          "name": "stderr",
          "text": "832it [03:54,  3.65it/s]",
          "output_type": "stream"
        },
        {
          "name": "stdout",
          "text": "\n0: 256x256 1 plate, 10.1ms\nSpeed: 0.9ms preprocess, 10.1ms inference, 1.7ms postprocess per image at shape (1, 3, 256, 256)\n[[     21.606      85.186]\n [     224.12      28.139]\n [     233.61       170.5]\n [     31.179      241.84]]\n",
          "output_type": "stream"
        },
        {
          "name": "stderr",
          "text": "833it [03:55,  3.63it/s]",
          "output_type": "stream"
        },
        {
          "name": "stdout",
          "text": "\n0: 256x256 1 plate, 9.9ms\nSpeed: 0.9ms preprocess, 9.9ms inference, 1.6ms postprocess per image at shape (1, 3, 256, 256)\n[[     19.902      76.556]\n [     227.69      12.617]\n [      230.2      169.55]\n [     28.494      241.28]]\n",
          "output_type": "stream"
        },
        {
          "name": "stderr",
          "text": "834it [03:55,  3.65it/s]",
          "output_type": "stream"
        },
        {
          "name": "stdout",
          "text": "\n0: 256x256 1 plate, 9.6ms\nSpeed: 1.0ms preprocess, 9.6ms inference, 1.6ms postprocess per image at shape (1, 3, 256, 256)\n[[     52.159      89.923]\n [      194.6      22.239]\n [     214.23      122.01]\n [     58.483      203.76]]\n",
          "output_type": "stream"
        },
        {
          "name": "stderr",
          "text": "835it [03:55,  3.65it/s]",
          "output_type": "stream"
        },
        {
          "name": "stdout",
          "text": "\n0: 256x256 1 plate, 9.9ms\nSpeed: 1.0ms preprocess, 9.9ms inference, 1.6ms postprocess per image at shape (1, 3, 256, 256)\n[[     17.629      72.795]\n [     234.37      30.988]\n [     233.51       183.3]\n [     19.252      228.43]]\n",
          "output_type": "stream"
        },
        {
          "name": "stderr",
          "text": "836it [03:55,  3.64it/s]",
          "output_type": "stream"
        },
        {
          "name": "stdout",
          "text": "\n0: 256x256 1 plate, 10.1ms\nSpeed: 0.6ms preprocess, 10.1ms inference, 1.7ms postprocess per image at shape (1, 3, 256, 256)\n[[      53.38      119.08]\n [     196.04      37.437]\n [     209.68      138.14]\n [     57.749      217.49]]\n",
          "output_type": "stream"
        },
        {
          "name": "stderr",
          "text": "837it [03:56,  3.63it/s]",
          "output_type": "stream"
        },
        {
          "name": "stdout",
          "text": "\n0: 256x256 1 plate, 10.0ms\nSpeed: 0.9ms preprocess, 10.0ms inference, 1.7ms postprocess per image at shape (1, 3, 256, 256)\n[[     22.888      27.456]\n [     241.18       129.5]\n [     235.61      247.88]\n [     30.528       122.8]]\n",
          "output_type": "stream"
        },
        {
          "name": "stderr",
          "text": "838it [03:56,  3.53it/s]",
          "output_type": "stream"
        },
        {
          "name": "stdout",
          "text": "\n0: 256x256 1 plate, 13.8ms\nSpeed: 0.8ms preprocess, 13.8ms inference, 1.8ms postprocess per image at shape (1, 3, 256, 256)\n[[     15.968      45.949]\n [     231.09      56.532]\n [      236.3      205.55]\n [     13.601      195.44]]\n",
          "output_type": "stream"
        },
        {
          "name": "stderr",
          "text": "839it [03:56,  3.53it/s]",
          "output_type": "stream"
        },
        {
          "name": "stdout",
          "text": "\n0: 256x256 1 plate, 10.4ms\nSpeed: 1.0ms preprocess, 10.4ms inference, 1.6ms postprocess per image at shape (1, 3, 256, 256)\n[[     6.7097      51.109]\n [     243.54      29.882]\n [     245.33      201.06]\n [     13.161      228.42]]\n",
          "output_type": "stream"
        },
        {
          "name": "stderr",
          "text": "840it [03:57,  3.55it/s]",
          "output_type": "stream"
        },
        {
          "name": "stdout",
          "text": "\n0: 256x256 1 plate, 9.9ms\nSpeed: 1.0ms preprocess, 9.9ms inference, 1.6ms postprocess per image at shape (1, 3, 256, 256)\n[[     9.0855      12.491]\n [     246.12      101.99]\n [     235.25      237.09]\n [     13.993       154.9]]\n",
          "output_type": "stream"
        },
        {
          "name": "stderr",
          "text": "841it [03:57,  3.55it/s]",
          "output_type": "stream"
        },
        {
          "name": "stdout",
          "text": "\n0: 256x256 1 plate, 9.9ms\nSpeed: 0.9ms preprocess, 9.9ms inference, 1.9ms postprocess per image at shape (1, 3, 256, 256)\n[[     29.105      93.213]\n [     190.16      39.626]\n [     201.75      164.68]\n [     35.698      223.12]]\n",
          "output_type": "stream"
        },
        {
          "name": "stderr",
          "text": "842it [03:57,  3.54it/s]",
          "output_type": "stream"
        },
        {
          "name": "stdout",
          "text": "\n0: 256x256 1 plate, 9.9ms\nSpeed: 0.9ms preprocess, 9.9ms inference, 1.7ms postprocess per image at shape (1, 3, 256, 256)\n[[     17.144      73.566]\n [     237.84      59.743]\n [     241.57      191.65]\n [     18.653         214]]\n",
          "output_type": "stream"
        },
        {
          "name": "stderr",
          "text": "843it [03:57,  3.49it/s]",
          "output_type": "stream"
        },
        {
          "name": "stdout",
          "text": "\n0: 256x256 1 plate, 10.1ms\nSpeed: 1.0ms preprocess, 10.1ms inference, 1.7ms postprocess per image at shape (1, 3, 256, 256)\n[[     16.231      41.681]\n [     236.51      122.72]\n [     224.57      233.61]\n [     14.501       155.3]]\n",
          "output_type": "stream"
        },
        {
          "name": "stderr",
          "text": "844it [03:58,  3.47it/s]",
          "output_type": "stream"
        },
        {
          "name": "stdout",
          "text": "\n0: 256x256 1 plate, 9.8ms\nSpeed: 0.9ms preprocess, 9.8ms inference, 1.7ms postprocess per image at shape (1, 3, 256, 256)\n[[     226.68      24.934]\n [       56.3       78.87]\n [          0           0]\n [     232.35      141.96]]\n",
          "output_type": "stream"
        },
        {
          "name": "stderr",
          "text": "845it [03:58,  3.49it/s]",
          "output_type": "stream"
        },
        {
          "name": "stdout",
          "text": "\n0: 256x256 1 plate, 10.4ms\nSpeed: 1.0ms preprocess, 10.4ms inference, 1.7ms postprocess per image at shape (1, 3, 256, 256)\n[[     6.2653      44.886]\n [     241.66      36.191]\n [     245.07      222.39]\n [     2.6462      236.64]]\n",
          "output_type": "stream"
        },
        {
          "name": "stderr",
          "text": "846it [03:58,  3.45it/s]",
          "output_type": "stream"
        },
        {
          "name": "stdout",
          "text": "\n0: 256x256 1 plate, 10.3ms\nSpeed: 1.0ms preprocess, 10.3ms inference, 1.7ms postprocess per image at shape (1, 3, 256, 256)\n[[     19.781      26.358]\n [     244.82       119.6]\n [     240.03      246.28]\n [     26.852      137.32]]\n",
          "output_type": "stream"
        },
        {
          "name": "stderr",
          "text": "847it [03:59,  3.43it/s]",
          "output_type": "stream"
        },
        {
          "name": "stdout",
          "text": "\n0: 256x256 1 plate, 10.0ms\nSpeed: 1.0ms preprocess, 10.0ms inference, 1.6ms postprocess per image at shape (1, 3, 256, 256)\n[[     25.229      39.034]\n [     232.81      125.42]\n [     226.49      236.27]\n [     18.591      139.39]]\n",
          "output_type": "stream"
        },
        {
          "name": "stderr",
          "text": "848it [03:59,  3.50it/s]",
          "output_type": "stream"
        },
        {
          "name": "stdout",
          "text": "\n0: 256x256 1 plate, 10.0ms\nSpeed: 0.9ms preprocess, 10.0ms inference, 1.7ms postprocess per image at shape (1, 3, 256, 256)\n[[     27.239      95.597]\n [     228.66      45.944]\n [     227.75      182.37]\n [     30.429      237.39]]\n",
          "output_type": "stream"
        },
        {
          "name": "stderr",
          "text": "849it [03:59,  3.54it/s]",
          "output_type": "stream"
        },
        {
          "name": "stdout",
          "text": "\n0: 256x256 1 plate, 10.2ms\nSpeed: 1.0ms preprocess, 10.2ms inference, 1.6ms postprocess per image at shape (1, 3, 256, 256)\n[[     43.197      84.725]\n [     208.98      17.731]\n [     224.45      147.04]\n [     54.806      225.17]]\n",
          "output_type": "stream"
        },
        {
          "name": "stderr",
          "text": "850it [03:59,  3.54it/s]",
          "output_type": "stream"
        },
        {
          "name": "stdout",
          "text": "\n0: 256x256 1 plate, 9.9ms\nSpeed: 0.8ms preprocess, 9.9ms inference, 1.6ms postprocess per image at shape (1, 3, 256, 256)\n[[     5.2893      19.149]\n [     248.79      62.744]\n [      236.8      231.38]\n [     12.612      194.01]]\n",
          "output_type": "stream"
        },
        {
          "name": "stderr",
          "text": "851it [04:00,  3.53it/s]",
          "output_type": "stream"
        },
        {
          "name": "stdout",
          "text": "\n0: 256x256 1 plate, 10.4ms\nSpeed: 1.0ms preprocess, 10.4ms inference, 1.6ms postprocess per image at shape (1, 3, 256, 256)\n[[     42.235      30.607]\n [     224.18      128.13]\n [      216.7      226.56]\n [     44.049      109.84]]\n",
          "output_type": "stream"
        },
        {
          "name": "stderr",
          "text": "852it [04:00,  3.55it/s]",
          "output_type": "stream"
        },
        {
          "name": "stdout",
          "text": "\n0: 256x256 1 plate, 9.7ms\nSpeed: 1.0ms preprocess, 9.7ms inference, 1.6ms postprocess per image at shape (1, 3, 256, 256)\n[[     7.5216      50.186]\n [     235.96      52.113]\n [     241.58      208.54]\n [     6.7235      213.61]]\n",
          "output_type": "stream"
        },
        {
          "name": "stderr",
          "text": "853it [04:00,  3.56it/s]",
          "output_type": "stream"
        },
        {
          "name": "stdout",
          "text": "\n0: 256x256 1 plate, 10.2ms\nSpeed: 1.1ms preprocess, 10.2ms inference, 1.6ms postprocess per image at shape (1, 3, 256, 256)\n[[     96.657      74.704]\n [        200      11.906]\n [     221.57      112.31]\n [      109.3       180.3]]\n",
          "output_type": "stream"
        },
        {
          "name": "stderr",
          "text": "854it [04:01,  3.42it/s]",
          "output_type": "stream"
        },
        {
          "name": "stdout",
          "text": "\n0: 256x256 1 plate, 9.9ms\nSpeed: 0.9ms preprocess, 9.9ms inference, 1.6ms postprocess per image at shape (1, 3, 256, 256)\n[[     6.8659      17.554]\n [     248.48      88.394]\n [     241.17      231.84]\n [     9.4209       163.6]]\n",
          "output_type": "stream"
        },
        {
          "name": "stderr",
          "text": "855it [04:01,  3.45it/s]",
          "output_type": "stream"
        },
        {
          "name": "stdout",
          "text": "\n0: 256x256 1 plate, 13.4ms\nSpeed: 0.7ms preprocess, 13.4ms inference, 1.9ms postprocess per image at shape (1, 3, 256, 256)\n[[     9.8883      54.246]\n [     243.52      47.104]\n [      247.6      208.43]\n [     16.392      220.24]]\n",
          "output_type": "stream"
        },
        {
          "name": "stderr",
          "text": "856it [04:01,  3.40it/s]",
          "output_type": "stream"
        },
        {
          "name": "stdout",
          "text": "\n0: 256x256 1 plate, 10.0ms\nSpeed: 1.0ms preprocess, 10.0ms inference, 1.6ms postprocess per image at shape (1, 3, 256, 256)\n[[     7.2749       56.94]\n [     239.46      27.388]\n [     247.44      193.85]\n [      15.56      232.44]]\n",
          "output_type": "stream"
        },
        {
          "name": "stderr",
          "text": "857it [04:01,  3.45it/s]",
          "output_type": "stream"
        },
        {
          "name": "stdout",
          "text": "\n0: 256x256 1 plate, 9.8ms\nSpeed: 1.0ms preprocess, 9.8ms inference, 1.6ms postprocess per image at shape (1, 3, 256, 256)\n[[          0           0]\n [     229.97      101.12]\n [     233.12      230.79]\n [          0           0]]\n",
          "output_type": "stream"
        },
        {
          "name": "stderr",
          "text": "858it [04:02,  3.52it/s]",
          "output_type": "stream"
        },
        {
          "name": "stdout",
          "text": "\n0: 256x256 1 plate, 10.2ms\nSpeed: 1.0ms preprocess, 10.2ms inference, 1.6ms postprocess per image at shape (1, 3, 256, 256)\n[[     45.712      47.218]\n [     233.58      163.45]\n [     234.55      253.24]\n [          0           0]]\n",
          "output_type": "stream"
        },
        {
          "name": "stderr",
          "text": "859it [04:02,  3.54it/s]",
          "output_type": "stream"
        },
        {
          "name": "stdout",
          "text": "\n0: 256x256 1 plate, 10.0ms\nSpeed: 1.0ms preprocess, 10.0ms inference, 1.6ms postprocess per image at shape (1, 3, 256, 256)\n[[      8.277      47.791]\n [     239.44      49.068]\n [     241.43      217.12]\n [     3.2212      221.24]]\n",
          "output_type": "stream"
        },
        {
          "name": "stderr",
          "text": "860it [04:02,  3.52it/s]",
          "output_type": "stream"
        },
        {
          "name": "stdout",
          "text": "\n0: 256x256 1 plate, 9.8ms\nSpeed: 0.9ms preprocess, 9.8ms inference, 1.6ms postprocess per image at shape (1, 3, 256, 256)\n[[     50.728      53.486]\n [     222.21      2.0734]\n [     240.29      148.79]\n [      61.87       213.4]]\n",
          "output_type": "stream"
        },
        {
          "name": "stderr",
          "text": "861it [04:03,  3.52it/s]",
          "output_type": "stream"
        },
        {
          "name": "stdout",
          "text": "\n0: 256x256 1 plate, 10.0ms\nSpeed: 1.0ms preprocess, 10.0ms inference, 1.6ms postprocess per image at shape (1, 3, 256, 256)\n[[     4.6906      23.485]\n [     249.41      66.194]\n [     245.45      226.49]\n [     9.3393       181.1]]\n",
          "output_type": "stream"
        },
        {
          "name": "stderr",
          "text": "862it [04:03,  3.53it/s]",
          "output_type": "stream"
        },
        {
          "name": "stdout",
          "text": "\n0: 256x256 1 plate, 9.6ms\nSpeed: 0.9ms preprocess, 9.6ms inference, 1.6ms postprocess per image at shape (1, 3, 256, 256)\n[[      8.825      31.043]\n [     237.93      71.065]\n [     238.45      226.55]\n [     3.9348      191.43]]\n",
          "output_type": "stream"
        },
        {
          "name": "stderr",
          "text": "863it [04:03,  3.56it/s]",
          "output_type": "stream"
        },
        {
          "name": "stdout",
          "text": "\n0: 256x256 1 plate, 10.2ms\nSpeed: 1.0ms preprocess, 10.2ms inference, 1.7ms postprocess per image at shape (1, 3, 256, 256)\n[[     12.104      68.067]\n [      233.4      37.132]\n [     234.93      194.85]\n [     14.184      227.99]]\n",
          "output_type": "stream"
        },
        {
          "name": "stderr",
          "text": "864it [04:03,  3.54it/s]",
          "output_type": "stream"
        },
        {
          "name": "stdout",
          "text": "\n0: 256x256 1 plate, 12.0ms\nSpeed: 1.0ms preprocess, 12.0ms inference, 1.7ms postprocess per image at shape (1, 3, 256, 256)\n[[     13.402      25.456]\n [     239.78      126.79]\n [      226.3      235.73]\n [     13.827      136.19]]\n",
          "output_type": "stream"
        },
        {
          "name": "stderr",
          "text": "865it [04:04,  3.45it/s]",
          "output_type": "stream"
        },
        {
          "name": "stdout",
          "text": "\n0: 256x256 1 plate, 11.4ms\nSpeed: 2.3ms preprocess, 11.4ms inference, 1.7ms postprocess per image at shape (1, 3, 256, 256)\n[[     4.6844      19.699]\n [     247.37      101.75]\n [     237.66      241.07]\n [     8.8376      162.74]]\n",
          "output_type": "stream"
        },
        {
          "name": "stderr",
          "text": "866it [04:04,  3.33it/s]",
          "output_type": "stream"
        },
        {
          "name": "stdout",
          "text": "\n0: 256x256 1 plate, 10.2ms\nSpeed: 1.1ms preprocess, 10.2ms inference, 1.7ms postprocess per image at shape (1, 3, 256, 256)\n[[     23.856      33.193]\n [      228.8      87.568]\n [     232.61      219.28]\n [     18.069      166.43]]\n",
          "output_type": "stream"
        },
        {
          "name": "stderr",
          "text": "867it [04:04,  3.33it/s]",
          "output_type": "stream"
        },
        {
          "name": "stdout",
          "text": "\n0: 256x256 1 plate, 9.7ms\nSpeed: 1.0ms preprocess, 9.7ms inference, 1.7ms postprocess per image at shape (1, 3, 256, 256)\n[[     17.121      46.432]\n [     233.16      57.819]\n [     239.88      217.25]\n [     14.821      207.14]]\n",
          "output_type": "stream"
        },
        {
          "name": "stderr",
          "text": "868it [04:05,  3.36it/s]",
          "output_type": "stream"
        },
        {
          "name": "stdout",
          "text": "\n0: 256x256 1 plate, 10.0ms\nSpeed: 1.0ms preprocess, 10.0ms inference, 1.7ms postprocess per image at shape (1, 3, 256, 256)\n[[     3.8237      19.091]\n [     253.41      54.095]\n [     247.95       226.1]\n [     9.8268      192.16]]\n",
          "output_type": "stream"
        },
        {
          "name": "stderr",
          "text": "869it [04:05,  3.44it/s]",
          "output_type": "stream"
        },
        {
          "name": "stdout",
          "text": "\n0: 256x256 1 plate, 10.2ms\nSpeed: 0.8ms preprocess, 10.2ms inference, 1.6ms postprocess per image at shape (1, 3, 256, 256)\n[[     18.091      55.082]\n [     236.28      69.145]\n [     239.68      212.35]\n [     18.903      199.02]]\n",
          "output_type": "stream"
        },
        {
          "name": "stderr",
          "text": "870it [04:05,  3.49it/s]",
          "output_type": "stream"
        },
        {
          "name": "stdout",
          "text": "\n0: 256x256 1 plate, 10.1ms\nSpeed: 0.9ms preprocess, 10.1ms inference, 1.6ms postprocess per image at shape (1, 3, 256, 256)\n[[     12.055      45.733]\n [     235.37      84.888]\n [     235.32      218.78]\n [     11.691      183.88]]\n",
          "output_type": "stream"
        },
        {
          "name": "stderr",
          "text": "871it [04:05,  3.51it/s]",
          "output_type": "stream"
        },
        {
          "name": "stdout",
          "text": "\n0: 256x256 1 plate, 9.5ms\nSpeed: 1.0ms preprocess, 9.5ms inference, 1.6ms postprocess per image at shape (1, 3, 256, 256)\n[[     4.9231      38.915]\n [      248.4      53.446]\n [     244.91      224.23]\n [       10.9      206.29]]\n",
          "output_type": "stream"
        },
        {
          "name": "stderr",
          "text": "872it [04:06,  3.55it/s]",
          "output_type": "stream"
        },
        {
          "name": "stdout",
          "text": "\n0: 256x256 1 plate, 9.5ms\nSpeed: 1.0ms preprocess, 9.5ms inference, 1.6ms postprocess per image at shape (1, 3, 256, 256)\n[[     4.7724      50.357]\n [     250.16      41.939]\n [     248.32      216.89]\n [     11.215      229.43]]\n",
          "output_type": "stream"
        },
        {
          "name": "stderr",
          "text": "873it [04:06,  3.49it/s]",
          "output_type": "stream"
        },
        {
          "name": "stdout",
          "text": "\n0: 256x256 1 plate, 9.6ms\nSpeed: 0.9ms preprocess, 9.6ms inference, 1.8ms postprocess per image at shape (1, 3, 256, 256)\n[[     20.078      66.272]\n [     230.88      84.425]\n [     232.73      207.73]\n [     24.322      201.37]]\n",
          "output_type": "stream"
        },
        {
          "name": "stderr",
          "text": "874it [04:06,  3.53it/s]",
          "output_type": "stream"
        },
        {
          "name": "stdout",
          "text": "\n0: 256x256 1 plate, 9.6ms\nSpeed: 1.0ms preprocess, 9.6ms inference, 1.6ms postprocess per image at shape (1, 3, 256, 256)\n[[      20.94      78.878]\n [     227.98      21.477]\n [     235.94      168.75]\n [     30.097      236.72]]\n",
          "output_type": "stream"
        },
        {
          "name": "stderr",
          "text": "875it [04:07,  3.55it/s]",
          "output_type": "stream"
        },
        {
          "name": "stdout",
          "text": "\n0: 256x256 1 plate, 9.5ms\nSpeed: 0.9ms preprocess, 9.5ms inference, 1.6ms postprocess per image at shape (1, 3, 256, 256)\n[[     6.7647      16.894]\n [     253.95      65.807]\n [     248.74      232.66]\n [     8.9108      194.67]]\n",
          "output_type": "stream"
        },
        {
          "name": "stderr",
          "text": "876it [04:07,  3.54it/s]",
          "output_type": "stream"
        },
        {
          "name": "stdout",
          "text": "\n0: 256x256 1 plate, 9.6ms\nSpeed: 0.9ms preprocess, 9.6ms inference, 1.6ms postprocess per image at shape (1, 3, 256, 256)\n[[     15.679      82.175]\n [     231.58      31.114]\n [     237.57      176.08]\n [      22.89      235.54]]\n",
          "output_type": "stream"
        },
        {
          "name": "stderr",
          "text": "877it [04:07,  3.55it/s]",
          "output_type": "stream"
        },
        {
          "name": "stdout",
          "text": "\n0: 256x256 1 plate, 9.7ms\nSpeed: 1.1ms preprocess, 9.7ms inference, 1.6ms postprocess per image at shape (1, 3, 256, 256)\n[[     13.244      66.406]\n [     240.23      31.634]\n [     243.03       188.3]\n [      17.74      226.49]]\n",
          "output_type": "stream"
        },
        {
          "name": "stderr",
          "text": "878it [04:07,  3.59it/s]",
          "output_type": "stream"
        },
        {
          "name": "stdout",
          "text": "\n0: 256x256 1 plate, 10.5ms\nSpeed: 1.5ms preprocess, 10.5ms inference, 1.6ms postprocess per image at shape (1, 3, 256, 256)\n[[      12.51      19.817]\n [     244.04      121.16]\n [     231.54      240.79]\n [     15.675      143.76]]\n",
          "output_type": "stream"
        },
        {
          "name": "stderr",
          "text": "879it [04:08,  3.58it/s]",
          "output_type": "stream"
        },
        {
          "name": "stdout",
          "text": "\n0: 256x256 1 plate, 9.9ms\nSpeed: 1.0ms preprocess, 9.9ms inference, 1.6ms postprocess per image at shape (1, 3, 256, 256)\n[[     16.319      57.256]\n [     233.77      45.365]\n [     240.83      205.07]\n [     14.975      223.77]]\n",
          "output_type": "stream"
        },
        {
          "name": "stderr",
          "text": "880it [04:08,  3.60it/s]",
          "output_type": "stream"
        },
        {
          "name": "stdout",
          "text": "\n0: 256x256 1 plate, 10.0ms\nSpeed: 1.0ms preprocess, 10.0ms inference, 1.6ms postprocess per image at shape (1, 3, 256, 256)\n[[     19.841      44.751]\n [      230.3      61.421]\n [     237.14      200.83]\n [     16.448      182.72]]\n",
          "output_type": "stream"
        },
        {
          "name": "stderr",
          "text": "881it [04:08,  3.65it/s]",
          "output_type": "stream"
        },
        {
          "name": "stdout",
          "text": "\n0: 256x256 1 plate, 10.6ms\nSpeed: 1.0ms preprocess, 10.6ms inference, 1.7ms postprocess per image at shape (1, 3, 256, 256)\n[[     14.234      57.968]\n [     242.27      36.929]\n [     241.24      194.16]\n [     17.798      220.73]]\n",
          "output_type": "stream"
        },
        {
          "name": "stderr",
          "text": "882it [04:09,  3.63it/s]",
          "output_type": "stream"
        },
        {
          "name": "stdout",
          "text": "\n0: 256x256 1 plate, 10.3ms\nSpeed: 1.0ms preprocess, 10.3ms inference, 1.6ms postprocess per image at shape (1, 3, 256, 256)\n[[     76.866      85.685]\n [     193.85      19.376]\n [     214.92       114.4]\n [     84.256      187.89]]\n",
          "output_type": "stream"
        },
        {
          "name": "stderr",
          "text": "883it [04:09,  3.64it/s]",
          "output_type": "stream"
        },
        {
          "name": "stdout",
          "text": "\n0: 256x256 1 plate, 9.8ms\nSpeed: 0.9ms preprocess, 9.8ms inference, 1.6ms postprocess per image at shape (1, 3, 256, 256)\n[[     22.875      82.398]\n [     230.36      21.636]\n [     228.36       181.6]\n [     25.566      245.86]]\n",
          "output_type": "stream"
        },
        {
          "name": "stderr",
          "text": "884it [04:09,  3.67it/s]",
          "output_type": "stream"
        },
        {
          "name": "stdout",
          "text": "\n0: 256x256 1 plate, 9.6ms\nSpeed: 1.0ms preprocess, 9.6ms inference, 1.6ms postprocess per image at shape (1, 3, 256, 256)\n[[     6.0605      47.602]\n [     243.32      24.277]\n [     247.88      204.08]\n [     14.598      233.37]]\n",
          "output_type": "stream"
        },
        {
          "name": "stderr",
          "text": "885it [04:09,  3.66it/s]",
          "output_type": "stream"
        },
        {
          "name": "stdout",
          "text": "\n0: 256x256 1 plate, 9.6ms\nSpeed: 0.9ms preprocess, 9.6ms inference, 1.6ms postprocess per image at shape (1, 3, 256, 256)\n[[     10.581       54.29]\n [     238.06      21.603]\n [     246.35      188.59]\n [     18.536      231.66]]\n",
          "output_type": "stream"
        },
        {
          "name": "stderr",
          "text": "886it [04:10,  3.64it/s]",
          "output_type": "stream"
        },
        {
          "name": "stdout",
          "text": "\n0: 256x256 1 plate, 9.6ms\nSpeed: 1.0ms preprocess, 9.6ms inference, 1.6ms postprocess per image at shape (1, 3, 256, 256)\n[[     106.37      96.359]\n [     193.67      46.367]\n [      200.1      119.53]\n [     113.21      173.46]]\n",
          "output_type": "stream"
        },
        {
          "name": "stderr",
          "text": "887it [04:10,  3.66it/s]",
          "output_type": "stream"
        },
        {
          "name": "stdout",
          "text": "\n0: 256x256 1 plate, 9.7ms\nSpeed: 0.9ms preprocess, 9.7ms inference, 1.6ms postprocess per image at shape (1, 3, 256, 256)\n[[     43.821      122.58]\n [     193.09      47.308]\n [     194.15      143.16]\n [      56.05      209.27]]\n",
          "output_type": "stream"
        },
        {
          "name": "stderr",
          "text": "888it [04:10,  3.62it/s]",
          "output_type": "stream"
        },
        {
          "name": "stdout",
          "text": "\n0: 256x256 1 plate, 9.8ms\nSpeed: 1.0ms preprocess, 9.8ms inference, 1.6ms postprocess per image at shape (1, 3, 256, 256)\n[[    0.11417      30.025]\n [     248.77      73.176]\n [     247.02      230.12]\n [     4.0658         189]]\n",
          "output_type": "stream"
        },
        {
          "name": "stderr",
          "text": "889it [04:10,  3.65it/s]",
          "output_type": "stream"
        },
        {
          "name": "stdout",
          "text": "\n0: 256x256 1 plate, 10.6ms\nSpeed: 1.2ms preprocess, 10.6ms inference, 1.6ms postprocess per image at shape (1, 3, 256, 256)\n[[     3.6211       40.25]\n [     249.93      31.266]\n [     249.19      213.15]\n [     11.132      222.25]]\n",
          "output_type": "stream"
        },
        {
          "name": "stderr",
          "text": "890it [04:11,  3.68it/s]",
          "output_type": "stream"
        },
        {
          "name": "stdout",
          "text": "\n0: 256x256 1 plate, 10.1ms\nSpeed: 1.0ms preprocess, 10.1ms inference, 1.6ms postprocess per image at shape (1, 3, 256, 256)\n[[     29.858       58.54]\n [     227.53      15.185]\n [     240.64      176.06]\n [     38.693       231.9]]\n",
          "output_type": "stream"
        },
        {
          "name": "stderr",
          "text": "891it [04:11,  3.64it/s]",
          "output_type": "stream"
        },
        {
          "name": "stdout",
          "text": "\n0: 256x256 1 plate, 10.1ms\nSpeed: 1.0ms preprocess, 10.1ms inference, 1.6ms postprocess per image at shape (1, 3, 256, 256)\n[[     17.692      67.985]\n [     238.35      56.162]\n [     241.28      198.67]\n [     19.275      215.16]]\n",
          "output_type": "stream"
        },
        {
          "name": "stderr",
          "text": "892it [04:11,  3.59it/s]",
          "output_type": "stream"
        },
        {
          "name": "stdout",
          "text": "\n0: 256x256 1 plate, 10.4ms\nSpeed: 1.0ms preprocess, 10.4ms inference, 1.7ms postprocess per image at shape (1, 3, 256, 256)\n[[     14.768      47.821]\n [     234.68      66.939]\n [     240.23      217.14]\n [     9.9335      199.44]]\n",
          "output_type": "stream"
        },
        {
          "name": "stderr",
          "text": "893it [04:12,  3.60it/s]",
          "output_type": "stream"
        },
        {
          "name": "stdout",
          "text": "\n0: 256x256 1 plate, 9.9ms\nSpeed: 1.0ms preprocess, 9.9ms inference, 1.6ms postprocess per image at shape (1, 3, 256, 256)\n[[     16.001       18.57]\n [     234.49      147.13]\n [      228.7      249.33]\n [     7.6641      124.75]]\n",
          "output_type": "stream"
        },
        {
          "name": "stderr",
          "text": "894it [04:12,  3.62it/s]",
          "output_type": "stream"
        },
        {
          "name": "stdout",
          "text": "\n0: 256x256 1 plate, 9.7ms\nSpeed: 1.0ms preprocess, 9.7ms inference, 1.6ms postprocess per image at shape (1, 3, 256, 256)\n[[     6.7671      12.093]\n [     245.13      103.16]\n [     237.55       235.2]\n [     9.1564      150.77]]\n",
          "output_type": "stream"
        },
        {
          "name": "stderr",
          "text": "895it [04:12,  3.63it/s]",
          "output_type": "stream"
        },
        {
          "name": "stdout",
          "text": "\n0: 256x256 1 plate, 10.0ms\nSpeed: 0.8ms preprocess, 10.0ms inference, 1.6ms postprocess per image at shape (1, 3, 256, 256)\n[[     14.033      56.133]\n [     232.77      76.405]\n [     234.58      205.37]\n [     16.118      192.38]]\n",
          "output_type": "stream"
        },
        {
          "name": "stderr",
          "text": "896it [04:12,  3.65it/s]",
          "output_type": "stream"
        },
        {
          "name": "stdout",
          "text": "\n0: 256x256 1 plate, 9.8ms\nSpeed: 0.9ms preprocess, 9.8ms inference, 1.6ms postprocess per image at shape (1, 3, 256, 256)\n[[     39.478      111.47]\n [     187.44      40.935]\n [     191.12      158.47]\n [     48.339      217.93]]\n",
          "output_type": "stream"
        },
        {
          "name": "stderr",
          "text": "897it [04:13,  3.63it/s]",
          "output_type": "stream"
        },
        {
          "name": "stdout",
          "text": "\n0: 256x256 1 plate, 10.3ms\nSpeed: 1.0ms preprocess, 10.3ms inference, 1.6ms postprocess per image at shape (1, 3, 256, 256)\n[[     57.833      140.01]\n [     192.17      59.956]\n [     199.76      141.69]\n [     68.889       210.1]]\n",
          "output_type": "stream"
        },
        {
          "name": "stderr",
          "text": "898it [04:13,  3.65it/s]",
          "output_type": "stream"
        },
        {
          "name": "stdout",
          "text": "\n0: 256x256 1 plate, 9.8ms\nSpeed: 0.9ms preprocess, 9.8ms inference, 1.7ms postprocess per image at shape (1, 3, 256, 256)\n[[     2.2333      50.115]\n [     246.35      45.831]\n [     244.42      222.31]\n [     10.401      227.47]]\n",
          "output_type": "stream"
        },
        {
          "name": "stderr",
          "text": "899it [04:13,  3.63it/s]",
          "output_type": "stream"
        },
        {
          "name": "stdout",
          "text": "\n0: 256x256 1 plate, 9.9ms\nSpeed: 1.0ms preprocess, 9.9ms inference, 1.6ms postprocess per image at shape (1, 3, 256, 256)\n[[     4.2438       44.17]\n [     249.07       24.79]\n [     250.98      204.07]\n [     12.434      226.88]]\n",
          "output_type": "stream"
        },
        {
          "name": "stderr",
          "text": "900it [04:13,  3.58it/s]",
          "output_type": "stream"
        },
        {
          "name": "stdout",
          "text": "\n0: 256x256 1 plate, 9.6ms\nSpeed: 0.9ms preprocess, 9.6ms inference, 1.7ms postprocess per image at shape (1, 3, 256, 256)\n[[     21.846      65.055]\n [     225.39      56.554]\n [     230.81      179.41]\n [     27.296      195.44]]\n",
          "output_type": "stream"
        },
        {
          "name": "stderr",
          "text": "901it [04:14,  3.57it/s]",
          "output_type": "stream"
        },
        {
          "name": "stdout",
          "text": "\n0: 256x256 2 plates, 10.0ms\nSpeed: 1.2ms preprocess, 10.0ms inference, 1.7ms postprocess per image at shape (1, 3, 256, 256)\n[[     9.9909       42.18]\n [     242.05      64.548]\n [     238.95       201.5]\n [     12.834         168]]\n",
          "output_type": "stream"
        },
        {
          "name": "stderr",
          "text": "902it [04:14,  3.56it/s]",
          "output_type": "stream"
        },
        {
          "name": "stdout",
          "text": "\n0: 256x256 1 plate, 9.7ms\nSpeed: 0.9ms preprocess, 9.7ms inference, 1.6ms postprocess per image at shape (1, 3, 256, 256)\n[[     5.9652      39.188]\n [     249.18        57.9]\n [     243.15      225.23]\n [     11.455      203.26]]\n",
          "output_type": "stream"
        },
        {
          "name": "stderr",
          "text": "903it [04:14,  3.53it/s]",
          "output_type": "stream"
        },
        {
          "name": "stdout",
          "text": "\n0: 256x256 1 plate, 9.7ms\nSpeed: 0.9ms preprocess, 9.7ms inference, 1.6ms postprocess per image at shape (1, 3, 256, 256)\n[[     10.307       46.52]\n [     237.76      40.846]\n [     242.41      214.97]\n [     8.5059      225.57]]\n",
          "output_type": "stream"
        },
        {
          "name": "stderr",
          "text": "904it [04:15,  3.51it/s]",
          "output_type": "stream"
        },
        {
          "name": "stdout",
          "text": "\n0: 256x256 1 plate, 11.5ms\nSpeed: 1.1ms preprocess, 11.5ms inference, 1.8ms postprocess per image at shape (1, 3, 256, 256)\n[[     14.861      24.351]\n [     240.66      116.03]\n [     228.54      238.91]\n [     17.458      144.81]]\n",
          "output_type": "stream"
        },
        {
          "name": "stderr",
          "text": "905it [04:15,  3.44it/s]",
          "output_type": "stream"
        },
        {
          "name": "stdout",
          "text": "\n0: 256x256 1 plate, 9.7ms\nSpeed: 0.9ms preprocess, 9.7ms inference, 1.6ms postprocess per image at shape (1, 3, 256, 256)\n[[     21.767       78.56]\n [     228.73      38.205]\n [     229.45      178.15]\n [     23.025      222.98]]\n",
          "output_type": "stream"
        },
        {
          "name": "stderr",
          "text": "906it [04:15,  3.49it/s]",
          "output_type": "stream"
        },
        {
          "name": "stdout",
          "text": "\n0: 256x256 1 plate, 9.8ms\nSpeed: 1.0ms preprocess, 9.8ms inference, 1.6ms postprocess per image at shape (1, 3, 256, 256)\n[[       25.7      44.939]\n [     224.27      91.131]\n [     229.41      216.36]\n [     21.549      171.74]]\n",
          "output_type": "stream"
        },
        {
          "name": "stderr",
          "text": "907it [04:15,  3.56it/s]",
          "output_type": "stream"
        },
        {
          "name": "stdout",
          "text": "\n0: 256x256 1 plate, 10.3ms\nSpeed: 1.0ms preprocess, 10.3ms inference, 1.8ms postprocess per image at shape (1, 3, 256, 256)\n[[      17.85       50.29]\n [     231.71      71.296]\n [     235.57      203.54]\n [     18.416      189.57]]\n",
          "output_type": "stream"
        },
        {
          "name": "stderr",
          "text": "908it [04:16,  3.56it/s]",
          "output_type": "stream"
        },
        {
          "name": "stdout",
          "text": "\n0: 256x256 1 plate, 9.9ms\nSpeed: 0.9ms preprocess, 9.9ms inference, 1.6ms postprocess per image at shape (1, 3, 256, 256)\n[[     10.659      49.648]\n [     235.91      49.886]\n [     240.88      209.74]\n [     10.533      218.96]]\n",
          "output_type": "stream"
        },
        {
          "name": "stderr",
          "text": "909it [04:16,  3.49it/s]",
          "output_type": "stream"
        },
        {
          "name": "stdout",
          "text": "\n0: 256x256 1 plate, 9.7ms\nSpeed: 0.9ms preprocess, 9.7ms inference, 1.6ms postprocess per image at shape (1, 3, 256, 256)\n[[     5.2418      68.967]\n [     250.76      56.753]\n [     242.66      239.03]\n [     16.148      254.65]]\n",
          "output_type": "stream"
        },
        {
          "name": "stderr",
          "text": "910it [04:16,  3.55it/s]",
          "output_type": "stream"
        },
        {
          "name": "stdout",
          "text": "\n0: 256x256 1 plate, 10.6ms\nSpeed: 1.0ms preprocess, 10.6ms inference, 1.6ms postprocess per image at shape (1, 3, 256, 256)\n[[     10.614      68.373]\n [     234.44      63.154]\n [     237.82      195.25]\n [     13.854      208.66]]\n",
          "output_type": "stream"
        },
        {
          "name": "stderr",
          "text": "911it [04:17,  3.58it/s]",
          "output_type": "stream"
        },
        {
          "name": "stdout",
          "text": "\n0: 256x256 1 plate, 10.4ms\nSpeed: 1.0ms preprocess, 10.4ms inference, 1.6ms postprocess per image at shape (1, 3, 256, 256)\n[[     12.764      54.818]\n [      237.7      62.378]\n [      240.2      217.87]\n [     12.766      203.85]]\n",
          "output_type": "stream"
        },
        {
          "name": "stderr",
          "text": "912it [04:17,  3.62it/s]",
          "output_type": "stream"
        },
        {
          "name": "stdout",
          "text": "\n0: 256x256 1 plate, 9.7ms\nSpeed: 0.9ms preprocess, 9.7ms inference, 1.6ms postprocess per image at shape (1, 3, 256, 256)\n[[    0.92765       35.31]\n [     251.68      32.193]\n [     249.08      216.55]\n [     9.0179      220.12]]\n",
          "output_type": "stream"
        },
        {
          "name": "stderr",
          "text": "913it [04:17,  3.64it/s]",
          "output_type": "stream"
        },
        {
          "name": "stdout",
          "text": "\n0: 256x256 1 plate, 10.1ms\nSpeed: 1.0ms preprocess, 10.1ms inference, 1.6ms postprocess per image at shape (1, 3, 256, 256)\n[[     9.6586      41.474]\n [     243.42      98.679]\n [     235.29      231.15]\n [     9.5171      176.17]]\n",
          "output_type": "stream"
        },
        {
          "name": "stderr",
          "text": "914it [04:17,  3.65it/s]",
          "output_type": "stream"
        },
        {
          "name": "stdout",
          "text": "\n0: 256x256 1 plate, 9.8ms\nSpeed: 0.8ms preprocess, 9.8ms inference, 1.6ms postprocess per image at shape (1, 3, 256, 256)\n[[     17.366      29.612]\n [     232.07       77.85]\n [     234.04      224.92]\n [     12.993      175.89]]\n",
          "output_type": "stream"
        },
        {
          "name": "stderr",
          "text": "915it [04:18,  3.62it/s]",
          "output_type": "stream"
        },
        {
          "name": "stdout",
          "text": "\n0: 256x256 1 plate, 9.9ms\nSpeed: 0.9ms preprocess, 9.9ms inference, 1.6ms postprocess per image at shape (1, 3, 256, 256)\n[[     70.656      84.957]\n [     197.35      15.535]\n [     219.09       126.4]\n [     79.127      200.95]]\n",
          "output_type": "stream"
        },
        {
          "name": "stderr",
          "text": "916it [04:18,  3.53it/s]",
          "output_type": "stream"
        },
        {
          "name": "stdout",
          "text": "\n0: 256x256 1 plate, 10.0ms\nSpeed: 1.0ms preprocess, 10.0ms inference, 1.6ms postprocess per image at shape (1, 3, 256, 256)\n[[     26.254      92.055]\n [     208.63      33.343]\n [      219.5      150.64]\n [     31.069      222.94]]\n",
          "output_type": "stream"
        },
        {
          "name": "stderr",
          "text": "917it [04:18,  3.54it/s]",
          "output_type": "stream"
        },
        {
          "name": "stdout",
          "text": "\n0: 256x256 1 plate, 10.1ms\nSpeed: 1.0ms preprocess, 10.1ms inference, 1.6ms postprocess per image at shape (1, 3, 256, 256)\n[[      19.18      85.541]\n [     223.73      22.127]\n [     230.41      162.74]\n [     26.297      238.17]]\n",
          "output_type": "stream"
        },
        {
          "name": "stderr",
          "text": "918it [04:19,  3.54it/s]",
          "output_type": "stream"
        },
        {
          "name": "stdout",
          "text": "\n0: 256x256 1 plate, 10.3ms\nSpeed: 1.2ms preprocess, 10.3ms inference, 1.6ms postprocess per image at shape (1, 3, 256, 256)\n[[     7.4507       38.69]\n [     246.18      76.995]\n [     237.75      229.59]\n [     11.092       189.2]]\n",
          "output_type": "stream"
        },
        {
          "name": "stderr",
          "text": "919it [04:19,  3.55it/s]",
          "output_type": "stream"
        },
        {
          "name": "stdout",
          "text": "\n0: 256x256 1 plate, 9.8ms\nSpeed: 0.6ms preprocess, 9.8ms inference, 1.6ms postprocess per image at shape (1, 3, 256, 256)\n[[     6.5652      20.303]\n [     248.56      81.105]\n [     240.91      232.82]\n [     11.566      173.96]]\n",
          "output_type": "stream"
        },
        {
          "name": "stderr",
          "text": "920it [04:19,  3.54it/s]",
          "output_type": "stream"
        },
        {
          "name": "stdout",
          "text": "\n0: 256x256 1 plate, 10.4ms\nSpeed: 1.0ms preprocess, 10.4ms inference, 1.7ms postprocess per image at shape (1, 3, 256, 256)\n[[     8.9704      27.687]\n [     239.76      68.055]\n [        239      229.82]\n [     4.5828      191.66]]\n",
          "output_type": "stream"
        },
        {
          "name": "stderr",
          "text": "921it [04:19,  3.55it/s]",
          "output_type": "stream"
        },
        {
          "name": "stdout",
          "text": "\n0: 256x256 1 plate, 9.9ms\nSpeed: 0.6ms preprocess, 9.9ms inference, 1.6ms postprocess per image at shape (1, 3, 256, 256)\n[[     21.411      35.521]\n [     234.09      130.65]\n [     229.25      237.63]\n [     20.007      149.13]]\n",
          "output_type": "stream"
        },
        {
          "name": "stderr",
          "text": "922it [04:20,  3.57it/s]",
          "output_type": "stream"
        },
        {
          "name": "stdout",
          "text": "\n0: 256x256 1 plate, 10.3ms\nSpeed: 1.0ms preprocess, 10.3ms inference, 1.6ms postprocess per image at shape (1, 3, 256, 256)\n[[     12.745      60.608]\n [     234.21      61.964]\n [     238.25      202.95]\n [     20.066       213.1]]\n",
          "output_type": "stream"
        },
        {
          "name": "stderr",
          "text": "923it [04:20,  3.56it/s]",
          "output_type": "stream"
        },
        {
          "name": "stdout",
          "text": "\n0: 256x256 1 plate, 9.7ms\nSpeed: 0.9ms preprocess, 9.7ms inference, 1.6ms postprocess per image at shape (1, 3, 256, 256)\n[[     185.34      54.187]\n [      177.7      58.642]\n [     188.52      114.94]\n [     190.22      104.25]]\n",
          "output_type": "stream"
        },
        {
          "name": "stderr",
          "text": "924it [04:20,  3.56it/s]",
          "output_type": "stream"
        },
        {
          "name": "stdout",
          "text": "\n0: 256x256 1 plate, 9.9ms\nSpeed: 0.9ms preprocess, 9.9ms inference, 1.7ms postprocess per image at shape (1, 3, 256, 256)\n[[      2.087      37.059]\n [     252.38      43.237]\n [     248.28      222.56]\n [     9.6385       218.1]]\n",
          "output_type": "stream"
        },
        {
          "name": "stderr",
          "text": "925it [04:21,  3.57it/s]",
          "output_type": "stream"
        },
        {
          "name": "stdout",
          "text": "\n0: 256x256 1 plate, 9.9ms\nSpeed: 1.0ms preprocess, 9.9ms inference, 1.6ms postprocess per image at shape (1, 3, 256, 256)\n[[     7.7412      27.654]\n [     243.53      72.753]\n [     238.79      221.45]\n [     7.6708      172.84]]\n",
          "output_type": "stream"
        },
        {
          "name": "stderr",
          "text": "926it [04:21,  3.56it/s]",
          "output_type": "stream"
        },
        {
          "name": "stdout",
          "text": "\n0: 256x256 1 plate, 10.0ms\nSpeed: 0.6ms preprocess, 10.0ms inference, 1.6ms postprocess per image at shape (1, 3, 256, 256)\n[[     13.106      45.519]\n [     232.67      49.013]\n [     239.34      209.82]\n [     11.274      207.24]]\n",
          "output_type": "stream"
        },
        {
          "name": "stderr",
          "text": "927it [04:21,  3.57it/s]",
          "output_type": "stream"
        },
        {
          "name": "stdout",
          "text": "\n0: 256x256 1 plate, 9.8ms\nSpeed: 0.9ms preprocess, 9.8ms inference, 1.6ms postprocess per image at shape (1, 3, 256, 256)\n[[     21.402      71.707]\n [     231.42      51.796]\n [     232.27      194.48]\n [     23.974      219.78]]\n",
          "output_type": "stream"
        },
        {
          "name": "stderr",
          "text": "928it [04:21,  3.59it/s]",
          "output_type": "stream"
        },
        {
          "name": "stdout",
          "text": "\n0: 256x256 1 plate, 10.1ms\nSpeed: 0.9ms preprocess, 10.1ms inference, 1.7ms postprocess per image at shape (1, 3, 256, 256)\n[[     7.4835      54.856]\n [     239.02      29.814]\n [        243      194.92]\n [      16.05      227.64]]\n",
          "output_type": "stream"
        },
        {
          "name": "stderr",
          "text": "929it [04:22,  3.61it/s]",
          "output_type": "stream"
        },
        {
          "name": "stdout",
          "text": "\n0: 256x256 1 plate, 10.7ms\nSpeed: 1.0ms preprocess, 10.7ms inference, 1.7ms postprocess per image at shape (1, 3, 256, 256)\n[[     10.294      45.146]\n [     244.26      59.855]\n [     242.55       217.5]\n [     12.368      200.48]]\n",
          "output_type": "stream"
        },
        {
          "name": "stderr",
          "text": "930it [04:22,  3.60it/s]",
          "output_type": "stream"
        },
        {
          "name": "stdout",
          "text": "\n0: 256x256 1 plate, 10.0ms\nSpeed: 1.0ms preprocess, 10.0ms inference, 1.6ms postprocess per image at shape (1, 3, 256, 256)\n[[     16.977          77]\n [      230.6      21.349]\n [     234.07      181.06]\n [     27.777      244.51]]\n",
          "output_type": "stream"
        },
        {
          "name": "stderr",
          "text": "931it [04:22,  3.58it/s]",
          "output_type": "stream"
        },
        {
          "name": "stdout",
          "text": "\n0: 256x256 1 plate, 10.2ms\nSpeed: 0.9ms preprocess, 10.2ms inference, 1.6ms postprocess per image at shape (1, 3, 256, 256)\n[[     111.01      69.744]\n [     197.44      8.1562]\n [     220.31      106.06]\n [     124.74      169.21]]\n",
          "output_type": "stream"
        },
        {
          "name": "stderr",
          "text": "932it [04:22,  3.59it/s]",
          "output_type": "stream"
        },
        {
          "name": "stdout",
          "text": "\n0: 256x256 1 plate, 10.4ms\nSpeed: 0.6ms preprocess, 10.4ms inference, 1.7ms postprocess per image at shape (1, 3, 256, 256)\n[[     13.925      59.499]\n [     233.46      53.229]\n [     240.15      210.11]\n [     11.724      220.95]]\n",
          "output_type": "stream"
        },
        {
          "name": "stderr",
          "text": "933it [04:23,  3.61it/s]",
          "output_type": "stream"
        },
        {
          "name": "stdout",
          "text": "\n0: 256x256 1 plate, 10.2ms\nSpeed: 1.0ms preprocess, 10.2ms inference, 1.6ms postprocess per image at shape (1, 3, 256, 256)\n[[     4.7795      41.355]\n [     247.47      92.031]\n [        239      237.62]\n [      7.346      189.76]]\n",
          "output_type": "stream"
        },
        {
          "name": "stderr",
          "text": "934it [04:23,  3.64it/s]",
          "output_type": "stream"
        },
        {
          "name": "stdout",
          "text": "\n0: 256x256 1 plate, 9.6ms\nSpeed: 1.0ms preprocess, 9.6ms inference, 1.6ms postprocess per image at shape (1, 3, 256, 256)\n[[     13.295      24.643]\n [      245.1      116.41]\n [      228.8      234.94]\n [     15.037      141.56]]\n",
          "output_type": "stream"
        },
        {
          "name": "stderr",
          "text": "935it [04:23,  3.65it/s]",
          "output_type": "stream"
        },
        {
          "name": "stdout",
          "text": "\n0: 256x256 1 plate, 9.5ms\nSpeed: 1.0ms preprocess, 9.5ms inference, 1.8ms postprocess per image at shape (1, 3, 256, 256)\n[[     16.426      58.091]\n [     237.11      26.716]\n [     248.23      189.17]\n [     25.047      234.18]]\n",
          "output_type": "stream"
        },
        {
          "name": "stderr",
          "text": "936it [04:24,  3.66it/s]",
          "output_type": "stream"
        },
        {
          "name": "stdout",
          "text": "\n0: 256x256 1 plate, 10.0ms\nSpeed: 1.0ms preprocess, 10.0ms inference, 1.6ms postprocess per image at shape (1, 3, 256, 256)\n[[     6.8353      21.313]\n [     244.65      92.812]\n [     238.11      233.59]\n [     9.8063      162.82]]\n",
          "output_type": "stream"
        },
        {
          "name": "stderr",
          "text": "937it [04:24,  3.64it/s]",
          "output_type": "stream"
        },
        {
          "name": "stdout",
          "text": "\n0: 256x256 1 plate, 10.2ms\nSpeed: 1.0ms preprocess, 10.2ms inference, 1.6ms postprocess per image at shape (1, 3, 256, 256)\n[[     17.334      43.066]\n [     230.66      70.371]\n [     233.25      226.85]\n [     16.342         205]]\n",
          "output_type": "stream"
        },
        {
          "name": "stderr",
          "text": "938it [04:24,  3.60it/s]",
          "output_type": "stream"
        },
        {
          "name": "stdout",
          "text": "\n0: 256x256 1 plate, 10.1ms\nSpeed: 1.0ms preprocess, 10.1ms inference, 1.7ms postprocess per image at shape (1, 3, 256, 256)\n[[     20.313      53.199]\n [     231.24      57.626]\n [     234.92      207.54]\n [     16.293      208.72]]\n",
          "output_type": "stream"
        },
        {
          "name": "stderr",
          "text": "939it [04:24,  3.56it/s]",
          "output_type": "stream"
        },
        {
          "name": "stdout",
          "text": "\n0: 256x256 1 plate, 9.9ms\nSpeed: 0.9ms preprocess, 9.9ms inference, 1.6ms postprocess per image at shape (1, 3, 256, 256)\n[[     5.4337      48.593]\n [     242.31      52.807]\n [     239.13      221.59]\n [     10.052      220.38]]\n",
          "output_type": "stream"
        },
        {
          "name": "stderr",
          "text": "940it [04:25,  3.58it/s]",
          "output_type": "stream"
        },
        {
          "name": "stdout",
          "text": "\n0: 256x256 1 plate, 10.2ms\nSpeed: 0.9ms preprocess, 10.2ms inference, 1.6ms postprocess per image at shape (1, 3, 256, 256)\n[[     114.56      102.78]\n [     223.71      36.731]\n [     236.34      147.72]\n [      132.7      203.46]]\n",
          "output_type": "stream"
        },
        {
          "name": "stderr",
          "text": "941it [04:25,  3.58it/s]",
          "output_type": "stream"
        },
        {
          "name": "stdout",
          "text": "\n0: 256x256 1 plate, 10.0ms\nSpeed: 1.0ms preprocess, 10.0ms inference, 1.6ms postprocess per image at shape (1, 3, 256, 256)\n[[     9.1751      56.179]\n [     242.64      49.832]\n [     243.86       212.9]\n [      15.04      222.06]]\n",
          "output_type": "stream"
        },
        {
          "name": "stderr",
          "text": "942it [04:25,  3.58it/s]",
          "output_type": "stream"
        },
        {
          "name": "stdout",
          "text": "\n0: 256x256 1 plate, 10.1ms\nSpeed: 1.0ms preprocess, 10.1ms inference, 1.6ms postprocess per image at shape (1, 3, 256, 256)\n[[     12.367      46.875]\n [     235.48      55.546]\n [     239.17      214.97]\n [     7.4356      208.19]]\n",
          "output_type": "stream"
        },
        {
          "name": "stderr",
          "text": "943it [04:26,  3.61it/s]",
          "output_type": "stream"
        },
        {
          "name": "stdout",
          "text": "\n0: 256x256 1 plate, 9.8ms\nSpeed: 0.9ms preprocess, 9.8ms inference, 1.6ms postprocess per image at shape (1, 3, 256, 256)\n[[     5.0117      31.513]\n [     253.72      62.787]\n [     245.41      230.27]\n [     10.862      199.93]]\n",
          "output_type": "stream"
        },
        {
          "name": "stderr",
          "text": "944it [04:26,  3.63it/s]",
          "output_type": "stream"
        },
        {
          "name": "stdout",
          "text": "\n0: 256x256 1 plate, 14.7ms\nSpeed: 1.2ms preprocess, 14.7ms inference, 1.7ms postprocess per image at shape (1, 3, 256, 256)\n[[     13.939      10.873]\n [     241.72      106.36]\n [     234.43      229.94]\n [      15.01       135.2]]\n",
          "output_type": "stream"
        },
        {
          "name": "stderr",
          "text": "945it [04:26,  3.51it/s]",
          "output_type": "stream"
        },
        {
          "name": "stdout",
          "text": "\n0: 256x256 1 plate, 9.6ms\nSpeed: 0.9ms preprocess, 9.6ms inference, 1.6ms postprocess per image at shape (1, 3, 256, 256)\n[[     34.221      30.106]\n [     237.08      132.64]\n [     237.44      233.25]\n [     34.445      107.39]]\n",
          "output_type": "stream"
        },
        {
          "name": "stderr",
          "text": "946it [04:26,  3.56it/s]",
          "output_type": "stream"
        },
        {
          "name": "stdout",
          "text": "\n0: 256x256 1 plate, 9.8ms\nSpeed: 0.9ms preprocess, 9.8ms inference, 1.6ms postprocess per image at shape (1, 3, 256, 256)\n[[     12.763      51.476]\n [     238.01      49.941]\n [     238.99      211.04]\n [      17.94      211.92]]\n",
          "output_type": "stream"
        },
        {
          "name": "stderr",
          "text": "947it [04:27,  3.57it/s]",
          "output_type": "stream"
        },
        {
          "name": "stdout",
          "text": "\n0: 256x256 1 plate, 10.0ms\nSpeed: 1.0ms preprocess, 10.0ms inference, 1.6ms postprocess per image at shape (1, 3, 256, 256)\n[[     64.587      90.371]\n [     212.61      24.508]\n [     221.35      142.66]\n [     76.483      213.56]]\n",
          "output_type": "stream"
        },
        {
          "name": "stderr",
          "text": "948it [04:27,  3.61it/s]",
          "output_type": "stream"
        },
        {
          "name": "stdout",
          "text": "\n0: 256x256 1 plate, 9.7ms\nSpeed: 1.0ms preprocess, 9.7ms inference, 1.6ms postprocess per image at shape (1, 3, 256, 256)\n[[     11.366        54.4]\n [     239.66      38.749]\n [     246.72      196.05]\n [     17.502      219.33]]\n",
          "output_type": "stream"
        },
        {
          "name": "stderr",
          "text": "949it [04:27,  3.62it/s]",
          "output_type": "stream"
        },
        {
          "name": "stdout",
          "text": "\n0: 256x256 1 plate, 10.2ms\nSpeed: 0.9ms preprocess, 10.2ms inference, 1.7ms postprocess per image at shape (1, 3, 256, 256)\n[[     18.098      20.545]\n [     235.51      117.72]\n [     233.99      237.02]\n [     9.7981      141.32]]\n",
          "output_type": "stream"
        },
        {
          "name": "stderr",
          "text": "950it [04:27,  3.63it/s]",
          "output_type": "stream"
        },
        {
          "name": "stdout",
          "text": "\n0: 256x256 1 plate, 9.9ms\nSpeed: 1.0ms preprocess, 9.9ms inference, 1.6ms postprocess per image at shape (1, 3, 256, 256)\n[[     6.9528      42.161]\n [     249.04      48.156]\n [     245.49      218.34]\n [      12.18      213.31]]\n",
          "output_type": "stream"
        },
        {
          "name": "stderr",
          "text": "951it [04:28,  3.60it/s]",
          "output_type": "stream"
        },
        {
          "name": "stdout",
          "text": "\n0: 256x256 1 plate, 9.9ms\nSpeed: 1.0ms preprocess, 9.9ms inference, 1.6ms postprocess per image at shape (1, 3, 256, 256)\n[[     41.971      60.574]\n [     223.94      14.051]\n [     241.21      166.47]\n [     52.173       228.7]]\n",
          "output_type": "stream"
        },
        {
          "name": "stderr",
          "text": "952it [04:28,  3.59it/s]",
          "output_type": "stream"
        },
        {
          "name": "stdout",
          "text": "\n0: 256x256 1 plate, 10.1ms\nSpeed: 1.0ms preprocess, 10.1ms inference, 1.6ms postprocess per image at shape (1, 3, 256, 256)\n[[     11.538      57.188]\n [     242.36      41.119]\n [     246.76      195.65]\n [     16.939      223.04]]\n",
          "output_type": "stream"
        },
        {
          "name": "stderr",
          "text": "953it [04:28,  3.58it/s]",
          "output_type": "stream"
        },
        {
          "name": "stdout",
          "text": "\n0: 256x256 1 plate, 9.6ms\nSpeed: 0.9ms preprocess, 9.6ms inference, 1.6ms postprocess per image at shape (1, 3, 256, 256)\n[[     24.997      147.62]\n [      175.1      84.905]\n [     177.54      154.43]\n [     32.481      211.72]]\n",
          "output_type": "stream"
        },
        {
          "name": "stderr",
          "text": "954it [04:29,  3.64it/s]",
          "output_type": "stream"
        },
        {
          "name": "stdout",
          "text": "\n0: 256x256 1 plate, 9.9ms\nSpeed: 1.0ms preprocess, 9.9ms inference, 1.6ms postprocess per image at shape (1, 3, 256, 256)\n[[     16.127      29.828]\n [     246.62       102.3]\n [     234.66      233.88]\n [     17.114      159.71]]\n",
          "output_type": "stream"
        },
        {
          "name": "stderr",
          "text": "955it [04:29,  3.67it/s]",
          "output_type": "stream"
        },
        {
          "name": "stdout",
          "text": "\n0: 256x256 1 plate, 10.0ms\nSpeed: 1.0ms preprocess, 10.0ms inference, 1.6ms postprocess per image at shape (1, 3, 256, 256)\n[[     21.837      88.544]\n [     218.91      31.452]\n [     230.38       162.3]\n [     28.691      232.26]]\n",
          "output_type": "stream"
        },
        {
          "name": "stderr",
          "text": "956it [04:29,  3.69it/s]",
          "output_type": "stream"
        },
        {
          "name": "stdout",
          "text": "\n0: 256x256 1 plate, 10.6ms\nSpeed: 1.0ms preprocess, 10.6ms inference, 1.7ms postprocess per image at shape (1, 3, 256, 256)\n[[     22.148      62.634]\n [     232.77      81.653]\n [     229.15      195.92]\n [     26.079      180.07]]\n",
          "output_type": "stream"
        },
        {
          "name": "stderr",
          "text": "957it [04:29,  3.66it/s]",
          "output_type": "stream"
        },
        {
          "name": "stdout",
          "text": "\n0: 256x256 1 plate, 10.1ms\nSpeed: 1.1ms preprocess, 10.1ms inference, 1.7ms postprocess per image at shape (1, 3, 256, 256)\n[[     6.3385      47.318]\n [     246.01      54.141]\n [     244.44      216.74]\n [     11.439      210.54]]\n",
          "output_type": "stream"
        },
        {
          "name": "stderr",
          "text": "958it [04:30,  3.60it/s]",
          "output_type": "stream"
        },
        {
          "name": "stdout",
          "text": "\n0: 256x256 1 plate, 9.7ms\nSpeed: 0.9ms preprocess, 9.7ms inference, 1.6ms postprocess per image at shape (1, 3, 256, 256)\n[[     22.972      70.689]\n [     225.43      62.083]\n [     233.67      202.13]\n [     26.418       220.4]]\n",
          "output_type": "stream"
        },
        {
          "name": "stderr",
          "text": "959it [04:30,  3.60it/s]",
          "output_type": "stream"
        },
        {
          "name": "stdout",
          "text": "\n0: 256x256 1 plate, 9.7ms\nSpeed: 0.9ms preprocess, 9.7ms inference, 1.7ms postprocess per image at shape (1, 3, 256, 256)\n[[     15.881      81.647]\n [     229.63      26.338]\n [     234.48      172.78]\n [     22.029      235.56]]\n",
          "output_type": "stream"
        },
        {
          "name": "stderr",
          "text": "960it [04:30,  3.62it/s]",
          "output_type": "stream"
        },
        {
          "name": "stdout",
          "text": "\n0: 256x256 1 plate, 10.0ms\nSpeed: 0.8ms preprocess, 10.0ms inference, 1.6ms postprocess per image at shape (1, 3, 256, 256)\n[[     14.996      57.292]\n [      241.6      44.561]\n [     241.65      199.53]\n [     17.855      218.01]]\n",
          "output_type": "stream"
        },
        {
          "name": "stderr",
          "text": "961it [04:30,  3.63it/s]",
          "output_type": "stream"
        },
        {
          "name": "stdout",
          "text": "\n0: 256x256 1 plate, 10.0ms\nSpeed: 0.9ms preprocess, 10.0ms inference, 1.6ms postprocess per image at shape (1, 3, 256, 256)\n[[          0           0]\n [     244.49           0]\n [     252.33       168.1]\n [          0           0]]\n",
          "output_type": "stream"
        },
        {
          "name": "stderr",
          "text": "962it [04:31,  3.63it/s]",
          "output_type": "stream"
        },
        {
          "name": "stdout",
          "text": "\n0: 256x256 1 plate, 10.4ms\nSpeed: 1.0ms preprocess, 10.4ms inference, 1.6ms postprocess per image at shape (1, 3, 256, 256)\n[[     11.106      68.139]\n [      235.3      59.982]\n [     240.26      204.22]\n [     15.149      220.45]]\n",
          "output_type": "stream"
        },
        {
          "name": "stderr",
          "text": "963it [04:31,  3.64it/s]",
          "output_type": "stream"
        },
        {
          "name": "stdout",
          "text": "\n0: 256x256 1 plate, 9.7ms\nSpeed: 0.9ms preprocess, 9.7ms inference, 1.6ms postprocess per image at shape (1, 3, 256, 256)\n[[     11.801      41.778]\n [     246.57      92.529]\n [     238.47      232.87]\n [     12.646      185.74]]\n",
          "output_type": "stream"
        },
        {
          "name": "stderr",
          "text": "964it [04:31,  3.61it/s]",
          "output_type": "stream"
        },
        {
          "name": "stdout",
          "text": "\n0: 256x256 1 plate, 10.1ms\nSpeed: 0.9ms preprocess, 10.1ms inference, 1.6ms postprocess per image at shape (1, 3, 256, 256)\n[[     21.846      88.043]\n [     222.98      31.452]\n [     232.12      162.33]\n [     27.584      231.98]]\n",
          "output_type": "stream"
        },
        {
          "name": "stderr",
          "text": "965it [04:32,  3.64it/s]",
          "output_type": "stream"
        },
        {
          "name": "stdout",
          "text": "\n0: 256x256 1 plate, 10.5ms\nSpeed: 1.0ms preprocess, 10.5ms inference, 1.6ms postprocess per image at shape (1, 3, 256, 256)\n[[     13.436      21.343]\n [      243.5      127.51]\n [     230.23      241.12]\n [     16.008      136.03]]\n",
          "output_type": "stream"
        },
        {
          "name": "stderr",
          "text": "966it [04:32,  3.61it/s]",
          "output_type": "stream"
        },
        {
          "name": "stdout",
          "text": "\n0: 256x256 1 plate, 9.8ms\nSpeed: 1.0ms preprocess, 9.8ms inference, 1.6ms postprocess per image at shape (1, 3, 256, 256)\n[[     10.565      22.084]\n [     243.95      100.02]\n [     233.15      237.92]\n [      15.67      159.73]]\n",
          "output_type": "stream"
        },
        {
          "name": "stderr",
          "text": "967it [04:32,  3.57it/s]",
          "output_type": "stream"
        },
        {
          "name": "stdout",
          "text": "\n0: 256x256 1 plate, 10.2ms\nSpeed: 1.0ms preprocess, 10.2ms inference, 1.8ms postprocess per image at shape (1, 3, 256, 256)\n[[     6.5271      37.723]\n [     249.68      35.378]\n [     246.89      214.38]\n [      13.62      210.02]]\n",
          "output_type": "stream"
        },
        {
          "name": "stderr",
          "text": "968it [04:32,  3.54it/s]",
          "output_type": "stream"
        },
        {
          "name": "stdout",
          "text": "\n0: 256x256 1 plate, 9.7ms\nSpeed: 0.9ms preprocess, 9.7ms inference, 1.6ms postprocess per image at shape (1, 3, 256, 256)\n[[     6.3678      43.446]\n [     247.97      53.238]\n [     245.85      218.45]\n [     10.498      204.55]]\n",
          "output_type": "stream"
        },
        {
          "name": "stderr",
          "text": "969it [04:33,  3.54it/s]",
          "output_type": "stream"
        },
        {
          "name": "stdout",
          "text": "\n0: 256x256 1 plate, 9.9ms\nSpeed: 1.0ms preprocess, 9.9ms inference, 1.6ms postprocess per image at shape (1, 3, 256, 256)\n[[      6.359      12.547]\n [     248.96      78.161]\n [     241.13      233.68]\n [     12.575      173.91]]\n",
          "output_type": "stream"
        },
        {
          "name": "stderr",
          "text": "970it [04:33,  3.57it/s]",
          "output_type": "stream"
        },
        {
          "name": "stdout",
          "text": "\n0: 256x256 1 plate, 10.0ms\nSpeed: 1.0ms preprocess, 10.0ms inference, 1.6ms postprocess per image at shape (1, 3, 256, 256)\n[[     6.4999      44.294]\n [     246.91      36.384]\n [     247.81      208.13]\n [     12.508      216.89]]\n",
          "output_type": "stream"
        },
        {
          "name": "stderr",
          "text": "971it [04:33,  3.53it/s]",
          "output_type": "stream"
        },
        {
          "name": "stdout",
          "text": "\n0: 256x256 1 plate, 9.7ms\nSpeed: 1.0ms preprocess, 9.7ms inference, 1.6ms postprocess per image at shape (1, 3, 256, 256)\n[[     36.699       124.4]\n [     194.55      51.676]\n [     196.94       161.1]\n [     43.611      225.95]]\n",
          "output_type": "stream"
        },
        {
          "name": "stderr",
          "text": "972it [04:34,  3.55it/s]",
          "output_type": "stream"
        },
        {
          "name": "stdout",
          "text": "\n0: 256x256 1 plate, 10.0ms\nSpeed: 1.0ms preprocess, 10.0ms inference, 1.6ms postprocess per image at shape (1, 3, 256, 256)\n[[     37.772       127.4]\n [     198.84      50.209]\n [     200.28      147.62]\n [     49.809      214.24]]\n",
          "output_type": "stream"
        },
        {
          "name": "stderr",
          "text": "973it [04:34,  3.56it/s]",
          "output_type": "stream"
        },
        {
          "name": "stdout",
          "text": "\n0: 256x256 1 plate, 9.7ms\nSpeed: 0.9ms preprocess, 9.7ms inference, 1.6ms postprocess per image at shape (1, 3, 256, 256)\n[[     21.418      81.408]\n [     226.15      23.879]\n [     234.54      167.12]\n [     31.565      236.93]]\n",
          "output_type": "stream"
        },
        {
          "name": "stderr",
          "text": "974it [04:34,  3.59it/s]",
          "output_type": "stream"
        },
        {
          "name": "stdout",
          "text": "\n0: 256x256 1 plate, 9.7ms\nSpeed: 0.9ms preprocess, 9.7ms inference, 1.6ms postprocess per image at shape (1, 3, 256, 256)\n[[     20.148      58.863]\n [     228.32      16.206]\n [     242.43       171.9]\n [     28.294      230.95]]\n",
          "output_type": "stream"
        },
        {
          "name": "stderr",
          "text": "975it [04:34,  3.58it/s]",
          "output_type": "stream"
        },
        {
          "name": "stdout",
          "text": "\n0: 256x256 1 plate, 9.8ms\nSpeed: 0.6ms preprocess, 9.8ms inference, 1.6ms postprocess per image at shape (1, 3, 256, 256)\n[[     20.567      41.355]\n [     231.06      51.246]\n [     237.02      205.36]\n [     18.905      199.36]]\n",
          "output_type": "stream"
        },
        {
          "name": "stderr",
          "text": "976it [04:35,  3.52it/s]",
          "output_type": "stream"
        },
        {
          "name": "stdout",
          "text": "\n0: 256x256 1 plate, 14.7ms\nSpeed: 1.1ms preprocess, 14.7ms inference, 2.5ms postprocess per image at shape (1, 3, 256, 256)\n[[     26.471      84.975]\n [      219.8      20.455]\n [     231.11       152.8]\n [     35.364      232.17]]\n",
          "output_type": "stream"
        },
        {
          "name": "stderr",
          "text": "977it [04:35,  3.37it/s]",
          "output_type": "stream"
        },
        {
          "name": "stdout",
          "text": "\n0: 256x256 1 plate, 9.8ms\nSpeed: 0.9ms preprocess, 9.8ms inference, 1.7ms postprocess per image at shape (1, 3, 256, 256)\n[[     8.6714      21.917]\n [     246.47      87.395]\n [     241.24      224.62]\n [     7.2803      160.66]]\n",
          "output_type": "stream"
        },
        {
          "name": "stderr",
          "text": "978it [04:35,  3.36it/s]",
          "output_type": "stream"
        },
        {
          "name": "stdout",
          "text": "\n0: 256x256 1 plate, 10.0ms\nSpeed: 1.0ms preprocess, 10.0ms inference, 1.6ms postprocess per image at shape (1, 3, 256, 256)\n[[     11.595      58.291]\n [     233.08      25.118]\n [     242.24      189.45]\n [     19.125      235.01]]\n",
          "output_type": "stream"
        },
        {
          "name": "stderr",
          "text": "979it [04:36,  3.38it/s]",
          "output_type": "stream"
        },
        {
          "name": "stdout",
          "text": "\n0: 256x256 1 plate, 10.2ms\nSpeed: 1.1ms preprocess, 10.2ms inference, 1.6ms postprocess per image at shape (1, 3, 256, 256)\n[[     25.465      70.873]\n [     244.26      17.713]\n [     241.99      170.25]\n [     44.491      219.84]]\n",
          "output_type": "stream"
        },
        {
          "name": "stderr",
          "text": "980it [04:36,  3.40it/s]",
          "output_type": "stream"
        },
        {
          "name": "stdout",
          "text": "\n0: 256x256 1 plate, 9.6ms\nSpeed: 0.9ms preprocess, 9.6ms inference, 1.6ms postprocess per image at shape (1, 3, 256, 256)\n[[     10.354      15.512]\n [     239.55      99.005]\n [     234.01       250.1]\n [     2.8039      167.94]]\n",
          "output_type": "stream"
        },
        {
          "name": "stderr",
          "text": "981it [04:36,  3.41it/s]",
          "output_type": "stream"
        },
        {
          "name": "stdout",
          "text": "\n0: 256x256 1 plate, 9.7ms\nSpeed: 0.9ms preprocess, 9.7ms inference, 1.6ms postprocess per image at shape (1, 3, 256, 256)\n[[     5.1227      31.045]\n [     251.73      45.164]\n [     243.97       220.3]\n [     11.836       204.9]]\n",
          "output_type": "stream"
        },
        {
          "name": "stderr",
          "text": "982it [04:36,  3.47it/s]",
          "output_type": "stream"
        },
        {
          "name": "stdout",
          "text": "\n0: 256x256 1 plate, 9.6ms\nSpeed: 0.9ms preprocess, 9.6ms inference, 1.6ms postprocess per image at shape (1, 3, 256, 256)\n[[      6.844      51.651]\n [     246.68      45.266]\n [     248.45      211.04]\n [     12.474      220.12]]\n",
          "output_type": "stream"
        },
        {
          "name": "stderr",
          "text": "983it [04:37,  3.50it/s]",
          "output_type": "stream"
        },
        {
          "name": "stdout",
          "text": "\n0: 256x256 1 plate, 9.5ms\nSpeed: 1.0ms preprocess, 9.5ms inference, 1.6ms postprocess per image at shape (1, 3, 256, 256)\n[[     19.062      62.431]\n [     228.06      40.255]\n [      232.3       200.7]\n [     21.948       224.4]]\n",
          "output_type": "stream"
        },
        {
          "name": "stderr",
          "text": "984it [04:37,  3.56it/s]",
          "output_type": "stream"
        },
        {
          "name": "stdout",
          "text": "\n0: 256x256 1 plate, 10.0ms\nSpeed: 1.0ms preprocess, 10.0ms inference, 1.6ms postprocess per image at shape (1, 3, 256, 256)\n[[     64.997      72.085]\n [     215.86      2.5156]\n [     230.04      142.56]\n [     80.084       218.1]]\n",
          "output_type": "stream"
        },
        {
          "name": "stderr",
          "text": "985it [04:37,  3.55it/s]",
          "output_type": "stream"
        },
        {
          "name": "stdout",
          "text": "\n0: 256x256 1 plate, 9.8ms\nSpeed: 1.0ms preprocess, 9.8ms inference, 1.6ms postprocess per image at shape (1, 3, 256, 256)\n[[     5.3551      48.419]\n [     247.43      44.848]\n [     246.95      213.78]\n [     12.118       218.4]]\n",
          "output_type": "stream"
        },
        {
          "name": "stderr",
          "text": "986it [04:38,  3.58it/s]",
          "output_type": "stream"
        },
        {
          "name": "stdout",
          "text": "\n0: 256x256 1 plate, 9.9ms\nSpeed: 1.0ms preprocess, 9.9ms inference, 1.6ms postprocess per image at shape (1, 3, 256, 256)\n[[     22.863      76.679]\n [     229.52      19.117]\n [     236.89      168.88]\n [     34.426       237.8]]\n",
          "output_type": "stream"
        },
        {
          "name": "stderr",
          "text": "987it [04:38,  3.56it/s]",
          "output_type": "stream"
        },
        {
          "name": "stdout",
          "text": "\n0: 256x256 1 plate, 10.2ms\nSpeed: 0.8ms preprocess, 10.2ms inference, 1.9ms postprocess per image at shape (1, 3, 256, 256)\n[[     9.9396      48.946]\n [     242.58      53.974]\n [     242.73      212.87]\n [     13.915      204.81]]\n",
          "output_type": "stream"
        },
        {
          "name": "stderr",
          "text": "988it [04:38,  3.53it/s]",
          "output_type": "stream"
        },
        {
          "name": "stdout",
          "text": "\n0: 256x256 1 plate, 9.6ms\nSpeed: 0.9ms preprocess, 9.6ms inference, 1.6ms postprocess per image at shape (1, 3, 256, 256)\n[[     18.568      60.082]\n [     232.33      57.911]\n [     239.25      199.02]\n [     23.136      209.81]]\n",
          "output_type": "stream"
        },
        {
          "name": "stderr",
          "text": "989it [04:38,  3.53it/s]",
          "output_type": "stream"
        },
        {
          "name": "stdout",
          "text": "\n0: 256x256 1 plate, 10.0ms\nSpeed: 0.8ms preprocess, 10.0ms inference, 1.6ms postprocess per image at shape (1, 3, 256, 256)\n[[      16.26      30.838]\n [     236.87      82.686]\n [     238.35      227.94]\n [     10.297      180.14]]\n",
          "output_type": "stream"
        },
        {
          "name": "stderr",
          "text": "990it [04:39,  3.54it/s]",
          "output_type": "stream"
        },
        {
          "name": "stdout",
          "text": "\n0: 256x256 1 plate, 10.1ms\nSpeed: 1.0ms preprocess, 10.1ms inference, 1.7ms postprocess per image at shape (1, 3, 256, 256)\n[[     15.898      72.418]\n [     235.18      31.582]\n [      233.6      189.99]\n [      17.59      232.73]]\n",
          "output_type": "stream"
        },
        {
          "name": "stderr",
          "text": "991it [04:39,  3.59it/s]",
          "output_type": "stream"
        },
        {
          "name": "stdout",
          "text": "\n0: 256x256 1 plate, 10.0ms\nSpeed: 0.9ms preprocess, 10.0ms inference, 1.7ms postprocess per image at shape (1, 3, 256, 256)\n[[     9.0625      35.914]\n [     245.58      98.715]\n [     236.46      229.86]\n [     8.4572      169.36]]\n",
          "output_type": "stream"
        },
        {
          "name": "stderr",
          "text": "992it [04:39,  3.55it/s]",
          "output_type": "stream"
        },
        {
          "name": "stdout",
          "text": "\n0: 256x256 1 plate, 10.0ms\nSpeed: 0.9ms preprocess, 10.0ms inference, 1.7ms postprocess per image at shape (1, 3, 256, 256)\n[[     15.016      49.718]\n [     245.43      74.805]\n [     242.91      216.78]\n [     16.868      194.27]]\n",
          "output_type": "stream"
        },
        {
          "name": "stderr",
          "text": "993it [04:40,  3.58it/s]",
          "output_type": "stream"
        },
        {
          "name": "stdout",
          "text": "\n0: 256x256 1 plate, 9.7ms\nSpeed: 1.0ms preprocess, 9.7ms inference, 1.6ms postprocess per image at shape (1, 3, 256, 256)\n[[     42.008      61.883]\n [     222.61      15.814]\n [     240.59      165.91]\n [     50.112      228.77]]\n",
          "output_type": "stream"
        },
        {
          "name": "stderr",
          "text": "994it [04:40,  3.61it/s]",
          "output_type": "stream"
        },
        {
          "name": "stdout",
          "text": "\n0: 256x256 1 plate, 10.0ms\nSpeed: 1.0ms preprocess, 10.0ms inference, 1.7ms postprocess per image at shape (1, 3, 256, 256)\n[[     9.8717       44.94]\n [      243.7      91.048]\n [     237.78      230.82]\n [     11.381      186.29]]\n",
          "output_type": "stream"
        },
        {
          "name": "stderr",
          "text": "995it [04:40,  3.60it/s]",
          "output_type": "stream"
        },
        {
          "name": "stdout",
          "text": "\n0: 256x256 1 plate, 9.8ms\nSpeed: 0.9ms preprocess, 9.8ms inference, 1.6ms postprocess per image at shape (1, 3, 256, 256)\n[[     147.49      86.197]\n [     204.89      39.203]\n [     224.18      130.21]\n [     162.41      170.87]]\n",
          "output_type": "stream"
        },
        {
          "name": "stderr",
          "text": "996it [04:40,  3.58it/s]",
          "output_type": "stream"
        },
        {
          "name": "stdout",
          "text": "\n0: 256x256 1 plate, 9.7ms\nSpeed: 0.9ms preprocess, 9.7ms inference, 1.7ms postprocess per image at shape (1, 3, 256, 256)\n[[     19.585      89.221]\n [     223.53      39.886]\n [     231.32      173.65]\n [     25.023       234.3]]\n",
          "output_type": "stream"
        },
        {
          "name": "stderr",
          "text": "997it [04:41,  3.54it/s]",
          "output_type": "stream"
        },
        {
          "name": "stdout",
          "text": "\n0: 256x256 1 plate, 10.3ms\nSpeed: 1.0ms preprocess, 10.3ms inference, 1.7ms postprocess per image at shape (1, 3, 256, 256)\n[[     5.7804      27.514]\n [     250.65      71.241]\n [     242.27      234.48]\n [     11.537      188.19]]\n",
          "output_type": "stream"
        },
        {
          "name": "stderr",
          "text": "998it [04:41,  3.49it/s]",
          "output_type": "stream"
        },
        {
          "name": "stdout",
          "text": "\n0: 256x256 1 plate, 10.0ms\nSpeed: 1.0ms preprocess, 10.0ms inference, 1.8ms postprocess per image at shape (1, 3, 256, 256)\n[[     83.197      56.541]\n [     219.53      4.6433]\n [     239.73      141.58]\n [     95.441      204.48]]\n",
          "output_type": "stream"
        },
        {
          "name": "stderr",
          "text": "999it [04:41,  3.47it/s]",
          "output_type": "stream"
        },
        {
          "name": "stdout",
          "text": "\n0: 256x256 1 plate, 10.5ms\nSpeed: 1.0ms preprocess, 10.5ms inference, 1.7ms postprocess per image at shape (1, 3, 256, 256)\n[[     13.608       24.92]\n [     237.96      86.322]\n [     239.02      233.24]\n [     4.7406      174.85]]\n",
          "output_type": "stream"
        },
        {
          "name": "stderr",
          "text": "1000it [04:42,  3.48it/s]",
          "output_type": "stream"
        },
        {
          "name": "stdout",
          "text": "\n0: 256x256 1 plate, 12.5ms\nSpeed: 1.0ms preprocess, 12.5ms inference, 1.6ms postprocess per image at shape (1, 3, 256, 256)\n[[     15.029      60.257]\n [     233.52      65.174]\n [     239.53      208.88]\n [     18.233      211.02]]\n",
          "output_type": "stream"
        },
        {
          "name": "stderr",
          "text": "1001it [04:42,  3.53it/s]",
          "output_type": "stream"
        },
        {
          "name": "stdout",
          "text": "\n0: 256x256 1 plate, 9.9ms\nSpeed: 0.9ms preprocess, 9.9ms inference, 1.6ms postprocess per image at shape (1, 3, 256, 256)\n[[     23.908       34.12]\n [     242.91      69.134]\n [     230.72      221.15]\n [     22.026      172.39]]\n",
          "output_type": "stream"
        },
        {
          "name": "stderr",
          "text": "1002it [04:42,  3.55it/s]",
          "output_type": "stream"
        },
        {
          "name": "stdout",
          "text": "\n0: 256x256 1 plate, 9.8ms\nSpeed: 0.9ms preprocess, 9.8ms inference, 1.6ms postprocess per image at shape (1, 3, 256, 256)\n[[      47.94      89.798]\n [     201.72      20.589]\n [     220.02      136.15]\n [      54.89      216.74]]\n",
          "output_type": "stream"
        },
        {
          "name": "stderr",
          "text": "1003it [04:42,  3.52it/s]",
          "output_type": "stream"
        },
        {
          "name": "stdout",
          "text": "\n0: 256x256 1 plate, 9.7ms\nSpeed: 0.9ms preprocess, 9.7ms inference, 1.6ms postprocess per image at shape (1, 3, 256, 256)\n[[     11.217      24.982]\n [     240.54      80.249]\n [     239.37       230.7]\n [     4.2893      177.93]]\n",
          "output_type": "stream"
        },
        {
          "name": "stderr",
          "text": "1004it [04:43,  3.54it/s]",
          "output_type": "stream"
        },
        {
          "name": "stdout",
          "text": "\n0: 256x256 1 plate, 10.4ms\nSpeed: 1.0ms preprocess, 10.4ms inference, 1.6ms postprocess per image at shape (1, 3, 256, 256)\n[[     58.716      81.453]\n [     206.73      11.099]\n [     224.76      133.29]\n [       71.1       211.1]]\n",
          "output_type": "stream"
        },
        {
          "name": "stderr",
          "text": "1005it [04:43,  3.56it/s]",
          "output_type": "stream"
        },
        {
          "name": "stdout",
          "text": "\n0: 256x256 1 plate, 10.0ms\nSpeed: 1.0ms preprocess, 10.0ms inference, 1.6ms postprocess per image at shape (1, 3, 256, 256)\n[[     22.931      79.896]\n [     227.63      16.694]\n [     232.14      162.72]\n [     32.676      237.52]]\n",
          "output_type": "stream"
        },
        {
          "name": "stderr",
          "text": "1006it [04:43,  3.55it/s]",
          "output_type": "stream"
        },
        {
          "name": "stdout",
          "text": "\n0: 256x256 1 plate, 9.9ms\nSpeed: 1.0ms preprocess, 9.9ms inference, 1.6ms postprocess per image at shape (1, 3, 256, 256)\n[[     54.007      87.335]\n [     201.71      20.086]\n [     218.34      125.65]\n [     61.455      206.54]]\n",
          "output_type": "stream"
        },
        {
          "name": "stderr",
          "text": "1007it [04:44,  3.56it/s]",
          "output_type": "stream"
        },
        {
          "name": "stdout",
          "text": "\n0: 256x256 1 plate, 9.8ms\nSpeed: 0.6ms preprocess, 9.8ms inference, 1.6ms postprocess per image at shape (1, 3, 256, 256)\n[[     16.425      47.286]\n [     232.21      62.096]\n [     239.42      217.01]\n [     13.419      204.31]]\n",
          "output_type": "stream"
        },
        {
          "name": "stderr",
          "text": "1008it [04:44,  3.63it/s]",
          "output_type": "stream"
        },
        {
          "name": "stdout",
          "text": "\n0: 256x256 1 plate, 10.4ms\nSpeed: 0.8ms preprocess, 10.4ms inference, 1.6ms postprocess per image at shape (1, 3, 256, 256)\n[[     16.348      67.241]\n [     232.25      39.271]\n [      237.8      189.41]\n [     22.042      230.56]]\n",
          "output_type": "stream"
        },
        {
          "name": "stderr",
          "text": "1009it [04:44,  3.69it/s]",
          "output_type": "stream"
        },
        {
          "name": "stdout",
          "text": "\n0: 256x256 1 plate, 10.0ms\nSpeed: 0.9ms preprocess, 10.0ms inference, 1.6ms postprocess per image at shape (1, 3, 256, 256)\n[[     46.272      79.683]\n [     214.31      10.295]\n [      229.7      139.07]\n [      58.15      220.21]]\n",
          "output_type": "stream"
        },
        {
          "name": "stderr",
          "text": "1010it [04:44,  3.65it/s]",
          "output_type": "stream"
        },
        {
          "name": "stdout",
          "text": "\n0: 256x256 1 plate, 9.8ms\nSpeed: 0.6ms preprocess, 9.8ms inference, 1.6ms postprocess per image at shape (1, 3, 256, 256)\n[[    0.75713      31.605]\n [     255.29       32.65]\n [     248.86      225.12]\n [     11.298      224.04]]\n",
          "output_type": "stream"
        },
        {
          "name": "stderr",
          "text": "1011it [04:45,  3.62it/s]",
          "output_type": "stream"
        },
        {
          "name": "stdout",
          "text": "\n0: 256x256 1 plate, 9.8ms\nSpeed: 0.9ms preprocess, 9.8ms inference, 1.6ms postprocess per image at shape (1, 3, 256, 256)\n[[      13.76      35.577]\n [     244.01      122.87]\n [     229.91      243.58]\n [     15.851      163.79]]\n",
          "output_type": "stream"
        },
        {
          "name": "stderr",
          "text": "1012it [04:45,  3.62it/s]",
          "output_type": "stream"
        },
        {
          "name": "stdout",
          "text": "\n0: 256x256 1 plate, 10.1ms\nSpeed: 0.9ms preprocess, 10.1ms inference, 1.6ms postprocess per image at shape (1, 3, 256, 256)\n[[     2.5578        39.9]\n [     251.41       35.65]\n [     250.63      211.13]\n [     9.3244      214.37]]\n",
          "output_type": "stream"
        },
        {
          "name": "stderr",
          "text": "1013it [04:45,  3.66it/s]",
          "output_type": "stream"
        },
        {
          "name": "stdout",
          "text": "\n0: 256x256 1 plate, 10.2ms\nSpeed: 1.0ms preprocess, 10.2ms inference, 1.7ms postprocess per image at shape (1, 3, 256, 256)\n[[      23.47      41.631]\n [     232.11      118.62]\n [     229.04      224.97]\n [     21.239      153.62]]\n",
          "output_type": "stream"
        },
        {
          "name": "stderr",
          "text": "1014it [04:45,  3.67it/s]",
          "output_type": "stream"
        },
        {
          "name": "stdout",
          "text": "\n0: 256x256 1 plate, 9.7ms\nSpeed: 1.0ms preprocess, 9.7ms inference, 1.6ms postprocess per image at shape (1, 3, 256, 256)\n[[     10.206      55.282]\n [     239.91       24.67]\n [     248.36      191.38]\n [     18.892      232.96]]\n",
          "output_type": "stream"
        },
        {
          "name": "stderr",
          "text": "1015it [04:46,  3.69it/s]",
          "output_type": "stream"
        },
        {
          "name": "stdout",
          "text": "\n0: 256x256 1 plate, 10.2ms\nSpeed: 1.0ms preprocess, 10.2ms inference, 1.6ms postprocess per image at shape (1, 3, 256, 256)\n[[     24.799      59.878]\n [     226.01      17.029]\n [     242.62      170.89]\n [     34.586      229.95]]\n",
          "output_type": "stream"
        },
        {
          "name": "stderr",
          "text": "1016it [04:46,  3.69it/s]",
          "output_type": "stream"
        },
        {
          "name": "stdout",
          "text": "\n0: 256x256 1 plate, 12.3ms\nSpeed: 0.8ms preprocess, 12.3ms inference, 2.7ms postprocess per image at shape (1, 3, 256, 256)\n[[     4.4751      36.388]\n [     246.85      88.352]\n [     237.84      235.09]\n [     7.1125      180.29]]\n",
          "output_type": "stream"
        },
        {
          "name": "stderr",
          "text": "1017it [04:46,  3.61it/s]",
          "output_type": "stream"
        },
        {
          "name": "stdout",
          "text": "\n0: 256x256 1 plate, 9.8ms\nSpeed: 0.9ms preprocess, 9.8ms inference, 1.6ms postprocess per image at shape (1, 3, 256, 256)\n[[      15.78       23.84]\n [     239.94      117.81]\n [     227.07      230.55]\n [     16.802       133.8]]\n",
          "output_type": "stream"
        },
        {
          "name": "stderr",
          "text": "1018it [04:47,  3.60it/s]",
          "output_type": "stream"
        },
        {
          "name": "stdout",
          "text": "\n0: 256x256 1 plate, 9.6ms\nSpeed: 1.0ms preprocess, 9.6ms inference, 1.6ms postprocess per image at shape (1, 3, 256, 256)\n[[     8.1315      49.156]\n [     249.94      33.647]\n [     253.73      203.88]\n [     14.393      227.79]]\n",
          "output_type": "stream"
        },
        {
          "name": "stderr",
          "text": "1019it [04:47,  3.62it/s]",
          "output_type": "stream"
        },
        {
          "name": "stdout",
          "text": "\n0: 256x256 1 plate, 9.8ms\nSpeed: 0.9ms preprocess, 9.8ms inference, 1.6ms postprocess per image at shape (1, 3, 256, 256)\n[[     24.176      62.108]\n [     221.58      63.683]\n [     222.29      196.14]\n [     21.433      187.79]]\n",
          "output_type": "stream"
        },
        {
          "name": "stderr",
          "text": "1020it [04:47,  3.66it/s]",
          "output_type": "stream"
        },
        {
          "name": "stdout",
          "text": "\n0: 256x256 1 plate, 10.0ms\nSpeed: 0.9ms preprocess, 10.0ms inference, 1.6ms postprocess per image at shape (1, 3, 256, 256)\n[[     16.193      13.963]\n [     241.44      113.79]\n [     236.27      240.04]\n [     7.0943      143.68]]\n",
          "output_type": "stream"
        },
        {
          "name": "stderr",
          "text": "1021it [04:47,  3.66it/s]",
          "output_type": "stream"
        },
        {
          "name": "stdout",
          "text": "\n0: 256x256 1 plate, 9.5ms\nSpeed: 1.0ms preprocess, 9.5ms inference, 1.6ms postprocess per image at shape (1, 3, 256, 256)\n[[     42.913      40.448]\n [     232.16      146.99]\n [     224.13      237.55]\n [     41.784      120.19]]\n",
          "output_type": "stream"
        },
        {
          "name": "stderr",
          "text": "1022it [04:48,  3.67it/s]",
          "output_type": "stream"
        },
        {
          "name": "stdout",
          "text": "\n0: 256x256 1 plate, 9.6ms\nSpeed: 0.9ms preprocess, 9.6ms inference, 1.7ms postprocess per image at shape (1, 3, 256, 256)\n[[     44.792      80.935]\n [     211.14      14.028]\n [     224.03      137.11]\n [     55.086      216.63]]\n",
          "output_type": "stream"
        },
        {
          "name": "stderr",
          "text": "1023it [04:48,  3.68it/s]",
          "output_type": "stream"
        },
        {
          "name": "stdout",
          "text": "\n0: 256x256 1 plate, 9.9ms\nSpeed: 0.6ms preprocess, 9.9ms inference, 1.7ms postprocess per image at shape (1, 3, 256, 256)\n[[     196.08      37.347]\n [     175.67      70.363]\n [     180.38      108.32]\n [      205.7       76.82]]\n",
          "output_type": "stream"
        },
        {
          "name": "stderr",
          "text": "1024it [04:48,  3.69it/s]",
          "output_type": "stream"
        },
        {
          "name": "stdout",
          "text": "\n0: 256x256 2 plates, 9.8ms\nSpeed: 1.0ms preprocess, 9.8ms inference, 1.6ms postprocess per image at shape (1, 3, 256, 256)\n[[     19.869      19.054]\n [     232.05      121.09]\n [     231.42      233.67]\n [     10.011       135.5]]\n",
          "output_type": "stream"
        },
        {
          "name": "stderr",
          "text": "1025it [04:48,  3.68it/s]",
          "output_type": "stream"
        },
        {
          "name": "stdout",
          "text": "\n0: 256x256 1 plate, 9.7ms\nSpeed: 1.0ms preprocess, 9.7ms inference, 1.6ms postprocess per image at shape (1, 3, 256, 256)\n[[     51.954       118.5]\n [     193.22      40.222]\n [      202.1      158.75]\n [     60.902      223.28]]\n",
          "output_type": "stream"
        },
        {
          "name": "stderr",
          "text": "1026it [04:49,  3.67it/s]",
          "output_type": "stream"
        },
        {
          "name": "stdout",
          "text": "\n0: 256x256 1 plate, 10.1ms\nSpeed: 1.0ms preprocess, 10.1ms inference, 1.9ms postprocess per image at shape (1, 3, 256, 256)\n[[     6.3431      45.451]\n [     245.92      62.643]\n [     245.27      214.44]\n [     9.3474      201.56]]\n",
          "output_type": "stream"
        },
        {
          "name": "stderr",
          "text": "1027it [04:49,  3.62it/s]",
          "output_type": "stream"
        },
        {
          "name": "stdout",
          "text": "\n0: 256x256 1 plate, 9.8ms\nSpeed: 0.6ms preprocess, 9.8ms inference, 1.7ms postprocess per image at shape (1, 3, 256, 256)\n[[     19.922      50.007]\n [      229.9      76.009]\n [     235.94      220.62]\n [     18.427      199.28]]\n",
          "output_type": "stream"
        },
        {
          "name": "stderr",
          "text": "1028it [04:49,  3.56it/s]",
          "output_type": "stream"
        },
        {
          "name": "stdout",
          "text": "\n0: 256x256 1 plate, 10.6ms\nSpeed: 1.0ms preprocess, 10.6ms inference, 1.9ms postprocess per image at shape (1, 3, 256, 256)\n[[     23.739      40.175]\n [     229.01      103.93]\n [      231.2      231.32]\n [     19.044      171.83]]\n",
          "output_type": "stream"
        },
        {
          "name": "stderr",
          "text": "1029it [04:50,  3.55it/s]\n",
          "output_type": "stream"
        }
      ]
    },
    {
      "cell_type": "code",
      "source": [
        "#Рисует на изображение template\n",
        "def draw_regions(img, region_length):\n",
        "    if region_length == 2:\n",
        "        pattern = two_digit_region_template\n",
        "    elif region_length == 3:\n",
        "        pattern = three_digit_region_template\n",
        "    else:\n",
        "        raise ValueError(\"Неподдерживаемое разбиение на регионы. Поддерживаются только 2 и 3.\")\n",
        "\n",
        "    H, W, _ = img.shape\n",
        "\n",
        "    if H != 112 or W != 512:\n",
        "        raise ValueError(\"Форма изображения должна быть 512x112\")\n",
        "\n",
        "    for pos in pattern:\n",
        "        sx, sy, ex, ey = *pos[\"p1\"], *pos[\"p2\"]\n",
        "        sx, sy, ex, ey = int(sx * W), int(sy * H), int(ex * W), int(ey * H)\n",
        "        cv2.rectangle(img, (sx, sy), (ex, ey), (0, 255, 0), 2)\n",
        "\n",
        "    return img\n",
        "\n",
        "#Визуализирует изображения из датасета\n",
        "def draw(folder_path, show_template=False, template=2):\n",
        "\n",
        "    file_list = os.listdir(folder_path)[10:20]\n",
        "    image_files = [f for f in file_list if f.lower().endswith(('.png', '.jpg', '.jpeg', '.bmp', '.gif'))]\n",
        "\n",
        "    # Устанавливаем количество изображений на строку\n",
        "    images_per_row = 5\n",
        "\n",
        "    num_rows = len(image_files) // images_per_row + int(len(image_files) % images_per_row != 0)\n",
        "    fig, axes = plt.subplots(num_rows, images_per_row, figsize=(15, 3 * num_rows))\n",
        "\n",
        "    for j in range(num_rows * images_per_row):\n",
        "        if j < len(image_files):\n",
        "            ax = axes.flat[j]\n",
        "            img_path = os.path.join(folder_path, image_files[j])\n",
        "            print(j, image_files[j])\n",
        "            img = cv2.imread(img_path)\n",
        "            img = cv2.cvtColor(img, cv2.COLOR_BGR2RGB)\n",
        "\n",
        "            if show_template:\n",
        "              img = img_deformation(img)\n",
        "              img = cv2.resize(img, (512,112))\n",
        "              img_with_rectangles = draw_regions(img, template)\n",
        "\n",
        "            ax.imshow(img)\n",
        "            ax.axis('off')\n",
        "            ax.set_title(os.path.basename(img_path))\n",
        "        else:\n",
        "            axes.flat[j].axis('off')\n",
        "\n",
        "    plt.tight_layout()\n",
        "    plt.show()"
      ],
      "metadata": {
        "execution": {
          "iopub.status.busy": "2024-07-06T21:17:30.269713Z",
          "iopub.execute_input": "2024-07-06T21:17:30.270112Z",
          "iopub.status.idle": "2024-07-06T21:17:30.284089Z",
          "shell.execute_reply.started": "2024-07-06T21:17:30.270079Z",
          "shell.execute_reply": "2024-07-06T21:17:30.283076Z"
        },
        "trusted": true,
        "id": "UZIjcG2ML6lj"
      },
      "execution_count": null,
      "outputs": []
    },
    {
      "cell_type": "code",
      "source": [
        "data = pd.read_csv('/kaggle/input/numbers-cp/correspondance.csv')\n",
        "data"
      ],
      "metadata": {
        "execution": {
          "iopub.status.busy": "2024-07-06T22:19:35.454062Z",
          "iopub.execute_input": "2024-07-06T22:19:35.454794Z",
          "iopub.status.idle": "2024-07-06T22:19:35.475973Z",
          "shell.execute_reply.started": "2024-07-06T22:19:35.454757Z",
          "shell.execute_reply": "2024-07-06T22:19:35.474922Z"
        },
        "trusted": true,
        "id": "RNvGZMFcL6lk",
        "outputId": "b0593f69-051e-4c69-f37e-3a343bc935bb"
      },
      "execution_count": null,
      "outputs": [
        {
          "execution_count": 13,
          "output_type": "execute_result",
          "data": {
            "text/plain": "            image_name     number\n0     37483d050adca57c  M592OK198\n1     c350610c6c56aec1   B011EK37\n2     e8ff37a2fd046525  C337AY774\n3     6be42e5f4705e24b  Y243KH790\n4     4520ec3542ae89f7  T405CK150\n...                ...        ...\n1024  1193e820021376fd   H787MM30\n1025  de86687b51b964e6   Y019HO30\n1026  2596303dfed6beee  E110ME178\n1027  678766229b7e4996   A851KA37\n1028  947f328417e03cc7  C117TT199\n\n[1029 rows x 2 columns]",
            "text/html": "<div>\n<style scoped>\n    .dataframe tbody tr th:only-of-type {\n        vertical-align: middle;\n    }\n\n    .dataframe tbody tr th {\n        vertical-align: top;\n    }\n\n    .dataframe thead th {\n        text-align: right;\n    }\n</style>\n<table border=\"1\" class=\"dataframe\">\n  <thead>\n    <tr style=\"text-align: right;\">\n      <th></th>\n      <th>image_name</th>\n      <th>number</th>\n    </tr>\n  </thead>\n  <tbody>\n    <tr>\n      <th>0</th>\n      <td>37483d050adca57c</td>\n      <td>M592OK198</td>\n    </tr>\n    <tr>\n      <th>1</th>\n      <td>c350610c6c56aec1</td>\n      <td>B011EK37</td>\n    </tr>\n    <tr>\n      <th>2</th>\n      <td>e8ff37a2fd046525</td>\n      <td>C337AY774</td>\n    </tr>\n    <tr>\n      <th>3</th>\n      <td>6be42e5f4705e24b</td>\n      <td>Y243KH790</td>\n    </tr>\n    <tr>\n      <th>4</th>\n      <td>4520ec3542ae89f7</td>\n      <td>T405CK150</td>\n    </tr>\n    <tr>\n      <th>...</th>\n      <td>...</td>\n      <td>...</td>\n    </tr>\n    <tr>\n      <th>1024</th>\n      <td>1193e820021376fd</td>\n      <td>H787MM30</td>\n    </tr>\n    <tr>\n      <th>1025</th>\n      <td>de86687b51b964e6</td>\n      <td>Y019HO30</td>\n    </tr>\n    <tr>\n      <th>1026</th>\n      <td>2596303dfed6beee</td>\n      <td>E110ME178</td>\n    </tr>\n    <tr>\n      <th>1027</th>\n      <td>678766229b7e4996</td>\n      <td>A851KA37</td>\n    </tr>\n    <tr>\n      <th>1028</th>\n      <td>947f328417e03cc7</td>\n      <td>C117TT199</td>\n    </tr>\n  </tbody>\n</table>\n<p>1029 rows × 2 columns</p>\n</div>"
          },
          "metadata": {}
        }
      ]
    },
    {
      "cell_type": "code",
      "source": [
        "def calculate_accuracy(pred):\n",
        "    '''\n",
        "    функция подсчитывает и выводит, какая доля знаков была распознана полностью верно\n",
        "    '''\n",
        "    preds = []\n",
        "    for i in range(pred.shape[0]):\n",
        "        im_name = pred['image_name'][i]\n",
        "#         print(im_name.split('.')[0][:-4])\n",
        "#         im_name = im_name.split('.')[0][:-4]\n",
        "        targ = data[data['image_name'] == im_name].number.values[0]\n",
        "\n",
        "        # если один из двух предиктов (для регионов с кодом длины 2 и 3) соответствует правильному ответу, засчитываем как правильный\n",
        "        if pred['prediction_region_length_2'][i] == targ or pred['prediction_region_length_3'][i] == targ:\n",
        "            preds.append(1)\n",
        "        else:\n",
        "            preds.append(0)\n",
        "    return (sum(preds) / len(preds), sum(preds))"
      ],
      "metadata": {
        "execution": {
          "iopub.status.busy": "2024-07-06T22:12:27.478529Z",
          "iopub.execute_input": "2024-07-06T22:12:27.479195Z",
          "iopub.status.idle": "2024-07-06T22:12:27.485431Z",
          "shell.execute_reply.started": "2024-07-06T22:12:27.479161Z",
          "shell.execute_reply": "2024-07-06T22:12:27.484601Z"
        },
        "trusted": true,
        "id": "e7A5PaZEL6lk"
      },
      "execution_count": null,
      "outputs": []
    },
    {
      "cell_type": "code",
      "source": [
        "df = pd.read_csv('/kaggle/working/modelPredict.csv')\n",
        "df[500:]"
      ],
      "metadata": {
        "execution": {
          "iopub.status.busy": "2024-07-06T22:19:26.963497Z",
          "iopub.execute_input": "2024-07-06T22:19:26.964177Z",
          "iopub.status.idle": "2024-07-06T22:19:26.982287Z",
          "shell.execute_reply.started": "2024-07-06T22:19:26.964135Z",
          "shell.execute_reply": "2024-07-06T22:19:26.981392Z"
        },
        "trusted": true,
        "id": "sE0zUajuL6lk",
        "outputId": "bda0b4d6-820d-4dc4-a408-c5663db460ee"
      },
      "execution_count": null,
      "outputs": [
        {
          "execution_count": 11,
          "output_type": "execute_result",
          "data": {
            "text/plain": "            image_name prediction_region_length_2 prediction_region_length_3\n500   dac3024490dbedb2                   E850BME3                  E850TMH53\n501   511a7666a2aef1fc                   YT2Y1T9X                  YT12TTX9C\n502   a26db12a45b422e7                   71TCK1P7                  111X1C147\n503   513ea50e7d073512                   1533YB37                  1335B3757\n504   bf792b2d9b58d1ac                   24541121                  145717421\n...                ...                        ...                        ...\n1024  3e0dd82dcc8b55d6                   CY3Y32YM                  4Y29BCYCX\n1025  5266510632b8fc88                   HC321AT1                  T6324A1T1\n1026  b6350c4370986616                   M202TC11                  M2021T171\n1027  281b76f056c36530                   5HE37133                  EMH5ET753\n1028  100a09c3bd5ff698                   7YT111Y9                  0505EY44Y\n\n[529 rows x 3 columns]",
            "text/html": "<div>\n<style scoped>\n    .dataframe tbody tr th:only-of-type {\n        vertical-align: middle;\n    }\n\n    .dataframe tbody tr th {\n        vertical-align: top;\n    }\n\n    .dataframe thead th {\n        text-align: right;\n    }\n</style>\n<table border=\"1\" class=\"dataframe\">\n  <thead>\n    <tr style=\"text-align: right;\">\n      <th></th>\n      <th>image_name</th>\n      <th>prediction_region_length_2</th>\n      <th>prediction_region_length_3</th>\n    </tr>\n  </thead>\n  <tbody>\n    <tr>\n      <th>500</th>\n      <td>dac3024490dbedb2</td>\n      <td>E850BME3</td>\n      <td>E850TMH53</td>\n    </tr>\n    <tr>\n      <th>501</th>\n      <td>511a7666a2aef1fc</td>\n      <td>YT2Y1T9X</td>\n      <td>YT12TTX9C</td>\n    </tr>\n    <tr>\n      <th>502</th>\n      <td>a26db12a45b422e7</td>\n      <td>71TCK1P7</td>\n      <td>111X1C147</td>\n    </tr>\n    <tr>\n      <th>503</th>\n      <td>513ea50e7d073512</td>\n      <td>1533YB37</td>\n      <td>1335B3757</td>\n    </tr>\n    <tr>\n      <th>504</th>\n      <td>bf792b2d9b58d1ac</td>\n      <td>24541121</td>\n      <td>145717421</td>\n    </tr>\n    <tr>\n      <th>...</th>\n      <td>...</td>\n      <td>...</td>\n      <td>...</td>\n    </tr>\n    <tr>\n      <th>1024</th>\n      <td>3e0dd82dcc8b55d6</td>\n      <td>CY3Y32YM</td>\n      <td>4Y29BCYCX</td>\n    </tr>\n    <tr>\n      <th>1025</th>\n      <td>5266510632b8fc88</td>\n      <td>HC321AT1</td>\n      <td>T6324A1T1</td>\n    </tr>\n    <tr>\n      <th>1026</th>\n      <td>b6350c4370986616</td>\n      <td>M202TC11</td>\n      <td>M2021T171</td>\n    </tr>\n    <tr>\n      <th>1027</th>\n      <td>281b76f056c36530</td>\n      <td>5HE37133</td>\n      <td>EMH5ET753</td>\n    </tr>\n    <tr>\n      <th>1028</th>\n      <td>100a09c3bd5ff698</td>\n      <td>7YT111Y9</td>\n      <td>0505EY44Y</td>\n    </tr>\n  </tbody>\n</table>\n<p>529 rows × 3 columns</p>\n</div>"
          },
          "metadata": {}
        }
      ]
    },
    {
      "cell_type": "code",
      "source": [
        "# оцениваем итоговое качество модели и количество ПОЛНОСТЬЮ верно распозанных номерных знаков\n",
        "calculate_accuracy(df)"
      ],
      "metadata": {
        "execution": {
          "iopub.status.busy": "2024-07-06T22:19:38.462211Z",
          "iopub.execute_input": "2024-07-06T22:19:38.462602Z",
          "iopub.status.idle": "2024-07-06T22:19:39.153177Z",
          "shell.execute_reply.started": "2024-07-06T22:19:38.462568Z",
          "shell.execute_reply": "2024-07-06T22:19:39.152220Z"
        },
        "trusted": true,
        "id": "T7VMBpxDL6lk",
        "outputId": "63f2a550-f216-46e7-971f-84b684dba9e6"
      },
      "execution_count": null,
      "outputs": [
        {
          "execution_count": 14,
          "output_type": "execute_result",
          "data": {
            "text/plain": "(0.23226433430515064, 239)"
          },
          "metadata": {}
        }
      ]
    },
    {
      "cell_type": "code",
      "source": [],
      "metadata": {
        "id": "pMpYMXFyL6ll"
      },
      "execution_count": null,
      "outputs": []
    }
  ]
}